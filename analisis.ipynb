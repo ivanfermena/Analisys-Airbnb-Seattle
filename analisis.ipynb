{
 "cells": [
  {
   "cell_type": "markdown",
   "metadata": {},
   "source": [
    "# Análisis datos Airbnb Seattle - Minería de datos y el paradigma Big Data\n",
    "__Autores:__\n",
    "- Alberto Pastor Moreno\n",
    "- Iván Fernández Mena\n",
    "- Francisco Javier Melchor González"
   ]
  },
  {
   "cell_type": "markdown",
   "metadata": {},
   "source": [
    "## Fase I. Business Understanding. Definición de necesidades del cliente. Comprensión del negocio."
   ]
  },
  {
   "cell_type": "markdown",
   "metadata": {},
   "source": [
    "### Objetivos del negocio"
   ]
  },
  {
   "cell_type": "markdown",
   "metadata": {},
   "source": [
    "El principal objetivo del proyecto se enfoca en la resolución de la siguiente cuestión: dado un perfil host de Airbnb, un apartamento perteneciente a éste en Seattle y el mapa de espacios culturales tematizados en esta ciudad, ¿qué precio por noche aconseja nuestro sistema?"
   ]
  },
  {
   "cell_type": "markdown",
   "metadata": {},
   "source": [
    "### Valoración de la situación"
   ]
  },
  {
   "cell_type": "markdown",
   "metadata": {},
   "source": [
    "Este análisis utiliza datos sobre [la actividad de Airbnb en Seattle](https://www.kaggle.com/airbnb/seattle) y [espacios culturales en Seattle](https://data.seattle.gov/Community/Seattle-Cultural-Space-Inventory/hrat-v8cm)"
   ]
  },
  {
   "cell_type": "markdown",
   "metadata": {},
   "source": [
    "### Objetivos de Data Mining"
   ]
  },
  {
   "cell_type": "markdown",
   "metadata": {},
   "source": [
    "### Plan de proyecto"
   ]
  },
  {
   "cell_type": "markdown",
   "metadata": {},
   "source": [
    "## Fase II. Data Understanding. Estudio y comprensión de los datos"
   ]
  },
  {
   "cell_type": "markdown",
   "metadata": {},
   "source": [
    "### Recolectar los datos iniciales"
   ]
  },
  {
   "cell_type": "markdown",
   "metadata": {},
   "source": [
    "La solución a la cuestión planteada, concentrada en el análisis predictivo, hace uso de técnicas de cruce de varios conjuntos de datos. Los conjuntos de datos abiertos utilizados a lo largo del proceso que hemos creído relevantes y nutritivos para el objetivo del proyecto se pueden encontrar a continuación: \n",
    "\n",
    "Los datos a utilizar en este proyecto y sus fuentes son los siguientes:\n",
    "- Listado de _hosts_ de Airbnb de Seattle, calendario de reservas de estos _hosts_ y las consecuentes _reviews_ de estos hosts, extraídos de [Kaggle](https://www.kaggle.com/airbnb/seattle)\n",
    "- Listado de espacios culturales de Seattle, extraídos ha sido extraído del [portal de datos abiertos de esta ciudad](https://data.seattle.gov/Community/Seattle-Cultural-Space-Inventory/hrat-v8cm)\n",
    "\n",
    "En los siguientes apartados analizaremos meticulosamente los datos del proyecto con el objetivo de realizar una comprensión exhausta de los datos elegidos para resolver la cuestión de este proyecto."
   ]
  },
  {
   "cell_type": "markdown",
   "metadata": {},
   "source": [
    "Cargamos todos los datos contenidos en formato `.csv` descargados en local previamente."
   ]
  },
  {
   "cell_type": "code",
   "execution_count": 1,
   "metadata": {},
   "outputs": [],
   "source": [
    "airbnb_listings_filename <- \"datasets//listings.csv\"\n",
    "airbnb_calendar_filename <- \"datasets//calendar.csv\"\n",
    "airbnb_reviews_filename <- \"datasets//reviews.csv\"\n",
    "cultural_spaces_filename <- \"datasets//cultural_spaces.csv\""
   ]
  },
  {
   "cell_type": "code",
   "execution_count": 2,
   "metadata": {},
   "outputs": [],
   "source": [
    "airbnb_listings <- read.csv(file=airbnb_listings_filename, header=TRUE, sep=\",\")\n",
    "airbnb_calendar <- read.csv(file=airbnb_calendar_filename, header=TRUE, sep=\",\")\n",
    "airbnb_reviews <- read.csv(file=airbnb_reviews_filename, header=TRUE, sep=\",\")\n",
    "cultural_spaces <- read.csv(file=cultural_spaces_filename, header=TRUE, sep=\",\")"
   ]
  },
  {
   "cell_type": "markdown",
   "metadata": {},
   "source": [
    "### Descripción de los datos "
   ]
  },
  {
   "cell_type": "markdown",
   "metadata": {},
   "source": [
    "Para profundizar en la composición de los conjuntos de datos a tratar en este proyecto, analizaremos los atributos de cada uno de los conjuntos de datos cargados a continuación"
   ]
  },
  {
   "cell_type": "markdown",
   "metadata": {},
   "source": [
    "#### Casas de Airbnb en Seattle"
   ]
  },
  {
   "cell_type": "markdown",
   "metadata": {},
   "source": [
    "Primero, analizaremos el conjunto de datos `airbnb_listings`, el cual expone por cada fila la información completa que procesa de un _listing_ perteneciente a un _host_ de Seattle Airbnb, siendo esta la siguiente:\n",
    "LISTAR Y DEFINIR CADA ATRIBUTO DEL DATASET"
   ]
  },
  {
   "cell_type": "code",
   "execution_count": 11,
   "metadata": {
    "scrolled": true
   },
   "outputs": [
    {
     "data": {
      "text/html": [
       "<ol class=list-inline>\n",
       "\t<li>'id'</li>\n",
       "\t<li>'listing_url'</li>\n",
       "\t<li>'scrape_id'</li>\n",
       "\t<li>'last_scraped'</li>\n",
       "\t<li>'name'</li>\n",
       "\t<li>'summary'</li>\n",
       "\t<li>'space'</li>\n",
       "\t<li>'description'</li>\n",
       "\t<li>'experiences_offered'</li>\n",
       "\t<li>'neighborhood_overview'</li>\n",
       "\t<li>'notes'</li>\n",
       "\t<li>'transit'</li>\n",
       "\t<li>'thumbnail_url'</li>\n",
       "\t<li>'medium_url'</li>\n",
       "\t<li>'picture_url'</li>\n",
       "\t<li>'xl_picture_url'</li>\n",
       "\t<li>'host_id'</li>\n",
       "\t<li>'host_url'</li>\n",
       "\t<li>'host_name'</li>\n",
       "\t<li>'host_since'</li>\n",
       "\t<li>'host_location'</li>\n",
       "\t<li>'host_about'</li>\n",
       "\t<li>'host_response_time'</li>\n",
       "\t<li>'host_response_rate'</li>\n",
       "\t<li>'host_acceptance_rate'</li>\n",
       "\t<li>'host_is_superhost'</li>\n",
       "\t<li>'host_thumbnail_url'</li>\n",
       "\t<li>'host_picture_url'</li>\n",
       "\t<li>'host_neighbourhood'</li>\n",
       "\t<li>'host_listings_count'</li>\n",
       "\t<li>'host_total_listings_count'</li>\n",
       "\t<li>'host_verifications'</li>\n",
       "\t<li>'host_has_profile_pic'</li>\n",
       "\t<li>'host_identity_verified'</li>\n",
       "\t<li>'street'</li>\n",
       "\t<li>'neighbourhood'</li>\n",
       "\t<li>'neighbourhood_cleansed'</li>\n",
       "\t<li>'neighbourhood_group_cleansed'</li>\n",
       "\t<li>'city'</li>\n",
       "\t<li>'state'</li>\n",
       "\t<li>'zipcode'</li>\n",
       "\t<li>'market'</li>\n",
       "\t<li>'smart_location'</li>\n",
       "\t<li>'country_code'</li>\n",
       "\t<li>'country'</li>\n",
       "\t<li>'latitude'</li>\n",
       "\t<li>'longitude'</li>\n",
       "\t<li>'is_location_exact'</li>\n",
       "\t<li>'property_type'</li>\n",
       "\t<li>'room_type'</li>\n",
       "\t<li>'accommodates'</li>\n",
       "\t<li>'bathrooms'</li>\n",
       "\t<li>'bedrooms'</li>\n",
       "\t<li>'beds'</li>\n",
       "\t<li>'bed_type'</li>\n",
       "\t<li>'amenities'</li>\n",
       "\t<li>'square_feet'</li>\n",
       "\t<li>'price'</li>\n",
       "\t<li>'weekly_price'</li>\n",
       "\t<li>'monthly_price'</li>\n",
       "\t<li>'security_deposit'</li>\n",
       "\t<li>'cleaning_fee'</li>\n",
       "\t<li>'guests_included'</li>\n",
       "\t<li>'extra_people'</li>\n",
       "\t<li>'minimum_nights'</li>\n",
       "\t<li>'maximum_nights'</li>\n",
       "\t<li>'calendar_updated'</li>\n",
       "\t<li>'has_availability'</li>\n",
       "\t<li>'availability_30'</li>\n",
       "\t<li>'availability_60'</li>\n",
       "\t<li>'availability_90'</li>\n",
       "\t<li>'availability_365'</li>\n",
       "\t<li>'calendar_last_scraped'</li>\n",
       "\t<li>'number_of_reviews'</li>\n",
       "\t<li>'first_review'</li>\n",
       "\t<li>'last_review'</li>\n",
       "\t<li>'review_scores_rating'</li>\n",
       "\t<li>'review_scores_accuracy'</li>\n",
       "\t<li>'review_scores_cleanliness'</li>\n",
       "\t<li>'review_scores_checkin'</li>\n",
       "\t<li>'review_scores_communication'</li>\n",
       "\t<li>'review_scores_location'</li>\n",
       "\t<li>'review_scores_value'</li>\n",
       "\t<li>'requires_license'</li>\n",
       "\t<li>'license'</li>\n",
       "\t<li>'jurisdiction_names'</li>\n",
       "\t<li>'instant_bookable'</li>\n",
       "\t<li>'cancellation_policy'</li>\n",
       "\t<li>'require_guest_profile_picture'</li>\n",
       "\t<li>'require_guest_phone_verification'</li>\n",
       "\t<li>'calculated_host_listings_count'</li>\n",
       "\t<li>'reviews_per_month'</li>\n",
       "</ol>\n"
      ],
      "text/latex": [
       "\\begin{enumerate*}\n",
       "\\item 'id'\n",
       "\\item 'listing\\_url'\n",
       "\\item 'scrape\\_id'\n",
       "\\item 'last\\_scraped'\n",
       "\\item 'name'\n",
       "\\item 'summary'\n",
       "\\item 'space'\n",
       "\\item 'description'\n",
       "\\item 'experiences\\_offered'\n",
       "\\item 'neighborhood\\_overview'\n",
       "\\item 'notes'\n",
       "\\item 'transit'\n",
       "\\item 'thumbnail\\_url'\n",
       "\\item 'medium\\_url'\n",
       "\\item 'picture\\_url'\n",
       "\\item 'xl\\_picture\\_url'\n",
       "\\item 'host\\_id'\n",
       "\\item 'host\\_url'\n",
       "\\item 'host\\_name'\n",
       "\\item 'host\\_since'\n",
       "\\item 'host\\_location'\n",
       "\\item 'host\\_about'\n",
       "\\item 'host\\_response\\_time'\n",
       "\\item 'host\\_response\\_rate'\n",
       "\\item 'host\\_acceptance\\_rate'\n",
       "\\item 'host\\_is\\_superhost'\n",
       "\\item 'host\\_thumbnail\\_url'\n",
       "\\item 'host\\_picture\\_url'\n",
       "\\item 'host\\_neighbourhood'\n",
       "\\item 'host\\_listings\\_count'\n",
       "\\item 'host\\_total\\_listings\\_count'\n",
       "\\item 'host\\_verifications'\n",
       "\\item 'host\\_has\\_profile\\_pic'\n",
       "\\item 'host\\_identity\\_verified'\n",
       "\\item 'street'\n",
       "\\item 'neighbourhood'\n",
       "\\item 'neighbourhood\\_cleansed'\n",
       "\\item 'neighbourhood\\_group\\_cleansed'\n",
       "\\item 'city'\n",
       "\\item 'state'\n",
       "\\item 'zipcode'\n",
       "\\item 'market'\n",
       "\\item 'smart\\_location'\n",
       "\\item 'country\\_code'\n",
       "\\item 'country'\n",
       "\\item 'latitude'\n",
       "\\item 'longitude'\n",
       "\\item 'is\\_location\\_exact'\n",
       "\\item 'property\\_type'\n",
       "\\item 'room\\_type'\n",
       "\\item 'accommodates'\n",
       "\\item 'bathrooms'\n",
       "\\item 'bedrooms'\n",
       "\\item 'beds'\n",
       "\\item 'bed\\_type'\n",
       "\\item 'amenities'\n",
       "\\item 'square\\_feet'\n",
       "\\item 'price'\n",
       "\\item 'weekly\\_price'\n",
       "\\item 'monthly\\_price'\n",
       "\\item 'security\\_deposit'\n",
       "\\item 'cleaning\\_fee'\n",
       "\\item 'guests\\_included'\n",
       "\\item 'extra\\_people'\n",
       "\\item 'minimum\\_nights'\n",
       "\\item 'maximum\\_nights'\n",
       "\\item 'calendar\\_updated'\n",
       "\\item 'has\\_availability'\n",
       "\\item 'availability\\_30'\n",
       "\\item 'availability\\_60'\n",
       "\\item 'availability\\_90'\n",
       "\\item 'availability\\_365'\n",
       "\\item 'calendar\\_last\\_scraped'\n",
       "\\item 'number\\_of\\_reviews'\n",
       "\\item 'first\\_review'\n",
       "\\item 'last\\_review'\n",
       "\\item 'review\\_scores\\_rating'\n",
       "\\item 'review\\_scores\\_accuracy'\n",
       "\\item 'review\\_scores\\_cleanliness'\n",
       "\\item 'review\\_scores\\_checkin'\n",
       "\\item 'review\\_scores\\_communication'\n",
       "\\item 'review\\_scores\\_location'\n",
       "\\item 'review\\_scores\\_value'\n",
       "\\item 'requires\\_license'\n",
       "\\item 'license'\n",
       "\\item 'jurisdiction\\_names'\n",
       "\\item 'instant\\_bookable'\n",
       "\\item 'cancellation\\_policy'\n",
       "\\item 'require\\_guest\\_profile\\_picture'\n",
       "\\item 'require\\_guest\\_phone\\_verification'\n",
       "\\item 'calculated\\_host\\_listings\\_count'\n",
       "\\item 'reviews\\_per\\_month'\n",
       "\\end{enumerate*}\n"
      ],
      "text/markdown": [
       "1. 'id'\n",
       "2. 'listing_url'\n",
       "3. 'scrape_id'\n",
       "4. 'last_scraped'\n",
       "5. 'name'\n",
       "6. 'summary'\n",
       "7. 'space'\n",
       "8. 'description'\n",
       "9. 'experiences_offered'\n",
       "10. 'neighborhood_overview'\n",
       "11. 'notes'\n",
       "12. 'transit'\n",
       "13. 'thumbnail_url'\n",
       "14. 'medium_url'\n",
       "15. 'picture_url'\n",
       "16. 'xl_picture_url'\n",
       "17. 'host_id'\n",
       "18. 'host_url'\n",
       "19. 'host_name'\n",
       "20. 'host_since'\n",
       "21. 'host_location'\n",
       "22. 'host_about'\n",
       "23. 'host_response_time'\n",
       "24. 'host_response_rate'\n",
       "25. 'host_acceptance_rate'\n",
       "26. 'host_is_superhost'\n",
       "27. 'host_thumbnail_url'\n",
       "28. 'host_picture_url'\n",
       "29. 'host_neighbourhood'\n",
       "30. 'host_listings_count'\n",
       "31. 'host_total_listings_count'\n",
       "32. 'host_verifications'\n",
       "33. 'host_has_profile_pic'\n",
       "34. 'host_identity_verified'\n",
       "35. 'street'\n",
       "36. 'neighbourhood'\n",
       "37. 'neighbourhood_cleansed'\n",
       "38. 'neighbourhood_group_cleansed'\n",
       "39. 'city'\n",
       "40. 'state'\n",
       "41. 'zipcode'\n",
       "42. 'market'\n",
       "43. 'smart_location'\n",
       "44. 'country_code'\n",
       "45. 'country'\n",
       "46. 'latitude'\n",
       "47. 'longitude'\n",
       "48. 'is_location_exact'\n",
       "49. 'property_type'\n",
       "50. 'room_type'\n",
       "51. 'accommodates'\n",
       "52. 'bathrooms'\n",
       "53. 'bedrooms'\n",
       "54. 'beds'\n",
       "55. 'bed_type'\n",
       "56. 'amenities'\n",
       "57. 'square_feet'\n",
       "58. 'price'\n",
       "59. 'weekly_price'\n",
       "60. 'monthly_price'\n",
       "61. 'security_deposit'\n",
       "62. 'cleaning_fee'\n",
       "63. 'guests_included'\n",
       "64. 'extra_people'\n",
       "65. 'minimum_nights'\n",
       "66. 'maximum_nights'\n",
       "67. 'calendar_updated'\n",
       "68. 'has_availability'\n",
       "69. 'availability_30'\n",
       "70. 'availability_60'\n",
       "71. 'availability_90'\n",
       "72. 'availability_365'\n",
       "73. 'calendar_last_scraped'\n",
       "74. 'number_of_reviews'\n",
       "75. 'first_review'\n",
       "76. 'last_review'\n",
       "77. 'review_scores_rating'\n",
       "78. 'review_scores_accuracy'\n",
       "79. 'review_scores_cleanliness'\n",
       "80. 'review_scores_checkin'\n",
       "81. 'review_scores_communication'\n",
       "82. 'review_scores_location'\n",
       "83. 'review_scores_value'\n",
       "84. 'requires_license'\n",
       "85. 'license'\n",
       "86. 'jurisdiction_names'\n",
       "87. 'instant_bookable'\n",
       "88. 'cancellation_policy'\n",
       "89. 'require_guest_profile_picture'\n",
       "90. 'require_guest_phone_verification'\n",
       "91. 'calculated_host_listings_count'\n",
       "92. 'reviews_per_month'\n",
       "\n",
       "\n"
      ],
      "text/plain": [
       " [1] \"id\"                               \"listing_url\"                     \n",
       " [3] \"scrape_id\"                        \"last_scraped\"                    \n",
       " [5] \"name\"                             \"summary\"                         \n",
       " [7] \"space\"                            \"description\"                     \n",
       " [9] \"experiences_offered\"              \"neighborhood_overview\"           \n",
       "[11] \"notes\"                            \"transit\"                         \n",
       "[13] \"thumbnail_url\"                    \"medium_url\"                      \n",
       "[15] \"picture_url\"                      \"xl_picture_url\"                  \n",
       "[17] \"host_id\"                          \"host_url\"                        \n",
       "[19] \"host_name\"                        \"host_since\"                      \n",
       "[21] \"host_location\"                    \"host_about\"                      \n",
       "[23] \"host_response_time\"               \"host_response_rate\"              \n",
       "[25] \"host_acceptance_rate\"             \"host_is_superhost\"               \n",
       "[27] \"host_thumbnail_url\"               \"host_picture_url\"                \n",
       "[29] \"host_neighbourhood\"               \"host_listings_count\"             \n",
       "[31] \"host_total_listings_count\"        \"host_verifications\"              \n",
       "[33] \"host_has_profile_pic\"             \"host_identity_verified\"          \n",
       "[35] \"street\"                           \"neighbourhood\"                   \n",
       "[37] \"neighbourhood_cleansed\"           \"neighbourhood_group_cleansed\"    \n",
       "[39] \"city\"                             \"state\"                           \n",
       "[41] \"zipcode\"                          \"market\"                          \n",
       "[43] \"smart_location\"                   \"country_code\"                    \n",
       "[45] \"country\"                          \"latitude\"                        \n",
       "[47] \"longitude\"                        \"is_location_exact\"               \n",
       "[49] \"property_type\"                    \"room_type\"                       \n",
       "[51] \"accommodates\"                     \"bathrooms\"                       \n",
       "[53] \"bedrooms\"                         \"beds\"                            \n",
       "[55] \"bed_type\"                         \"amenities\"                       \n",
       "[57] \"square_feet\"                      \"price\"                           \n",
       "[59] \"weekly_price\"                     \"monthly_price\"                   \n",
       "[61] \"security_deposit\"                 \"cleaning_fee\"                    \n",
       "[63] \"guests_included\"                  \"extra_people\"                    \n",
       "[65] \"minimum_nights\"                   \"maximum_nights\"                  \n",
       "[67] \"calendar_updated\"                 \"has_availability\"                \n",
       "[69] \"availability_30\"                  \"availability_60\"                 \n",
       "[71] \"availability_90\"                  \"availability_365\"                \n",
       "[73] \"calendar_last_scraped\"            \"number_of_reviews\"               \n",
       "[75] \"first_review\"                     \"last_review\"                     \n",
       "[77] \"review_scores_rating\"             \"review_scores_accuracy\"          \n",
       "[79] \"review_scores_cleanliness\"        \"review_scores_checkin\"           \n",
       "[81] \"review_scores_communication\"      \"review_scores_location\"          \n",
       "[83] \"review_scores_value\"              \"requires_license\"                \n",
       "[85] \"license\"                          \"jurisdiction_names\"              \n",
       "[87] \"instant_bookable\"                 \"cancellation_policy\"             \n",
       "[89] \"require_guest_profile_picture\"    \"require_guest_phone_verification\"\n",
       "[91] \"calculated_host_listings_count\"   \"reviews_per_month\"               "
      ]
     },
     "metadata": {},
     "output_type": "display_data"
    }
   ],
   "source": [
    "names(airbnb_listings)"
   ]
  },
  {
   "cell_type": "code",
   "execution_count": 12,
   "metadata": {
    "scrolled": true
   },
   "outputs": [
    {
     "data": {
      "text/html": [
       "<ol class=list-inline>\n",
       "\t<li>3818</li>\n",
       "\t<li>92</li>\n",
       "</ol>\n"
      ],
      "text/latex": [
       "\\begin{enumerate*}\n",
       "\\item 3818\n",
       "\\item 92\n",
       "\\end{enumerate*}\n"
      ],
      "text/markdown": [
       "1. 3818\n",
       "2. 92\n",
       "\n",
       "\n"
      ],
      "text/plain": [
       "[1] 3818   92"
      ]
     },
     "metadata": {},
     "output_type": "display_data"
    }
   ],
   "source": [
    "dim(airbnb_listings)"
   ]
  },
  {
   "cell_type": "markdown",
   "metadata": {},
   "source": [
    "Como podemos ver, el dataset tiene 92 atributos y 3818 filas. A continuación, vemos un ejemplo de una fila del dataset para obtener un primer vistazo sobre cómo se comportan los atributos."
   ]
  },
  {
   "cell_type": "code",
   "execution_count": 13,
   "metadata": {
    "scrolled": true
   },
   "outputs": [
    {
     "data": {
      "text/html": [
       "<table>\n",
       "<thead><tr><th scope=col>id</th><th scope=col>listing_url</th><th scope=col>scrape_id</th><th scope=col>last_scraped</th><th scope=col>name</th><th scope=col>summary</th><th scope=col>space</th><th scope=col>description</th><th scope=col>experiences_offered</th><th scope=col>neighborhood_overview</th><th scope=col>...</th><th scope=col>review_scores_value</th><th scope=col>requires_license</th><th scope=col>license</th><th scope=col>jurisdiction_names</th><th scope=col>instant_bookable</th><th scope=col>cancellation_policy</th><th scope=col>require_guest_profile_picture</th><th scope=col>require_guest_phone_verification</th><th scope=col>calculated_host_listings_count</th><th scope=col>reviews_per_month</th></tr></thead>\n",
       "<tbody>\n",
       "\t<tr><td>241032                                                                                                                                                                                                                                                                                                                                                                                                                                                                                                                                                                                                                                                                                                                                                                                                                                                                                                                                                                                                                                  </td><td>https://www.airbnb.com/rooms/241032                                                                                                                                                                                                                                                                                                                                                                                                                                                                                                                                                                                                                                                                                                                                                                                                                                                                                                                                                                                                     </td><td>2.01601e+13                                                                                                                                                                                                                                                                                                                                                                                                                                                                                                                                                                                                                                                                                                                                                                                                                                                                                                                                                                                                                             </td><td>2016-01-04                                                                                                                                                                                                                                                                                                                                                                                                                                                                                                                                                                                                                                                                                                                                                                                                                                                                                                                                                                                                                              </td><td>Stylish Queen Anne Apartment                                                                                                                                                                                                                                                                                                                                                                                                                                                                                                                                                                                                                                                                                                                                                                                                                                                                                                                                                                                                            </td><td>                                                                                                                                                                                                                                                                                                                                                                                                                                                                                                                                                                                                                                                                                                                                                                                                                                                                                                                                                                                                                                        </td><td>Make your self at home in this charming one-bedroom apartment, centrally-located on the west side of Queen Anne hill.   This elegantly-decorated, completely private apartment (bottom unit of a duplex) has an open floor plan, bamboo floors, a fully equipped kitchen, a TV,  DVD player, basic cable, and a very cozy bedroom with a queen-size bed. The unit sleeps up to four (two in the bedroom and two on the very comfortable fold out couch, linens included) and includes free WiFi and laundry. The apartment opens onto a private deck, complete with it's own BBQ, overlooking a garden and a forest of black bamboo.    The Apartment is perfectly-located just one block from the bus lines where you can catch a bus and be downtown Seattle in fifteen minutes or historic Ballard in ten or a quick five-minute walk will bring you to Whole Foods and Peet's Coffee or take a fifteen minute walk to the top of Queen Anne Hill where you will find a variety of eclectic shops, bars, and restaurants. There is no</td><td>Make your self at home in this charming one-bedroom apartment, centrally-located on the west side of Queen Anne hill.   This elegantly-decorated, completely private apartment (bottom unit of a duplex) has an open floor plan, bamboo floors, a fully equipped kitchen, a TV,  DVD player, basic cable, and a very cozy bedroom with a queen-size bed. The unit sleeps up to four (two in the bedroom and two on the very comfortable fold out couch, linens included) and includes free WiFi and laundry. The apartment opens onto a private deck, complete with it's own BBQ, overlooking a garden and a forest of black bamboo.    The Apartment is perfectly-located just one block from the bus lines where you can catch a bus and be downtown Seattle in fifteen minutes or historic Ballard in ten or a quick five-minute walk will bring you to Whole Foods and Peet's Coffee or take a fifteen minute walk to the top of Queen Anne Hill where you will find a variety of eclectic shops, bars, and restaurants. There is no</td><td>none                                                                                                                                                                                                                                                                                                                                                                                                                                                                                                                                                                                                                                                                                                                                                                                                                                                                                                                                                                                                                                    </td><td>                                                                                                                                                                                                                                                                                                                                                                                                                                                                                                                                                                                                                                                                                                                                                                                                                                                                                                                                                                                                                                        </td><td>...                                                                                                                                                                                                                                                                                                                                                                                                                                                                                                                                                                                                                                                                                                                                                                                                                                                                                                                                                                                                                                     </td><td>10                                                                                                                                                                                                                                                                                                                                                                                                                                                                                                                                                                                                                                                                                                                                                                                                                                                                                                                                                                                                                                      </td><td>f                                                                                                                                                                                                                                                                                                                                                                                                                                                                                                                                                                                                                                                                                                                                                                                                                                                                                                                                                                                                                                       </td><td>NA                                                                                                                                                                                                                                                                                                                                                                                                                                                                                                                                                                                                                                                                                                                                                                                                                                                                                                                                                                                                                                      </td><td>WASHINGTON                                                                                                                                                                                                                                                                                                                                                                                                                                                                                                                                                                                                                                                                                                                                                                                                                                                                                                                                                                                                                              </td><td>f                                                                                                                                                                                                                                                                                                                                                                                                                                                                                                                                                                                                                                                                                                                                                                                                                                                                                                                                                                                                                                       </td><td>moderate                                                                                                                                                                                                                                                                                                                                                                                                                                                                                                                                                                                                                                                                                                                                                                                                                                                                                                                                                                                                                                </td><td>f                                                                                                                                                                                                                                                                                                                                                                                                                                                                                                                                                                                                                                                                                                                                                                                                                                                                                                                                                                                                                                       </td><td>f                                                                                                                                                                                                                                                                                                                                                                                                                                                                                                                                                                                                                                                                                                                                                                                                                                                                                                                                                                                                                                       </td><td>2                                                                                                                                                                                                                                                                                                                                                                                                                                                                                                                                                                                                                                                                                                                                                                                                                                                                                                                                                                                                                                       </td><td>4.07                                                                                                                                                                                                                                                                                                                                                                                                                                                                                                                                                                                                                                                                                                                                                                                                                                                                                                                                                                                                                                    </td></tr>\n",
       "</tbody>\n",
       "</table>\n"
      ],
      "text/latex": [
       "\\begin{tabular}{r|llllllllllllllllllllllllllllllllllllllllllllllllllllllllllllllllllllllllllllllllllllllllllll}\n",
       " id & listing\\_url & scrape\\_id & last\\_scraped & name & summary & space & description & experiences\\_offered & neighborhood\\_overview & ... & review\\_scores\\_value & requires\\_license & license & jurisdiction\\_names & instant\\_bookable & cancellation\\_policy & require\\_guest\\_profile\\_picture & require\\_guest\\_phone\\_verification & calculated\\_host\\_listings\\_count & reviews\\_per\\_month\\\\\n",
       "\\hline\n",
       "\t 241032                                                                                                                                                                                                                                                                                                                                                                                                                                                                                                                                                                                                                                                                                                                                                                                                                                                                                                                                                                                                                                   & https://www.airbnb.com/rooms/241032                                                                                                                                                                                                                                                                                                                                                                                                                                                                                                                                                                                                                                                                                                                                                                                                                                                                                                                                                                                                      & 2.01601e+13                                                                                                                                                                                                                                                                                                                                                                                                                                                                                                                                                                                                                                                                                                                                                                                                                                                                                                                                                                                                                              & 2016-01-04                                                                                                                                                                                                                                                                                                                                                                                                                                                                                                                                                                                                                                                                                                                                                                                                                                                                                                                                                                                                                               & Stylish Queen Anne Apartment                                                                                                                                                                                                                                                                                                                                                                                                                                                                                                                                                                                                                                                                                                                                                                                                                                                                                                                                                                                                             &                                                                                                                                                                                                                                                                                                                                                                                                                                                                                                                                                                                                                                                                                                                                                                                                                                                                                                                                                                                                                                          & Make your self at home in this charming one-bedroom apartment, centrally-located on the west side of Queen Anne hill.   This elegantly-decorated, completely private apartment (bottom unit of a duplex) has an open floor plan, bamboo floors, a fully equipped kitchen, a TV,  DVD player, basic cable, and a very cozy bedroom with a queen-size bed. The unit sleeps up to four (two in the bedroom and two on the very comfortable fold out couch, linens included) and includes free WiFi and laundry. The apartment opens onto a private deck, complete with it's own BBQ, overlooking a garden and a forest of black bamboo.    The Apartment is perfectly-located just one block from the bus lines where you can catch a bus and be downtown Seattle in fifteen minutes or historic Ballard in ten or a quick five-minute walk will bring you to Whole Foods and Peet's Coffee or take a fifteen minute walk to the top of Queen Anne Hill where you will find a variety of eclectic shops, bars, and restaurants. There is no & Make your self at home in this charming one-bedroom apartment, centrally-located on the west side of Queen Anne hill.   This elegantly-decorated, completely private apartment (bottom unit of a duplex) has an open floor plan, bamboo floors, a fully equipped kitchen, a TV,  DVD player, basic cable, and a very cozy bedroom with a queen-size bed. The unit sleeps up to four (two in the bedroom and two on the very comfortable fold out couch, linens included) and includes free WiFi and laundry. The apartment opens onto a private deck, complete with it's own BBQ, overlooking a garden and a forest of black bamboo.    The Apartment is perfectly-located just one block from the bus lines where you can catch a bus and be downtown Seattle in fifteen minutes or historic Ballard in ten or a quick five-minute walk will bring you to Whole Foods and Peet's Coffee or take a fifteen minute walk to the top of Queen Anne Hill where you will find a variety of eclectic shops, bars, and restaurants. There is no & none                                                                                                                                                                                                                                                                                                                                                                                                                                                                                                                                                                                                                                                                                                                                                                                                                                                                                                                                                                                                                                     &                                                                                                                                                                                                                                                                                                                                                                                                                                                                                                                                                                                                                                                                                                                                                                                                                                                                                                                                                                                                                                          & ...                                                                                                                                                                                                                                                                                                                                                                                                                                                                                                                                                                                                                                                                                                                                                                                                                                                                                                                                                                                                                                      & 10                                                                                                                                                                                                                                                                                                                                                                                                                                                                                                                                                                                                                                                                                                                                                                                                                                                                                                                                                                                                                                       & f                                                                                                                                                                                                                                                                                                                                                                                                                                                                                                                                                                                                                                                                                                                                                                                                                                                                                                                                                                                                                                        & NA                                                                                                                                                                                                                                                                                                                                                                                                                                                                                                                                                                                                                                                                                                                                                                                                                                                                                                                                                                                                                                       & WASHINGTON                                                                                                                                                                                                                                                                                                                                                                                                                                                                                                                                                                                                                                                                                                                                                                                                                                                                                                                                                                                                                               & f                                                                                                                                                                                                                                                                                                                                                                                                                                                                                                                                                                                                                                                                                                                                                                                                                                                                                                                                                                                                                                        & moderate                                                                                                                                                                                                                                                                                                                                                                                                                                                                                                                                                                                                                                                                                                                                                                                                                                                                                                                                                                                                                                 & f                                                                                                                                                                                                                                                                                                                                                                                                                                                                                                                                                                                                                                                                                                                                                                                                                                                                                                                                                                                                                                        & f                                                                                                                                                                                                                                                                                                                                                                                                                                                                                                                                                                                                                                                                                                                                                                                                                                                                                                                                                                                                                                        & 2                                                                                                                                                                                                                                                                                                                                                                                                                                                                                                                                                                                                                                                                                                                                                                                                                                                                                                                                                                                                                                        & 4.07                                                                                                                                                                                                                                                                                                                                                                                                                                                                                                                                                                                                                                                                                                                                                                                                                                                                                                                                                                                                                                    \\\\\n",
       "\\end{tabular}\n"
      ],
      "text/markdown": [
       "\n",
       "| id | listing_url | scrape_id | last_scraped | name | summary | space | description | experiences_offered | neighborhood_overview | ... | review_scores_value | requires_license | license | jurisdiction_names | instant_bookable | cancellation_policy | require_guest_profile_picture | require_guest_phone_verification | calculated_host_listings_count | reviews_per_month |\n",
       "|---|---|---|---|---|---|---|---|---|---|---|---|---|---|---|---|---|---|---|---|---|\n",
       "| 241032                                                                                                                                                                                                                                                                                                                                                                                                                                                                                                                                                                                                                                                                                                                                                                                                                                                                                                                                                                                                                                   | https://www.airbnb.com/rooms/241032                                                                                                                                                                                                                                                                                                                                                                                                                                                                                                                                                                                                                                                                                                                                                                                                                                                                                                                                                                                                      | 2.01601e+13                                                                                                                                                                                                                                                                                                                                                                                                                                                                                                                                                                                                                                                                                                                                                                                                                                                                                                                                                                                                                              | 2016-01-04                                                                                                                                                                                                                                                                                                                                                                                                                                                                                                                                                                                                                                                                                                                                                                                                                                                                                                                                                                                                                               | Stylish Queen Anne Apartment                                                                                                                                                                                                                                                                                                                                                                                                                                                                                                                                                                                                                                                                                                                                                                                                                                                                                                                                                                                                             |                                                                                                                                                                                                                                                                                                                                                                                                                                                                                                                                                                                                                                                                                                                                                                                                                                                                                                                                                                                                                                          | Make your self at home in this charming one-bedroom apartment, centrally-located on the west side of Queen Anne hill.   This elegantly-decorated, completely private apartment (bottom unit of a duplex) has an open floor plan, bamboo floors, a fully equipped kitchen, a TV,  DVD player, basic cable, and a very cozy bedroom with a queen-size bed. The unit sleeps up to four (two in the bedroom and two on the very comfortable fold out couch, linens included) and includes free WiFi and laundry. The apartment opens onto a private deck, complete with it's own BBQ, overlooking a garden and a forest of black bamboo.    The Apartment is perfectly-located just one block from the bus lines where you can catch a bus and be downtown Seattle in fifteen minutes or historic Ballard in ten or a quick five-minute walk will bring you to Whole Foods and Peet's Coffee or take a fifteen minute walk to the top of Queen Anne Hill where you will find a variety of eclectic shops, bars, and restaurants. There is no | Make your self at home in this charming one-bedroom apartment, centrally-located on the west side of Queen Anne hill.   This elegantly-decorated, completely private apartment (bottom unit of a duplex) has an open floor plan, bamboo floors, a fully equipped kitchen, a TV,  DVD player, basic cable, and a very cozy bedroom with a queen-size bed. The unit sleeps up to four (two in the bedroom and two on the very comfortable fold out couch, linens included) and includes free WiFi and laundry. The apartment opens onto a private deck, complete with it's own BBQ, overlooking a garden and a forest of black bamboo.    The Apartment is perfectly-located just one block from the bus lines where you can catch a bus and be downtown Seattle in fifteen minutes or historic Ballard in ten or a quick five-minute walk will bring you to Whole Foods and Peet's Coffee or take a fifteen minute walk to the top of Queen Anne Hill where you will find a variety of eclectic shops, bars, and restaurants. There is no | none                                                                                                                                                                                                                                                                                                                                                                                                                                                                                                                                                                                                                                                                                                                                                                                                                                                                                                                                                                                                                                     |                                                                                                                                                                                                                                                                                                                                                                                                                                                                                                                                                                                                                                                                                                                                                                                                                                                                                                                                                                                                                                          | ...                                                                                                                                                                                                                                                                                                                                                                                                                                                                                                                                                                                                                                                                                                                                                                                                                                                                                                                                                                                                                                      | 10                                                                                                                                                                                                                                                                                                                                                                                                                                                                                                                                                                                                                                                                                                                                                                                                                                                                                                                                                                                                                                       | f                                                                                                                                                                                                                                                                                                                                                                                                                                                                                                                                                                                                                                                                                                                                                                                                                                                                                                                                                                                                                                        | NA                                                                                                                                                                                                                                                                                                                                                                                                                                                                                                                                                                                                                                                                                                                                                                                                                                                                                                                                                                                                                                       | WASHINGTON                                                                                                                                                                                                                                                                                                                                                                                                                                                                                                                                                                                                                                                                                                                                                                                                                                                                                                                                                                                                                               | f                                                                                                                                                                                                                                                                                                                                                                                                                                                                                                                                                                                                                                                                                                                                                                                                                                                                                                                                                                                                                                        | moderate                                                                                                                                                                                                                                                                                                                                                                                                                                                                                                                                                                                                                                                                                                                                                                                                                                                                                                                                                                                                                                 | f                                                                                                                                                                                                                                                                                                                                                                                                                                                                                                                                                                                                                                                                                                                                                                                                                                                                                                                                                                                                                                        | f                                                                                                                                                                                                                                                                                                                                                                                                                                                                                                                                                                                                                                                                                                                                                                                                                                                                                                                                                                                                                                        | 2                                                                                                                                                                                                                                                                                                                                                                                                                                                                                                                                                                                                                                                                                                                                                                                                                                                                                                                                                                                                                                        | 4.07                                                                                                                                                                                                                                                                                                                                                                                                                                                                                                                                                                                                                                                                                                                                                                                                                                                                                                                                                                                                                                     |\n",
       "\n"
      ],
      "text/plain": [
       "  id     listing_url                         scrape_id   last_scraped\n",
       "1 241032 https://www.airbnb.com/rooms/241032 2.01601e+13 2016-01-04  \n",
       "  name                         summary\n",
       "1 Stylish Queen Anne Apartment        \n",
       "  space                                                                                                                                                                                                                                                                                                                                                                                                                                                                                                                                                                                                                                                                                                                                                                                                                                                                                                                                                                                                                                   \n",
       "1 Make your self at home in this charming one-bedroom apartment, centrally-located on the west side of Queen Anne hill.   This elegantly-decorated, completely private apartment (bottom unit of a duplex) has an open floor plan, bamboo floors, a fully equipped kitchen, a TV,  DVD player, basic cable, and a very cozy bedroom with a queen-size bed. The unit sleeps up to four (two in the bedroom and two on the very comfortable fold out couch, linens included) and includes free WiFi and laundry. The apartment opens onto a private deck, complete with it's own BBQ, overlooking a garden and a forest of black bamboo.    The Apartment is perfectly-located just one block from the bus lines where you can catch a bus and be downtown Seattle in fifteen minutes or historic Ballard in ten or a quick five-minute walk will bring you to Whole Foods and Peet's Coffee or take a fifteen minute walk to the top of Queen Anne Hill where you will find a variety of eclectic shops, bars, and restaurants. There is no\n",
       "  description                                                                                                                                                                                                                                                                                                                                                                                                                                                                                                                                                                                                                                                                                                                                                                                                                                                                                                                                                                                                                             \n",
       "1 Make your self at home in this charming one-bedroom apartment, centrally-located on the west side of Queen Anne hill.   This elegantly-decorated, completely private apartment (bottom unit of a duplex) has an open floor plan, bamboo floors, a fully equipped kitchen, a TV,  DVD player, basic cable, and a very cozy bedroom with a queen-size bed. The unit sleeps up to four (two in the bedroom and two on the very comfortable fold out couch, linens included) and includes free WiFi and laundry. The apartment opens onto a private deck, complete with it's own BBQ, overlooking a garden and a forest of black bamboo.    The Apartment is perfectly-located just one block from the bus lines where you can catch a bus and be downtown Seattle in fifteen minutes or historic Ballard in ten or a quick five-minute walk will bring you to Whole Foods and Peet's Coffee or take a fifteen minute walk to the top of Queen Anne Hill where you will find a variety of eclectic shops, bars, and restaurants. There is no\n",
       "  experiences_offered neighborhood_overview ... review_scores_value\n",
       "1 none                                      ... 10                 \n",
       "  requires_license license jurisdiction_names instant_bookable\n",
       "1 f                NA      WASHINGTON         f               \n",
       "  cancellation_policy require_guest_profile_picture\n",
       "1 moderate            f                            \n",
       "  require_guest_phone_verification calculated_host_listings_count\n",
       "1 f                                2                             \n",
       "  reviews_per_month\n",
       "1 4.07             "
      ]
     },
     "metadata": {},
     "output_type": "display_data"
    }
   ],
   "source": [
    "airbnb_listings[1,]"
   ]
  },
  {
   "cell_type": "markdown",
   "metadata": {},
   "source": [
    "#### Calendario de reservas de Airbnb en Seattle"
   ]
  },
  {
   "cell_type": "markdown",
   "metadata": {},
   "source": [
    "A continuación, haremos el mismo proceso con el conjunto de datos `airbnb_calendar`, el cual almacena información sobre todas las reservas realizadas en Airbnb sobre _hosts_ de Seattle."
   ]
  },
  {
   "cell_type": "code",
   "execution_count": 14,
   "metadata": {},
   "outputs": [
    {
     "data": {
      "text/html": [
       "<ol class=list-inline>\n",
       "\t<li>'listing_id'</li>\n",
       "\t<li>'date'</li>\n",
       "\t<li>'available'</li>\n",
       "\t<li>'price'</li>\n",
       "</ol>\n"
      ],
      "text/latex": [
       "\\begin{enumerate*}\n",
       "\\item 'listing\\_id'\n",
       "\\item 'date'\n",
       "\\item 'available'\n",
       "\\item 'price'\n",
       "\\end{enumerate*}\n"
      ],
      "text/markdown": [
       "1. 'listing_id'\n",
       "2. 'date'\n",
       "3. 'available'\n",
       "4. 'price'\n",
       "\n",
       "\n"
      ],
      "text/plain": [
       "[1] \"listing_id\" \"date\"       \"available\"  \"price\"     "
      ]
     },
     "metadata": {},
     "output_type": "display_data"
    }
   ],
   "source": [
    "names(airbnb_calendar)"
   ]
  },
  {
   "cell_type": "code",
   "execution_count": 15,
   "metadata": {
    "collapsed": true
   },
   "outputs": [
    {
     "data": {
      "text/html": [
       "<ol class=list-inline>\n",
       "\t<li>1393570</li>\n",
       "\t<li>4</li>\n",
       "</ol>\n"
      ],
      "text/latex": [
       "\\begin{enumerate*}\n",
       "\\item 1393570\n",
       "\\item 4\n",
       "\\end{enumerate*}\n"
      ],
      "text/markdown": [
       "1. 1393570\n",
       "2. 4\n",
       "\n",
       "\n"
      ],
      "text/plain": [
       "[1] 1393570       4"
      ]
     },
     "metadata": {},
     "output_type": "display_data"
    }
   ],
   "source": [
    "dim(airbnb_calendar)"
   ]
  },
  {
   "cell_type": "markdown",
   "metadata": {},
   "source": [
    "Este dataset considera 1393570 filas con 4 atributos cada una de ellas con la siguiente interpretación:\n",
    "- `listing_id`: id en el sistema de Airbnb del _listing_ al cual se corresponde la reserva.\n",
    "- `date`: día, mes y año.\n",
    "- `available`: disponibilidad del _listing_ en esta fecha.\n",
    "- `price`: precio con el cual se oferta el _listing_ en esta fecha."
   ]
  },
  {
   "cell_type": "markdown",
   "metadata": {},
   "source": [
    "#### Reviews de Airbnb en Seattle"
   ]
  },
  {
   "cell_type": "markdown",
   "metadata": {},
   "source": [
    "Realizamos el mismo proceso con el conjunto de datos `airbnb_reviews`, el cual contiene todas las reviews realizadas en Airbnb sobre _listings_ de Seattle."
   ]
  },
  {
   "cell_type": "code",
   "execution_count": 19,
   "metadata": {
    "scrolled": false
   },
   "outputs": [
    {
     "data": {
      "text/html": [
       "<ol class=list-inline>\n",
       "\t<li>'listing_id'</li>\n",
       "\t<li>'id'</li>\n",
       "\t<li>'date'</li>\n",
       "\t<li>'reviewer_id'</li>\n",
       "\t<li>'reviewer_name'</li>\n",
       "\t<li>'comments'</li>\n",
       "</ol>\n"
      ],
      "text/latex": [
       "\\begin{enumerate*}\n",
       "\\item 'listing\\_id'\n",
       "\\item 'id'\n",
       "\\item 'date'\n",
       "\\item 'reviewer\\_id'\n",
       "\\item 'reviewer\\_name'\n",
       "\\item 'comments'\n",
       "\\end{enumerate*}\n"
      ],
      "text/markdown": [
       "1. 'listing_id'\n",
       "2. 'id'\n",
       "3. 'date'\n",
       "4. 'reviewer_id'\n",
       "5. 'reviewer_name'\n",
       "6. 'comments'\n",
       "\n",
       "\n"
      ],
      "text/plain": [
       "[1] \"listing_id\"    \"id\"            \"date\"          \"reviewer_id\"  \n",
       "[5] \"reviewer_name\" \"comments\"     "
      ]
     },
     "metadata": {},
     "output_type": "display_data"
    }
   ],
   "source": [
    "names(airbnb_reviews)"
   ]
  },
  {
   "cell_type": "code",
   "execution_count": null,
   "metadata": {},
   "outputs": [],
   "source": [
    "dim(airbnb_reviews)"
   ]
  },
  {
   "cell_type": "markdown",
   "metadata": {},
   "source": [
    "El dataset considera X reviews realizadas; cada una de ellas contiene los siguientes atributos:\n",
    "- `listing_id`: id en el sistema de Airbnb para el _listing_ sobre el cual se realiza la _review_.\n",
    "- `id`: id en el sistema de Airbnb para la _review_.\n",
    "- `date`: día, mes y año en el cual se envió la _review_ al sistema.\n",
    "- `reviewer_id`: id en el sistema de Airbnb de la persona que escribió la _review_.\n",
    "- `reviewer_name`: nombre de pila de la persona que escribió la _review_.\n",
    "- `comments`: comentarios agregados a la _review_."
   ]
  },
  {
   "cell_type": "code",
   "execution_count": 20,
   "metadata": {
    "scrolled": false
   },
   "outputs": [
    {
     "data": {
      "text/html": [
       "<table>\n",
       "<thead><tr><th scope=col>listing_id</th><th scope=col>id</th><th scope=col>date</th><th scope=col>reviewer_id</th><th scope=col>reviewer_name</th><th scope=col>comments</th></tr></thead>\n",
       "<tbody>\n",
       "\t<tr><td>7202016                                                                                                                                                                                                                                                                                                                                                                                               </td><td>38917982                                                                                                                                                                                                                                                                                                                                                                                              </td><td>2015-07-19                                                                                                                                                                                                                                                                                                                                                                                            </td><td>28943674                                                                                                                                                                                                                                                                                                                                                                                              </td><td>Bianca                                                                                                                                                                                                                                                                                                                                                                                                </td><td>Cute and cozy place. Perfect location to everything!                                                                                                                                                                                                                                                                                                                                                  </td></tr>\n",
       "\t<tr><td>7202016                                                                                                                                                                                                                                                                                                                                                                                               </td><td>39087409                                                                                                                                                                                                                                                                                                                                                                                              </td><td>2015-07-20                                                                                                                                                                                                                                                                                                                                                                                            </td><td>32440555                                                                                                                                                                                                                                                                                                                                                                                              </td><td>Frank                                                                                                                                                                                                                                                                                                                                                                                                 </td><td>Kelly has a great room in a very central location. \n",
       "Beautiful building , architecture and a style that we really like. \n",
       "We felt guite at home here and wish we had spent more time.\n",
       "Went for a walk and found Seattle Center with a major food festival in progress. What a treat.\n",
       "Visited the Space Needle and the Chihuly Glass exhibit. Then Pikes Place Market. WOW.  Thanks for a great stay.</td></tr>\n",
       "\t<tr><td>7202016                                                                                                                                                                                                                                                                                                                                                                                               </td><td>39820030                                                                                                                                                                                                                                                                                                                                                                                              </td><td>2015-07-26                                                                                                                                                                                                                                                                                                                                                                                            </td><td>37722850                                                                                                                                                                                                                                                                                                                                                                                              </td><td>Ian                                                                                                                                                                                                                                                                                                                                                                                                   </td><td>Very spacious apartment, and in a great neighborhood.  This is the kind of apartment I wish I had!\n",
       "\n",
       "Didn't really get to meet Kelly until I was on my out, but she was always readily available by phone. \n",
       "\n",
       "I believe the only \"issue\" (if you want to call it that) was finding a place to park, but I sincerely doubt its easy to park anywhere in a residential area after 5 pm on a Friday    </td></tr>\n",
       "\t<tr><td>7202016                                                                                                                                                                                                                                                                                                                                                                                               </td><td>40813543                                                                                                                                                                                                                                                                                                                                                                                              </td><td>2015-08-02                                                                                                                                                                                                                                                                                                                                                                                            </td><td>33671805                                                                                                                                                                                                                                                                                                                                                                                              </td><td>George                                                                                                                                                                                                                                                                                                                                                                                                </td><td>Close to Seattle Center and all it has to offer - ballet, theater, museum, Space Needle, restaurants of all ilk just blocks away, and the Metropolitan (probably the coolest grocer you'll ever find). Easy to find and Kelly was warm, welcoming, and really interesting to talk to.                                                                                                                 </td></tr>\n",
       "\t<tr><td>7202016                                                                                                                                                                                                                                                                                                                                                                                               </td><td>41986501                                                                                                                                                                                                                                                                                                                                                                                              </td><td>2015-08-10                                                                                                                                                                                                                                                                                                                                                                                            </td><td>34959538                                                                                                                                                                                                                                                                                                                                                                                              </td><td>Ming                                                                                                                                                                                                                                                                                                                                                                                                  </td><td>Kelly was a great host and very accommodating in a great neighborhood. She has some great coffee and while I wasn't around much during my stay the time I spent interacting with her was very pleasant. \n",
       "\n",
       "The apartment is in a great location and very close to the Seattle Center. The neighborhood itself has a lot of good food as well!                                                        </td></tr>\n",
       "</tbody>\n",
       "</table>\n"
      ],
      "text/latex": [
       "\\begin{tabular}{r|llllll}\n",
       " listing\\_id & id & date & reviewer\\_id & reviewer\\_name & comments\\\\\n",
       "\\hline\n",
       "\t 7202016                                                                                                                                                                                                                                                                                                                                                                                                & 38917982                                                                                                                                                                                                                                                                                                                                                                                               & 2015-07-19                                                                                                                                                                                                                                                                                                                                                                                             & 28943674                                                                                                                                                                                                                                                                                                                                                                                               & Bianca                                                                                                                                                                                                                                                                                                                                                                                                 & Cute and cozy place. Perfect location to everything!                                                                                                                                                                                                                                                                                                                                                  \\\\\n",
       "\t 7202016                                                                                                                                                                                                                                                                                                                                                                                                & 39087409                                                                                                                                                                                                                                                                                                                                                                                               & 2015-07-20                                                                                                                                                                                                                                                                                                                                                                                             & 32440555                                                                                                                                                                                                                                                                                                                                                                                               & Frank                                                                                                                                                                                                                                                                                                                                                                                                  & Kelly has a great room in a very central location. \n",
       "Beautiful building , architecture and a style that we really like. \n",
       "We felt guite at home here and wish we had spent more time.\n",
       "Went for a walk and found Seattle Center with a major food festival in progress. What a treat.\n",
       "Visited the Space Needle and the Chihuly Glass exhibit. Then Pikes Place Market. WOW.  Thanks for a great stay.\\\\\n",
       "\t 7202016                                                                                                                                                                                                                                                                                                                                                                                                & 39820030                                                                                                                                                                                                                                                                                                                                                                                               & 2015-07-26                                                                                                                                                                                                                                                                                                                                                                                             & 37722850                                                                                                                                                                                                                                                                                                                                                                                               & Ian                                                                                                                                                                                                                                                                                                                                                                                                    & Very spacious apartment, and in a great neighborhood.  This is the kind of apartment I wish I had!\n",
       "\n",
       "Didn't really get to meet Kelly until I was on my out, but she was always readily available by phone. \n",
       "\n",
       "I believe the only \"issue\" (if you want to call it that) was finding a place to park, but I sincerely doubt its easy to park anywhere in a residential area after 5 pm on a Friday    \\\\\n",
       "\t 7202016                                                                                                                                                                                                                                                                                                                                                                                                & 40813543                                                                                                                                                                                                                                                                                                                                                                                               & 2015-08-02                                                                                                                                                                                                                                                                                                                                                                                             & 33671805                                                                                                                                                                                                                                                                                                                                                                                               & George                                                                                                                                                                                                                                                                                                                                                                                                 & Close to Seattle Center and all it has to offer - ballet, theater, museum, Space Needle, restaurants of all ilk just blocks away, and the Metropolitan (probably the coolest grocer you'll ever find). Easy to find and Kelly was warm, welcoming, and really interesting to talk to.                                                                                                                 \\\\\n",
       "\t 7202016                                                                                                                                                                                                                                                                                                                                                                                                & 41986501                                                                                                                                                                                                                                                                                                                                                                                               & 2015-08-10                                                                                                                                                                                                                                                                                                                                                                                             & 34959538                                                                                                                                                                                                                                                                                                                                                                                               & Ming                                                                                                                                                                                                                                                                                                                                                                                                   & Kelly was a great host and very accommodating in a great neighborhood. She has some great coffee and while I wasn't around much during my stay the time I spent interacting with her was very pleasant. \n",
       "\n",
       "The apartment is in a great location and very close to the Seattle Center. The neighborhood itself has a lot of good food as well!                                                        \\\\\n",
       "\\end{tabular}\n"
      ],
      "text/markdown": [
       "\n",
       "| listing_id | id | date | reviewer_id | reviewer_name | comments |\n",
       "|---|---|---|---|---|---|\n",
       "| 7202016                                                                                                                                                                                                                                                                                                                                                                                                | 38917982                                                                                                                                                                                                                                                                                                                                                                                               | 2015-07-19                                                                                                                                                                                                                                                                                                                                                                                             | 28943674                                                                                                                                                                                                                                                                                                                                                                                               | Bianca                                                                                                                                                                                                                                                                                                                                                                                                 | Cute and cozy place. Perfect location to everything!                                                                                                                                                                                                                                                                                                                                                   |\n",
       "| 7202016                                                                                                                                                                                                                                                                                                                                                                                                | 39087409                                                                                                                                                                                                                                                                                                                                                                                               | 2015-07-20                                                                                                                                                                                                                                                                                                                                                                                             | 32440555                                                                                                                                                                                                                                                                                                                                                                                               | Frank                                                                                                                                                                                                                                                                                                                                                                                                  | Kelly has a great room in a very central location. \n",
       "Beautiful building , architecture and a style that we really like. \n",
       "We felt guite at home here and wish we had spent more time.\n",
       "Went for a walk and found Seattle Center with a major food festival in progress. What a treat.\n",
       "Visited the Space Needle and the Chihuly Glass exhibit. Then Pikes Place Market. WOW.  Thanks for a great stay. |\n",
       "| 7202016                                                                                                                                                                                                                                                                                                                                                                                                | 39820030                                                                                                                                                                                                                                                                                                                                                                                               | 2015-07-26                                                                                                                                                                                                                                                                                                                                                                                             | 37722850                                                                                                                                                                                                                                                                                                                                                                                               | Ian                                                                                                                                                                                                                                                                                                                                                                                                    | Very spacious apartment, and in a great neighborhood.  This is the kind of apartment I wish I had!\n",
       "\n",
       "Didn't really get to meet Kelly until I was on my out, but she was always readily available by phone. \n",
       "\n",
       "I believe the only \"issue\" (if you want to call it that) was finding a place to park, but I sincerely doubt its easy to park anywhere in a residential area after 5 pm on a Friday     |\n",
       "| 7202016                                                                                                                                                                                                                                                                                                                                                                                                | 40813543                                                                                                                                                                                                                                                                                                                                                                                               | 2015-08-02                                                                                                                                                                                                                                                                                                                                                                                             | 33671805                                                                                                                                                                                                                                                                                                                                                                                               | George                                                                                                                                                                                                                                                                                                                                                                                                 | Close to Seattle Center and all it has to offer - ballet, theater, museum, Space Needle, restaurants of all ilk just blocks away, and the Metropolitan (probably the coolest grocer you'll ever find). Easy to find and Kelly was warm, welcoming, and really interesting to talk to.                                                                                                                  |\n",
       "| 7202016                                                                                                                                                                                                                                                                                                                                                                                                | 41986501                                                                                                                                                                                                                                                                                                                                                                                               | 2015-08-10                                                                                                                                                                                                                                                                                                                                                                                             | 34959538                                                                                                                                                                                                                                                                                                                                                                                               | Ming                                                                                                                                                                                                                                                                                                                                                                                                   | Kelly was a great host and very accommodating in a great neighborhood. She has some great coffee and while I wasn't around much during my stay the time I spent interacting with her was very pleasant. \n",
       "\n",
       "The apartment is in a great location and very close to the Seattle Center. The neighborhood itself has a lot of good food as well!                                                         |\n",
       "\n"
      ],
      "text/plain": [
       "  listing_id id       date       reviewer_id reviewer_name\n",
       "1 7202016    38917982 2015-07-19 28943674    Bianca       \n",
       "2 7202016    39087409 2015-07-20 32440555    Frank        \n",
       "3 7202016    39820030 2015-07-26 37722850    Ian          \n",
       "4 7202016    40813543 2015-08-02 33671805    George       \n",
       "5 7202016    41986501 2015-08-10 34959538    Ming         \n",
       "  comments                                                                                                                                                                                                                                                                                                                                                                                              \n",
       "1 Cute and cozy place. Perfect location to everything!                                                                                                                                                                                                                                                                                                                                                  \n",
       "2 Kelly has a great room in a very central location. \\nBeautiful building , architecture and a style that we really like. \\nWe felt guite at home here and wish we had spent more time.\\nWent for a walk and found Seattle Center with a major food festival in progress. What a treat.\\nVisited the Space Needle and the Chihuly Glass exhibit. Then Pikes Place Market. WOW.  Thanks for a great stay.\n",
       "3 Very spacious apartment, and in a great neighborhood.  This is the kind of apartment I wish I had!\\n\\nDidn't really get to meet Kelly until I was on my out, but she was always readily available by phone. \\n\\nI believe the only \"issue\" (if you want to call it that) was finding a place to park, but I sincerely doubt its easy to park anywhere in a residential area after 5 pm on a Friday    \n",
       "4 Close to Seattle Center and all it has to offer - ballet, theater, museum, Space Needle, restaurants of all ilk just blocks away, and the Metropolitan (probably the coolest grocer you'll ever find). Easy to find and Kelly was warm, welcoming, and really interesting to talk to.                                                                                                                 \n",
       "5 Kelly was a great host and very accommodating in a great neighborhood. She has some great coffee and while I wasn't around much during my stay the time I spent interacting with her was very pleasant. \\n\\nThe apartment is in a great location and very close to the Seattle Center. The neighborhood itself has a lot of good food as well!                                                        "
      ]
     },
     "metadata": {},
     "output_type": "display_data"
    }
   ],
   "source": [
    "airbnb_reviews[1:5,]"
   ]
  },
  {
   "cell_type": "markdown",
   "metadata": {},
   "source": [
    "#### Espacios culturales de Seattle"
   ]
  },
  {
   "cell_type": "markdown",
   "metadata": {},
   "source": [
    "Procesamos con la misma metodología el conjunto de datos `cultural_spaces`, el cual nos muestra información sobre los espacios culturales de Seattle con los siguientes atributos:\n",
    "LISTAR Y DEFINIR CADA ATRIBUTO DEL DATASET"
   ]
  },
  {
   "cell_type": "code",
   "execution_count": 21,
   "metadata": {},
   "outputs": [
    {
     "data": {
      "text/html": [
       "<ol class=list-inline>\n",
       "\t<li>'ï..Name'</li>\n",
       "\t<li>'Phone'</li>\n",
       "\t<li>'URL'</li>\n",
       "\t<li>'Square.Feet.Total'</li>\n",
       "\t<li>'Neighborhood'</li>\n",
       "\t<li>'Organization.Type'</li>\n",
       "\t<li>'Dominant.Discipline'</li>\n",
       "\t<li>'Year.of.Occupation'</li>\n",
       "\t<li>'Rent.vs.Own'</li>\n",
       "\t<li>'Age.of.Current.Building'</li>\n",
       "\t<li>'Length.of.Lease..Date.'</li>\n",
       "\t<li>'Year.Organization.Founded'</li>\n",
       "\t<li>'Number.of.Past.Facilities'</li>\n",
       "\t<li>'Stages.and.Theaters'</li>\n",
       "\t<li>'Stage...Theater.Seats'</li>\n",
       "\t<li>'Gallery.Space'</li>\n",
       "\t<li>'Gallery.Square.Feet'</li>\n",
       "\t<li>'ADA.Compliant'</li>\n",
       "\t<li>'Available.Parking'</li>\n",
       "\t<li>'Street.Presence'</li>\n",
       "\t<li>'Rental.Space'</li>\n",
       "\t<li>'Alcohol.Sales'</li>\n",
       "\t<li>'Organization.Mission'</li>\n",
       "\t<li>'Funded.by.A.C'</li>\n",
       "\t<li>'Funded.by.4Culture'</li>\n",
       "\t<li>'Stability.Index..5.very.stable..1.very.uncertain.'</li>\n",
       "\t<li>'Control.Index..5.very.in.control..1...very.out.of.control..'</li>\n",
       "\t<li>'Constituency.over.50..one.race'</li>\n",
       "\t<li>'Specific.Demographics.and.Community'</li>\n",
       "\t<li>'Organization.Leadership'</li>\n",
       "\t<li>'Organization.Artists'</li>\n",
       "\t<li>'Closed.Date'</li>\n",
       "\t<li>'Closed.'</li>\n",
       "\t<li>'Address'</li>\n",
       "\t<li>'Location'</li>\n",
       "\t<li>'X2010.Census.Tracts'</li>\n",
       "\t<li>'Seattle.Police.Department.Micro.Community.Policing.Plan.Areas'</li>\n",
       "\t<li>'City.Council.Districts'</li>\n",
       "\t<li>'SPD.Beats'</li>\n",
       "\t<li>'Zip.Codes'</li>\n",
       "</ol>\n"
      ],
      "text/latex": [
       "\\begin{enumerate*}\n",
       "\\item 'ï..Name'\n",
       "\\item 'Phone'\n",
       "\\item 'URL'\n",
       "\\item 'Square.Feet.Total'\n",
       "\\item 'Neighborhood'\n",
       "\\item 'Organization.Type'\n",
       "\\item 'Dominant.Discipline'\n",
       "\\item 'Year.of.Occupation'\n",
       "\\item 'Rent.vs.Own'\n",
       "\\item 'Age.of.Current.Building'\n",
       "\\item 'Length.of.Lease..Date.'\n",
       "\\item 'Year.Organization.Founded'\n",
       "\\item 'Number.of.Past.Facilities'\n",
       "\\item 'Stages.and.Theaters'\n",
       "\\item 'Stage...Theater.Seats'\n",
       "\\item 'Gallery.Space'\n",
       "\\item 'Gallery.Square.Feet'\n",
       "\\item 'ADA.Compliant'\n",
       "\\item 'Available.Parking'\n",
       "\\item 'Street.Presence'\n",
       "\\item 'Rental.Space'\n",
       "\\item 'Alcohol.Sales'\n",
       "\\item 'Organization.Mission'\n",
       "\\item 'Funded.by.A.C'\n",
       "\\item 'Funded.by.4Culture'\n",
       "\\item 'Stability.Index..5.very.stable..1.very.uncertain.'\n",
       "\\item 'Control.Index..5.very.in.control..1...very.out.of.control..'\n",
       "\\item 'Constituency.over.50..one.race'\n",
       "\\item 'Specific.Demographics.and.Community'\n",
       "\\item 'Organization.Leadership'\n",
       "\\item 'Organization.Artists'\n",
       "\\item 'Closed.Date'\n",
       "\\item 'Closed.'\n",
       "\\item 'Address'\n",
       "\\item 'Location'\n",
       "\\item 'X2010.Census.Tracts'\n",
       "\\item 'Seattle.Police.Department.Micro.Community.Policing.Plan.Areas'\n",
       "\\item 'City.Council.Districts'\n",
       "\\item 'SPD.Beats'\n",
       "\\item 'Zip.Codes'\n",
       "\\end{enumerate*}\n"
      ],
      "text/markdown": [
       "1. 'ï..Name'\n",
       "2. 'Phone'\n",
       "3. 'URL'\n",
       "4. 'Square.Feet.Total'\n",
       "5. 'Neighborhood'\n",
       "6. 'Organization.Type'\n",
       "7. 'Dominant.Discipline'\n",
       "8. 'Year.of.Occupation'\n",
       "9. 'Rent.vs.Own'\n",
       "10. 'Age.of.Current.Building'\n",
       "11. 'Length.of.Lease..Date.'\n",
       "12. 'Year.Organization.Founded'\n",
       "13. 'Number.of.Past.Facilities'\n",
       "14. 'Stages.and.Theaters'\n",
       "15. 'Stage...Theater.Seats'\n",
       "16. 'Gallery.Space'\n",
       "17. 'Gallery.Square.Feet'\n",
       "18. 'ADA.Compliant'\n",
       "19. 'Available.Parking'\n",
       "20. 'Street.Presence'\n",
       "21. 'Rental.Space'\n",
       "22. 'Alcohol.Sales'\n",
       "23. 'Organization.Mission'\n",
       "24. 'Funded.by.A.C'\n",
       "25. 'Funded.by.4Culture'\n",
       "26. 'Stability.Index..5.very.stable..1.very.uncertain.'\n",
       "27. 'Control.Index..5.very.in.control..1...very.out.of.control..'\n",
       "28. 'Constituency.over.50..one.race'\n",
       "29. 'Specific.Demographics.and.Community'\n",
       "30. 'Organization.Leadership'\n",
       "31. 'Organization.Artists'\n",
       "32. 'Closed.Date'\n",
       "33. 'Closed.'\n",
       "34. 'Address'\n",
       "35. 'Location'\n",
       "36. 'X2010.Census.Tracts'\n",
       "37. 'Seattle.Police.Department.Micro.Community.Policing.Plan.Areas'\n",
       "38. 'City.Council.Districts'\n",
       "39. 'SPD.Beats'\n",
       "40. 'Zip.Codes'\n",
       "\n",
       "\n"
      ],
      "text/plain": [
       " [1] \"ï..Name\"                                                      \n",
       " [2] \"Phone\"                                                        \n",
       " [3] \"URL\"                                                          \n",
       " [4] \"Square.Feet.Total\"                                            \n",
       " [5] \"Neighborhood\"                                                 \n",
       " [6] \"Organization.Type\"                                            \n",
       " [7] \"Dominant.Discipline\"                                          \n",
       " [8] \"Year.of.Occupation\"                                           \n",
       " [9] \"Rent.vs.Own\"                                                  \n",
       "[10] \"Age.of.Current.Building\"                                      \n",
       "[11] \"Length.of.Lease..Date.\"                                       \n",
       "[12] \"Year.Organization.Founded\"                                    \n",
       "[13] \"Number.of.Past.Facilities\"                                    \n",
       "[14] \"Stages.and.Theaters\"                                          \n",
       "[15] \"Stage...Theater.Seats\"                                        \n",
       "[16] \"Gallery.Space\"                                                \n",
       "[17] \"Gallery.Square.Feet\"                                          \n",
       "[18] \"ADA.Compliant\"                                                \n",
       "[19] \"Available.Parking\"                                            \n",
       "[20] \"Street.Presence\"                                              \n",
       "[21] \"Rental.Space\"                                                 \n",
       "[22] \"Alcohol.Sales\"                                                \n",
       "[23] \"Organization.Mission\"                                         \n",
       "[24] \"Funded.by.A.C\"                                                \n",
       "[25] \"Funded.by.4Culture\"                                           \n",
       "[26] \"Stability.Index..5.very.stable..1.very.uncertain.\"            \n",
       "[27] \"Control.Index..5.very.in.control..1...very.out.of.control..\"  \n",
       "[28] \"Constituency.over.50..one.race\"                               \n",
       "[29] \"Specific.Demographics.and.Community\"                          \n",
       "[30] \"Organization.Leadership\"                                      \n",
       "[31] \"Organization.Artists\"                                         \n",
       "[32] \"Closed.Date\"                                                  \n",
       "[33] \"Closed.\"                                                      \n",
       "[34] \"Address\"                                                      \n",
       "[35] \"Location\"                                                     \n",
       "[36] \"X2010.Census.Tracts\"                                          \n",
       "[37] \"Seattle.Police.Department.Micro.Community.Policing.Plan.Areas\"\n",
       "[38] \"City.Council.Districts\"                                       \n",
       "[39] \"SPD.Beats\"                                                    \n",
       "[40] \"Zip.Codes\"                                                    "
      ]
     },
     "metadata": {},
     "output_type": "display_data"
    }
   ],
   "source": [
    "names(cultural_spaces)"
   ]
  },
  {
   "cell_type": "code",
   "execution_count": 22,
   "metadata": {
    "scrolled": true
   },
   "outputs": [
    {
     "data": {
      "text/html": [
       "<ol class=list-inline>\n",
       "\t<li>1202</li>\n",
       "\t<li>40</li>\n",
       "</ol>\n"
      ],
      "text/latex": [
       "\\begin{enumerate*}\n",
       "\\item 1202\n",
       "\\item 40\n",
       "\\end{enumerate*}\n"
      ],
      "text/markdown": [
       "1. 1202\n",
       "2. 40\n",
       "\n",
       "\n"
      ],
      "text/plain": [
       "[1] 1202   40"
      ]
     },
     "metadata": {},
     "output_type": "display_data"
    }
   ],
   "source": [
    "dim(cultural_spaces)"
   ]
  },
  {
   "cell_type": "code",
   "execution_count": 26,
   "metadata": {
    "scrolled": true
   },
   "outputs": [
    {
     "ename": "ERROR",
     "evalue": "Error in parse(text = x, srcfile = src): <text>:2:0: unexpected end of input\n1: head(cultural_spaces, n=3\n   ^\n",
     "output_type": "error",
     "traceback": [
      "Error in parse(text = x, srcfile = src): <text>:2:0: unexpected end of input\n1: head(cultural_spaces, n=3\n   ^\nTraceback:\n"
     ]
    }
   ],
   "source": [
    "head(cultural_spaces, n=3"
   ]
  },
  {
   "cell_type": "markdown",
   "metadata": {},
   "source": [
    "### Exploración de los datos "
   ]
  },
  {
   "cell_type": "markdown",
   "metadata": {},
   "source": [
    "Con el objetivo de conocer cómo se comportan cada uno de los atributos de los dataset a utilizar y así facilitar y enriquecer las siguientes fases del proceso de Data Mining, realizaremos una exploración de los datos de cada uno de los datasets. Para ello, utilizaremos el paquete `psych`"
   ]
  },
  {
   "cell_type": "code",
   "execution_count": 4,
   "metadata": {},
   "outputs": [
    {
     "name": "stderr",
     "output_type": "stream",
     "text": [
      "Loading required package: psych\n"
     ]
    }
   ],
   "source": [
    "if(!require(psych)){\n",
    "    install.packages(\"psych\")\n",
    "    library(psych)\n",
    "}"
   ]
  },
  {
   "cell_type": "markdown",
   "metadata": {},
   "source": [
    "#### Casas de Airbnb en Seattle"
   ]
  },
  {
   "cell_type": "code",
   "execution_count": 10,
   "metadata": {
    "collapsed": true
   },
   "outputs": [
    {
     "name": "stderr",
     "output_type": "stream",
     "text": [
      "Warning message in FUN(newX[, i], ...):\n",
      "“no non-missing arguments to min; returning Inf”Warning message in FUN(newX[, i], ...):\n",
      "“no non-missing arguments to max; returning -Inf”"
     ]
    },
    {
     "data": {
      "text/html": [
       "<table>\n",
       "<thead><tr><th></th><th scope=col>vars</th><th scope=col>n</th><th scope=col>mean</th><th scope=col>sd</th><th scope=col>median</th><th scope=col>trimmed</th><th scope=col>mad</th><th scope=col>min</th><th scope=col>max</th><th scope=col>range</th><th scope=col>skew</th><th scope=col>kurtosis</th><th scope=col>se</th></tr></thead>\n",
       "<tbody>\n",
       "\t<tr><th scope=row>id</th><td> 1          </td><td>3818        </td><td>5.550111e+06</td><td>2.962660e+06</td><td>6.118244e+06</td><td>5.667467e+06</td><td>3.391922e+06</td><td>3.33500e+03 </td><td>1.034016e+07</td><td>10336830    </td><td>-0.309538606</td><td> -1.1053159 </td><td>4.794727e+04</td></tr>\n",
       "\t<tr><th scope=row>listing_url*</th><td> 2          </td><td>3818        </td><td>1.909500e+03</td><td>1.102306e+03</td><td>1.909500e+03</td><td>1.909500e+03</td><td>1.415142e+03</td><td>1.00000e+00 </td><td>3.818000e+03</td><td>    3817    </td><td> 0.000000000</td><td> -1.2009429 </td><td>1.783956e+01</td></tr>\n",
       "\t<tr><th scope=row>scrape_id</th><td> 3          </td><td>3818        </td><td>2.016010e+13</td><td>0.000000e+00</td><td>2.016010e+13</td><td>2.016010e+13</td><td>0.000000e+00</td><td>2.01601e+13 </td><td>2.016010e+13</td><td>       0    </td><td>         NaN</td><td>        NaN </td><td>0.000000e+00</td></tr>\n",
       "\t<tr><th scope=row>last_scraped*</th><td> 4          </td><td>3818        </td><td>1.000000e+00</td><td>0.000000e+00</td><td>1.000000e+00</td><td>1.000000e+00</td><td>0.000000e+00</td><td>1.00000e+00 </td><td>1.000000e+00</td><td>       0    </td><td>         NaN</td><td>        NaN </td><td>0.000000e+00</td></tr>\n",
       "\t<tr><th scope=row>name*</th><td> 5          </td><td>3818        </td><td>1.894388e+03</td><td>1.094536e+03</td><td>1.892500e+03</td><td>1.893998e+03</td><td>1.406987e+03</td><td>1.00000e+00 </td><td>3.792000e+03</td><td>    3791    </td><td> 0.002566002</td><td> -1.2012592 </td><td>1.771382e+01</td></tr>\n",
       "\t<tr><th scope=row>summary*</th><td> 6          </td><td>3818        </td><td>1.661355e+03</td><td>1.048871e+03</td><td>1.663500e+03</td><td>1.658304e+03</td><td>1.367698e+03</td><td>1.00000e+00 </td><td>3.479000e+03</td><td>    3478    </td><td> 0.012729896</td><td> -1.2332725 </td><td>1.697477e+01</td></tr>\n",
       "\t<tr><th scope=row>space*</th><td> 7          </td><td>3818        </td><td>1.318509e+03</td><td>1.000582e+03</td><td>1.277500e+03</td><td>1.281699e+03</td><td>1.372888e+03</td><td>1.00000e+00 </td><td>3.120000e+03</td><td>    3119    </td><td> 0.153621359</td><td> -1.3057483 </td><td>1.619328e+01</td></tr>\n",
       "\t<tr><th scope=row>description*</th><td> 8          </td><td>3818        </td><td>1.870322e+03</td><td>1.080957e+03</td><td>1.876500e+03</td><td>1.870531e+03</td><td>1.394385e+03</td><td>1.00000e+00 </td><td>3.742000e+03</td><td>    3741    </td><td>-0.002999117</td><td> -1.2052510 </td><td>1.749405e+01</td></tr>\n",
       "\t<tr><th scope=row>experiences_offered*</th><td> 9          </td><td>3818        </td><td>1.000000e+00</td><td>0.000000e+00</td><td>1.000000e+00</td><td>1.000000e+00</td><td>0.000000e+00</td><td>1.00000e+00 </td><td>1.000000e+00</td><td>       0    </td><td>         NaN</td><td>        NaN </td><td>0.000000e+00</td></tr>\n",
       "\t<tr><th scope=row>neighborhood_overview*</th><td>10          </td><td>3818        </td><td>9.155288e+02</td><td>8.323198e+02</td><td>7.985000e+02</td><td>8.522749e+02</td><td>1.182373e+03</td><td>1.00000e+00 </td><td>2.507000e+03</td><td>    2506    </td><td> 0.373749651</td><td> -1.2763043 </td><td>1.347014e+01</td></tr>\n",
       "\t<tr><th scope=row>notes*</th><td>11          </td><td>3817        </td><td>5.659764e+02</td><td>6.541537e+02</td><td>2.400000e+02</td><td>4.796193e+02</td><td>3.543414e+02</td><td>1.00000e+00 </td><td>2.001000e+03</td><td>    2000    </td><td> 0.754460050</td><td> -0.8953953 </td><td>1.058812e+01</td></tr>\n",
       "\t<tr><th scope=row>transit*</th><td>12          </td><td>3818        </td><td>9.550492e+02</td><td>8.436538e+02</td><td>8.440000e+02</td><td>8.940085e+02</td><td>1.240195e+03</td><td>1.00000e+00 </td><td>2.575000e+03</td><td>    2574    </td><td> 0.348414843</td><td> -1.2598409 </td><td>1.365357e+01</td></tr>\n",
       "\t<tr><th scope=row>thumbnail_url*</th><td>13          </td><td>3818        </td><td>1.603868e+03</td><td>1.081454e+03</td><td>1.590500e+03</td><td>1.590500e+03</td><td>1.415142e+03</td><td>1.00000e+00 </td><td>3.499000e+03</td><td>    3498    </td><td> 0.054309555</td><td> -1.2535767 </td><td>1.750210e+01</td></tr>\n",
       "\t<tr><th scope=row>medium_url*</th><td>14          </td><td>3818        </td><td>1.603868e+03</td><td>1.081454e+03</td><td>1.590500e+03</td><td>1.590500e+03</td><td>1.415142e+03</td><td>1.00000e+00 </td><td>3.499000e+03</td><td>    3498    </td><td> 0.054309555</td><td> -1.2535767 </td><td>1.750210e+01</td></tr>\n",
       "\t<tr><th scope=row>picture_url*</th><td>15          </td><td>3818        </td><td>1.909500e+03</td><td>1.102306e+03</td><td>1.909500e+03</td><td>1.909500e+03</td><td>1.415142e+03</td><td>1.00000e+00 </td><td>3.818000e+03</td><td>    3817    </td><td> 0.000000000</td><td> -1.2009429 </td><td>1.783956e+01</td></tr>\n",
       "\t<tr><th scope=row>xl_picture_url*</th><td>16          </td><td>3818        </td><td>1.603868e+03</td><td>1.081454e+03</td><td>1.590500e+03</td><td>1.590500e+03</td><td>1.415142e+03</td><td>1.00000e+00 </td><td>3.499000e+03</td><td>    3498    </td><td> 0.054309555</td><td> -1.2535767 </td><td>1.750210e+01</td></tr>\n",
       "\t<tr><th scope=row>host_id</th><td>17          </td><td>3818        </td><td>1.578556e+07</td><td>1.458382e+07</td><td>1.055814e+07</td><td>1.404456e+07</td><td>1.362344e+07</td><td>4.19300e+03 </td><td>5.320861e+07</td><td>53204417    </td><td> 0.804763166</td><td> -0.5415967 </td><td>2.360224e+05</td></tr>\n",
       "\t<tr><th scope=row>host_url*</th><td>18          </td><td>3818        </td><td>1.407671e+03</td><td>8.077074e+02</td><td>1.402500e+03</td><td>1.415268e+03</td><td>1.061542e+03</td><td>1.00000e+00 </td><td>2.751000e+03</td><td>    2750    </td><td>-0.054610595</td><td> -1.2309430 </td><td>1.307182e+01</td></tr>\n",
       "\t<tr><th scope=row>host_name*</th><td>19          </td><td>3818        </td><td>7.079963e+02</td><td>4.158208e+02</td><td>7.010000e+02</td><td>7.060262e+02</td><td>5.352186e+02</td><td>1.00000e+00 </td><td>1.467000e+03</td><td>    1466    </td><td> 0.015862655</td><td> -1.1759807 </td><td>6.729584e+00</td></tr>\n",
       "\t<tr><th scope=row>host_since*</th><td>20          </td><td>3818        </td><td>7.187127e+02</td><td>3.918996e+02</td><td>7.330000e+02</td><td>7.258910e+02</td><td>5.026014e+02</td><td>1.00000e+00 </td><td>1.381000e+03</td><td>    1380    </td><td>-0.118907564</td><td> -1.1596993 </td><td>6.342448e+00</td></tr>\n",
       "\t<tr><th scope=row>host_location*</th><td>21          </td><td>3818        </td><td>9.153405e+01</td><td>1.270384e+01</td><td>9.300000e+01</td><td>9.300000e+01</td><td>0.000000e+00</td><td>1.00000e+00 </td><td>1.210000e+02</td><td>     120    </td><td>-4.418252037</td><td> 22.9569207 </td><td>2.055971e-01</td></tr>\n",
       "\t<tr><th scope=row>host_about*</th><td>22          </td><td>3818        </td><td>8.050464e+02</td><td>6.725758e+02</td><td>7.610000e+02</td><td>7.711113e+02</td><td>9.977898e+02</td><td>1.00000e+00 </td><td>2.012000e+03</td><td>    2011    </td><td> 0.210376859</td><td> -1.3882831 </td><td>1.088487e+01</td></tr>\n",
       "\t<tr><th scope=row>host_response_time*</th><td>23          </td><td>3818        </td><td>4.981928e+00</td><td>1.115043e+00</td><td>5.000000e+00</td><td>5.115838e+00</td><td>1.482600e+00</td><td>1.00000e+00 </td><td>6.000000e+00</td><td>       5    </td><td>-0.749971664</td><td> -0.6417063 </td><td>1.804569e-02</td></tr>\n",
       "\t<tr><th scope=row>host_response_rate*</th><td>24          </td><td>3818        </td><td>1.541697e+01</td><td>1.850057e+01</td><td>2.000000e+00</td><td>1.315281e+01</td><td>0.000000e+00</td><td>1.00000e+00 </td><td>4.700000e+01</td><td>      46    </td><td> 0.795708991</td><td> -1.1819095 </td><td>2.994105e-01</td></tr>\n",
       "\t<tr><th scope=row>host_acceptance_rate*</th><td>25          </td><td>3818        </td><td>3.200629e+00</td><td>4.050760e-01</td><td>3.000000e+00</td><td>3.127618e+00</td><td>0.000000e+00</td><td>1.00000e+00 </td><td>4.000000e+00</td><td>       3    </td><td> 1.364190786</td><td>  0.5869087 </td><td>6.555693e-03</td></tr>\n",
       "\t<tr><th scope=row>host_is_superhost*</th><td>26          </td><td>3818        </td><td>2.203248e+00</td><td>4.037679e-01</td><td>2.000000e+00</td><td>2.129908e+00</td><td>0.000000e+00</td><td>1.00000e+00 </td><td>3.000000e+00</td><td>       2    </td><td> 1.450379382</td><td>  0.1820560 </td><td>6.534521e-03</td></tr>\n",
       "\t<tr><th scope=row>host_thumbnail_url*</th><td>27          </td><td>3818        </td><td>1.381509e+03</td><td>8.046569e+02</td><td>1.381500e+03</td><td>1.384781e+03</td><td>1.048939e+03</td><td>1.00000e+00 </td><td>2.744000e+03</td><td>    2743    </td><td>-0.022756363</td><td> -1.2159406 </td><td>1.302245e+01</td></tr>\n",
       "\t<tr><th scope=row>host_picture_url*</th><td>28          </td><td>3818        </td><td>1.381509e+03</td><td>8.046569e+02</td><td>1.381500e+03</td><td>1.384781e+03</td><td>1.048939e+03</td><td>1.00000e+00 </td><td>2.744000e+03</td><td>    2743    </td><td>-0.022756363</td><td> -1.2159406 </td><td>1.302245e+01</td></tr>\n",
       "\t<tr><th scope=row>host_neighbourhood*</th><td>29          </td><td>3818        </td><td>4.302672e+01</td><td>3.265849e+01</td><td>3.400000e+01</td><td>4.147611e+01</td><td>4.003020e+01</td><td>1.00000e+00 </td><td>1.030000e+02</td><td>     102    </td><td> 0.279196953</td><td> -1.3844229 </td><td>5.285403e-01</td></tr>\n",
       "\t<tr><th scope=row>host_listings_count</th><td>30          </td><td>3816        </td><td>7.157757e+00</td><td>2.862815e+01</td><td>1.000000e+00</td><td>1.906352e+00</td><td>0.000000e+00</td><td>1.00000e+00 </td><td>5.020000e+02</td><td>     501    </td><td> 9.457103858</td><td>111.7198117 </td><td>4.634353e-01</td></tr>\n",
       "\t<tr><th scope=row>⋮</th><td>⋮</td><td>⋮</td><td>⋮</td><td>⋮</td><td>⋮</td><td>⋮</td><td>⋮</td><td>⋮</td><td>⋮</td><td>⋮</td><td>⋮</td><td>⋮</td><td>⋮</td></tr>\n",
       "\t<tr><th scope=row>guests_included</th><td>63          </td><td>3818        </td><td>  1.672603  </td><td>   1.3110396</td><td>   1.00     </td><td>  1.376963  </td><td>  0.000000  </td><td> 0.00       </td><td>    15.00   </td><td>   15.00    </td><td> 2.87597189 </td><td>  11.9662085</td><td> 0.021217678</td></tr>\n",
       "\t<tr><th scope=row>extra_people*</th><td>64          </td><td>3818        </td><td>  7.264274  </td><td>   9.9432809</td><td>   1.00     </td><td>  5.019306  </td><td>  0.000000  </td><td> 1.00       </td><td>    45.00   </td><td>   44.00    </td><td> 1.66235946 </td><td>   1.9076036</td><td> 0.160920639</td></tr>\n",
       "\t<tr><th scope=row>minimum_nights</th><td>65          </td><td>3818        </td><td>  2.369303  </td><td>  16.3059021</td><td>   2.00     </td><td>  1.730039  </td><td>  1.482600  </td><td> 1.00       </td><td>  1000.00   </td><td>  999.00    </td><td>60.00277652 </td><td>3667.0082929</td><td> 0.263892391</td></tr>\n",
       "\t<tr><th scope=row>maximum_nights</th><td>66          </td><td>3818        </td><td>780.447617  </td><td>1683.5890075</td><td>1125.00     </td><td>801.239202  </td><td>  0.000000  </td><td> 1.00       </td><td>100000.00   </td><td>99999.00    </td><td>53.58832794 </td><td>3156.4437424</td><td>27.246964095</td></tr>\n",
       "\t<tr><th scope=row>calendar_updated*</th><td>67          </td><td>3818        </td><td> 21.882137  </td><td>   8.6575607</td><td>  20.00     </td><td> 21.950262  </td><td> 11.860800  </td><td> 1.00       </td><td>    34.00   </td><td>   33.00    </td><td> 0.06547223 </td><td>  -1.3068786</td><td> 0.140112725</td></tr>\n",
       "\t<tr><th scope=row>has_availability*</th><td>68          </td><td>3818        </td><td>  1.000000  </td><td>   0.0000000</td><td>   1.00     </td><td>  1.000000  </td><td>  0.000000  </td><td> 1.00       </td><td>     1.00   </td><td>    0.00    </td><td>        NaN </td><td>         NaN</td><td> 0.000000000</td></tr>\n",
       "\t<tr><th scope=row>availability_30</th><td>69          </td><td>3818        </td><td> 16.786276  </td><td>  12.1736368</td><td>  20.00     </td><td> 17.231675  </td><td> 14.826000  </td><td> 0.00       </td><td>    30.00   </td><td>   30.00    </td><td>-0.30563850 </td><td>  -1.5706782</td><td> 0.197016400</td></tr>\n",
       "\t<tr><th scope=row>availability_60</th><td>70          </td><td>3818        </td><td> 36.814825  </td><td>  23.3375414</td><td>  46.00     </td><td> 38.514071  </td><td> 20.756400  </td><td> 0.00       </td><td>    60.00   </td><td>   60.00    </td><td>-0.55720215 </td><td>  -1.3005051</td><td> 0.377691438</td></tr>\n",
       "\t<tr><th scope=row>availability_90</th><td>71          </td><td>3818        </td><td> 58.082504  </td><td>  34.0638454</td><td>  73.00     </td><td> 61.344568  </td><td> 25.204200  </td><td> 0.00       </td><td>    90.00   </td><td>   90.00    </td><td>-0.71865306 </td><td>  -1.0795353</td><td> 0.551284410</td></tr>\n",
       "\t<tr><th scope=row>availability_365</th><td>72          </td><td>3818        </td><td>244.772656  </td><td> 126.7725263</td><td> 308.00     </td><td>258.199607  </td><td> 84.508200  </td><td> 0.00       </td><td>   365.00   </td><td>  365.00    </td><td>-0.60843800 </td><td>  -1.1972531</td><td> 2.051668464</td></tr>\n",
       "\t<tr><th scope=row>calendar_last_scraped*</th><td>73          </td><td>3818        </td><td>  1.000000  </td><td>   0.0000000</td><td>   1.00     </td><td>  1.000000  </td><td>  0.000000  </td><td> 1.00       </td><td>     1.00   </td><td>    0.00    </td><td>        NaN </td><td>         NaN</td><td> 0.000000000</td></tr>\n",
       "\t<tr><th scope=row>number_of_reviews</th><td>74          </td><td>3818        </td><td> 22.223415  </td><td>  37.7308923</td><td>   9.00     </td><td> 13.903796  </td><td> 13.343400  </td><td> 0.00       </td><td>   474.00   </td><td>  474.00    </td><td> 4.07720506 </td><td>  25.8586152</td><td> 0.610631373</td></tr>\n",
       "\t<tr><th scope=row>first_review*</th><td>75          </td><td>3818        </td><td>551.679937  </td><td> 335.9662422</td><td> 654.00     </td><td>571.076571  </td><td>321.724200  </td><td> 1.00       </td><td>   985.00   </td><td>  984.00    </td><td>-0.53821517 </td><td>  -1.1873497</td><td> 5.437229691</td></tr>\n",
       "\t<tr><th scope=row>last_review*</th><td>76          </td><td>3818        </td><td>216.498952  </td><td> 112.1088870</td><td> 261.00     </td><td>230.505563  </td><td> 75.612600  </td><td> 1.00       </td><td>   322.00   </td><td>  321.00    </td><td>-1.04462773 </td><td>  -0.3902355</td><td> 1.814354219</td></tr>\n",
       "\t<tr><th scope=row>review_scores_rating</th><td>77          </td><td>3171        </td><td> 94.539262  </td><td>   6.6060832</td><td>  96.00     </td><td> 95.753646  </td><td>  4.447800  </td><td>20.00       </td><td>   100.00   </td><td>   80.00    </td><td>-2.92126743 </td><td>  15.4954855</td><td> 0.117312939</td></tr>\n",
       "\t<tr><th scope=row>review_scores_accuracy</th><td>78          </td><td>3160        </td><td>  9.636392  </td><td>   0.6980312</td><td>  10.00     </td><td>  9.769383  </td><td>  0.000000  </td><td> 2.00       </td><td>    10.00   </td><td>    8.00    </td><td>-3.20078836 </td><td>  18.2864106</td><td> 0.012417417</td></tr>\n",
       "\t<tr><th scope=row>review_scores_cleanliness</th><td>79          </td><td>3165        </td><td>  9.556398  </td><td>   0.7972739</td><td>  10.00     </td><td>  9.728385  </td><td>  0.000000  </td><td> 3.00       </td><td>    10.00   </td><td>    7.00    </td><td>-2.55068505 </td><td>   9.1655465</td><td> 0.014171659</td></tr>\n",
       "\t<tr><th scope=row>review_scores_checkin</th><td>80          </td><td>3160        </td><td>  9.786709  </td><td>   0.5954990</td><td>  10.00     </td><td>  9.920886  </td><td>  0.000000  </td><td> 2.00       </td><td>    10.00   </td><td>    8.00    </td><td>-4.96996064 </td><td>  39.4730258</td><td> 0.010593453</td></tr>\n",
       "\t<tr><th scope=row>review_scores_communication</th><td>81          </td><td>3167        </td><td>  9.809599  </td><td>   0.5682114</td><td>  10.00     </td><td>  9.940434  </td><td>  0.000000  </td><td> 2.00       </td><td>    10.00   </td><td>    8.00    </td><td>-5.62349187 </td><td>  51.7239337</td><td> 0.010096851</td></tr>\n",
       "\t<tr><th scope=row>review_scores_location</th><td>82          </td><td>3163        </td><td>  9.608916  </td><td>   0.6290532</td><td>  10.00     </td><td>  9.713552  </td><td>  0.000000  </td><td> 4.00       </td><td>    10.00   </td><td>    6.00    </td><td>-1.90489470 </td><td>   5.6064653</td><td> 0.011185047</td></tr>\n",
       "\t<tr><th scope=row>review_scores_value</th><td>83          </td><td>3162        </td><td>  9.452245  </td><td>   0.7502586</td><td>  10.00     </td><td>  9.576680  </td><td>  0.000000  </td><td> 2.00       </td><td>    10.00   </td><td>    8.00    </td><td>-2.07024335 </td><td>   8.6894812</td><td> 0.013342281</td></tr>\n",
       "\t<tr><th scope=row>requires_license*</th><td>84          </td><td>3818        </td><td>  1.000000  </td><td>   0.0000000</td><td>   1.00     </td><td>  1.000000  </td><td>  0.000000  </td><td> 1.00       </td><td>     1.00   </td><td>    0.00    </td><td>        NaN </td><td>         NaN</td><td> 0.000000000</td></tr>\n",
       "\t<tr><th scope=row>license*</th><td>85          </td><td>   0        </td><td>       NaN  </td><td>          NA</td><td>     NA     </td><td>       NaN  </td><td>        NA  </td><td>  Inf       </td><td>     -Inf   </td><td>    -Inf    </td><td>         NA </td><td>          NA</td><td>          NA</td></tr>\n",
       "\t<tr><th scope=row>jurisdiction_names*</th><td>86          </td><td>3818        </td><td>  1.000000  </td><td>   0.0000000</td><td>   1.00     </td><td>  1.000000  </td><td>  0.000000  </td><td> 1.00       </td><td>     1.00   </td><td>    0.00    </td><td>        NaN </td><td>         NaN</td><td> 0.000000000</td></tr>\n",
       "\t<tr><th scope=row>instant_bookable*</th><td>87          </td><td>3818        </td><td>  1.154793  </td><td>   0.3617547</td><td>   1.00     </td><td>  1.068717  </td><td>  0.000000  </td><td> 1.00       </td><td>     2.00   </td><td>    1.00    </td><td> 1.90801391 </td><td>   1.6409471</td><td> 0.005854586</td></tr>\n",
       "\t<tr><th scope=row>cancellation_policy*</th><td>88          </td><td>3818        </td><td>  2.069932  </td><td>   0.8170838</td><td>   2.00     </td><td>  2.087369  </td><td>  1.482600  </td><td> 1.00       </td><td>     3.00   </td><td>    2.00    </td><td>-0.12912493 </td><td>  -1.4913630</td><td> 0.013223568</td></tr>\n",
       "\t<tr><th scope=row>require_guest_profile_picture*</th><td>89          </td><td>3818        </td><td>  1.084075  </td><td>   0.2775373</td><td>   1.00     </td><td>  1.000000  </td><td>  0.000000  </td><td> 1.00       </td><td>     2.00   </td><td>    1.00    </td><td> 2.99646711 </td><td>   6.9806437</td><td> 0.004491623</td></tr>\n",
       "\t<tr><th scope=row>require_guest_phone_verification*</th><td>90          </td><td>3818        </td><td>  1.098219  </td><td>   0.2976495</td><td>   1.00     </td><td>  1.000000  </td><td>  0.000000  </td><td> 1.00       </td><td>     2.00   </td><td>    1.00    </td><td> 2.69898558 </td><td>   5.2859078</td><td> 0.004817116</td></tr>\n",
       "\t<tr><th scope=row>calculated_host_listings_count</th><td>91          </td><td>3818        </td><td>  2.946307  </td><td>   5.8930293</td><td>   1.00     </td><td>  1.512107  </td><td>  0.000000  </td><td> 1.00       </td><td>    37.00   </td><td>   36.00    </td><td> 4.48341235 </td><td>  20.3355333</td><td> 0.095371945</td></tr>\n",
       "\t<tr><th scope=row>reviews_per_month</th><td>92          </td><td>3191        </td><td>  2.078919  </td><td>   1.8223478</td><td>   1.54     </td><td>  1.805907  </td><td>  1.512252  </td><td> 0.02       </td><td>    12.15   </td><td>   12.13    </td><td> 1.41870924 </td><td>   2.2123594</td><td> 0.032260260</td></tr>\n",
       "</tbody>\n",
       "</table>\n"
      ],
      "text/latex": [
       "\\begin{tabular}{r|lllllllllllll}\n",
       "  & vars & n & mean & sd & median & trimmed & mad & min & max & range & skew & kurtosis & se\\\\\n",
       "\\hline\n",
       "\tid &  1           & 3818         & 5.550111e+06 & 2.962660e+06 & 6.118244e+06 & 5.667467e+06 & 3.391922e+06 & 3.33500e+03  & 1.034016e+07 & 10336830     & -0.309538606 &  -1.1053159  & 4.794727e+04\\\\\n",
       "\tlisting\\_url* &  2           & 3818         & 1.909500e+03 & 1.102306e+03 & 1.909500e+03 & 1.909500e+03 & 1.415142e+03 & 1.00000e+00  & 3.818000e+03 &     3817     &  0.000000000 &  -1.2009429  & 1.783956e+01\\\\\n",
       "\tscrape\\_id &  3           & 3818         & 2.016010e+13 & 0.000000e+00 & 2.016010e+13 & 2.016010e+13 & 0.000000e+00 & 2.01601e+13  & 2.016010e+13 &        0     &          NaN &         NaN  & 0.000000e+00\\\\\n",
       "\tlast\\_scraped* &  4           & 3818         & 1.000000e+00 & 0.000000e+00 & 1.000000e+00 & 1.000000e+00 & 0.000000e+00 & 1.00000e+00  & 1.000000e+00 &        0     &          NaN &         NaN  & 0.000000e+00\\\\\n",
       "\tname* &  5           & 3818         & 1.894388e+03 & 1.094536e+03 & 1.892500e+03 & 1.893998e+03 & 1.406987e+03 & 1.00000e+00  & 3.792000e+03 &     3791     &  0.002566002 &  -1.2012592  & 1.771382e+01\\\\\n",
       "\tsummary* &  6           & 3818         & 1.661355e+03 & 1.048871e+03 & 1.663500e+03 & 1.658304e+03 & 1.367698e+03 & 1.00000e+00  & 3.479000e+03 &     3478     &  0.012729896 &  -1.2332725  & 1.697477e+01\\\\\n",
       "\tspace* &  7           & 3818         & 1.318509e+03 & 1.000582e+03 & 1.277500e+03 & 1.281699e+03 & 1.372888e+03 & 1.00000e+00  & 3.120000e+03 &     3119     &  0.153621359 &  -1.3057483  & 1.619328e+01\\\\\n",
       "\tdescription* &  8           & 3818         & 1.870322e+03 & 1.080957e+03 & 1.876500e+03 & 1.870531e+03 & 1.394385e+03 & 1.00000e+00  & 3.742000e+03 &     3741     & -0.002999117 &  -1.2052510  & 1.749405e+01\\\\\n",
       "\texperiences\\_offered* &  9           & 3818         & 1.000000e+00 & 0.000000e+00 & 1.000000e+00 & 1.000000e+00 & 0.000000e+00 & 1.00000e+00  & 1.000000e+00 &        0     &          NaN &         NaN  & 0.000000e+00\\\\\n",
       "\tneighborhood\\_overview* & 10           & 3818         & 9.155288e+02 & 8.323198e+02 & 7.985000e+02 & 8.522749e+02 & 1.182373e+03 & 1.00000e+00  & 2.507000e+03 &     2506     &  0.373749651 &  -1.2763043  & 1.347014e+01\\\\\n",
       "\tnotes* & 11           & 3817         & 5.659764e+02 & 6.541537e+02 & 2.400000e+02 & 4.796193e+02 & 3.543414e+02 & 1.00000e+00  & 2.001000e+03 &     2000     &  0.754460050 &  -0.8953953  & 1.058812e+01\\\\\n",
       "\ttransit* & 12           & 3818         & 9.550492e+02 & 8.436538e+02 & 8.440000e+02 & 8.940085e+02 & 1.240195e+03 & 1.00000e+00  & 2.575000e+03 &     2574     &  0.348414843 &  -1.2598409  & 1.365357e+01\\\\\n",
       "\tthumbnail\\_url* & 13           & 3818         & 1.603868e+03 & 1.081454e+03 & 1.590500e+03 & 1.590500e+03 & 1.415142e+03 & 1.00000e+00  & 3.499000e+03 &     3498     &  0.054309555 &  -1.2535767  & 1.750210e+01\\\\\n",
       "\tmedium\\_url* & 14           & 3818         & 1.603868e+03 & 1.081454e+03 & 1.590500e+03 & 1.590500e+03 & 1.415142e+03 & 1.00000e+00  & 3.499000e+03 &     3498     &  0.054309555 &  -1.2535767  & 1.750210e+01\\\\\n",
       "\tpicture\\_url* & 15           & 3818         & 1.909500e+03 & 1.102306e+03 & 1.909500e+03 & 1.909500e+03 & 1.415142e+03 & 1.00000e+00  & 3.818000e+03 &     3817     &  0.000000000 &  -1.2009429  & 1.783956e+01\\\\\n",
       "\txl\\_picture\\_url* & 16           & 3818         & 1.603868e+03 & 1.081454e+03 & 1.590500e+03 & 1.590500e+03 & 1.415142e+03 & 1.00000e+00  & 3.499000e+03 &     3498     &  0.054309555 &  -1.2535767  & 1.750210e+01\\\\\n",
       "\thost\\_id & 17           & 3818         & 1.578556e+07 & 1.458382e+07 & 1.055814e+07 & 1.404456e+07 & 1.362344e+07 & 4.19300e+03  & 5.320861e+07 & 53204417     &  0.804763166 &  -0.5415967  & 2.360224e+05\\\\\n",
       "\thost\\_url* & 18           & 3818         & 1.407671e+03 & 8.077074e+02 & 1.402500e+03 & 1.415268e+03 & 1.061542e+03 & 1.00000e+00  & 2.751000e+03 &     2750     & -0.054610595 &  -1.2309430  & 1.307182e+01\\\\\n",
       "\thost\\_name* & 19           & 3818         & 7.079963e+02 & 4.158208e+02 & 7.010000e+02 & 7.060262e+02 & 5.352186e+02 & 1.00000e+00  & 1.467000e+03 &     1466     &  0.015862655 &  -1.1759807  & 6.729584e+00\\\\\n",
       "\thost\\_since* & 20           & 3818         & 7.187127e+02 & 3.918996e+02 & 7.330000e+02 & 7.258910e+02 & 5.026014e+02 & 1.00000e+00  & 1.381000e+03 &     1380     & -0.118907564 &  -1.1596993  & 6.342448e+00\\\\\n",
       "\thost\\_location* & 21           & 3818         & 9.153405e+01 & 1.270384e+01 & 9.300000e+01 & 9.300000e+01 & 0.000000e+00 & 1.00000e+00  & 1.210000e+02 &      120     & -4.418252037 &  22.9569207  & 2.055971e-01\\\\\n",
       "\thost\\_about* & 22           & 3818         & 8.050464e+02 & 6.725758e+02 & 7.610000e+02 & 7.711113e+02 & 9.977898e+02 & 1.00000e+00  & 2.012000e+03 &     2011     &  0.210376859 &  -1.3882831  & 1.088487e+01\\\\\n",
       "\thost\\_response\\_time* & 23           & 3818         & 4.981928e+00 & 1.115043e+00 & 5.000000e+00 & 5.115838e+00 & 1.482600e+00 & 1.00000e+00  & 6.000000e+00 &        5     & -0.749971664 &  -0.6417063  & 1.804569e-02\\\\\n",
       "\thost\\_response\\_rate* & 24           & 3818         & 1.541697e+01 & 1.850057e+01 & 2.000000e+00 & 1.315281e+01 & 0.000000e+00 & 1.00000e+00  & 4.700000e+01 &       46     &  0.795708991 &  -1.1819095  & 2.994105e-01\\\\\n",
       "\thost\\_acceptance\\_rate* & 25           & 3818         & 3.200629e+00 & 4.050760e-01 & 3.000000e+00 & 3.127618e+00 & 0.000000e+00 & 1.00000e+00  & 4.000000e+00 &        3     &  1.364190786 &   0.5869087  & 6.555693e-03\\\\\n",
       "\thost\\_is\\_superhost* & 26           & 3818         & 2.203248e+00 & 4.037679e-01 & 2.000000e+00 & 2.129908e+00 & 0.000000e+00 & 1.00000e+00  & 3.000000e+00 &        2     &  1.450379382 &   0.1820560  & 6.534521e-03\\\\\n",
       "\thost\\_thumbnail\\_url* & 27           & 3818         & 1.381509e+03 & 8.046569e+02 & 1.381500e+03 & 1.384781e+03 & 1.048939e+03 & 1.00000e+00  & 2.744000e+03 &     2743     & -0.022756363 &  -1.2159406  & 1.302245e+01\\\\\n",
       "\thost\\_picture\\_url* & 28           & 3818         & 1.381509e+03 & 8.046569e+02 & 1.381500e+03 & 1.384781e+03 & 1.048939e+03 & 1.00000e+00  & 2.744000e+03 &     2743     & -0.022756363 &  -1.2159406  & 1.302245e+01\\\\\n",
       "\thost\\_neighbourhood* & 29           & 3818         & 4.302672e+01 & 3.265849e+01 & 3.400000e+01 & 4.147611e+01 & 4.003020e+01 & 1.00000e+00  & 1.030000e+02 &      102     &  0.279196953 &  -1.3844229  & 5.285403e-01\\\\\n",
       "\thost\\_listings\\_count & 30           & 3816         & 7.157757e+00 & 2.862815e+01 & 1.000000e+00 & 1.906352e+00 & 0.000000e+00 & 1.00000e+00  & 5.020000e+02 &      501     &  9.457103858 & 111.7198117  & 4.634353e-01\\\\\n",
       "\t⋮ & ⋮ & ⋮ & ⋮ & ⋮ & ⋮ & ⋮ & ⋮ & ⋮ & ⋮ & ⋮ & ⋮ & ⋮ & ⋮\\\\\n",
       "\tguests\\_included & 63           & 3818         &   1.672603   &    1.3110396 &    1.00      &   1.376963   &   0.000000   &  0.00        &     15.00    &    15.00     &  2.87597189  &   11.9662085 &  0.021217678\\\\\n",
       "\textra\\_people* & 64           & 3818         &   7.264274   &    9.9432809 &    1.00      &   5.019306   &   0.000000   &  1.00        &     45.00    &    44.00     &  1.66235946  &    1.9076036 &  0.160920639\\\\\n",
       "\tminimum\\_nights & 65           & 3818         &   2.369303   &   16.3059021 &    2.00      &   1.730039   &   1.482600   &  1.00        &   1000.00    &   999.00     & 60.00277652  & 3667.0082929 &  0.263892391\\\\\n",
       "\tmaximum\\_nights & 66           & 3818         & 780.447617   & 1683.5890075 & 1125.00      & 801.239202   &   0.000000   &  1.00        & 100000.00    & 99999.00     & 53.58832794  & 3156.4437424 & 27.246964095\\\\\n",
       "\tcalendar\\_updated* & 67           & 3818         &  21.882137   &    8.6575607 &   20.00      &  21.950262   &  11.860800   &  1.00        &     34.00    &    33.00     &  0.06547223  &   -1.3068786 &  0.140112725\\\\\n",
       "\thas\\_availability* & 68           & 3818         &   1.000000   &    0.0000000 &    1.00      &   1.000000   &   0.000000   &  1.00        &      1.00    &     0.00     &         NaN  &          NaN &  0.000000000\\\\\n",
       "\tavailability\\_30 & 69           & 3818         &  16.786276   &   12.1736368 &   20.00      &  17.231675   &  14.826000   &  0.00        &     30.00    &    30.00     & -0.30563850  &   -1.5706782 &  0.197016400\\\\\n",
       "\tavailability\\_60 & 70           & 3818         &  36.814825   &   23.3375414 &   46.00      &  38.514071   &  20.756400   &  0.00        &     60.00    &    60.00     & -0.55720215  &   -1.3005051 &  0.377691438\\\\\n",
       "\tavailability\\_90 & 71           & 3818         &  58.082504   &   34.0638454 &   73.00      &  61.344568   &  25.204200   &  0.00        &     90.00    &    90.00     & -0.71865306  &   -1.0795353 &  0.551284410\\\\\n",
       "\tavailability\\_365 & 72           & 3818         & 244.772656   &  126.7725263 &  308.00      & 258.199607   &  84.508200   &  0.00        &    365.00    &   365.00     & -0.60843800  &   -1.1972531 &  2.051668464\\\\\n",
       "\tcalendar\\_last\\_scraped* & 73           & 3818         &   1.000000   &    0.0000000 &    1.00      &   1.000000   &   0.000000   &  1.00        &      1.00    &     0.00     &         NaN  &          NaN &  0.000000000\\\\\n",
       "\tnumber\\_of\\_reviews & 74           & 3818         &  22.223415   &   37.7308923 &    9.00      &  13.903796   &  13.343400   &  0.00        &    474.00    &   474.00     &  4.07720506  &   25.8586152 &  0.610631373\\\\\n",
       "\tfirst\\_review* & 75           & 3818         & 551.679937   &  335.9662422 &  654.00      & 571.076571   & 321.724200   &  1.00        &    985.00    &   984.00     & -0.53821517  &   -1.1873497 &  5.437229691\\\\\n",
       "\tlast\\_review* & 76           & 3818         & 216.498952   &  112.1088870 &  261.00      & 230.505563   &  75.612600   &  1.00        &    322.00    &   321.00     & -1.04462773  &   -0.3902355 &  1.814354219\\\\\n",
       "\treview\\_scores\\_rating & 77           & 3171         &  94.539262   &    6.6060832 &   96.00      &  95.753646   &   4.447800   & 20.00        &    100.00    &    80.00     & -2.92126743  &   15.4954855 &  0.117312939\\\\\n",
       "\treview\\_scores\\_accuracy & 78           & 3160         &   9.636392   &    0.6980312 &   10.00      &   9.769383   &   0.000000   &  2.00        &     10.00    &     8.00     & -3.20078836  &   18.2864106 &  0.012417417\\\\\n",
       "\treview\\_scores\\_cleanliness & 79           & 3165         &   9.556398   &    0.7972739 &   10.00      &   9.728385   &   0.000000   &  3.00        &     10.00    &     7.00     & -2.55068505  &    9.1655465 &  0.014171659\\\\\n",
       "\treview\\_scores\\_checkin & 80           & 3160         &   9.786709   &    0.5954990 &   10.00      &   9.920886   &   0.000000   &  2.00        &     10.00    &     8.00     & -4.96996064  &   39.4730258 &  0.010593453\\\\\n",
       "\treview\\_scores\\_communication & 81           & 3167         &   9.809599   &    0.5682114 &   10.00      &   9.940434   &   0.000000   &  2.00        &     10.00    &     8.00     & -5.62349187  &   51.7239337 &  0.010096851\\\\\n",
       "\treview\\_scores\\_location & 82           & 3163         &   9.608916   &    0.6290532 &   10.00      &   9.713552   &   0.000000   &  4.00        &     10.00    &     6.00     & -1.90489470  &    5.6064653 &  0.011185047\\\\\n",
       "\treview\\_scores\\_value & 83           & 3162         &   9.452245   &    0.7502586 &   10.00      &   9.576680   &   0.000000   &  2.00        &     10.00    &     8.00     & -2.07024335  &    8.6894812 &  0.013342281\\\\\n",
       "\trequires\\_license* & 84           & 3818         &   1.000000   &    0.0000000 &    1.00      &   1.000000   &   0.000000   &  1.00        &      1.00    &     0.00     &         NaN  &          NaN &  0.000000000\\\\\n",
       "\tlicense* & 85           &    0         &        NaN   &           NA &      NA      &        NaN   &         NA   &   Inf        &      -Inf    &     -Inf     &          NA  &           NA &           NA\\\\\n",
       "\tjurisdiction\\_names* & 86           & 3818         &   1.000000   &    0.0000000 &    1.00      &   1.000000   &   0.000000   &  1.00        &      1.00    &     0.00     &         NaN  &          NaN &  0.000000000\\\\\n",
       "\tinstant\\_bookable* & 87           & 3818         &   1.154793   &    0.3617547 &    1.00      &   1.068717   &   0.000000   &  1.00        &      2.00    &     1.00     &  1.90801391  &    1.6409471 &  0.005854586\\\\\n",
       "\tcancellation\\_policy* & 88           & 3818         &   2.069932   &    0.8170838 &    2.00      &   2.087369   &   1.482600   &  1.00        &      3.00    &     2.00     & -0.12912493  &   -1.4913630 &  0.013223568\\\\\n",
       "\trequire\\_guest\\_profile\\_picture* & 89           & 3818         &   1.084075   &    0.2775373 &    1.00      &   1.000000   &   0.000000   &  1.00        &      2.00    &     1.00     &  2.99646711  &    6.9806437 &  0.004491623\\\\\n",
       "\trequire\\_guest\\_phone\\_verification* & 90           & 3818         &   1.098219   &    0.2976495 &    1.00      &   1.000000   &   0.000000   &  1.00        &      2.00    &     1.00     &  2.69898558  &    5.2859078 &  0.004817116\\\\\n",
       "\tcalculated\\_host\\_listings\\_count & 91           & 3818         &   2.946307   &    5.8930293 &    1.00      &   1.512107   &   0.000000   &  1.00        &     37.00    &    36.00     &  4.48341235  &   20.3355333 &  0.095371945\\\\\n",
       "\treviews\\_per\\_month & 92           & 3191         &   2.078919   &    1.8223478 &    1.54      &   1.805907   &   1.512252   &  0.02        &     12.15    &    12.13     &  1.41870924  &    2.2123594 &  0.032260260\\\\\n",
       "\\end{tabular}\n"
      ],
      "text/markdown": [
       "\n",
       "| <!--/--> | vars | n | mean | sd | median | trimmed | mad | min | max | range | skew | kurtosis | se | \n",
       "|---|---|---|---|---|---|---|---|---|---|---|---|---|---|---|---|---|---|---|---|---|---|---|---|---|---|---|---|---|---|---|---|---|---|---|---|---|---|---|---|---|---|---|---|---|---|---|---|---|---|---|---|---|---|---|---|---|---|---|---|---|\n",
       "| id |  1           | 3818         | 5.550111e+06 | 2.962660e+06 | 6.118244e+06 | 5.667467e+06 | 3.391922e+06 | 3.33500e+03  | 1.034016e+07 | 10336830     | -0.309538606 |  -1.1053159  | 4.794727e+04 | \n",
       "| listing_url* |  2           | 3818         | 1.909500e+03 | 1.102306e+03 | 1.909500e+03 | 1.909500e+03 | 1.415142e+03 | 1.00000e+00  | 3.818000e+03 |     3817     |  0.000000000 |  -1.2009429  | 1.783956e+01 | \n",
       "| scrape_id |  3           | 3818         | 2.016010e+13 | 0.000000e+00 | 2.016010e+13 | 2.016010e+13 | 0.000000e+00 | 2.01601e+13  | 2.016010e+13 |        0     |          NaN |         NaN  | 0.000000e+00 | \n",
       "| last_scraped* |  4           | 3818         | 1.000000e+00 | 0.000000e+00 | 1.000000e+00 | 1.000000e+00 | 0.000000e+00 | 1.00000e+00  | 1.000000e+00 |        0     |          NaN |         NaN  | 0.000000e+00 | \n",
       "| name* |  5           | 3818         | 1.894388e+03 | 1.094536e+03 | 1.892500e+03 | 1.893998e+03 | 1.406987e+03 | 1.00000e+00  | 3.792000e+03 |     3791     |  0.002566002 |  -1.2012592  | 1.771382e+01 | \n",
       "| summary* |  6           | 3818         | 1.661355e+03 | 1.048871e+03 | 1.663500e+03 | 1.658304e+03 | 1.367698e+03 | 1.00000e+00  | 3.479000e+03 |     3478     |  0.012729896 |  -1.2332725  | 1.697477e+01 | \n",
       "| space* |  7           | 3818         | 1.318509e+03 | 1.000582e+03 | 1.277500e+03 | 1.281699e+03 | 1.372888e+03 | 1.00000e+00  | 3.120000e+03 |     3119     |  0.153621359 |  -1.3057483  | 1.619328e+01 | \n",
       "| description* |  8           | 3818         | 1.870322e+03 | 1.080957e+03 | 1.876500e+03 | 1.870531e+03 | 1.394385e+03 | 1.00000e+00  | 3.742000e+03 |     3741     | -0.002999117 |  -1.2052510  | 1.749405e+01 | \n",
       "| experiences_offered* |  9           | 3818         | 1.000000e+00 | 0.000000e+00 | 1.000000e+00 | 1.000000e+00 | 0.000000e+00 | 1.00000e+00  | 1.000000e+00 |        0     |          NaN |         NaN  | 0.000000e+00 | \n",
       "| neighborhood_overview* | 10           | 3818         | 9.155288e+02 | 8.323198e+02 | 7.985000e+02 | 8.522749e+02 | 1.182373e+03 | 1.00000e+00  | 2.507000e+03 |     2506     |  0.373749651 |  -1.2763043  | 1.347014e+01 | \n",
       "| notes* | 11           | 3817         | 5.659764e+02 | 6.541537e+02 | 2.400000e+02 | 4.796193e+02 | 3.543414e+02 | 1.00000e+00  | 2.001000e+03 |     2000     |  0.754460050 |  -0.8953953  | 1.058812e+01 | \n",
       "| transit* | 12           | 3818         | 9.550492e+02 | 8.436538e+02 | 8.440000e+02 | 8.940085e+02 | 1.240195e+03 | 1.00000e+00  | 2.575000e+03 |     2574     |  0.348414843 |  -1.2598409  | 1.365357e+01 | \n",
       "| thumbnail_url* | 13           | 3818         | 1.603868e+03 | 1.081454e+03 | 1.590500e+03 | 1.590500e+03 | 1.415142e+03 | 1.00000e+00  | 3.499000e+03 |     3498     |  0.054309555 |  -1.2535767  | 1.750210e+01 | \n",
       "| medium_url* | 14           | 3818         | 1.603868e+03 | 1.081454e+03 | 1.590500e+03 | 1.590500e+03 | 1.415142e+03 | 1.00000e+00  | 3.499000e+03 |     3498     |  0.054309555 |  -1.2535767  | 1.750210e+01 | \n",
       "| picture_url* | 15           | 3818         | 1.909500e+03 | 1.102306e+03 | 1.909500e+03 | 1.909500e+03 | 1.415142e+03 | 1.00000e+00  | 3.818000e+03 |     3817     |  0.000000000 |  -1.2009429  | 1.783956e+01 | \n",
       "| xl_picture_url* | 16           | 3818         | 1.603868e+03 | 1.081454e+03 | 1.590500e+03 | 1.590500e+03 | 1.415142e+03 | 1.00000e+00  | 3.499000e+03 |     3498     |  0.054309555 |  -1.2535767  | 1.750210e+01 | \n",
       "| host_id | 17           | 3818         | 1.578556e+07 | 1.458382e+07 | 1.055814e+07 | 1.404456e+07 | 1.362344e+07 | 4.19300e+03  | 5.320861e+07 | 53204417     |  0.804763166 |  -0.5415967  | 2.360224e+05 | \n",
       "| host_url* | 18           | 3818         | 1.407671e+03 | 8.077074e+02 | 1.402500e+03 | 1.415268e+03 | 1.061542e+03 | 1.00000e+00  | 2.751000e+03 |     2750     | -0.054610595 |  -1.2309430  | 1.307182e+01 | \n",
       "| host_name* | 19           | 3818         | 7.079963e+02 | 4.158208e+02 | 7.010000e+02 | 7.060262e+02 | 5.352186e+02 | 1.00000e+00  | 1.467000e+03 |     1466     |  0.015862655 |  -1.1759807  | 6.729584e+00 | \n",
       "| host_since* | 20           | 3818         | 7.187127e+02 | 3.918996e+02 | 7.330000e+02 | 7.258910e+02 | 5.026014e+02 | 1.00000e+00  | 1.381000e+03 |     1380     | -0.118907564 |  -1.1596993  | 6.342448e+00 | \n",
       "| host_location* | 21           | 3818         | 9.153405e+01 | 1.270384e+01 | 9.300000e+01 | 9.300000e+01 | 0.000000e+00 | 1.00000e+00  | 1.210000e+02 |      120     | -4.418252037 |  22.9569207  | 2.055971e-01 | \n",
       "| host_about* | 22           | 3818         | 8.050464e+02 | 6.725758e+02 | 7.610000e+02 | 7.711113e+02 | 9.977898e+02 | 1.00000e+00  | 2.012000e+03 |     2011     |  0.210376859 |  -1.3882831  | 1.088487e+01 | \n",
       "| host_response_time* | 23           | 3818         | 4.981928e+00 | 1.115043e+00 | 5.000000e+00 | 5.115838e+00 | 1.482600e+00 | 1.00000e+00  | 6.000000e+00 |        5     | -0.749971664 |  -0.6417063  | 1.804569e-02 | \n",
       "| host_response_rate* | 24           | 3818         | 1.541697e+01 | 1.850057e+01 | 2.000000e+00 | 1.315281e+01 | 0.000000e+00 | 1.00000e+00  | 4.700000e+01 |       46     |  0.795708991 |  -1.1819095  | 2.994105e-01 | \n",
       "| host_acceptance_rate* | 25           | 3818         | 3.200629e+00 | 4.050760e-01 | 3.000000e+00 | 3.127618e+00 | 0.000000e+00 | 1.00000e+00  | 4.000000e+00 |        3     |  1.364190786 |   0.5869087  | 6.555693e-03 | \n",
       "| host_is_superhost* | 26           | 3818         | 2.203248e+00 | 4.037679e-01 | 2.000000e+00 | 2.129908e+00 | 0.000000e+00 | 1.00000e+00  | 3.000000e+00 |        2     |  1.450379382 |   0.1820560  | 6.534521e-03 | \n",
       "| host_thumbnail_url* | 27           | 3818         | 1.381509e+03 | 8.046569e+02 | 1.381500e+03 | 1.384781e+03 | 1.048939e+03 | 1.00000e+00  | 2.744000e+03 |     2743     | -0.022756363 |  -1.2159406  | 1.302245e+01 | \n",
       "| host_picture_url* | 28           | 3818         | 1.381509e+03 | 8.046569e+02 | 1.381500e+03 | 1.384781e+03 | 1.048939e+03 | 1.00000e+00  | 2.744000e+03 |     2743     | -0.022756363 |  -1.2159406  | 1.302245e+01 | \n",
       "| host_neighbourhood* | 29           | 3818         | 4.302672e+01 | 3.265849e+01 | 3.400000e+01 | 4.147611e+01 | 4.003020e+01 | 1.00000e+00  | 1.030000e+02 |      102     |  0.279196953 |  -1.3844229  | 5.285403e-01 | \n",
       "| host_listings_count | 30           | 3816         | 7.157757e+00 | 2.862815e+01 | 1.000000e+00 | 1.906352e+00 | 0.000000e+00 | 1.00000e+00  | 5.020000e+02 |      501     |  9.457103858 | 111.7198117  | 4.634353e-01 | \n",
       "| ⋮ | ⋮ | ⋮ | ⋮ | ⋮ | ⋮ | ⋮ | ⋮ | ⋮ | ⋮ | ⋮ | ⋮ | ⋮ | ⋮ | \n",
       "| guests_included | 63           | 3818         |   1.672603   |    1.3110396 |    1.00      |   1.376963   |   0.000000   |  0.00        |     15.00    |    15.00     |  2.87597189  |   11.9662085 |  0.021217678 | \n",
       "| extra_people* | 64           | 3818         |   7.264274   |    9.9432809 |    1.00      |   5.019306   |   0.000000   |  1.00        |     45.00    |    44.00     |  1.66235946  |    1.9076036 |  0.160920639 | \n",
       "| minimum_nights | 65           | 3818         |   2.369303   |   16.3059021 |    2.00      |   1.730039   |   1.482600   |  1.00        |   1000.00    |   999.00     | 60.00277652  | 3667.0082929 |  0.263892391 | \n",
       "| maximum_nights | 66           | 3818         | 780.447617   | 1683.5890075 | 1125.00      | 801.239202   |   0.000000   |  1.00        | 100000.00    | 99999.00     | 53.58832794  | 3156.4437424 | 27.246964095 | \n",
       "| calendar_updated* | 67           | 3818         |  21.882137   |    8.6575607 |   20.00      |  21.950262   |  11.860800   |  1.00        |     34.00    |    33.00     |  0.06547223  |   -1.3068786 |  0.140112725 | \n",
       "| has_availability* | 68           | 3818         |   1.000000   |    0.0000000 |    1.00      |   1.000000   |   0.000000   |  1.00        |      1.00    |     0.00     |         NaN  |          NaN |  0.000000000 | \n",
       "| availability_30 | 69           | 3818         |  16.786276   |   12.1736368 |   20.00      |  17.231675   |  14.826000   |  0.00        |     30.00    |    30.00     | -0.30563850  |   -1.5706782 |  0.197016400 | \n",
       "| availability_60 | 70           | 3818         |  36.814825   |   23.3375414 |   46.00      |  38.514071   |  20.756400   |  0.00        |     60.00    |    60.00     | -0.55720215  |   -1.3005051 |  0.377691438 | \n",
       "| availability_90 | 71           | 3818         |  58.082504   |   34.0638454 |   73.00      |  61.344568   |  25.204200   |  0.00        |     90.00    |    90.00     | -0.71865306  |   -1.0795353 |  0.551284410 | \n",
       "| availability_365 | 72           | 3818         | 244.772656   |  126.7725263 |  308.00      | 258.199607   |  84.508200   |  0.00        |    365.00    |   365.00     | -0.60843800  |   -1.1972531 |  2.051668464 | \n",
       "| calendar_last_scraped* | 73           | 3818         |   1.000000   |    0.0000000 |    1.00      |   1.000000   |   0.000000   |  1.00        |      1.00    |     0.00     |         NaN  |          NaN |  0.000000000 | \n",
       "| number_of_reviews | 74           | 3818         |  22.223415   |   37.7308923 |    9.00      |  13.903796   |  13.343400   |  0.00        |    474.00    |   474.00     |  4.07720506  |   25.8586152 |  0.610631373 | \n",
       "| first_review* | 75           | 3818         | 551.679937   |  335.9662422 |  654.00      | 571.076571   | 321.724200   |  1.00        |    985.00    |   984.00     | -0.53821517  |   -1.1873497 |  5.437229691 | \n",
       "| last_review* | 76           | 3818         | 216.498952   |  112.1088870 |  261.00      | 230.505563   |  75.612600   |  1.00        |    322.00    |   321.00     | -1.04462773  |   -0.3902355 |  1.814354219 | \n",
       "| review_scores_rating | 77           | 3171         |  94.539262   |    6.6060832 |   96.00      |  95.753646   |   4.447800   | 20.00        |    100.00    |    80.00     | -2.92126743  |   15.4954855 |  0.117312939 | \n",
       "| review_scores_accuracy | 78           | 3160         |   9.636392   |    0.6980312 |   10.00      |   9.769383   |   0.000000   |  2.00        |     10.00    |     8.00     | -3.20078836  |   18.2864106 |  0.012417417 | \n",
       "| review_scores_cleanliness | 79           | 3165         |   9.556398   |    0.7972739 |   10.00      |   9.728385   |   0.000000   |  3.00        |     10.00    |     7.00     | -2.55068505  |    9.1655465 |  0.014171659 | \n",
       "| review_scores_checkin | 80           | 3160         |   9.786709   |    0.5954990 |   10.00      |   9.920886   |   0.000000   |  2.00        |     10.00    |     8.00     | -4.96996064  |   39.4730258 |  0.010593453 | \n",
       "| review_scores_communication | 81           | 3167         |   9.809599   |    0.5682114 |   10.00      |   9.940434   |   0.000000   |  2.00        |     10.00    |     8.00     | -5.62349187  |   51.7239337 |  0.010096851 | \n",
       "| review_scores_location | 82           | 3163         |   9.608916   |    0.6290532 |   10.00      |   9.713552   |   0.000000   |  4.00        |     10.00    |     6.00     | -1.90489470  |    5.6064653 |  0.011185047 | \n",
       "| review_scores_value | 83           | 3162         |   9.452245   |    0.7502586 |   10.00      |   9.576680   |   0.000000   |  2.00        |     10.00    |     8.00     | -2.07024335  |    8.6894812 |  0.013342281 | \n",
       "| requires_license* | 84           | 3818         |   1.000000   |    0.0000000 |    1.00      |   1.000000   |   0.000000   |  1.00        |      1.00    |     0.00     |         NaN  |          NaN |  0.000000000 | \n",
       "| license* | 85           |    0         |        NaN   |           NA |      NA      |        NaN   |         NA   |   Inf        |      -Inf    |     -Inf     |          NA  |           NA |           NA | \n",
       "| jurisdiction_names* | 86           | 3818         |   1.000000   |    0.0000000 |    1.00      |   1.000000   |   0.000000   |  1.00        |      1.00    |     0.00     |         NaN  |          NaN |  0.000000000 | \n",
       "| instant_bookable* | 87           | 3818         |   1.154793   |    0.3617547 |    1.00      |   1.068717   |   0.000000   |  1.00        |      2.00    |     1.00     |  1.90801391  |    1.6409471 |  0.005854586 | \n",
       "| cancellation_policy* | 88           | 3818         |   2.069932   |    0.8170838 |    2.00      |   2.087369   |   1.482600   |  1.00        |      3.00    |     2.00     | -0.12912493  |   -1.4913630 |  0.013223568 | \n",
       "| require_guest_profile_picture* | 89           | 3818         |   1.084075   |    0.2775373 |    1.00      |   1.000000   |   0.000000   |  1.00        |      2.00    |     1.00     |  2.99646711  |    6.9806437 |  0.004491623 | \n",
       "| require_guest_phone_verification* | 90           | 3818         |   1.098219   |    0.2976495 |    1.00      |   1.000000   |   0.000000   |  1.00        |      2.00    |     1.00     |  2.69898558  |    5.2859078 |  0.004817116 | \n",
       "| calculated_host_listings_count | 91           | 3818         |   2.946307   |    5.8930293 |    1.00      |   1.512107   |   0.000000   |  1.00        |     37.00    |    36.00     |  4.48341235  |   20.3355333 |  0.095371945 | \n",
       "| reviews_per_month | 92           | 3191         |   2.078919   |    1.8223478 |    1.54      |   1.805907   |   1.512252   |  0.02        |     12.15    |    12.13     |  1.41870924  |    2.2123594 |  0.032260260 | \n",
       "\n",
       "\n"
      ],
      "text/plain": [
       "                                  vars n    mean         sd          \n",
       "id                                 1   3818 5.550111e+06 2.962660e+06\n",
       "listing_url*                       2   3818 1.909500e+03 1.102306e+03\n",
       "scrape_id                          3   3818 2.016010e+13 0.000000e+00\n",
       "last_scraped*                      4   3818 1.000000e+00 0.000000e+00\n",
       "name*                              5   3818 1.894388e+03 1.094536e+03\n",
       "summary*                           6   3818 1.661355e+03 1.048871e+03\n",
       "space*                             7   3818 1.318509e+03 1.000582e+03\n",
       "description*                       8   3818 1.870322e+03 1.080957e+03\n",
       "experiences_offered*               9   3818 1.000000e+00 0.000000e+00\n",
       "neighborhood_overview*            10   3818 9.155288e+02 8.323198e+02\n",
       "notes*                            11   3817 5.659764e+02 6.541537e+02\n",
       "transit*                          12   3818 9.550492e+02 8.436538e+02\n",
       "thumbnail_url*                    13   3818 1.603868e+03 1.081454e+03\n",
       "medium_url*                       14   3818 1.603868e+03 1.081454e+03\n",
       "picture_url*                      15   3818 1.909500e+03 1.102306e+03\n",
       "xl_picture_url*                   16   3818 1.603868e+03 1.081454e+03\n",
       "host_id                           17   3818 1.578556e+07 1.458382e+07\n",
       "host_url*                         18   3818 1.407671e+03 8.077074e+02\n",
       "host_name*                        19   3818 7.079963e+02 4.158208e+02\n",
       "host_since*                       20   3818 7.187127e+02 3.918996e+02\n",
       "host_location*                    21   3818 9.153405e+01 1.270384e+01\n",
       "host_about*                       22   3818 8.050464e+02 6.725758e+02\n",
       "host_response_time*               23   3818 4.981928e+00 1.115043e+00\n",
       "host_response_rate*               24   3818 1.541697e+01 1.850057e+01\n",
       "host_acceptance_rate*             25   3818 3.200629e+00 4.050760e-01\n",
       "host_is_superhost*                26   3818 2.203248e+00 4.037679e-01\n",
       "host_thumbnail_url*               27   3818 1.381509e+03 8.046569e+02\n",
       "host_picture_url*                 28   3818 1.381509e+03 8.046569e+02\n",
       "host_neighbourhood*               29   3818 4.302672e+01 3.265849e+01\n",
       "host_listings_count               30   3816 7.157757e+00 2.862815e+01\n",
       "⋮                                 ⋮    ⋮    ⋮            ⋮           \n",
       "guests_included                   63   3818   1.672603      1.3110396\n",
       "extra_people*                     64   3818   7.264274      9.9432809\n",
       "minimum_nights                    65   3818   2.369303     16.3059021\n",
       "maximum_nights                    66   3818 780.447617   1683.5890075\n",
       "calendar_updated*                 67   3818  21.882137      8.6575607\n",
       "has_availability*                 68   3818   1.000000      0.0000000\n",
       "availability_30                   69   3818  16.786276     12.1736368\n",
       "availability_60                   70   3818  36.814825     23.3375414\n",
       "availability_90                   71   3818  58.082504     34.0638454\n",
       "availability_365                  72   3818 244.772656    126.7725263\n",
       "calendar_last_scraped*            73   3818   1.000000      0.0000000\n",
       "number_of_reviews                 74   3818  22.223415     37.7308923\n",
       "first_review*                     75   3818 551.679937    335.9662422\n",
       "last_review*                      76   3818 216.498952    112.1088870\n",
       "review_scores_rating              77   3171  94.539262      6.6060832\n",
       "review_scores_accuracy            78   3160   9.636392      0.6980312\n",
       "review_scores_cleanliness         79   3165   9.556398      0.7972739\n",
       "review_scores_checkin             80   3160   9.786709      0.5954990\n",
       "review_scores_communication       81   3167   9.809599      0.5682114\n",
       "review_scores_location            82   3163   9.608916      0.6290532\n",
       "review_scores_value               83   3162   9.452245      0.7502586\n",
       "requires_license*                 84   3818   1.000000      0.0000000\n",
       "license*                          85      0        NaN             NA\n",
       "jurisdiction_names*               86   3818   1.000000      0.0000000\n",
       "instant_bookable*                 87   3818   1.154793      0.3617547\n",
       "cancellation_policy*              88   3818   2.069932      0.8170838\n",
       "require_guest_profile_picture*    89   3818   1.084075      0.2775373\n",
       "require_guest_phone_verification* 90   3818   1.098219      0.2976495\n",
       "calculated_host_listings_count    91   3818   2.946307      5.8930293\n",
       "reviews_per_month                 92   3191   2.078919      1.8223478\n",
       "                                  median       trimmed      mad         \n",
       "id                                6.118244e+06 5.667467e+06 3.391922e+06\n",
       "listing_url*                      1.909500e+03 1.909500e+03 1.415142e+03\n",
       "scrape_id                         2.016010e+13 2.016010e+13 0.000000e+00\n",
       "last_scraped*                     1.000000e+00 1.000000e+00 0.000000e+00\n",
       "name*                             1.892500e+03 1.893998e+03 1.406987e+03\n",
       "summary*                          1.663500e+03 1.658304e+03 1.367698e+03\n",
       "space*                            1.277500e+03 1.281699e+03 1.372888e+03\n",
       "description*                      1.876500e+03 1.870531e+03 1.394385e+03\n",
       "experiences_offered*              1.000000e+00 1.000000e+00 0.000000e+00\n",
       "neighborhood_overview*            7.985000e+02 8.522749e+02 1.182373e+03\n",
       "notes*                            2.400000e+02 4.796193e+02 3.543414e+02\n",
       "transit*                          8.440000e+02 8.940085e+02 1.240195e+03\n",
       "thumbnail_url*                    1.590500e+03 1.590500e+03 1.415142e+03\n",
       "medium_url*                       1.590500e+03 1.590500e+03 1.415142e+03\n",
       "picture_url*                      1.909500e+03 1.909500e+03 1.415142e+03\n",
       "xl_picture_url*                   1.590500e+03 1.590500e+03 1.415142e+03\n",
       "host_id                           1.055814e+07 1.404456e+07 1.362344e+07\n",
       "host_url*                         1.402500e+03 1.415268e+03 1.061542e+03\n",
       "host_name*                        7.010000e+02 7.060262e+02 5.352186e+02\n",
       "host_since*                       7.330000e+02 7.258910e+02 5.026014e+02\n",
       "host_location*                    9.300000e+01 9.300000e+01 0.000000e+00\n",
       "host_about*                       7.610000e+02 7.711113e+02 9.977898e+02\n",
       "host_response_time*               5.000000e+00 5.115838e+00 1.482600e+00\n",
       "host_response_rate*               2.000000e+00 1.315281e+01 0.000000e+00\n",
       "host_acceptance_rate*             3.000000e+00 3.127618e+00 0.000000e+00\n",
       "host_is_superhost*                2.000000e+00 2.129908e+00 0.000000e+00\n",
       "host_thumbnail_url*               1.381500e+03 1.384781e+03 1.048939e+03\n",
       "host_picture_url*                 1.381500e+03 1.384781e+03 1.048939e+03\n",
       "host_neighbourhood*               3.400000e+01 4.147611e+01 4.003020e+01\n",
       "host_listings_count               1.000000e+00 1.906352e+00 0.000000e+00\n",
       "⋮                                 ⋮            ⋮            ⋮           \n",
       "guests_included                      1.00        1.376963     0.000000  \n",
       "extra_people*                        1.00        5.019306     0.000000  \n",
       "minimum_nights                       2.00        1.730039     1.482600  \n",
       "maximum_nights                    1125.00      801.239202     0.000000  \n",
       "calendar_updated*                   20.00       21.950262    11.860800  \n",
       "has_availability*                    1.00        1.000000     0.000000  \n",
       "availability_30                     20.00       17.231675    14.826000  \n",
       "availability_60                     46.00       38.514071    20.756400  \n",
       "availability_90                     73.00       61.344568    25.204200  \n",
       "availability_365                   308.00      258.199607    84.508200  \n",
       "calendar_last_scraped*               1.00        1.000000     0.000000  \n",
       "number_of_reviews                    9.00       13.903796    13.343400  \n",
       "first_review*                      654.00      571.076571   321.724200  \n",
       "last_review*                       261.00      230.505563    75.612600  \n",
       "review_scores_rating                96.00       95.753646     4.447800  \n",
       "review_scores_accuracy              10.00        9.769383     0.000000  \n",
       "review_scores_cleanliness           10.00        9.728385     0.000000  \n",
       "review_scores_checkin               10.00        9.920886     0.000000  \n",
       "review_scores_communication         10.00        9.940434     0.000000  \n",
       "review_scores_location              10.00        9.713552     0.000000  \n",
       "review_scores_value                 10.00        9.576680     0.000000  \n",
       "requires_license*                    1.00        1.000000     0.000000  \n",
       "license*                               NA             NaN           NA  \n",
       "jurisdiction_names*                  1.00        1.000000     0.000000  \n",
       "instant_bookable*                    1.00        1.068717     0.000000  \n",
       "cancellation_policy*                 2.00        2.087369     1.482600  \n",
       "require_guest_profile_picture*       1.00        1.000000     0.000000  \n",
       "require_guest_phone_verification*    1.00        1.000000     0.000000  \n",
       "calculated_host_listings_count       1.00        1.512107     0.000000  \n",
       "reviews_per_month                    1.54        1.805907     1.512252  \n",
       "                                  min         max          range   \n",
       "id                                3.33500e+03 1.034016e+07 10336830\n",
       "listing_url*                      1.00000e+00 3.818000e+03     3817\n",
       "scrape_id                         2.01601e+13 2.016010e+13        0\n",
       "last_scraped*                     1.00000e+00 1.000000e+00        0\n",
       "name*                             1.00000e+00 3.792000e+03     3791\n",
       "summary*                          1.00000e+00 3.479000e+03     3478\n",
       "space*                            1.00000e+00 3.120000e+03     3119\n",
       "description*                      1.00000e+00 3.742000e+03     3741\n",
       "experiences_offered*              1.00000e+00 1.000000e+00        0\n",
       "neighborhood_overview*            1.00000e+00 2.507000e+03     2506\n",
       "notes*                            1.00000e+00 2.001000e+03     2000\n",
       "transit*                          1.00000e+00 2.575000e+03     2574\n",
       "thumbnail_url*                    1.00000e+00 3.499000e+03     3498\n",
       "medium_url*                       1.00000e+00 3.499000e+03     3498\n",
       "picture_url*                      1.00000e+00 3.818000e+03     3817\n",
       "xl_picture_url*                   1.00000e+00 3.499000e+03     3498\n",
       "host_id                           4.19300e+03 5.320861e+07 53204417\n",
       "host_url*                         1.00000e+00 2.751000e+03     2750\n",
       "host_name*                        1.00000e+00 1.467000e+03     1466\n",
       "host_since*                       1.00000e+00 1.381000e+03     1380\n",
       "host_location*                    1.00000e+00 1.210000e+02      120\n",
       "host_about*                       1.00000e+00 2.012000e+03     2011\n",
       "host_response_time*               1.00000e+00 6.000000e+00        5\n",
       "host_response_rate*               1.00000e+00 4.700000e+01       46\n",
       "host_acceptance_rate*             1.00000e+00 4.000000e+00        3\n",
       "host_is_superhost*                1.00000e+00 3.000000e+00        2\n",
       "host_thumbnail_url*               1.00000e+00 2.744000e+03     2743\n",
       "host_picture_url*                 1.00000e+00 2.744000e+03     2743\n",
       "host_neighbourhood*               1.00000e+00 1.030000e+02      102\n",
       "host_listings_count               1.00000e+00 5.020000e+02      501\n",
       "⋮                                 ⋮           ⋮            ⋮       \n",
       "guests_included                    0.00           15.00       15.00\n",
       "extra_people*                      1.00           45.00       44.00\n",
       "minimum_nights                     1.00         1000.00      999.00\n",
       "maximum_nights                     1.00       100000.00    99999.00\n",
       "calendar_updated*                  1.00           34.00       33.00\n",
       "has_availability*                  1.00            1.00        0.00\n",
       "availability_30                    0.00           30.00       30.00\n",
       "availability_60                    0.00           60.00       60.00\n",
       "availability_90                    0.00           90.00       90.00\n",
       "availability_365                   0.00          365.00      365.00\n",
       "calendar_last_scraped*             1.00            1.00        0.00\n",
       "number_of_reviews                  0.00          474.00      474.00\n",
       "first_review*                      1.00          985.00      984.00\n",
       "last_review*                       1.00          322.00      321.00\n",
       "review_scores_rating              20.00          100.00       80.00\n",
       "review_scores_accuracy             2.00           10.00        8.00\n",
       "review_scores_cleanliness          3.00           10.00        7.00\n",
       "review_scores_checkin              2.00           10.00        8.00\n",
       "review_scores_communication        2.00           10.00        8.00\n",
       "review_scores_location             4.00           10.00        6.00\n",
       "review_scores_value                2.00           10.00        8.00\n",
       "requires_license*                  1.00            1.00        0.00\n",
       "license*                            Inf            -Inf        -Inf\n",
       "jurisdiction_names*                1.00            1.00        0.00\n",
       "instant_bookable*                  1.00            2.00        1.00\n",
       "cancellation_policy*               1.00            3.00        2.00\n",
       "require_guest_profile_picture*     1.00            2.00        1.00\n",
       "require_guest_phone_verification*  1.00            2.00        1.00\n",
       "calculated_host_listings_count     1.00           37.00       36.00\n",
       "reviews_per_month                  0.02           12.15       12.13\n",
       "                                  skew         kurtosis     se          \n",
       "id                                -0.309538606  -1.1053159  4.794727e+04\n",
       "listing_url*                       0.000000000  -1.2009429  1.783956e+01\n",
       "scrape_id                                  NaN         NaN  0.000000e+00\n",
       "last_scraped*                              NaN         NaN  0.000000e+00\n",
       "name*                              0.002566002  -1.2012592  1.771382e+01\n",
       "summary*                           0.012729896  -1.2332725  1.697477e+01\n",
       "space*                             0.153621359  -1.3057483  1.619328e+01\n",
       "description*                      -0.002999117  -1.2052510  1.749405e+01\n",
       "experiences_offered*                       NaN         NaN  0.000000e+00\n",
       "neighborhood_overview*             0.373749651  -1.2763043  1.347014e+01\n",
       "notes*                             0.754460050  -0.8953953  1.058812e+01\n",
       "transit*                           0.348414843  -1.2598409  1.365357e+01\n",
       "thumbnail_url*                     0.054309555  -1.2535767  1.750210e+01\n",
       "medium_url*                        0.054309555  -1.2535767  1.750210e+01\n",
       "picture_url*                       0.000000000  -1.2009429  1.783956e+01\n",
       "xl_picture_url*                    0.054309555  -1.2535767  1.750210e+01\n",
       "host_id                            0.804763166  -0.5415967  2.360224e+05\n",
       "host_url*                         -0.054610595  -1.2309430  1.307182e+01\n",
       "host_name*                         0.015862655  -1.1759807  6.729584e+00\n",
       "host_since*                       -0.118907564  -1.1596993  6.342448e+00\n",
       "host_location*                    -4.418252037  22.9569207  2.055971e-01\n",
       "host_about*                        0.210376859  -1.3882831  1.088487e+01\n",
       "host_response_time*               -0.749971664  -0.6417063  1.804569e-02\n",
       "host_response_rate*                0.795708991  -1.1819095  2.994105e-01\n",
       "host_acceptance_rate*              1.364190786   0.5869087  6.555693e-03\n",
       "host_is_superhost*                 1.450379382   0.1820560  6.534521e-03\n",
       "host_thumbnail_url*               -0.022756363  -1.2159406  1.302245e+01\n",
       "host_picture_url*                 -0.022756363  -1.2159406  1.302245e+01\n",
       "host_neighbourhood*                0.279196953  -1.3844229  5.285403e-01\n",
       "host_listings_count                9.457103858 111.7198117  4.634353e-01\n",
       "⋮                                 ⋮            ⋮            ⋮           \n",
       "guests_included                    2.87597189    11.9662085  0.021217678\n",
       "extra_people*                      1.66235946     1.9076036  0.160920639\n",
       "minimum_nights                    60.00277652  3667.0082929  0.263892391\n",
       "maximum_nights                    53.58832794  3156.4437424 27.246964095\n",
       "calendar_updated*                  0.06547223    -1.3068786  0.140112725\n",
       "has_availability*                         NaN           NaN  0.000000000\n",
       "availability_30                   -0.30563850    -1.5706782  0.197016400\n",
       "availability_60                   -0.55720215    -1.3005051  0.377691438\n",
       "availability_90                   -0.71865306    -1.0795353  0.551284410\n",
       "availability_365                  -0.60843800    -1.1972531  2.051668464\n",
       "calendar_last_scraped*                    NaN           NaN  0.000000000\n",
       "number_of_reviews                  4.07720506    25.8586152  0.610631373\n",
       "first_review*                     -0.53821517    -1.1873497  5.437229691\n",
       "last_review*                      -1.04462773    -0.3902355  1.814354219\n",
       "review_scores_rating              -2.92126743    15.4954855  0.117312939\n",
       "review_scores_accuracy            -3.20078836    18.2864106  0.012417417\n",
       "review_scores_cleanliness         -2.55068505     9.1655465  0.014171659\n",
       "review_scores_checkin             -4.96996064    39.4730258  0.010593453\n",
       "review_scores_communication       -5.62349187    51.7239337  0.010096851\n",
       "review_scores_location            -1.90489470     5.6064653  0.011185047\n",
       "review_scores_value               -2.07024335     8.6894812  0.013342281\n",
       "requires_license*                         NaN           NaN  0.000000000\n",
       "license*                                   NA            NA           NA\n",
       "jurisdiction_names*                       NaN           NaN  0.000000000\n",
       "instant_bookable*                  1.90801391     1.6409471  0.005854586\n",
       "cancellation_policy*              -0.12912493    -1.4913630  0.013223568\n",
       "require_guest_profile_picture*     2.99646711     6.9806437  0.004491623\n",
       "require_guest_phone_verification*  2.69898558     5.2859078  0.004817116\n",
       "calculated_host_listings_count     4.48341235    20.3355333  0.095371945\n",
       "reviews_per_month                  1.41870924     2.2123594  0.032260260"
      ]
     },
     "metadata": {},
     "output_type": "display_data"
    }
   ],
   "source": [
    "describe(airbnb_listings)"
   ]
  },
  {
   "cell_type": "markdown",
   "metadata": {},
   "source": [
    "#### Calendario de reservas de Airbnb en Seattle"
   ]
  },
  {
   "cell_type": "code",
   "execution_count": 7,
   "metadata": {},
   "outputs": [
    {
     "data": {
      "text/html": [
       "<table>\n",
       "<thead><tr><th scope=col>listing_id</th><th scope=col>date</th><th scope=col>available</th><th scope=col>price</th></tr></thead>\n",
       "<tbody>\n",
       "\t<tr><td>241032    </td><td>2016-01-04</td><td>t         </td><td>$85.00    </td></tr>\n",
       "\t<tr><td>241032    </td><td>2016-01-05</td><td>t         </td><td>$85.00    </td></tr>\n",
       "\t<tr><td>241032    </td><td>2016-01-06</td><td>f         </td><td>          </td></tr>\n",
       "\t<tr><td>241032    </td><td>2016-01-07</td><td>f         </td><td>          </td></tr>\n",
       "\t<tr><td>241032    </td><td>2016-01-08</td><td>f         </td><td>          </td></tr>\n",
       "</tbody>\n",
       "</table>\n"
      ],
      "text/latex": [
       "\\begin{tabular}{r|llll}\n",
       " listing\\_id & date & available & price\\\\\n",
       "\\hline\n",
       "\t 241032     & 2016-01-04 & t          & \\$85.00  \\\\\n",
       "\t 241032     & 2016-01-05 & t          & \\$85.00  \\\\\n",
       "\t 241032     & 2016-01-06 & f          &           \\\\\n",
       "\t 241032     & 2016-01-07 & f          &           \\\\\n",
       "\t 241032     & 2016-01-08 & f          &           \\\\\n",
       "\\end{tabular}\n"
      ],
      "text/markdown": [
       "\n",
       "listing_id | date | available | price | \n",
       "|---|---|---|---|---|\n",
       "| 241032     | 2016-01-04 | t          | $85.00     | \n",
       "| 241032     | 2016-01-05 | t          | $85.00     | \n",
       "| 241032     | 2016-01-06 | f          |            | \n",
       "| 241032     | 2016-01-07 | f          |            | \n",
       "| 241032     | 2016-01-08 | f          |            | \n",
       "\n",
       "\n"
      ],
      "text/plain": [
       "  listing_id date       available price \n",
       "1 241032     2016-01-04 t         $85.00\n",
       "2 241032     2016-01-05 t         $85.00\n",
       "3 241032     2016-01-06 f               \n",
       "4 241032     2016-01-07 f               \n",
       "5 241032     2016-01-08 f               "
      ]
     },
     "metadata": {},
     "output_type": "display_data"
    }
   ],
   "source": [
    "head(airbnb_calendar, n=5)"
   ]
  },
  {
   "cell_type": "code",
   "execution_count": 11,
   "metadata": {
    "scrolled": true
   },
   "outputs": [
    {
     "data": {
      "text/html": [
       "<table>\n",
       "<thead><tr><th></th><th scope=col>vars</th><th scope=col>n</th><th scope=col>mean</th><th scope=col>sd</th><th scope=col>median</th><th scope=col>trimmed</th><th scope=col>mad</th><th scope=col>min</th><th scope=col>max</th><th scope=col>range</th><th scope=col>skew</th><th scope=col>kurtosis</th><th scope=col>se</th></tr></thead>\n",
       "<tbody>\n",
       "\t<tr><th scope=row>listing_id</th><td>1           </td><td>1393570     </td><td>5.550111e+06</td><td>2.962274e+06</td><td>6118244     </td><td>5.667756e+06</td><td>3391921.9320</td><td>3335        </td><td>10340165    </td><td>10336830    </td><td>-0.3096599  </td><td>-1.104326   </td><td>2.509347e+03</td></tr>\n",
       "\t<tr><th scope=row>date*</th><td>2           </td><td>1393570     </td><td>1.830000e+02</td><td>1.053661e+02</td><td>    183     </td><td>1.830000e+02</td><td>    134.9166</td><td>   1        </td><td>     365    </td><td>     364    </td><td> 0.0000000  </td><td>-1.200021   </td><td>8.925578e-02</td></tr>\n",
       "\t<tr><th scope=row>available*</th><td>3           </td><td>1393570     </td><td>1.670610e+00</td><td>4.699919e-01</td><td>      2     </td><td>1.713263e+00</td><td>      0.0000</td><td>   1        </td><td>       2    </td><td>       1    </td><td>-0.7260121  </td><td>-1.472908   </td><td>3.981310e-04</td></tr>\n",
       "\t<tr><th scope=row>price*</th><td>4           </td><td>1393570     </td><td>2.072390e+02</td><td>2.537548e+02</td><td>     61     </td><td>1.767511e+02</td><td>     88.9560</td><td>   1        </td><td>     670    </td><td>     669    </td><td> 0.8323335  </td><td>-1.032554   </td><td>2.149561e-01</td></tr>\n",
       "</tbody>\n",
       "</table>\n"
      ],
      "text/latex": [
       "\\begin{tabular}{r|lllllllllllll}\n",
       "  & vars & n & mean & sd & median & trimmed & mad & min & max & range & skew & kurtosis & se\\\\\n",
       "\\hline\n",
       "\tlisting\\_id & 1            & 1393570      & 5.550111e+06 & 2.962274e+06 & 6118244      & 5.667756e+06 & 3391921.9320 & 3335         & 10340165     & 10336830     & -0.3096599   & -1.104326    & 2.509347e+03\\\\\n",
       "\tdate* & 2            & 1393570      & 1.830000e+02 & 1.053661e+02 &     183      & 1.830000e+02 &     134.9166 &    1         &      365     &      364     &  0.0000000   & -1.200021    & 8.925578e-02\\\\\n",
       "\tavailable* & 3            & 1393570      & 1.670610e+00 & 4.699919e-01 &       2      & 1.713263e+00 &       0.0000 &    1         &        2     &        1     & -0.7260121   & -1.472908    & 3.981310e-04\\\\\n",
       "\tprice* & 4            & 1393570      & 2.072390e+02 & 2.537548e+02 &      61      & 1.767511e+02 &      88.9560 &    1         &      670     &      669     &  0.8323335   & -1.032554    & 2.149561e-01\\\\\n",
       "\\end{tabular}\n"
      ],
      "text/markdown": [
       "\n",
       "| <!--/--> | vars | n | mean | sd | median | trimmed | mad | min | max | range | skew | kurtosis | se | \n",
       "|---|---|---|---|\n",
       "| listing_id | 1            | 1393570      | 5.550111e+06 | 2.962274e+06 | 6118244      | 5.667756e+06 | 3391921.9320 | 3335         | 10340165     | 10336830     | -0.3096599   | -1.104326    | 2.509347e+03 | \n",
       "| date* | 2            | 1393570      | 1.830000e+02 | 1.053661e+02 |     183      | 1.830000e+02 |     134.9166 |    1         |      365     |      364     |  0.0000000   | -1.200021    | 8.925578e-02 | \n",
       "| available* | 3            | 1393570      | 1.670610e+00 | 4.699919e-01 |       2      | 1.713263e+00 |       0.0000 |    1         |        2     |        1     | -0.7260121   | -1.472908    | 3.981310e-04 | \n",
       "| price* | 4            | 1393570      | 2.072390e+02 | 2.537548e+02 |      61      | 1.767511e+02 |      88.9560 |    1         |      670     |      669     |  0.8323335   | -1.032554    | 2.149561e-01 | \n",
       "\n",
       "\n"
      ],
      "text/plain": [
       "           vars n       mean         sd           median  trimmed     \n",
       "listing_id 1    1393570 5.550111e+06 2.962274e+06 6118244 5.667756e+06\n",
       "date*      2    1393570 1.830000e+02 1.053661e+02     183 1.830000e+02\n",
       "available* 3    1393570 1.670610e+00 4.699919e-01       2 1.713263e+00\n",
       "price*     4    1393570 2.072390e+02 2.537548e+02      61 1.767511e+02\n",
       "           mad          min  max      range    skew       kurtosis \n",
       "listing_id 3391921.9320 3335 10340165 10336830 -0.3096599 -1.104326\n",
       "date*          134.9166    1      365      364  0.0000000 -1.200021\n",
       "available*       0.0000    1        2        1 -0.7260121 -1.472908\n",
       "price*          88.9560    1      670      669  0.8323335 -1.032554\n",
       "           se          \n",
       "listing_id 2.509347e+03\n",
       "date*      8.925578e-02\n",
       "available* 3.981310e-04\n",
       "price*     2.149561e-01"
      ]
     },
     "metadata": {},
     "output_type": "display_data"
    }
   ],
   "source": [
    "describe(airbnb_calendar)"
   ]
  },
  {
   "cell_type": "markdown",
   "metadata": {},
   "source": [
    "Como podemos ver, el atributo `available` se comporta como un booleano en el dataset. Además, el atributo `price` fluctúa entre 1$ y 670$ con mediana 61$."
   ]
  },
  {
   "cell_type": "code",
   "execution_count": 1,
   "metadata": {
    "scrolled": false
   },
   "outputs": [
    {
     "ename": "ERROR",
     "evalue": "Error in eval(expr, envir, enclos): object 'airbnb_calendar' not found\n",
     "output_type": "error",
     "traceback": [
      "Error in eval(expr, envir, enclos): object 'airbnb_calendar' not found\nTraceback:\n"
     ]
    }
   ],
   "source": [
    "nrow(airbnb_calendar[airbnb_calendar['available'] == 't',])"
   ]
  },
  {
   "cell_type": "markdown",
   "metadata": {},
   "source": [
    "Como podemos ver, en 2016 en Seattle hubo un total de X fechas en listings no reservadas."
   ]
  },
  {
   "cell_type": "code",
   "execution_count": 17,
   "metadata": {
    "scrolled": true
   },
   "outputs": [
    {
     "data": {
      "text/html": [
       "346"
      ],
      "text/latex": [
       "346"
      ],
      "text/markdown": [
       "346"
      ],
      "text/plain": [
       "[1] 346"
      ]
     },
     "metadata": {},
     "output_type": "display_data"
    }
   ],
   "source": [
    "nrow(airbnb_calendar[airbnb_calendar['listing_id'] == 241032 & airbnb_calendar['available'] == 't',])"
   ]
  },
  {
   "cell_type": "markdown",
   "metadata": {},
   "source": [
    "La última ejecución nos muestra que 346 días del año 2016 el listing _241032_ no fue reservado, por lo tanto, tuvo una actividad muy baja. "
   ]
  },
  {
   "cell_type": "markdown",
   "metadata": {},
   "source": [
    "#### Reviews de Airbnb en Seattle"
   ]
  },
  {
   "cell_type": "code",
   "execution_count": 6,
   "metadata": {
    "scrolled": false
   },
   "outputs": [
    {
     "data": {
      "text/html": [
       "<table>\n",
       "<thead><tr><th scope=col>listing_id</th><th scope=col>id</th><th scope=col>date</th><th scope=col>reviewer_id</th><th scope=col>reviewer_name</th><th scope=col>comments</th></tr></thead>\n",
       "<tbody>\n",
       "\t<tr><td>7202016                                                                                                                                                                                                                                                                                                                                                                                               </td><td>38917982                                                                                                                                                                                                                                                                                                                                                                                              </td><td>2015-07-19                                                                                                                                                                                                                                                                                                                                                                                            </td><td>28943674                                                                                                                                                                                                                                                                                                                                                                                              </td><td>Bianca                                                                                                                                                                                                                                                                                                                                                                                                </td><td>Cute and cozy place. Perfect location to everything!                                                                                                                                                                                                                                                                                                                                                  </td></tr>\n",
       "\t<tr><td>7202016                                                                                                                                                                                                                                                                                                                                                                                               </td><td>39087409                                                                                                                                                                                                                                                                                                                                                                                              </td><td>2015-07-20                                                                                                                                                                                                                                                                                                                                                                                            </td><td>32440555                                                                                                                                                                                                                                                                                                                                                                                              </td><td>Frank                                                                                                                                                                                                                                                                                                                                                                                                 </td><td>Kelly has a great room in a very central location. \n",
       "Beautiful building , architecture and a style that we really like. \n",
       "We felt guite at home here and wish we had spent more time.\n",
       "Went for a walk and found Seattle Center with a major food festival in progress. What a treat.\n",
       "Visited the Space Needle and the Chihuly Glass exhibit. Then Pikes Place Market. WOW.  Thanks for a great stay.</td></tr>\n",
       "\t<tr><td>7202016                                                                                                                                                                                                                                                                                                                                                                                               </td><td>39820030                                                                                                                                                                                                                                                                                                                                                                                              </td><td>2015-07-26                                                                                                                                                                                                                                                                                                                                                                                            </td><td>37722850                                                                                                                                                                                                                                                                                                                                                                                              </td><td>Ian                                                                                                                                                                                                                                                                                                                                                                                                   </td><td>Very spacious apartment, and in a great neighborhood.  This is the kind of apartment I wish I had!\n",
       "\n",
       "Didn't really get to meet Kelly until I was on my out, but she was always readily available by phone. \n",
       "\n",
       "I believe the only \"issue\" (if you want to call it that) was finding a place to park, but I sincerely doubt its easy to park anywhere in a residential area after 5 pm on a Friday    </td></tr>\n",
       "\t<tr><td>7202016                                                                                                                                                                                                                                                                                                                                                                                               </td><td>40813543                                                                                                                                                                                                                                                                                                                                                                                              </td><td>2015-08-02                                                                                                                                                                                                                                                                                                                                                                                            </td><td>33671805                                                                                                                                                                                                                                                                                                                                                                                              </td><td>George                                                                                                                                                                                                                                                                                                                                                                                                </td><td>Close to Seattle Center and all it has to offer - ballet, theater, museum, Space Needle, restaurants of all ilk just blocks away, and the Metropolitan (probably the coolest grocer you'll ever find). Easy to find and Kelly was warm, welcoming, and really interesting to talk to.                                                                                                                 </td></tr>\n",
       "\t<tr><td>7202016                                                                                                                                                                                                                                                                                                                                                                                               </td><td>41986501                                                                                                                                                                                                                                                                                                                                                                                              </td><td>2015-08-10                                                                                                                                                                                                                                                                                                                                                                                            </td><td>34959538                                                                                                                                                                                                                                                                                                                                                                                              </td><td>Ming                                                                                                                                                                                                                                                                                                                                                                                                  </td><td>Kelly was a great host and very accommodating in a great neighborhood. She has some great coffee and while I wasn't around much during my stay the time I spent interacting with her was very pleasant. \n",
       "\n",
       "The apartment is in a great location and very close to the Seattle Center. The neighborhood itself has a lot of good food as well!                                                        </td></tr>\n",
       "</tbody>\n",
       "</table>\n"
      ],
      "text/latex": [
       "\\begin{tabular}{r|llllll}\n",
       " listing\\_id & id & date & reviewer\\_id & reviewer\\_name & comments\\\\\n",
       "\\hline\n",
       "\t 7202016                                                                                                                                                                                                                                                                                                                                                                                                & 38917982                                                                                                                                                                                                                                                                                                                                                                                               & 2015-07-19                                                                                                                                                                                                                                                                                                                                                                                             & 28943674                                                                                                                                                                                                                                                                                                                                                                                               & Bianca                                                                                                                                                                                                                                                                                                                                                                                                 & Cute and cozy place. Perfect location to everything!                                                                                                                                                                                                                                                                                                                                                  \\\\\n",
       "\t 7202016                                                                                                                                                                                                                                                                                                                                                                                                & 39087409                                                                                                                                                                                                                                                                                                                                                                                               & 2015-07-20                                                                                                                                                                                                                                                                                                                                                                                             & 32440555                                                                                                                                                                                                                                                                                                                                                                                               & Frank                                                                                                                                                                                                                                                                                                                                                                                                  & Kelly has a great room in a very central location. \n",
       "Beautiful building , architecture and a style that we really like. \n",
       "We felt guite at home here and wish we had spent more time.\n",
       "Went for a walk and found Seattle Center with a major food festival in progress. What a treat.\n",
       "Visited the Space Needle and the Chihuly Glass exhibit. Then Pikes Place Market. WOW.  Thanks for a great stay.\\\\\n",
       "\t 7202016                                                                                                                                                                                                                                                                                                                                                                                                & 39820030                                                                                                                                                                                                                                                                                                                                                                                               & 2015-07-26                                                                                                                                                                                                                                                                                                                                                                                             & 37722850                                                                                                                                                                                                                                                                                                                                                                                               & Ian                                                                                                                                                                                                                                                                                                                                                                                                    & Very spacious apartment, and in a great neighborhood.  This is the kind of apartment I wish I had!\n",
       "\n",
       "Didn't really get to meet Kelly until I was on my out, but she was always readily available by phone. \n",
       "\n",
       "I believe the only \"issue\" (if you want to call it that) was finding a place to park, but I sincerely doubt its easy to park anywhere in a residential area after 5 pm on a Friday    \\\\\n",
       "\t 7202016                                                                                                                                                                                                                                                                                                                                                                                                & 40813543                                                                                                                                                                                                                                                                                                                                                                                               & 2015-08-02                                                                                                                                                                                                                                                                                                                                                                                             & 33671805                                                                                                                                                                                                                                                                                                                                                                                               & George                                                                                                                                                                                                                                                                                                                                                                                                 & Close to Seattle Center and all it has to offer - ballet, theater, museum, Space Needle, restaurants of all ilk just blocks away, and the Metropolitan (probably the coolest grocer you'll ever find). Easy to find and Kelly was warm, welcoming, and really interesting to talk to.                                                                                                                 \\\\\n",
       "\t 7202016                                                                                                                                                                                                                                                                                                                                                                                                & 41986501                                                                                                                                                                                                                                                                                                                                                                                               & 2015-08-10                                                                                                                                                                                                                                                                                                                                                                                             & 34959538                                                                                                                                                                                                                                                                                                                                                                                               & Ming                                                                                                                                                                                                                                                                                                                                                                                                   & Kelly was a great host and very accommodating in a great neighborhood. She has some great coffee and while I wasn't around much during my stay the time I spent interacting with her was very pleasant. \n",
       "\n",
       "The apartment is in a great location and very close to the Seattle Center. The neighborhood itself has a lot of good food as well!                                                        \\\\\n",
       "\\end{tabular}\n"
      ],
      "text/markdown": [
       "\n",
       "listing_id | id | date | reviewer_id | reviewer_name | comments | \n",
       "|---|---|---|---|---|\n",
       "| 7202016                                                                                                                                                                                                                                                                                                                                                                                                | 38917982                                                                                                                                                                                                                                                                                                                                                                                               | 2015-07-19                                                                                                                                                                                                                                                                                                                                                                                             | 28943674                                                                                                                                                                                                                                                                                                                                                                                               | Bianca                                                                                                                                                                                                                                                                                                                                                                                                 | Cute and cozy place. Perfect location to everything!                                                                                                                                                                                                                                                                                                                                                   | \n",
       "| 7202016                                                                                                                                                                                                                                                                                                                                                                                                | 39087409                                                                                                                                                                                                                                                                                                                                                                                               | 2015-07-20                                                                                                                                                                                                                                                                                                                                                                                             | 32440555                                                                                                                                                                                                                                                                                                                                                                                               | Frank                                                                                                                                                                                                                                                                                                                                                                                                  | Kelly has a great room in a very central location. \n",
       "Beautiful building , architecture and a style that we really like. \n",
       "We felt guite at home here and wish we had spent more time.\n",
       "Went for a walk and found Seattle Center with a major food festival in progress. What a treat.\n",
       "Visited the Space Needle and the Chihuly Glass exhibit. Then Pikes Place Market. WOW.  Thanks for a great stay. | \n",
       "| 7202016                                                                                                                                                                                                                                                                                                                                                                                                | 39820030                                                                                                                                                                                                                                                                                                                                                                                               | 2015-07-26                                                                                                                                                                                                                                                                                                                                                                                             | 37722850                                                                                                                                                                                                                                                                                                                                                                                               | Ian                                                                                                                                                                                                                                                                                                                                                                                                    | Very spacious apartment, and in a great neighborhood.  This is the kind of apartment I wish I had!\n",
       "\n",
       "Didn't really get to meet Kelly until I was on my out, but she was always readily available by phone. \n",
       "\n",
       "I believe the only \"issue\" (if you want to call it that) was finding a place to park, but I sincerely doubt its easy to park anywhere in a residential area after 5 pm on a Friday     | \n",
       "| 7202016                                                                                                                                                                                                                                                                                                                                                                                                | 40813543                                                                                                                                                                                                                                                                                                                                                                                               | 2015-08-02                                                                                                                                                                                                                                                                                                                                                                                             | 33671805                                                                                                                                                                                                                                                                                                                                                                                               | George                                                                                                                                                                                                                                                                                                                                                                                                 | Close to Seattle Center and all it has to offer - ballet, theater, museum, Space Needle, restaurants of all ilk just blocks away, and the Metropolitan (probably the coolest grocer you'll ever find). Easy to find and Kelly was warm, welcoming, and really interesting to talk to.                                                                                                                  | \n",
       "| 7202016                                                                                                                                                                                                                                                                                                                                                                                                | 41986501                                                                                                                                                                                                                                                                                                                                                                                               | 2015-08-10                                                                                                                                                                                                                                                                                                                                                                                             | 34959538                                                                                                                                                                                                                                                                                                                                                                                               | Ming                                                                                                                                                                                                                                                                                                                                                                                                   | Kelly was a great host and very accommodating in a great neighborhood. She has some great coffee and while I wasn't around much during my stay the time I spent interacting with her was very pleasant. \n",
       "\n",
       "The apartment is in a great location and very close to the Seattle Center. The neighborhood itself has a lot of good food as well!                                                         | \n",
       "\n",
       "\n"
      ],
      "text/plain": [
       "  listing_id id       date       reviewer_id reviewer_name\n",
       "1 7202016    38917982 2015-07-19 28943674    Bianca       \n",
       "2 7202016    39087409 2015-07-20 32440555    Frank        \n",
       "3 7202016    39820030 2015-07-26 37722850    Ian          \n",
       "4 7202016    40813543 2015-08-02 33671805    George       \n",
       "5 7202016    41986501 2015-08-10 34959538    Ming         \n",
       "  comments                                                                                                                                                                                                                                                                                                                                                                                              \n",
       "1 Cute and cozy place. Perfect location to everything!                                                                                                                                                                                                                                                                                                                                                  \n",
       "2 Kelly has a great room in a very central location. \\nBeautiful building , architecture and a style that we really like. \\nWe felt guite at home here and wish we had spent more time.\\nWent for a walk and found Seattle Center with a major food festival in progress. What a treat.\\nVisited the Space Needle and the Chihuly Glass exhibit. Then Pikes Place Market. WOW.  Thanks for a great stay.\n",
       "3 Very spacious apartment, and in a great neighborhood.  This is the kind of apartment I wish I had!\\n\\nDidn't really get to meet Kelly until I was on my out, but she was always readily available by phone. \\n\\nI believe the only \"issue\" (if you want to call it that) was finding a place to park, but I sincerely doubt its easy to park anywhere in a residential area after 5 pm on a Friday    \n",
       "4 Close to Seattle Center and all it has to offer - ballet, theater, museum, Space Needle, restaurants of all ilk just blocks away, and the Metropolitan (probably the coolest grocer you'll ever find). Easy to find and Kelly was warm, welcoming, and really interesting to talk to.                                                                                                                 \n",
       "5 Kelly was a great host and very accommodating in a great neighborhood. She has some great coffee and while I wasn't around much during my stay the time I spent interacting with her was very pleasant. \\n\\nThe apartment is in a great location and very close to the Seattle Center. The neighborhood itself has a lot of good food as well!                                                        "
      ]
     },
     "metadata": {},
     "output_type": "display_data"
    }
   ],
   "source": [
    "head(airbnb_reviews, n=5)"
   ]
  },
  {
   "cell_type": "markdown",
   "metadata": {},
   "source": [
    "Exceptuando los ids y la fecha, todos los campos son textuales no estructurados (`reviewer_name` y `comments`), por lo tanto, la exploración se reduce en gran medida; no hay ninguna estructura que explorar."
   ]
  },
  {
   "cell_type": "markdown",
   "metadata": {},
   "source": [
    "#### Espacios culturales de Seattle"
   ]
  },
  {
   "cell_type": "code",
   "execution_count": 16,
   "metadata": {
    "collapsed": true
   },
   "outputs": [
    {
     "name": "stderr",
     "output_type": "stream",
     "text": [
      "Warning message in FUN(newX[, i], ...):\n",
      "“no non-missing arguments to min; returning Inf”Warning message in FUN(newX[, i], ...):\n",
      "“no non-missing arguments to max; returning -Inf”"
     ]
    },
    {
     "data": {
      "text/html": [
       "<table>\n",
       "<thead><tr><th></th><th scope=col>vars</th><th scope=col>n</th><th scope=col>mean</th><th scope=col>sd</th><th scope=col>median</th><th scope=col>trimmed</th><th scope=col>mad</th><th scope=col>min</th><th scope=col>max</th><th scope=col>range</th><th scope=col>skew</th><th scope=col>kurtosis</th><th scope=col>se</th></tr></thead>\n",
       "<tbody>\n",
       "\t<tr><th scope=row>Name*</th><td> 1           </td><td>1202         </td><td>5.987072e+02 </td><td>3.461480e+02 </td><td>  598.5      </td><td>5.987723e+02 </td><td> 444.7800    </td><td>    1        </td><td>   1197      </td><td>   1196      </td><td> -0.000814360</td><td> -1.2056053  </td><td>9.984116e+00 </td></tr>\n",
       "\t<tr><th scope=row>Phone*</th><td> 2           </td><td>1202         </td><td>2.085208e+02 </td><td>2.300161e+02 </td><td>  116.5      </td><td>1.807432e+02 </td><td> 171.2403    </td><td>    1        </td><td>    697      </td><td>    696      </td><td>  0.668082656</td><td> -1.0205702  </td><td>6.634466e+00 </td></tr>\n",
       "\t<tr><th scope=row>URL*</th><td> 3           </td><td>1202         </td><td>2.100657e+02 </td><td>2.282948e+02 </td><td>  122.5      </td><td>1.850468e+02 </td><td> 180.1359    </td><td>    1        </td><td>    677      </td><td>    676      </td><td>  0.611965479</td><td> -1.1428691  </td><td>6.584817e+00 </td></tr>\n",
       "\t<tr><th scope=row>Square.Feet.Total</th><td> 4           </td><td> 666         </td><td>3.003769e+04 </td><td>2.113811e+05 </td><td> 3000.0      </td><td>5.572727e+03 </td><td>3298.7850    </td><td>    0        </td><td>4007000      </td><td>4007000      </td><td> 14.822892776</td><td>244.6015244  </td><td>8.190851e+03 </td></tr>\n",
       "\t<tr><th scope=row>Neighborhood*</th><td> 5           </td><td>1202         </td><td>1.337105e+01 </td><td>2.046651e+01 </td><td>    1.0      </td><td>8.836798e+00 </td><td>   0.0000    </td><td>    1        </td><td>     69      </td><td>     68      </td><td>  1.566808348</td><td>  1.0078067  </td><td>5.903255e-01 </td></tr>\n",
       "\t<tr><th scope=row>Organization.Type*</th><td> 6           </td><td>1202         </td><td>5.609817e+00 </td><td>4.942299e+00 </td><td>    6.0      </td><td>5.262994e+00 </td><td>   7.4130    </td><td>    1        </td><td>     13      </td><td>     12      </td><td>  0.524544670</td><td> -1.3400827  </td><td>1.425531e-01 </td></tr>\n",
       "\t<tr><th scope=row>Dominant.Discipline*</th><td> 7           </td><td>1202         </td><td>1.243261e+01 </td><td>5.082094e+00 </td><td>   14.0      </td><td>1.271726e+01 </td><td>   5.9304    </td><td>    1        </td><td>     19      </td><td>     18      </td><td> -0.457841361</td><td> -0.9684228  </td><td>1.465853e-01 </td></tr>\n",
       "\t<tr><th scope=row>Year.of.Occupation</th><td> 8           </td><td> 674         </td><td>1.979165e+03 </td><td>1.886136e+02 </td><td> 2005.0      </td><td>2.001689e+03 </td><td>  10.3782    </td><td>    2        </td><td>   2017      </td><td>   2015      </td><td>-10.204414345</td><td>103.8071769  </td><td>7.265125e+00 </td></tr>\n",
       "\t<tr><th scope=row>Rent.vs.Own*</th><td> 9           </td><td>1202         </td><td>2.608985e+00 </td><td>1.754315e+00 </td><td>    2.0      </td><td>2.498960e+00 </td><td>   1.4826    </td><td>    1        </td><td>      6      </td><td>      5      </td><td>  0.508756271</td><td> -1.4898438  </td><td>5.060056e-02 </td></tr>\n",
       "\t<tr><th scope=row>Age.of.Current.Building</th><td>10           </td><td> 651         </td><td>1.935845e+03 </td><td>1.655285e+02 </td><td> 1950.0      </td><td>1.948835e+03 </td><td>  44.4780    </td><td>    1        </td><td>   2015      </td><td>   2014      </td><td>-10.456361504</td><td>113.3902109  </td><td>6.487573e+00 </td></tr>\n",
       "\t<tr><th scope=row>Length.of.Lease..Date.*</th><td>11           </td><td>1202         </td><td>6.369384e+00 </td><td>1.136130e+01 </td><td>    1.0      </td><td>3.408524e+00 </td><td>   0.0000    </td><td>    1        </td><td>     52      </td><td>     51      </td><td>  2.323867603</td><td>  4.6922263  </td><td>3.276995e-01 </td></tr>\n",
       "\t<tr><th scope=row>Year.Organization.Founded</th><td>12           </td><td> 673         </td><td>1.984520e+03 </td><td>3.075532e+01 </td><td> 1995.0      </td><td>1.990360e+03 </td><td>  19.2738    </td><td> 1819        </td><td>   2017      </td><td>    198      </td><td> -1.675277566</td><td>  2.6556713  </td><td>1.185531e+00 </td></tr>\n",
       "\t<tr><th scope=row>Number.of.Past.Facilities</th><td>13           </td><td> 656         </td><td>1.080793e+00 </td><td>1.527717e+00 </td><td>    1.0      </td><td>8.269962e-01 </td><td>   1.4826    </td><td>    0        </td><td>     20      </td><td>     20      </td><td>  4.158215133</td><td> 38.3286560  </td><td>5.964735e-02 </td></tr>\n",
       "\t<tr><th scope=row>Stages.and.Theaters</th><td>14           </td><td> 662         </td><td>4.335347e-01 </td><td>7.900435e-01 </td><td>    0.0      </td><td>2.849057e-01 </td><td>   0.0000    </td><td>    0        </td><td>     10      </td><td>     10      </td><td>  4.032707597</td><td> 34.5850485  </td><td>3.070591e-02 </td></tr>\n",
       "\t<tr><th scope=row>Stage...Theater.Seats</th><td>15           </td><td> 467         </td><td>2.404732e+02 </td><td>1.601804e+03 </td><td>    0.0      </td><td>6.734667e+01 </td><td>   0.0000    </td><td>    0        </td><td>  30000      </td><td>  30000      </td><td> 15.819686870</td><td>272.2699286  </td><td>7.412265e+01 </td></tr>\n",
       "\t<tr><th scope=row>Gallery.Space*</th><td>16           </td><td>1202         </td><td>3.113145e+00 </td><td>2.042963e+00 </td><td>    4.0      </td><td>3.008316e+00 </td><td>   2.9652    </td><td>    1        </td><td>      7      </td><td>      6      </td><td>  0.197168987</td><td> -1.5209959  </td><td>5.892618e-02 </td></tr>\n",
       "\t<tr><th scope=row>Gallery.Square.Feet</th><td>17           </td><td> 441         </td><td>1.548678e+03 </td><td>1.074218e+04 </td><td>  100.0      </td><td>3.923513e+02 </td><td> 148.2600    </td><td>    0        </td><td> 210000      </td><td> 210000      </td><td> 17.142324458</td><td>321.6710946  </td><td>5.115322e+02 </td></tr>\n",
       "\t<tr><th scope=row>ADA.Compliant*</th><td>18           </td><td>1202         </td><td>3.681364e+00 </td><td>2.702416e+00 </td><td>    3.0      </td><td>3.596674e+00 </td><td>   2.9652    </td><td>    1        </td><td>      8      </td><td>      7      </td><td>  0.188433109</td><td> -1.7831972  </td><td>7.794709e-02 </td></tr>\n",
       "\t<tr><th scope=row>Available.Parking</th><td>19           </td><td> 614         </td><td>9.057980e+01 </td><td>1.127662e+03 </td><td>    5.0      </td><td>1.723577e+01 </td><td>   7.4130    </td><td>    0        </td><td>  27808      </td><td>  27808      </td><td> 24.191936578</td><td>591.4708101  </td><td>4.550875e+01 </td></tr>\n",
       "\t<tr><th scope=row>Street.Presence*</th><td>20           </td><td>1202         </td><td>3.376040e+00 </td><td>2.334627e+00 </td><td>    3.0      </td><td>3.337838e+00 </td><td>   2.9652    </td><td>    1        </td><td>      7      </td><td>      6      </td><td>  0.140002727</td><td> -1.8347640  </td><td>6.733878e-02 </td></tr>\n",
       "\t<tr><th scope=row>Rental.Space*</th><td>21           </td><td>1202         </td><td>3.014975e+00 </td><td>2.133694e+00 </td><td>    3.0      </td><td>2.875260e+00 </td><td>   2.9652    </td><td>    1        </td><td>      7      </td><td>      6      </td><td>  0.490773512</td><td> -1.3934177  </td><td>6.154316e-02 </td></tr>\n",
       "\t<tr><th scope=row>Alcohol.Sales*</th><td>22           </td><td>1202         </td><td>2.490017e+00 </td><td>1.492803e+00 </td><td>    3.0      </td><td>2.361746e+00 </td><td>   2.9652    </td><td>    1        </td><td>      6      </td><td>      5      </td><td>  0.449943392</td><td> -1.1000092  </td><td>4.305763e-02 </td></tr>\n",
       "\t<tr><th scope=row>Organization.Mission*</th><td>23           </td><td>1202         </td><td>1.292013e+00 </td><td>2.253410e+00 </td><td>    1.0      </td><td>1.000000e+00 </td><td>   0.0000    </td><td>    1        </td><td>     27      </td><td>     26      </td><td>  8.566938154</td><td> 76.6907140  </td><td>6.499619e-02 </td></tr>\n",
       "\t<tr><th scope=row>Funded.by.A.C*</th><td>24           </td><td>1202         </td><td>2.554908e+00 </td><td>2.289402e+00 </td><td>    1.0      </td><td>2.066528e+00 </td><td>   0.0000    </td><td>    1        </td><td>     10      </td><td>      9      </td><td>  1.301790245</td><td>  0.5804974  </td><td>6.603434e-02 </td></tr>\n",
       "\t<tr><th scope=row>Funded.by.4Culture*</th><td>25           </td><td>1202         </td><td>1.656406e+00 </td><td>1.477304e+00 </td><td>    1.0      </td><td>1.235967e+00 </td><td>   0.0000    </td><td>    1        </td><td>      8      </td><td>      7      </td><td>  2.213340710</td><td>  3.6580983  </td><td>4.261060e-02 </td></tr>\n",
       "\t<tr><th scope=row>Stability.Index..5.very.stable..1.very.uncertain.</th><td>26           </td><td> 678         </td><td>4.085546e+00 </td><td>1.105270e+00 </td><td>    4.0      </td><td>4.275735e+00 </td><td>   1.4826    </td><td>    1        </td><td>      5      </td><td>      4      </td><td> -1.132417888</td><td>  0.4733237  </td><td>4.244765e-02 </td></tr>\n",
       "\t<tr><th scope=row>Control.Index..5.very.in.control..1...very.out.of.control..</th><td>27           </td><td>  29         </td><td>3.275862e+00 </td><td>1.278854e+00 </td><td>    3.0      </td><td>3.320000e+00 </td><td>   1.4826    </td><td>    1        </td><td>      5      </td><td>      4      </td><td> -0.206194038</td><td> -1.0826700  </td><td>2.374773e-01 </td></tr>\n",
       "\t<tr><th scope=row>Constituency.over.50..one.race*</th><td>28           </td><td>   0         </td><td>         NaN </td><td>          NA </td><td>     NA      </td><td>         NaN </td><td>       NA    </td><td>  Inf        </td><td>   -Inf      </td><td>   -Inf      </td><td>           NA</td><td>         NA  </td><td>          NA </td></tr>\n",
       "\t<tr><th scope=row>Specific.Demographics.and.Community*</th><td>29           </td><td>1202         </td><td>3.410150e+00 </td><td>5.256675e+00 </td><td>    1.0      </td><td>2.014553e+00 </td><td>   0.0000    </td><td>    1        </td><td>     18      </td><td>     17      </td><td>  1.915614218</td><td>  1.9706496  </td><td>1.516208e-01 </td></tr>\n",
       "\t<tr><th scope=row>Organization.Leadership*</th><td>30           </td><td>1202         </td><td>1.028286e+00 </td><td>1.936508e-01 </td><td>    1.0      </td><td>1.000000e+00 </td><td>   0.0000    </td><td>    1        </td><td>      3      </td><td>      2      </td><td>  7.578327049</td><td> 62.2510226  </td><td>5.585565e-03 </td></tr>\n",
       "\t<tr><th scope=row>Organization.Artists*</th><td>31           </td><td>1202         </td><td>1.028286e+00 </td><td>1.936508e-01 </td><td>    1.0      </td><td>1.000000e+00 </td><td>   0.0000    </td><td>    1        </td><td>      3      </td><td>      2      </td><td>  7.578327049</td><td> 62.2510226  </td><td>5.585565e-03 </td></tr>\n",
       "\t<tr><th scope=row>Closed.Date*</th><td>32           </td><td>1202         </td><td>1.341098e+00 </td><td>2.487295e+00 </td><td>    1.0      </td><td>1.000000e+00 </td><td>   0.0000    </td><td>    1        </td><td>     28      </td><td>     27      </td><td>  8.086404736</td><td> 68.0487019  </td><td>7.174226e-02 </td></tr>\n",
       "\t<tr><th scope=row>Closed.</th><td>33           </td><td>1181         </td><td>2.878916e-02 </td><td>1.672843e-01 </td><td>    0.0      </td><td>0.000000e+00 </td><td>   0.0000    </td><td>    0        </td><td>      1      </td><td>      1      </td><td>  5.628882219</td><td> 29.7094734  </td><td>4.867772e-03 </td></tr>\n",
       "\t<tr><th scope=row>Address*</th><td>34           </td><td>1202         </td><td>5.602604e+02 </td><td>3.357869e+02 </td><td>  555.5      </td><td>5.600166e+02 </td><td> 432.1779    </td><td>    1        </td><td>   1141      </td><td>   1140      </td><td>  0.006812140</td><td> -1.2058847  </td><td>9.685266e+00 </td></tr>\n",
       "\t<tr><th scope=row>Location*</th><td>35           </td><td>1202         </td><td>5.358577e+02 </td><td>3.253216e+02 </td><td>  535.5      </td><td>5.354834e+02 </td><td> 416.6106    </td><td>    1        </td><td>   1101      </td><td>   1100      </td><td>  0.007460542</td><td> -1.1943559  </td><td>9.383410e+00 </td></tr>\n",
       "\t<tr><th scope=row>X2010.Census.Tracts</th><td>36           </td><td>  42         </td><td>1.155714e+02 </td><td>1.139564e+01 </td><td>  117.0      </td><td>1.155882e+02 </td><td>  14.8260    </td><td>   97        </td><td>    135      </td><td>     38      </td><td> -0.014917644</td><td> -1.0383354  </td><td>1.758386e+00 </td></tr>\n",
       "\t<tr><th scope=row>Seattle.Police.Department.Micro.Community.Policing.Plan.Areas</th><td>37           </td><td> 853         </td><td>3.132122e+01 </td><td>2.016906e+01 </td><td>   27.0      </td><td>3.116252e+01 </td><td>  28.1694    </td><td>    1        </td><td>     61      </td><td>     60      </td><td>  0.084154875</td><td> -1.5482012  </td><td>6.905755e-01 </td></tr>\n",
       "\t<tr><th scope=row>City.Council.Districts</th><td>38           </td><td>  37         </td><td>1.540541e+00 </td><td>5.052279e-01 </td><td>    2.0      </td><td>1.548387e+00 </td><td>   0.0000    </td><td>    1        </td><td>      2      </td><td>      1      </td><td> -0.156146754</td><td> -2.0282645  </td><td>8.305896e-02 </td></tr>\n",
       "\t<tr><th scope=row>SPD.Beats</th><td>39           </td><td> 853         </td><td>2.450410e+01 </td><td>1.510182e+01 </td><td>   23.0      </td><td>2.433382e+01 </td><td>  20.7564    </td><td>    1        </td><td>     51      </td><td>     50      </td><td>  0.067395156</td><td> -1.2839469  </td><td>5.170763e-01 </td></tr>\n",
       "\t<tr><th scope=row>Zip.Codes</th><td>40           </td><td>1164         </td><td>1.924192e+04 </td><td>3.098183e+03 </td><td>18383.0      </td><td>1.858205e+04 </td><td> 601.9356    </td><td>17005        </td><td>  32443      </td><td>  15438      </td><td>  3.668834240</td><td> 12.1910833  </td><td>9.080934e+01 </td></tr>\n",
       "</tbody>\n",
       "</table>\n"
      ],
      "text/latex": [
       "\\begin{tabular}{r|lllllllllllll}\n",
       "  & vars & n & mean & sd & median & trimmed & mad & min & max & range & skew & kurtosis & se\\\\\n",
       "\\hline\n",
       "\tName* &  1            & 1202          & 5.987072e+02  & 3.461480e+02  &   598.5       & 5.987723e+02  &  444.7800     &     1         &    1197       &    1196       &  -0.000814360 &  -1.2056053   & 9.984116e+00 \\\\\n",
       "\tPhone* &  2            & 1202          & 2.085208e+02  & 2.300161e+02  &   116.5       & 1.807432e+02  &  171.2403     &     1         &     697       &     696       &   0.668082656 &  -1.0205702   & 6.634466e+00 \\\\\n",
       "\tURL* &  3            & 1202          & 2.100657e+02  & 2.282948e+02  &   122.5       & 1.850468e+02  &  180.1359     &     1         &     677       &     676       &   0.611965479 &  -1.1428691   & 6.584817e+00 \\\\\n",
       "\tSquare.Feet.Total &  4            &  666          & 3.003769e+04  & 2.113811e+05  &  3000.0       & 5.572727e+03  & 3298.7850     &     0         & 4007000       & 4007000       &  14.822892776 & 244.6015244   & 8.190851e+03 \\\\\n",
       "\tNeighborhood* &  5            & 1202          & 1.337105e+01  & 2.046651e+01  &     1.0       & 8.836798e+00  &    0.0000     &     1         &      69       &      68       &   1.566808348 &   1.0078067   & 5.903255e-01 \\\\\n",
       "\tOrganization.Type* &  6            & 1202          & 5.609817e+00  & 4.942299e+00  &     6.0       & 5.262994e+00  &    7.4130     &     1         &      13       &      12       &   0.524544670 &  -1.3400827   & 1.425531e-01 \\\\\n",
       "\tDominant.Discipline* &  7            & 1202          & 1.243261e+01  & 5.082094e+00  &    14.0       & 1.271726e+01  &    5.9304     &     1         &      19       &      18       &  -0.457841361 &  -0.9684228   & 1.465853e-01 \\\\\n",
       "\tYear.of.Occupation &  8            &  674          & 1.979165e+03  & 1.886136e+02  &  2005.0       & 2.001689e+03  &   10.3782     &     2         &    2017       &    2015       & -10.204414345 & 103.8071769   & 7.265125e+00 \\\\\n",
       "\tRent.vs.Own* &  9            & 1202          & 2.608985e+00  & 1.754315e+00  &     2.0       & 2.498960e+00  &    1.4826     &     1         &       6       &       5       &   0.508756271 &  -1.4898438   & 5.060056e-02 \\\\\n",
       "\tAge.of.Current.Building & 10            &  651          & 1.935845e+03  & 1.655285e+02  &  1950.0       & 1.948835e+03  &   44.4780     &     1         &    2015       &    2014       & -10.456361504 & 113.3902109   & 6.487573e+00 \\\\\n",
       "\tLength.of.Lease..Date.* & 11            & 1202          & 6.369384e+00  & 1.136130e+01  &     1.0       & 3.408524e+00  &    0.0000     &     1         &      52       &      51       &   2.323867603 &   4.6922263   & 3.276995e-01 \\\\\n",
       "\tYear.Organization.Founded & 12            &  673          & 1.984520e+03  & 3.075532e+01  &  1995.0       & 1.990360e+03  &   19.2738     &  1819         &    2017       &     198       &  -1.675277566 &   2.6556713   & 1.185531e+00 \\\\\n",
       "\tNumber.of.Past.Facilities & 13            &  656          & 1.080793e+00  & 1.527717e+00  &     1.0       & 8.269962e-01  &    1.4826     &     0         &      20       &      20       &   4.158215133 &  38.3286560   & 5.964735e-02 \\\\\n",
       "\tStages.and.Theaters & 14            &  662          & 4.335347e-01  & 7.900435e-01  &     0.0       & 2.849057e-01  &    0.0000     &     0         &      10       &      10       &   4.032707597 &  34.5850485   & 3.070591e-02 \\\\\n",
       "\tStage...Theater.Seats & 15            &  467          & 2.404732e+02  & 1.601804e+03  &     0.0       & 6.734667e+01  &    0.0000     &     0         &   30000       &   30000       &  15.819686870 & 272.2699286   & 7.412265e+01 \\\\\n",
       "\tGallery.Space* & 16            & 1202          & 3.113145e+00  & 2.042963e+00  &     4.0       & 3.008316e+00  &    2.9652     &     1         &       7       &       6       &   0.197168987 &  -1.5209959   & 5.892618e-02 \\\\\n",
       "\tGallery.Square.Feet & 17            &  441          & 1.548678e+03  & 1.074218e+04  &   100.0       & 3.923513e+02  &  148.2600     &     0         &  210000       &  210000       &  17.142324458 & 321.6710946   & 5.115322e+02 \\\\\n",
       "\tADA.Compliant* & 18            & 1202          & 3.681364e+00  & 2.702416e+00  &     3.0       & 3.596674e+00  &    2.9652     &     1         &       8       &       7       &   0.188433109 &  -1.7831972   & 7.794709e-02 \\\\\n",
       "\tAvailable.Parking & 19            &  614          & 9.057980e+01  & 1.127662e+03  &     5.0       & 1.723577e+01  &    7.4130     &     0         &   27808       &   27808       &  24.191936578 & 591.4708101   & 4.550875e+01 \\\\\n",
       "\tStreet.Presence* & 20            & 1202          & 3.376040e+00  & 2.334627e+00  &     3.0       & 3.337838e+00  &    2.9652     &     1         &       7       &       6       &   0.140002727 &  -1.8347640   & 6.733878e-02 \\\\\n",
       "\tRental.Space* & 21            & 1202          & 3.014975e+00  & 2.133694e+00  &     3.0       & 2.875260e+00  &    2.9652     &     1         &       7       &       6       &   0.490773512 &  -1.3934177   & 6.154316e-02 \\\\\n",
       "\tAlcohol.Sales* & 22            & 1202          & 2.490017e+00  & 1.492803e+00  &     3.0       & 2.361746e+00  &    2.9652     &     1         &       6       &       5       &   0.449943392 &  -1.1000092   & 4.305763e-02 \\\\\n",
       "\tOrganization.Mission* & 23            & 1202          & 1.292013e+00  & 2.253410e+00  &     1.0       & 1.000000e+00  &    0.0000     &     1         &      27       &      26       &   8.566938154 &  76.6907140   & 6.499619e-02 \\\\\n",
       "\tFunded.by.A.C* & 24            & 1202          & 2.554908e+00  & 2.289402e+00  &     1.0       & 2.066528e+00  &    0.0000     &     1         &      10       &       9       &   1.301790245 &   0.5804974   & 6.603434e-02 \\\\\n",
       "\tFunded.by.4Culture* & 25            & 1202          & 1.656406e+00  & 1.477304e+00  &     1.0       & 1.235967e+00  &    0.0000     &     1         &       8       &       7       &   2.213340710 &   3.6580983   & 4.261060e-02 \\\\\n",
       "\tStability.Index..5.very.stable..1.very.uncertain. & 26            &  678          & 4.085546e+00  & 1.105270e+00  &     4.0       & 4.275735e+00  &    1.4826     &     1         &       5       &       4       &  -1.132417888 &   0.4733237   & 4.244765e-02 \\\\\n",
       "\tControl.Index..5.very.in.control..1...very.out.of.control.. & 27            &   29          & 3.275862e+00  & 1.278854e+00  &     3.0       & 3.320000e+00  &    1.4826     &     1         &       5       &       4       &  -0.206194038 &  -1.0826700   & 2.374773e-01 \\\\\n",
       "\tConstituency.over.50..one.race* & 28            &    0          &          NaN  &           NA  &      NA       &          NaN  &        NA     &   Inf         &    -Inf       &    -Inf       &            NA &          NA   &           NA \\\\\n",
       "\tSpecific.Demographics.and.Community* & 29            & 1202          & 3.410150e+00  & 5.256675e+00  &     1.0       & 2.014553e+00  &    0.0000     &     1         &      18       &      17       &   1.915614218 &   1.9706496   & 1.516208e-01 \\\\\n",
       "\tOrganization.Leadership* & 30            & 1202          & 1.028286e+00  & 1.936508e-01  &     1.0       & 1.000000e+00  &    0.0000     &     1         &       3       &       2       &   7.578327049 &  62.2510226   & 5.585565e-03 \\\\\n",
       "\tOrganization.Artists* & 31            & 1202          & 1.028286e+00  & 1.936508e-01  &     1.0       & 1.000000e+00  &    0.0000     &     1         &       3       &       2       &   7.578327049 &  62.2510226   & 5.585565e-03 \\\\\n",
       "\tClosed.Date* & 32            & 1202          & 1.341098e+00  & 2.487295e+00  &     1.0       & 1.000000e+00  &    0.0000     &     1         &      28       &      27       &   8.086404736 &  68.0487019   & 7.174226e-02 \\\\\n",
       "\tClosed. & 33            & 1181          & 2.878916e-02  & 1.672843e-01  &     0.0       & 0.000000e+00  &    0.0000     &     0         &       1       &       1       &   5.628882219 &  29.7094734   & 4.867772e-03 \\\\\n",
       "\tAddress* & 34            & 1202          & 5.602604e+02  & 3.357869e+02  &   555.5       & 5.600166e+02  &  432.1779     &     1         &    1141       &    1140       &   0.006812140 &  -1.2058847   & 9.685266e+00 \\\\\n",
       "\tLocation* & 35            & 1202          & 5.358577e+02  & 3.253216e+02  &   535.5       & 5.354834e+02  &  416.6106     &     1         &    1101       &    1100       &   0.007460542 &  -1.1943559   & 9.383410e+00 \\\\\n",
       "\tX2010.Census.Tracts & 36            &   42          & 1.155714e+02  & 1.139564e+01  &   117.0       & 1.155882e+02  &   14.8260     &    97         &     135       &      38       &  -0.014917644 &  -1.0383354   & 1.758386e+00 \\\\\n",
       "\tSeattle.Police.Department.Micro.Community.Policing.Plan.Areas & 37            &  853          & 3.132122e+01  & 2.016906e+01  &    27.0       & 3.116252e+01  &   28.1694     &     1         &      61       &      60       &   0.084154875 &  -1.5482012   & 6.905755e-01 \\\\\n",
       "\tCity.Council.Districts & 38            &   37          & 1.540541e+00  & 5.052279e-01  &     2.0       & 1.548387e+00  &    0.0000     &     1         &       2       &       1       &  -0.156146754 &  -2.0282645   & 8.305896e-02 \\\\\n",
       "\tSPD.Beats & 39            &  853          & 2.450410e+01  & 1.510182e+01  &    23.0       & 2.433382e+01  &   20.7564     &     1         &      51       &      50       &   0.067395156 &  -1.2839469   & 5.170763e-01 \\\\\n",
       "\tZip.Codes & 40            & 1164          & 1.924192e+04  & 3.098183e+03  & 18383.0       & 1.858205e+04  &  601.9356     & 17005         &   32443       &   15438       &   3.668834240 &  12.1910833   & 9.080934e+01 \\\\\n",
       "\\end{tabular}\n"
      ],
      "text/markdown": [
       "\n",
       "| <!--/--> | vars | n | mean | sd | median | trimmed | mad | min | max | range | skew | kurtosis | se | \n",
       "|---|---|---|---|---|---|---|---|---|---|---|---|---|---|---|---|---|---|---|---|---|---|---|---|---|---|---|---|---|---|---|---|---|---|---|---|---|---|---|---|\n",
       "| Name* |  1            | 1202          | 5.987072e+02  | 3.461480e+02  |   598.5       | 5.987723e+02  |  444.7800     |     1         |    1197       |    1196       |  -0.000814360 |  -1.2056053   | 9.984116e+00  | \n",
       "| Phone* |  2            | 1202          | 2.085208e+02  | 2.300161e+02  |   116.5       | 1.807432e+02  |  171.2403     |     1         |     697       |     696       |   0.668082656 |  -1.0205702   | 6.634466e+00  | \n",
       "| URL* |  3            | 1202          | 2.100657e+02  | 2.282948e+02  |   122.5       | 1.850468e+02  |  180.1359     |     1         |     677       |     676       |   0.611965479 |  -1.1428691   | 6.584817e+00  | \n",
       "| Square.Feet.Total |  4            |  666          | 3.003769e+04  | 2.113811e+05  |  3000.0       | 5.572727e+03  | 3298.7850     |     0         | 4007000       | 4007000       |  14.822892776 | 244.6015244   | 8.190851e+03  | \n",
       "| Neighborhood* |  5            | 1202          | 1.337105e+01  | 2.046651e+01  |     1.0       | 8.836798e+00  |    0.0000     |     1         |      69       |      68       |   1.566808348 |   1.0078067   | 5.903255e-01  | \n",
       "| Organization.Type* |  6            | 1202          | 5.609817e+00  | 4.942299e+00  |     6.0       | 5.262994e+00  |    7.4130     |     1         |      13       |      12       |   0.524544670 |  -1.3400827   | 1.425531e-01  | \n",
       "| Dominant.Discipline* |  7            | 1202          | 1.243261e+01  | 5.082094e+00  |    14.0       | 1.271726e+01  |    5.9304     |     1         |      19       |      18       |  -0.457841361 |  -0.9684228   | 1.465853e-01  | \n",
       "| Year.of.Occupation |  8            |  674          | 1.979165e+03  | 1.886136e+02  |  2005.0       | 2.001689e+03  |   10.3782     |     2         |    2017       |    2015       | -10.204414345 | 103.8071769   | 7.265125e+00  | \n",
       "| Rent.vs.Own* |  9            | 1202          | 2.608985e+00  | 1.754315e+00  |     2.0       | 2.498960e+00  |    1.4826     |     1         |       6       |       5       |   0.508756271 |  -1.4898438   | 5.060056e-02  | \n",
       "| Age.of.Current.Building | 10            |  651          | 1.935845e+03  | 1.655285e+02  |  1950.0       | 1.948835e+03  |   44.4780     |     1         |    2015       |    2014       | -10.456361504 | 113.3902109   | 6.487573e+00  | \n",
       "| Length.of.Lease..Date.* | 11            | 1202          | 6.369384e+00  | 1.136130e+01  |     1.0       | 3.408524e+00  |    0.0000     |     1         |      52       |      51       |   2.323867603 |   4.6922263   | 3.276995e-01  | \n",
       "| Year.Organization.Founded | 12            |  673          | 1.984520e+03  | 3.075532e+01  |  1995.0       | 1.990360e+03  |   19.2738     |  1819         |    2017       |     198       |  -1.675277566 |   2.6556713   | 1.185531e+00  | \n",
       "| Number.of.Past.Facilities | 13            |  656          | 1.080793e+00  | 1.527717e+00  |     1.0       | 8.269962e-01  |    1.4826     |     0         |      20       |      20       |   4.158215133 |  38.3286560   | 5.964735e-02  | \n",
       "| Stages.and.Theaters | 14            |  662          | 4.335347e-01  | 7.900435e-01  |     0.0       | 2.849057e-01  |    0.0000     |     0         |      10       |      10       |   4.032707597 |  34.5850485   | 3.070591e-02  | \n",
       "| Stage...Theater.Seats | 15            |  467          | 2.404732e+02  | 1.601804e+03  |     0.0       | 6.734667e+01  |    0.0000     |     0         |   30000       |   30000       |  15.819686870 | 272.2699286   | 7.412265e+01  | \n",
       "| Gallery.Space* | 16            | 1202          | 3.113145e+00  | 2.042963e+00  |     4.0       | 3.008316e+00  |    2.9652     |     1         |       7       |       6       |   0.197168987 |  -1.5209959   | 5.892618e-02  | \n",
       "| Gallery.Square.Feet | 17            |  441          | 1.548678e+03  | 1.074218e+04  |   100.0       | 3.923513e+02  |  148.2600     |     0         |  210000       |  210000       |  17.142324458 | 321.6710946   | 5.115322e+02  | \n",
       "| ADA.Compliant* | 18            | 1202          | 3.681364e+00  | 2.702416e+00  |     3.0       | 3.596674e+00  |    2.9652     |     1         |       8       |       7       |   0.188433109 |  -1.7831972   | 7.794709e-02  | \n",
       "| Available.Parking | 19            |  614          | 9.057980e+01  | 1.127662e+03  |     5.0       | 1.723577e+01  |    7.4130     |     0         |   27808       |   27808       |  24.191936578 | 591.4708101   | 4.550875e+01  | \n",
       "| Street.Presence* | 20            | 1202          | 3.376040e+00  | 2.334627e+00  |     3.0       | 3.337838e+00  |    2.9652     |     1         |       7       |       6       |   0.140002727 |  -1.8347640   | 6.733878e-02  | \n",
       "| Rental.Space* | 21            | 1202          | 3.014975e+00  | 2.133694e+00  |     3.0       | 2.875260e+00  |    2.9652     |     1         |       7       |       6       |   0.490773512 |  -1.3934177   | 6.154316e-02  | \n",
       "| Alcohol.Sales* | 22            | 1202          | 2.490017e+00  | 1.492803e+00  |     3.0       | 2.361746e+00  |    2.9652     |     1         |       6       |       5       |   0.449943392 |  -1.1000092   | 4.305763e-02  | \n",
       "| Organization.Mission* | 23            | 1202          | 1.292013e+00  | 2.253410e+00  |     1.0       | 1.000000e+00  |    0.0000     |     1         |      27       |      26       |   8.566938154 |  76.6907140   | 6.499619e-02  | \n",
       "| Funded.by.A.C* | 24            | 1202          | 2.554908e+00  | 2.289402e+00  |     1.0       | 2.066528e+00  |    0.0000     |     1         |      10       |       9       |   1.301790245 |   0.5804974   | 6.603434e-02  | \n",
       "| Funded.by.4Culture* | 25            | 1202          | 1.656406e+00  | 1.477304e+00  |     1.0       | 1.235967e+00  |    0.0000     |     1         |       8       |       7       |   2.213340710 |   3.6580983   | 4.261060e-02  | \n",
       "| Stability.Index..5.very.stable..1.very.uncertain. | 26            |  678          | 4.085546e+00  | 1.105270e+00  |     4.0       | 4.275735e+00  |    1.4826     |     1         |       5       |       4       |  -1.132417888 |   0.4733237   | 4.244765e-02  | \n",
       "| Control.Index..5.very.in.control..1...very.out.of.control.. | 27            |   29          | 3.275862e+00  | 1.278854e+00  |     3.0       | 3.320000e+00  |    1.4826     |     1         |       5       |       4       |  -0.206194038 |  -1.0826700   | 2.374773e-01  | \n",
       "| Constituency.over.50..one.race* | 28            |    0          |          NaN  |           NA  |      NA       |          NaN  |        NA     |   Inf         |    -Inf       |    -Inf       |            NA |          NA   |           NA  | \n",
       "| Specific.Demographics.and.Community* | 29            | 1202          | 3.410150e+00  | 5.256675e+00  |     1.0       | 2.014553e+00  |    0.0000     |     1         |      18       |      17       |   1.915614218 |   1.9706496   | 1.516208e-01  | \n",
       "| Organization.Leadership* | 30            | 1202          | 1.028286e+00  | 1.936508e-01  |     1.0       | 1.000000e+00  |    0.0000     |     1         |       3       |       2       |   7.578327049 |  62.2510226   | 5.585565e-03  | \n",
       "| Organization.Artists* | 31            | 1202          | 1.028286e+00  | 1.936508e-01  |     1.0       | 1.000000e+00  |    0.0000     |     1         |       3       |       2       |   7.578327049 |  62.2510226   | 5.585565e-03  | \n",
       "| Closed.Date* | 32            | 1202          | 1.341098e+00  | 2.487295e+00  |     1.0       | 1.000000e+00  |    0.0000     |     1         |      28       |      27       |   8.086404736 |  68.0487019   | 7.174226e-02  | \n",
       "| Closed. | 33            | 1181          | 2.878916e-02  | 1.672843e-01  |     0.0       | 0.000000e+00  |    0.0000     |     0         |       1       |       1       |   5.628882219 |  29.7094734   | 4.867772e-03  | \n",
       "| Address* | 34            | 1202          | 5.602604e+02  | 3.357869e+02  |   555.5       | 5.600166e+02  |  432.1779     |     1         |    1141       |    1140       |   0.006812140 |  -1.2058847   | 9.685266e+00  | \n",
       "| Location* | 35            | 1202          | 5.358577e+02  | 3.253216e+02  |   535.5       | 5.354834e+02  |  416.6106     |     1         |    1101       |    1100       |   0.007460542 |  -1.1943559   | 9.383410e+00  | \n",
       "| X2010.Census.Tracts | 36            |   42          | 1.155714e+02  | 1.139564e+01  |   117.0       | 1.155882e+02  |   14.8260     |    97         |     135       |      38       |  -0.014917644 |  -1.0383354   | 1.758386e+00  | \n",
       "| Seattle.Police.Department.Micro.Community.Policing.Plan.Areas | 37            |  853          | 3.132122e+01  | 2.016906e+01  |    27.0       | 3.116252e+01  |   28.1694     |     1         |      61       |      60       |   0.084154875 |  -1.5482012   | 6.905755e-01  | \n",
       "| City.Council.Districts | 38            |   37          | 1.540541e+00  | 5.052279e-01  |     2.0       | 1.548387e+00  |    0.0000     |     1         |       2       |       1       |  -0.156146754 |  -2.0282645   | 8.305896e-02  | \n",
       "| SPD.Beats | 39            |  853          | 2.450410e+01  | 1.510182e+01  |    23.0       | 2.433382e+01  |   20.7564     |     1         |      51       |      50       |   0.067395156 |  -1.2839469   | 5.170763e-01  | \n",
       "| Zip.Codes | 40            | 1164          | 1.924192e+04  | 3.098183e+03  | 18383.0       | 1.858205e+04  |  601.9356     | 17005         |   32443       |   15438       |   3.668834240 |  12.1910833   | 9.080934e+01  | \n",
       "\n",
       "\n"
      ],
      "text/plain": [
       "                                                              vars n   \n",
       "Name*                                                          1   1202\n",
       "Phone*                                                         2   1202\n",
       "URL*                                                           3   1202\n",
       "Square.Feet.Total                                              4    666\n",
       "Neighborhood*                                                  5   1202\n",
       "Organization.Type*                                             6   1202\n",
       "Dominant.Discipline*                                           7   1202\n",
       "Year.of.Occupation                                             8    674\n",
       "Rent.vs.Own*                                                   9   1202\n",
       "Age.of.Current.Building                                       10    651\n",
       "Length.of.Lease..Date.*                                       11   1202\n",
       "Year.Organization.Founded                                     12    673\n",
       "Number.of.Past.Facilities                                     13    656\n",
       "Stages.and.Theaters                                           14    662\n",
       "Stage...Theater.Seats                                         15    467\n",
       "Gallery.Space*                                                16   1202\n",
       "Gallery.Square.Feet                                           17    441\n",
       "ADA.Compliant*                                                18   1202\n",
       "Available.Parking                                             19    614\n",
       "Street.Presence*                                              20   1202\n",
       "Rental.Space*                                                 21   1202\n",
       "Alcohol.Sales*                                                22   1202\n",
       "Organization.Mission*                                         23   1202\n",
       "Funded.by.A.C*                                                24   1202\n",
       "Funded.by.4Culture*                                           25   1202\n",
       "Stability.Index..5.very.stable..1.very.uncertain.             26    678\n",
       "Control.Index..5.very.in.control..1...very.out.of.control..   27     29\n",
       "Constituency.over.50..one.race*                               28      0\n",
       "Specific.Demographics.and.Community*                          29   1202\n",
       "Organization.Leadership*                                      30   1202\n",
       "Organization.Artists*                                         31   1202\n",
       "Closed.Date*                                                  32   1202\n",
       "Closed.                                                       33   1181\n",
       "Address*                                                      34   1202\n",
       "Location*                                                     35   1202\n",
       "X2010.Census.Tracts                                           36     42\n",
       "Seattle.Police.Department.Micro.Community.Policing.Plan.Areas 37    853\n",
       "City.Council.Districts                                        38     37\n",
       "SPD.Beats                                                     39    853\n",
       "Zip.Codes                                                     40   1164\n",
       "                                                              mean        \n",
       "Name*                                                         5.987072e+02\n",
       "Phone*                                                        2.085208e+02\n",
       "URL*                                                          2.100657e+02\n",
       "Square.Feet.Total                                             3.003769e+04\n",
       "Neighborhood*                                                 1.337105e+01\n",
       "Organization.Type*                                            5.609817e+00\n",
       "Dominant.Discipline*                                          1.243261e+01\n",
       "Year.of.Occupation                                            1.979165e+03\n",
       "Rent.vs.Own*                                                  2.608985e+00\n",
       "Age.of.Current.Building                                       1.935845e+03\n",
       "Length.of.Lease..Date.*                                       6.369384e+00\n",
       "Year.Organization.Founded                                     1.984520e+03\n",
       "Number.of.Past.Facilities                                     1.080793e+00\n",
       "Stages.and.Theaters                                           4.335347e-01\n",
       "Stage...Theater.Seats                                         2.404732e+02\n",
       "Gallery.Space*                                                3.113145e+00\n",
       "Gallery.Square.Feet                                           1.548678e+03\n",
       "ADA.Compliant*                                                3.681364e+00\n",
       "Available.Parking                                             9.057980e+01\n",
       "Street.Presence*                                              3.376040e+00\n",
       "Rental.Space*                                                 3.014975e+00\n",
       "Alcohol.Sales*                                                2.490017e+00\n",
       "Organization.Mission*                                         1.292013e+00\n",
       "Funded.by.A.C*                                                2.554908e+00\n",
       "Funded.by.4Culture*                                           1.656406e+00\n",
       "Stability.Index..5.very.stable..1.very.uncertain.             4.085546e+00\n",
       "Control.Index..5.very.in.control..1...very.out.of.control..   3.275862e+00\n",
       "Constituency.over.50..one.race*                                        NaN\n",
       "Specific.Demographics.and.Community*                          3.410150e+00\n",
       "Organization.Leadership*                                      1.028286e+00\n",
       "Organization.Artists*                                         1.028286e+00\n",
       "Closed.Date*                                                  1.341098e+00\n",
       "Closed.                                                       2.878916e-02\n",
       "Address*                                                      5.602604e+02\n",
       "Location*                                                     5.358577e+02\n",
       "X2010.Census.Tracts                                           1.155714e+02\n",
       "Seattle.Police.Department.Micro.Community.Policing.Plan.Areas 3.132122e+01\n",
       "City.Council.Districts                                        1.540541e+00\n",
       "SPD.Beats                                                     2.450410e+01\n",
       "Zip.Codes                                                     1.924192e+04\n",
       "                                                              sd          \n",
       "Name*                                                         3.461480e+02\n",
       "Phone*                                                        2.300161e+02\n",
       "URL*                                                          2.282948e+02\n",
       "Square.Feet.Total                                             2.113811e+05\n",
       "Neighborhood*                                                 2.046651e+01\n",
       "Organization.Type*                                            4.942299e+00\n",
       "Dominant.Discipline*                                          5.082094e+00\n",
       "Year.of.Occupation                                            1.886136e+02\n",
       "Rent.vs.Own*                                                  1.754315e+00\n",
       "Age.of.Current.Building                                       1.655285e+02\n",
       "Length.of.Lease..Date.*                                       1.136130e+01\n",
       "Year.Organization.Founded                                     3.075532e+01\n",
       "Number.of.Past.Facilities                                     1.527717e+00\n",
       "Stages.and.Theaters                                           7.900435e-01\n",
       "Stage...Theater.Seats                                         1.601804e+03\n",
       "Gallery.Space*                                                2.042963e+00\n",
       "Gallery.Square.Feet                                           1.074218e+04\n",
       "ADA.Compliant*                                                2.702416e+00\n",
       "Available.Parking                                             1.127662e+03\n",
       "Street.Presence*                                              2.334627e+00\n",
       "Rental.Space*                                                 2.133694e+00\n",
       "Alcohol.Sales*                                                1.492803e+00\n",
       "Organization.Mission*                                         2.253410e+00\n",
       "Funded.by.A.C*                                                2.289402e+00\n",
       "Funded.by.4Culture*                                           1.477304e+00\n",
       "Stability.Index..5.very.stable..1.very.uncertain.             1.105270e+00\n",
       "Control.Index..5.very.in.control..1...very.out.of.control..   1.278854e+00\n",
       "Constituency.over.50..one.race*                                         NA\n",
       "Specific.Demographics.and.Community*                          5.256675e+00\n",
       "Organization.Leadership*                                      1.936508e-01\n",
       "Organization.Artists*                                         1.936508e-01\n",
       "Closed.Date*                                                  2.487295e+00\n",
       "Closed.                                                       1.672843e-01\n",
       "Address*                                                      3.357869e+02\n",
       "Location*                                                     3.253216e+02\n",
       "X2010.Census.Tracts                                           1.139564e+01\n",
       "Seattle.Police.Department.Micro.Community.Policing.Plan.Areas 2.016906e+01\n",
       "City.Council.Districts                                        5.052279e-01\n",
       "SPD.Beats                                                     1.510182e+01\n",
       "Zip.Codes                                                     3.098183e+03\n",
       "                                                              median \n",
       "Name*                                                           598.5\n",
       "Phone*                                                          116.5\n",
       "URL*                                                            122.5\n",
       "Square.Feet.Total                                              3000.0\n",
       "Neighborhood*                                                     1.0\n",
       "Organization.Type*                                                6.0\n",
       "Dominant.Discipline*                                             14.0\n",
       "Year.of.Occupation                                             2005.0\n",
       "Rent.vs.Own*                                                      2.0\n",
       "Age.of.Current.Building                                        1950.0\n",
       "Length.of.Lease..Date.*                                           1.0\n",
       "Year.Organization.Founded                                      1995.0\n",
       "Number.of.Past.Facilities                                         1.0\n",
       "Stages.and.Theaters                                               0.0\n",
       "Stage...Theater.Seats                                             0.0\n",
       "Gallery.Space*                                                    4.0\n",
       "Gallery.Square.Feet                                             100.0\n",
       "ADA.Compliant*                                                    3.0\n",
       "Available.Parking                                                 5.0\n",
       "Street.Presence*                                                  3.0\n",
       "Rental.Space*                                                     3.0\n",
       "Alcohol.Sales*                                                    3.0\n",
       "Organization.Mission*                                             1.0\n",
       "Funded.by.A.C*                                                    1.0\n",
       "Funded.by.4Culture*                                               1.0\n",
       "Stability.Index..5.very.stable..1.very.uncertain.                 4.0\n",
       "Control.Index..5.very.in.control..1...very.out.of.control..       3.0\n",
       "Constituency.over.50..one.race*                                    NA\n",
       "Specific.Demographics.and.Community*                              1.0\n",
       "Organization.Leadership*                                          1.0\n",
       "Organization.Artists*                                             1.0\n",
       "Closed.Date*                                                      1.0\n",
       "Closed.                                                           0.0\n",
       "Address*                                                        555.5\n",
       "Location*                                                       535.5\n",
       "X2010.Census.Tracts                                             117.0\n",
       "Seattle.Police.Department.Micro.Community.Policing.Plan.Areas    27.0\n",
       "City.Council.Districts                                            2.0\n",
       "SPD.Beats                                                        23.0\n",
       "Zip.Codes                                                     18383.0\n",
       "                                                              trimmed     \n",
       "Name*                                                         5.987723e+02\n",
       "Phone*                                                        1.807432e+02\n",
       "URL*                                                          1.850468e+02\n",
       "Square.Feet.Total                                             5.572727e+03\n",
       "Neighborhood*                                                 8.836798e+00\n",
       "Organization.Type*                                            5.262994e+00\n",
       "Dominant.Discipline*                                          1.271726e+01\n",
       "Year.of.Occupation                                            2.001689e+03\n",
       "Rent.vs.Own*                                                  2.498960e+00\n",
       "Age.of.Current.Building                                       1.948835e+03\n",
       "Length.of.Lease..Date.*                                       3.408524e+00\n",
       "Year.Organization.Founded                                     1.990360e+03\n",
       "Number.of.Past.Facilities                                     8.269962e-01\n",
       "Stages.and.Theaters                                           2.849057e-01\n",
       "Stage...Theater.Seats                                         6.734667e+01\n",
       "Gallery.Space*                                                3.008316e+00\n",
       "Gallery.Square.Feet                                           3.923513e+02\n",
       "ADA.Compliant*                                                3.596674e+00\n",
       "Available.Parking                                             1.723577e+01\n",
       "Street.Presence*                                              3.337838e+00\n",
       "Rental.Space*                                                 2.875260e+00\n",
       "Alcohol.Sales*                                                2.361746e+00\n",
       "Organization.Mission*                                         1.000000e+00\n",
       "Funded.by.A.C*                                                2.066528e+00\n",
       "Funded.by.4Culture*                                           1.235967e+00\n",
       "Stability.Index..5.very.stable..1.very.uncertain.             4.275735e+00\n",
       "Control.Index..5.very.in.control..1...very.out.of.control..   3.320000e+00\n",
       "Constituency.over.50..one.race*                                        NaN\n",
       "Specific.Demographics.and.Community*                          2.014553e+00\n",
       "Organization.Leadership*                                      1.000000e+00\n",
       "Organization.Artists*                                         1.000000e+00\n",
       "Closed.Date*                                                  1.000000e+00\n",
       "Closed.                                                       0.000000e+00\n",
       "Address*                                                      5.600166e+02\n",
       "Location*                                                     5.354834e+02\n",
       "X2010.Census.Tracts                                           1.155882e+02\n",
       "Seattle.Police.Department.Micro.Community.Policing.Plan.Areas 3.116252e+01\n",
       "City.Council.Districts                                        1.548387e+00\n",
       "SPD.Beats                                                     2.433382e+01\n",
       "Zip.Codes                                                     1.858205e+04\n",
       "                                                              mad       min  \n",
       "Name*                                                          444.7800     1\n",
       "Phone*                                                         171.2403     1\n",
       "URL*                                                           180.1359     1\n",
       "Square.Feet.Total                                             3298.7850     0\n",
       "Neighborhood*                                                    0.0000     1\n",
       "Organization.Type*                                               7.4130     1\n",
       "Dominant.Discipline*                                             5.9304     1\n",
       "Year.of.Occupation                                              10.3782     2\n",
       "Rent.vs.Own*                                                     1.4826     1\n",
       "Age.of.Current.Building                                         44.4780     1\n",
       "Length.of.Lease..Date.*                                          0.0000     1\n",
       "Year.Organization.Founded                                       19.2738  1819\n",
       "Number.of.Past.Facilities                                        1.4826     0\n",
       "Stages.and.Theaters                                              0.0000     0\n",
       "Stage...Theater.Seats                                            0.0000     0\n",
       "Gallery.Space*                                                   2.9652     1\n",
       "Gallery.Square.Feet                                            148.2600     0\n",
       "ADA.Compliant*                                                   2.9652     1\n",
       "Available.Parking                                                7.4130     0\n",
       "Street.Presence*                                                 2.9652     1\n",
       "Rental.Space*                                                    2.9652     1\n",
       "Alcohol.Sales*                                                   2.9652     1\n",
       "Organization.Mission*                                            0.0000     1\n",
       "Funded.by.A.C*                                                   0.0000     1\n",
       "Funded.by.4Culture*                                              0.0000     1\n",
       "Stability.Index..5.very.stable..1.very.uncertain.                1.4826     1\n",
       "Control.Index..5.very.in.control..1...very.out.of.control..      1.4826     1\n",
       "Constituency.over.50..one.race*                                      NA   Inf\n",
       "Specific.Demographics.and.Community*                             0.0000     1\n",
       "Organization.Leadership*                                         0.0000     1\n",
       "Organization.Artists*                                            0.0000     1\n",
       "Closed.Date*                                                     0.0000     1\n",
       "Closed.                                                          0.0000     0\n",
       "Address*                                                       432.1779     1\n",
       "Location*                                                      416.6106     1\n",
       "X2010.Census.Tracts                                             14.8260    97\n",
       "Seattle.Police.Department.Micro.Community.Policing.Plan.Areas   28.1694     1\n",
       "City.Council.Districts                                           0.0000     1\n",
       "SPD.Beats                                                       20.7564     1\n",
       "Zip.Codes                                                      601.9356 17005\n",
       "                                                              max     range  \n",
       "Name*                                                            1197    1196\n",
       "Phone*                                                            697     696\n",
       "URL*                                                              677     676\n",
       "Square.Feet.Total                                             4007000 4007000\n",
       "Neighborhood*                                                      69      68\n",
       "Organization.Type*                                                 13      12\n",
       "Dominant.Discipline*                                               19      18\n",
       "Year.of.Occupation                                               2017    2015\n",
       "Rent.vs.Own*                                                        6       5\n",
       "Age.of.Current.Building                                          2015    2014\n",
       "Length.of.Lease..Date.*                                            52      51\n",
       "Year.Organization.Founded                                        2017     198\n",
       "Number.of.Past.Facilities                                          20      20\n",
       "Stages.and.Theaters                                                10      10\n",
       "Stage...Theater.Seats                                           30000   30000\n",
       "Gallery.Space*                                                      7       6\n",
       "Gallery.Square.Feet                                            210000  210000\n",
       "ADA.Compliant*                                                      8       7\n",
       "Available.Parking                                               27808   27808\n",
       "Street.Presence*                                                    7       6\n",
       "Rental.Space*                                                       7       6\n",
       "Alcohol.Sales*                                                      6       5\n",
       "Organization.Mission*                                              27      26\n",
       "Funded.by.A.C*                                                     10       9\n",
       "Funded.by.4Culture*                                                 8       7\n",
       "Stability.Index..5.very.stable..1.very.uncertain.                   5       4\n",
       "Control.Index..5.very.in.control..1...very.out.of.control..         5       4\n",
       "Constituency.over.50..one.race*                                  -Inf    -Inf\n",
       "Specific.Demographics.and.Community*                               18      17\n",
       "Organization.Leadership*                                            3       2\n",
       "Organization.Artists*                                               3       2\n",
       "Closed.Date*                                                       28      27\n",
       "Closed.                                                             1       1\n",
       "Address*                                                         1141    1140\n",
       "Location*                                                        1101    1100\n",
       "X2010.Census.Tracts                                               135      38\n",
       "Seattle.Police.Department.Micro.Community.Policing.Plan.Areas      61      60\n",
       "City.Council.Districts                                              2       1\n",
       "SPD.Beats                                                          51      50\n",
       "Zip.Codes                                                       32443   15438\n",
       "                                                              skew         \n",
       "Name*                                                          -0.000814360\n",
       "Phone*                                                          0.668082656\n",
       "URL*                                                            0.611965479\n",
       "Square.Feet.Total                                              14.822892776\n",
       "Neighborhood*                                                   1.566808348\n",
       "Organization.Type*                                              0.524544670\n",
       "Dominant.Discipline*                                           -0.457841361\n",
       "Year.of.Occupation                                            -10.204414345\n",
       "Rent.vs.Own*                                                    0.508756271\n",
       "Age.of.Current.Building                                       -10.456361504\n",
       "Length.of.Lease..Date.*                                         2.323867603\n",
       "Year.Organization.Founded                                      -1.675277566\n",
       "Number.of.Past.Facilities                                       4.158215133\n",
       "Stages.and.Theaters                                             4.032707597\n",
       "Stage...Theater.Seats                                          15.819686870\n",
       "Gallery.Space*                                                  0.197168987\n",
       "Gallery.Square.Feet                                            17.142324458\n",
       "ADA.Compliant*                                                  0.188433109\n",
       "Available.Parking                                              24.191936578\n",
       "Street.Presence*                                                0.140002727\n",
       "Rental.Space*                                                   0.490773512\n",
       "Alcohol.Sales*                                                  0.449943392\n",
       "Organization.Mission*                                           8.566938154\n",
       "Funded.by.A.C*                                                  1.301790245\n",
       "Funded.by.4Culture*                                             2.213340710\n",
       "Stability.Index..5.very.stable..1.very.uncertain.              -1.132417888\n",
       "Control.Index..5.very.in.control..1...very.out.of.control..    -0.206194038\n",
       "Constituency.over.50..one.race*                                          NA\n",
       "Specific.Demographics.and.Community*                            1.915614218\n",
       "Organization.Leadership*                                        7.578327049\n",
       "Organization.Artists*                                           7.578327049\n",
       "Closed.Date*                                                    8.086404736\n",
       "Closed.                                                         5.628882219\n",
       "Address*                                                        0.006812140\n",
       "Location*                                                       0.007460542\n",
       "X2010.Census.Tracts                                            -0.014917644\n",
       "Seattle.Police.Department.Micro.Community.Policing.Plan.Areas   0.084154875\n",
       "City.Council.Districts                                         -0.156146754\n",
       "SPD.Beats                                                       0.067395156\n",
       "Zip.Codes                                                       3.668834240\n",
       "                                                              kurtosis   \n",
       "Name*                                                          -1.2056053\n",
       "Phone*                                                         -1.0205702\n",
       "URL*                                                           -1.1428691\n",
       "Square.Feet.Total                                             244.6015244\n",
       "Neighborhood*                                                   1.0078067\n",
       "Organization.Type*                                             -1.3400827\n",
       "Dominant.Discipline*                                           -0.9684228\n",
       "Year.of.Occupation                                            103.8071769\n",
       "Rent.vs.Own*                                                   -1.4898438\n",
       "Age.of.Current.Building                                       113.3902109\n",
       "Length.of.Lease..Date.*                                         4.6922263\n",
       "Year.Organization.Founded                                       2.6556713\n",
       "Number.of.Past.Facilities                                      38.3286560\n",
       "Stages.and.Theaters                                            34.5850485\n",
       "Stage...Theater.Seats                                         272.2699286\n",
       "Gallery.Space*                                                 -1.5209959\n",
       "Gallery.Square.Feet                                           321.6710946\n",
       "ADA.Compliant*                                                 -1.7831972\n",
       "Available.Parking                                             591.4708101\n",
       "Street.Presence*                                               -1.8347640\n",
       "Rental.Space*                                                  -1.3934177\n",
       "Alcohol.Sales*                                                 -1.1000092\n",
       "Organization.Mission*                                          76.6907140\n",
       "Funded.by.A.C*                                                  0.5804974\n",
       "Funded.by.4Culture*                                             3.6580983\n",
       "Stability.Index..5.very.stable..1.very.uncertain.               0.4733237\n",
       "Control.Index..5.very.in.control..1...very.out.of.control..    -1.0826700\n",
       "Constituency.over.50..one.race*                                        NA\n",
       "Specific.Demographics.and.Community*                            1.9706496\n",
       "Organization.Leadership*                                       62.2510226\n",
       "Organization.Artists*                                          62.2510226\n",
       "Closed.Date*                                                   68.0487019\n",
       "Closed.                                                        29.7094734\n",
       "Address*                                                       -1.2058847\n",
       "Location*                                                      -1.1943559\n",
       "X2010.Census.Tracts                                            -1.0383354\n",
       "Seattle.Police.Department.Micro.Community.Policing.Plan.Areas  -1.5482012\n",
       "City.Council.Districts                                         -2.0282645\n",
       "SPD.Beats                                                      -1.2839469\n",
       "Zip.Codes                                                      12.1910833\n",
       "                                                              se          \n",
       "Name*                                                         9.984116e+00\n",
       "Phone*                                                        6.634466e+00\n",
       "URL*                                                          6.584817e+00\n",
       "Square.Feet.Total                                             8.190851e+03\n",
       "Neighborhood*                                                 5.903255e-01\n",
       "Organization.Type*                                            1.425531e-01\n",
       "Dominant.Discipline*                                          1.465853e-01\n",
       "Year.of.Occupation                                            7.265125e+00\n",
       "Rent.vs.Own*                                                  5.060056e-02\n",
       "Age.of.Current.Building                                       6.487573e+00\n",
       "Length.of.Lease..Date.*                                       3.276995e-01\n",
       "Year.Organization.Founded                                     1.185531e+00\n",
       "Number.of.Past.Facilities                                     5.964735e-02\n",
       "Stages.and.Theaters                                           3.070591e-02\n",
       "Stage...Theater.Seats                                         7.412265e+01\n",
       "Gallery.Space*                                                5.892618e-02\n",
       "Gallery.Square.Feet                                           5.115322e+02\n",
       "ADA.Compliant*                                                7.794709e-02\n",
       "Available.Parking                                             4.550875e+01\n",
       "Street.Presence*                                              6.733878e-02\n",
       "Rental.Space*                                                 6.154316e-02\n",
       "Alcohol.Sales*                                                4.305763e-02\n",
       "Organization.Mission*                                         6.499619e-02\n",
       "Funded.by.A.C*                                                6.603434e-02\n",
       "Funded.by.4Culture*                                           4.261060e-02\n",
       "Stability.Index..5.very.stable..1.very.uncertain.             4.244765e-02\n",
       "Control.Index..5.very.in.control..1...very.out.of.control..   2.374773e-01\n",
       "Constituency.over.50..one.race*                                         NA\n",
       "Specific.Demographics.and.Community*                          1.516208e-01\n",
       "Organization.Leadership*                                      5.585565e-03\n",
       "Organization.Artists*                                         5.585565e-03\n",
       "Closed.Date*                                                  7.174226e-02\n",
       "Closed.                                                       4.867772e-03\n",
       "Address*                                                      9.685266e+00\n",
       "Location*                                                     9.383410e+00\n",
       "X2010.Census.Tracts                                           1.758386e+00\n",
       "Seattle.Police.Department.Micro.Community.Policing.Plan.Areas 6.905755e-01\n",
       "City.Council.Districts                                        8.305896e-02\n",
       "SPD.Beats                                                     5.170763e-01\n",
       "Zip.Codes                                                     9.080934e+01"
      ]
     },
     "metadata": {},
     "output_type": "display_data"
    }
   ],
   "source": [
    "describe(cultural_spaces)"
   ]
  },
  {
   "cell_type": "code",
   "execution_count": 8,
   "metadata": {},
   "outputs": [
    {
     "data": {
      "text/html": [
       "<table>\n",
       "<thead><tr><th scope=col>Name</th><th scope=col>Phone</th><th scope=col>URL</th><th scope=col>Square.Feet.Total</th><th scope=col>Neighborhood</th><th scope=col>Organization.Type</th><th scope=col>Dominant.Discipline</th><th scope=col>Year.of.Occupation</th><th scope=col>Rent.vs.Own</th><th scope=col>Age.of.Current.Building</th><th scope=col>⋯</th><th scope=col>Organization.Artists</th><th scope=col>Closed.Date</th><th scope=col>Closed.</th><th scope=col>Address</th><th scope=col>Location</th><th scope=col>X2010.Census.Tracts</th><th scope=col>Seattle.Police.Department.Micro.Community.Policing.Plan.Areas</th><th scope=col>City.Council.Districts</th><th scope=col>SPD.Beats</th><th scope=col>Zip.Codes</th></tr></thead>\n",
       "<tbody>\n",
       "\t<tr><td>Bootstrap Music                 </td><td>                                </td><td>                                </td><td> NA                             </td><td>                                </td><td>                                </td><td>Studios                         </td><td>  NA                            </td><td>                                </td><td>  NA                            </td><td>⋯                               </td><td>                                </td><td>                                </td><td> 0                              </td><td>                                </td><td>                                </td><td>NA                              </td><td>NA                              </td><td>NA                              </td><td>NA                              </td><td>   NA                           </td></tr>\n",
       "\t<tr><td>Ghost Gallery                   </td><td>(206) 832-6063                  </td><td>www.ghostgalleryart.com         </td><td>900                             </td><td>Capitol Hill                    </td><td>N                               </td><td>Visual                          </td><td>2010                            </td><td>R                               </td><td>1926                            </td><td>⋯                               </td><td>                                </td><td>                                </td><td> 0                              </td><td>504 E Denny Way Seattle WA 98122</td><td>(47.6186813, -122.3249251)      </td><td>NA                              </td><td> 8                              </td><td>NA                              </td><td> 5                              </td><td>18376                           </td></tr>\n",
       "\t<tr><td>Chihuly Garden and Glass        </td><td>                                </td><td>                                </td><td> NA                             </td><td>                                </td><td>                                </td><td>Visual                          </td><td>  NA                            </td><td>                                </td><td>  NA                            </td><td>⋯                               </td><td>                                </td><td>                                </td><td> 0                              </td><td>305 Harrison St Seattle WA 98109</td><td>(47.6205686, -122.350491)       </td><td>NA                              </td><td>50                              </td><td>NA                              </td><td>40                              </td><td>18390                           </td></tr>\n",
       "\t<tr><td>Dynamic Sound Service           </td><td>                                </td><td>                                </td><td> NA                             </td><td>                                </td><td>                                </td><td>Studios                         </td><td>  NA                            </td><td>                                </td><td>  NA                            </td><td>⋯                               </td><td>                                </td><td>                                </td><td>NA                              </td><td>                                </td><td>                                </td><td>NA                              </td><td>NA                              </td><td>NA                              </td><td>NA                              </td><td>   NA                           </td></tr>\n",
       "\t<tr><td>Golden Oldies                   </td><td>                                </td><td>                                </td><td> NA                             </td><td>                                </td><td>                                </td><td>Music                           </td><td>  NA                            </td><td>                                </td><td>  NA                            </td><td>⋯                               </td><td>                                </td><td>                                </td><td> 0                              </td><td>201 NE 45th St Seattle WA 98105 </td><td>(47.66116, -122.326927)         </td><td>NA                              </td><td>61                              </td><td>NA                              </td><td> 3                              </td><td>18383                           </td></tr>\n",
       "</tbody>\n",
       "</table>\n"
      ],
      "text/latex": [
       "\\begin{tabular}{r|llllllllllllllllllllllllllllllllllllllll}\n",
       " Name & Phone & URL & Square.Feet.Total & Neighborhood & Organization.Type & Dominant.Discipline & Year.of.Occupation & Rent.vs.Own & Age.of.Current.Building & ⋯ & Organization.Artists & Closed.Date & Closed. & Address & Location & X2010.Census.Tracts & Seattle.Police.Department.Micro.Community.Policing.Plan.Areas & City.Council.Districts & SPD.Beats & Zip.Codes\\\\\n",
       "\\hline\n",
       "\t Bootstrap Music                  &                                  &                                  &  NA                              &                                  &                                  & Studios                          &   NA                             &                                  &   NA                             & ⋯                                &                                  &                                  &  0                               &                                  &                                  & NA                               & NA                               & NA                               & NA                               &    NA                           \\\\\n",
       "\t Ghost Gallery                    & (206) 832-6063                   & www.ghostgalleryart.com          & 900                              & Capitol Hill                     & N                                & Visual                           & 2010                             & R                                & 1926                             & ⋯                                &                                  &                                  &  0                               & 504 E Denny Way Seattle WA 98122 & (47.6186813, -122.3249251)       & NA                               &  8                               & NA                               &  5                               & 18376                           \\\\\n",
       "\t Chihuly Garden and Glass         &                                  &                                  &  NA                              &                                  &                                  & Visual                           &   NA                             &                                  &   NA                             & ⋯                                &                                  &                                  &  0                               & 305 Harrison St Seattle WA 98109 & (47.6205686, -122.350491)        & NA                               & 50                               & NA                               & 40                               & 18390                           \\\\\n",
       "\t Dynamic Sound Service            &                                  &                                  &  NA                              &                                  &                                  & Studios                          &   NA                             &                                  &   NA                             & ⋯                                &                                  &                                  & NA                               &                                  &                                  & NA                               & NA                               & NA                               & NA                               &    NA                           \\\\\n",
       "\t Golden Oldies                    &                                  &                                  &  NA                              &                                  &                                  & Music                            &   NA                             &                                  &   NA                             & ⋯                                &                                  &                                  &  0                               & 201 NE 45th St Seattle WA 98105  & (47.66116, -122.326927)          & NA                               & 61                               & NA                               &  3                               & 18383                           \\\\\n",
       "\\end{tabular}\n"
      ],
      "text/markdown": [
       "\n",
       "Name | Phone | URL | Square.Feet.Total | Neighborhood | Organization.Type | Dominant.Discipline | Year.of.Occupation | Rent.vs.Own | Age.of.Current.Building | ⋯ | Organization.Artists | Closed.Date | Closed. | Address | Location | X2010.Census.Tracts | Seattle.Police.Department.Micro.Community.Policing.Plan.Areas | City.Council.Districts | SPD.Beats | Zip.Codes | \n",
       "|---|---|---|---|---|\n",
       "| Bootstrap Music                  |                                  |                                  |  NA                              |                                  |                                  | Studios                          |   NA                             |                                  |   NA                             | ⋯                                |                                  |                                  |  0                               |                                  |                                  | NA                               | NA                               | NA                               | NA                               |    NA                            | \n",
       "| Ghost Gallery                    | (206) 832-6063                   | www.ghostgalleryart.com          | 900                              | Capitol Hill                     | N                                | Visual                           | 2010                             | R                                | 1926                             | ⋯                                |                                  |                                  |  0                               | 504 E Denny Way Seattle WA 98122 | (47.6186813, -122.3249251)       | NA                               |  8                               | NA                               |  5                               | 18376                            | \n",
       "| Chihuly Garden and Glass         |                                  |                                  |  NA                              |                                  |                                  | Visual                           |   NA                             |                                  |   NA                             | ⋯                                |                                  |                                  |  0                               | 305 Harrison St Seattle WA 98109 | (47.6205686, -122.350491)        | NA                               | 50                               | NA                               | 40                               | 18390                            | \n",
       "| Dynamic Sound Service            |                                  |                                  |  NA                              |                                  |                                  | Studios                          |   NA                             |                                  |   NA                             | ⋯                                |                                  |                                  | NA                               |                                  |                                  | NA                               | NA                               | NA                               | NA                               |    NA                            | \n",
       "| Golden Oldies                    |                                  |                                  |  NA                              |                                  |                                  | Music                            |   NA                             |                                  |   NA                             | ⋯                                |                                  |                                  |  0                               | 201 NE 45th St Seattle WA 98105  | (47.66116, -122.326927)          | NA                               | 61                               | NA                               |  3                               | 18383                            | \n",
       "\n",
       "\n"
      ],
      "text/plain": [
       "  Name                     Phone          URL                    \n",
       "1 Bootstrap Music                                                \n",
       "2 Ghost Gallery            (206) 832-6063 www.ghostgalleryart.com\n",
       "3 Chihuly Garden and Glass                                       \n",
       "4 Dynamic Sound Service                                          \n",
       "5 Golden Oldies                                                  \n",
       "  Square.Feet.Total Neighborhood Organization.Type Dominant.Discipline\n",
       "1  NA                                              Studios            \n",
       "2 900               Capitol Hill N                 Visual             \n",
       "3  NA                                              Visual             \n",
       "4  NA                                              Studios            \n",
       "5  NA                                              Music              \n",
       "  Year.of.Occupation Rent.vs.Own Age.of.Current.Building ⋯ Organization.Artists\n",
       "1   NA                             NA                    ⋯                     \n",
       "2 2010               R           1926                    ⋯                     \n",
       "3   NA                             NA                    ⋯                     \n",
       "4   NA                             NA                    ⋯                     \n",
       "5   NA                             NA                    ⋯                     \n",
       "  Closed.Date Closed. Address                         \n",
       "1              0                                      \n",
       "2              0      504 E Denny Way Seattle WA 98122\n",
       "3              0      305 Harrison St Seattle WA 98109\n",
       "4             NA                                      \n",
       "5              0      201 NE 45th St Seattle WA 98105 \n",
       "  Location                   X2010.Census.Tracts\n",
       "1                            NA                 \n",
       "2 (47.6186813, -122.3249251) NA                 \n",
       "3 (47.6205686, -122.350491)  NA                 \n",
       "4                            NA                 \n",
       "5 (47.66116, -122.326927)    NA                 \n",
       "  Seattle.Police.Department.Micro.Community.Policing.Plan.Areas\n",
       "1 NA                                                           \n",
       "2  8                                                           \n",
       "3 50                                                           \n",
       "4 NA                                                           \n",
       "5 61                                                           \n",
       "  City.Council.Districts SPD.Beats Zip.Codes\n",
       "1 NA                     NA           NA    \n",
       "2 NA                      5        18376    \n",
       "3 NA                     40        18390    \n",
       "4 NA                     NA           NA    \n",
       "5 NA                      3        18383    "
      ]
     },
     "metadata": {},
     "output_type": "display_data"
    }
   ],
   "source": [
    "head(cultural_spaces, n=5)"
   ]
  },
  {
   "cell_type": "code",
   "execution_count": 9,
   "metadata": {
    "scrolled": false
   },
   "outputs": [
    {
     "data": {
      "text/html": [
       "<table>\n",
       "<thead><tr><th></th><th scope=col>Name</th><th scope=col>Phone</th><th scope=col>URL</th><th scope=col>Square.Feet.Total</th><th scope=col>Neighborhood</th><th scope=col>Organization.Type</th><th scope=col>Dominant.Discipline</th><th scope=col>Year.of.Occupation</th><th scope=col>Rent.vs.Own</th><th scope=col>Age.of.Current.Building</th><th scope=col>⋯</th><th scope=col>Organization.Artists</th><th scope=col>Closed.Date</th><th scope=col>Closed.</th><th scope=col>Address</th><th scope=col>Location</th><th scope=col>X2010.Census.Tracts</th><th scope=col>Seattle.Police.Department.Micro.Community.Policing.Plan.Areas</th><th scope=col>City.Council.Districts</th><th scope=col>SPD.Beats</th><th scope=col>Zip.Codes</th></tr></thead>\n",
       "<tbody>\n",
       "\t<tr><th scope=row>1198</th><td>Westminster Chapel                                      </td><td>                                                        </td><td>                                                        </td><td>NA                                                      </td><td>                                                        </td><td>                                                        </td><td>Preservation                                            </td><td>NA                                                      </td><td>                                                        </td><td>NA                                                      </td><td>⋯                                                       </td><td>                                                        </td><td>                                                        </td><td>0                                                       </td><td>13646 NE 24th St Bellevue WA 98005                      </td><td>(47.63285, -122.157087)                                 </td><td>NA                                                      </td><td>NA                                                      </td><td>NA                                                      </td><td>NA                                                      </td><td>31850                                                   </td></tr>\n",
       "\t<tr><th scope=row>1199</th><td>Woodinville Repertory Theatre                           </td><td>(206) 510-6304                                          </td><td>www.woodinvillerep.org                                  </td><td>NA                                                      </td><td>                                                        </td><td>                                                        </td><td>Performance                                             </td><td>NA                                                      </td><td>                                                        </td><td>NA                                                      </td><td>⋯                                                       </td><td>                                                        </td><td>                                                        </td><td>0                                                       </td><td>16120 Redmond-Woodinville Rd NE #15 Woodinville WA 98072</td><td>(47.744744, -122.158388)                                </td><td>NA                                                      </td><td>NA                                                      </td><td>NA                                                      </td><td>NA                                                      </td><td>18071                                                   </td></tr>\n",
       "\t<tr><th scope=row>1200</th><td>UMO Ensemble                                            </td><td>(206) 408-8059                                          </td><td>www.umo.org                                             </td><td>NA                                                      </td><td>                                                        </td><td>                                                        </td><td>Performance                                             </td><td>NA                                                      </td><td>                                                        </td><td>NA                                                      </td><td>⋯                                                       </td><td>                                                        </td><td>                                                        </td><td>0                                                       </td><td>18870 SW 103rd Ave SW,  Vashon WA 98070                 </td><td>(47.433761, -122.464157)                                </td><td>NA                                                      </td><td>NA                                                      </td><td>NA                                                      </td><td>NA                                                      </td><td>18068                                                   </td></tr>\n",
       "\t<tr><th scope=row>1201</th><td>Washington Old Time Fiddlers Association                </td><td>                                                        </td><td>                                                        </td><td>NA                                                      </td><td>                                                        </td><td>                                                        </td><td>Music                                                   </td><td>NA                                                      </td><td>                                                        </td><td>NA                                                      </td><td>⋯                                                       </td><td>                                                        </td><td>                                                        </td><td>0                                                       </td><td>18418 112th Avenue SE Renton WA 98055                   </td><td>(47.437241, -122.190124)                                </td><td>NA                                                      </td><td>NA                                                      </td><td>NA                                                      </td><td>NA                                                      </td><td>17808                                                   </td></tr>\n",
       "\t<tr><th scope=row>1202</th><td>Valley Center Stage                                     </td><td>(425) 831-5667                                          </td><td>www.intuitivelearningsys.org                            </td><td>NA                                                      </td><td>                                                        </td><td>                                                        </td><td>Performance                                             </td><td>NA                                                      </td><td>                                                        </td><td>NA                                                      </td><td>⋯                                                       </td><td>                                                        </td><td>                                                        </td><td>0                                                       </td><td>119 West North Bend Way North Bend WA 98045             </td><td>(47.494937, -121.786457)                                </td><td>NA                                                      </td><td>NA                                                      </td><td>NA                                                      </td><td>NA                                                      </td><td>17798                                                   </td></tr>\n",
       "</tbody>\n",
       "</table>\n"
      ],
      "text/latex": [
       "\\begin{tabular}{r|llllllllllllllllllllllllllllllllllllllll}\n",
       "  & Name & Phone & URL & Square.Feet.Total & Neighborhood & Organization.Type & Dominant.Discipline & Year.of.Occupation & Rent.vs.Own & Age.of.Current.Building & ⋯ & Organization.Artists & Closed.Date & Closed. & Address & Location & X2010.Census.Tracts & Seattle.Police.Department.Micro.Community.Policing.Plan.Areas & City.Council.Districts & SPD.Beats & Zip.Codes\\\\\n",
       "\\hline\n",
       "\t1198 & Westminster Chapel                                       &                                                          &                                                          & NA                                                       &                                                          &                                                          & Preservation                                             & NA                                                       &                                                          & NA                                                       & ⋯                                                        &                                                          &                                                          & 0                                                        & 13646 NE 24th St Bellevue WA 98005                       & (47.63285, -122.157087)                                  & NA                                                       & NA                                                       & NA                                                       & NA                                                       & 31850                                                   \\\\\n",
       "\t1199 & Woodinville Repertory Theatre                              & (206) 510-6304                                             & www.woodinvillerep.org                                     & NA                                                         &                                                            &                                                            & Performance                                                & NA                                                         &                                                            & NA                                                         & ⋯                                                          &                                                            &                                                            & 0                                                          & 16120 Redmond-Woodinville Rd NE \\#15 Woodinville WA 98072 & (47.744744, -122.158388)                                   & NA                                                         & NA                                                         & NA                                                         & NA                                                         & 18071                                                     \\\\\n",
       "\t1200 & UMO Ensemble                                             & (206) 408-8059                                           & www.umo.org                                              & NA                                                       &                                                          &                                                          & Performance                                              & NA                                                       &                                                          & NA                                                       & ⋯                                                        &                                                          &                                                          & 0                                                        & 18870 SW 103rd Ave SW,  Vashon WA 98070                  & (47.433761, -122.464157)                                 & NA                                                       & NA                                                       & NA                                                       & NA                                                       & 18068                                                   \\\\\n",
       "\t1201 & Washington Old Time Fiddlers Association                 &                                                          &                                                          & NA                                                       &                                                          &                                                          & Music                                                    & NA                                                       &                                                          & NA                                                       & ⋯                                                        &                                                          &                                                          & 0                                                        & 18418 112th Avenue SE Renton WA 98055                    & (47.437241, -122.190124)                                 & NA                                                       & NA                                                       & NA                                                       & NA                                                       & 17808                                                   \\\\\n",
       "\t1202 & Valley Center Stage                                      & (425) 831-5667                                           & www.intuitivelearningsys.org                             & NA                                                       &                                                          &                                                          & Performance                                              & NA                                                       &                                                          & NA                                                       & ⋯                                                        &                                                          &                                                          & 0                                                        & 119 West North Bend Way North Bend WA 98045              & (47.494937, -121.786457)                                 & NA                                                       & NA                                                       & NA                                                       & NA                                                       & 17798                                                   \\\\\n",
       "\\end{tabular}\n"
      ],
      "text/markdown": [
       "\n",
       "| <!--/--> | Name | Phone | URL | Square.Feet.Total | Neighborhood | Organization.Type | Dominant.Discipline | Year.of.Occupation | Rent.vs.Own | Age.of.Current.Building | ⋯ | Organization.Artists | Closed.Date | Closed. | Address | Location | X2010.Census.Tracts | Seattle.Police.Department.Micro.Community.Policing.Plan.Areas | City.Council.Districts | SPD.Beats | Zip.Codes | \n",
       "|---|---|---|---|---|\n",
       "| 1198 | Westminster Chapel                                       |                                                          |                                                          | NA                                                       |                                                          |                                                          | Preservation                                             | NA                                                       |                                                          | NA                                                       | ⋯                                                        |                                                          |                                                          | 0                                                        | 13646 NE 24th St Bellevue WA 98005                       | (47.63285, -122.157087)                                  | NA                                                       | NA                                                       | NA                                                       | NA                                                       | 31850                                                    | \n",
       "| 1199 | Woodinville Repertory Theatre                            | (206) 510-6304                                           | www.woodinvillerep.org                                   | NA                                                       |                                                          |                                                          | Performance                                              | NA                                                       |                                                          | NA                                                       | ⋯                                                        |                                                          |                                                          | 0                                                        | 16120 Redmond-Woodinville Rd NE #15 Woodinville WA 98072 | (47.744744, -122.158388)                                 | NA                                                       | NA                                                       | NA                                                       | NA                                                       | 18071                                                    | \n",
       "| 1200 | UMO Ensemble                                             | (206) 408-8059                                           | www.umo.org                                              | NA                                                       |                                                          |                                                          | Performance                                              | NA                                                       |                                                          | NA                                                       | ⋯                                                        |                                                          |                                                          | 0                                                        | 18870 SW 103rd Ave SW,  Vashon WA 98070                  | (47.433761, -122.464157)                                 | NA                                                       | NA                                                       | NA                                                       | NA                                                       | 18068                                                    | \n",
       "| 1201 | Washington Old Time Fiddlers Association                 |                                                          |                                                          | NA                                                       |                                                          |                                                          | Music                                                    | NA                                                       |                                                          | NA                                                       | ⋯                                                        |                                                          |                                                          | 0                                                        | 18418 112th Avenue SE Renton WA 98055                    | (47.437241, -122.190124)                                 | NA                                                       | NA                                                       | NA                                                       | NA                                                       | 17808                                                    | \n",
       "| 1202 | Valley Center Stage                                      | (425) 831-5667                                           | www.intuitivelearningsys.org                             | NA                                                       |                                                          |                                                          | Performance                                              | NA                                                       |                                                          | NA                                                       | ⋯                                                        |                                                          |                                                          | 0                                                        | 119 West North Bend Way North Bend WA 98045              | (47.494937, -121.786457)                                 | NA                                                       | NA                                                       | NA                                                       | NA                                                       | 17798                                                    | \n",
       "\n",
       "\n"
      ],
      "text/plain": [
       "     Name                                     Phone         \n",
       "1198 Westminster Chapel                                     \n",
       "1199 Woodinville Repertory Theatre            (206) 510-6304\n",
       "1200 UMO Ensemble                             (206) 408-8059\n",
       "1201 Washington Old Time Fiddlers Association               \n",
       "1202 Valley Center Stage                      (425) 831-5667\n",
       "     URL                          Square.Feet.Total Neighborhood\n",
       "1198                              NA                            \n",
       "1199 www.woodinvillerep.org       NA                            \n",
       "1200 www.umo.org                  NA                            \n",
       "1201                              NA                            \n",
       "1202 www.intuitivelearningsys.org NA                            \n",
       "     Organization.Type Dominant.Discipline Year.of.Occupation Rent.vs.Own\n",
       "1198                   Preservation        NA                            \n",
       "1199                   Performance         NA                            \n",
       "1200                   Performance         NA                            \n",
       "1201                   Music               NA                            \n",
       "1202                   Performance         NA                            \n",
       "     Age.of.Current.Building ⋯ Organization.Artists Closed.Date Closed.\n",
       "1198 NA                      ⋯                                  0      \n",
       "1199 NA                      ⋯                                  0      \n",
       "1200 NA                      ⋯                                  0      \n",
       "1201 NA                      ⋯                                  0      \n",
       "1202 NA                      ⋯                                  0      \n",
       "     Address                                                 \n",
       "1198 13646 NE 24th St Bellevue WA 98005                      \n",
       "1199 16120 Redmond-Woodinville Rd NE #15 Woodinville WA 98072\n",
       "1200 18870 SW 103rd Ave SW,  Vashon WA 98070                 \n",
       "1201 18418 112th Avenue SE Renton WA 98055                   \n",
       "1202 119 West North Bend Way North Bend WA 98045             \n",
       "     Location                 X2010.Census.Tracts\n",
       "1198 (47.63285, -122.157087)  NA                 \n",
       "1199 (47.744744, -122.158388) NA                 \n",
       "1200 (47.433761, -122.464157) NA                 \n",
       "1201 (47.437241, -122.190124) NA                 \n",
       "1202 (47.494937, -121.786457) NA                 \n",
       "     Seattle.Police.Department.Micro.Community.Policing.Plan.Areas\n",
       "1198 NA                                                           \n",
       "1199 NA                                                           \n",
       "1200 NA                                                           \n",
       "1201 NA                                                           \n",
       "1202 NA                                                           \n",
       "     City.Council.Districts SPD.Beats Zip.Codes\n",
       "1198 NA                     NA        31850    \n",
       "1199 NA                     NA        18071    \n",
       "1200 NA                     NA        18068    \n",
       "1201 NA                     NA        17808    \n",
       "1202 NA                     NA        17798    "
      ]
     },
     "metadata": {},
     "output_type": "display_data"
    }
   ],
   "source": [
    "tail(cultural_spaces, n=5)"
   ]
  },
  {
   "cell_type": "code",
   "execution_count": 23,
   "metadata": {},
   "outputs": [
    {
     "data": {
      "text/html": [
       "1202"
      ],
      "text/latex": [
       "1202"
      ],
      "text/markdown": [
       "1202"
      ],
      "text/plain": [
       "[1] 1202"
      ]
     },
     "metadata": {},
     "output_type": "display_data"
    }
   ],
   "source": [
    "nrow(cultural_spaces)"
   ]
  },
  {
   "cell_type": "code",
   "execution_count": 30,
   "metadata": {},
   "outputs": [
    {
     "data": {
      "text/html": [
       "528"
      ],
      "text/latex": [
       "528"
      ],
      "text/markdown": [
       "528"
      ],
      "text/plain": [
       "[1] 528"
      ]
     },
     "metadata": {},
     "output_type": "display_data"
    }
   ],
   "source": [
    "# Cuenta la cantidad de filas que no son NA\n",
    "sum(is.na(cultural_spaces$Year.of.Occupation))"
   ]
  },
  {
   "cell_type": "markdown",
   "metadata": {},
   "source": [
    "Lo primero que nos llama la atención es la gran cantidad de NAs que tiene el dataset en algunos campos que podrían ser interesantes, algo que se analizará con más precisión en el siguiente apartado correspondiente a calidad de los datos. La estructura de muchos atributos es confusa; a pesar de ello, encontramos que la localización (`Location`)está representada en un formato válido para nuestro análisis ya que expone la longitud y la latitud del espacio cultural, algo que nos será muy útil. Otro atributo que consideramos realmente útil es `Dominant.Discipline`, el cual tiene el siguiente comportamiento:"
   ]
  },
  {
   "cell_type": "code",
   "execution_count": 17,
   "metadata": {},
   "outputs": [
    {
     "data": {
      "text/plain": [
       "\n",
       "                                         \n",
       "                                       3 \n",
       "Arts/Cultrual Administration or Advocacy \n",
       "                                       1 \n",
       "Arts/Cultural Administration or Advocacy \n",
       "                                      39 \n",
       "     Arts/Cultural Training or Education \n",
       "                                     143 \n",
       "    Arts/Cultural Training or Education  \n",
       "                                       1 \n",
       "                                  Cinema \n",
       "                                      25 \n",
       "                        Community Center \n",
       "                                      51 \n",
       "                               Education \n",
       "                                      14 \n",
       "                                Heritage \n",
       "                                      57 \n",
       "                                Literary \n",
       "                                      78 \n",
       "                               Live/Work \n",
       "                                      12 \n",
       "                               Multi-use \n",
       "                                     133 \n",
       "                              Multi-use  \n",
       "                                       1 \n",
       "                                   Music \n",
       "                                     132 \n",
       "                             Performance \n",
       "                                     172 \n",
       "                            Preservation \n",
       "                                      18 \n",
       "                          Service/Supply \n",
       "                                      94 \n",
       "                                 Studios \n",
       "                                      54 \n",
       "                                  Visual \n",
       "                                     174 "
      ]
     },
     "metadata": {},
     "output_type": "display_data"
    }
   ],
   "source": [
    "table(cultural_spaces$Dominant.Discipline)"
   ]
  },
  {
   "cell_type": "markdown",
   "metadata": {},
   "source": [
    "Encontramos múltiples categorías que podrían ser de utilidad en nuestro análisis; gracias a este atributo podemos conocer qué espacios culturales se dedican a la música, a la educación o son multiuso."
   ]
  },
  {
   "cell_type": "markdown",
   "metadata": {},
   "source": [
    "### Calidad de los datos "
   ]
  },
  {
   "cell_type": "markdown",
   "metadata": {},
   "source": [
    "La calidad de los datos de los datasets que tratamos la definiremos según la precisión, la completitud y la consistencia de sus datos. Para determinar qué calidad tienen los datos elegidos para la resolución de la cuestión de este proyecto, realizamos varios análisis en las siguientes líneas de código."
   ]
  },
  {
   "cell_type": "markdown",
   "metadata": {},
   "source": [
    "#### Casas de Airbnb en Seattle"
   ]
  },
  {
   "cell_type": "code",
   "execution_count": null,
   "metadata": {},
   "outputs": [],
   "source": []
  },
  {
   "cell_type": "markdown",
   "metadata": {},
   "source": [
    "#### Calendario de reservas de Airbnb en Seattle"
   ]
  },
  {
   "cell_type": "code",
   "execution_count": null,
   "metadata": {},
   "outputs": [],
   "source": []
  },
  {
   "cell_type": "markdown",
   "metadata": {},
   "source": [
    "#### Reviews de Airbnb en Seattle"
   ]
  },
  {
   "cell_type": "code",
   "execution_count": 18,
   "metadata": {},
   "outputs": [
    {
     "data": {
      "text/html": [
       "84849"
      ],
      "text/latex": [
       "84849"
      ],
      "text/markdown": [
       "84849"
      ],
      "text/plain": [
       "[1] 84849"
      ]
     },
     "metadata": {},
     "output_type": "display_data"
    }
   ],
   "source": [
    "nrow(airbnb_reviews)"
   ]
  },
  {
   "cell_type": "code",
   "execution_count": 36,
   "metadata": {
    "scrolled": false
   },
   "outputs": [
    {
     "data": {
      "text/html": [
       "0"
      ],
      "text/latex": [
       "0"
      ],
      "text/markdown": [
       "0"
      ],
      "text/plain": [
       "[1] 0"
      ]
     },
     "metadata": {},
     "output_type": "display_data"
    }
   ],
   "source": [
    "sum(is.na(airbnb_reviews$comments))"
   ]
  },
  {
   "cell_type": "code",
   "execution_count": 37,
   "metadata": {},
   "outputs": [
    {
     "data": {
      "text/html": [
       "17"
      ],
      "text/latex": [
       "17"
      ],
      "text/markdown": [
       "17"
      ],
      "text/plain": [
       "[1] 17"
      ]
     },
     "metadata": {},
     "output_type": "display_data"
    }
   ],
   "source": [
    "sum(airbnb_reviews$comments == \"\")"
   ]
  },
  {
   "cell_type": "markdown",
   "metadata": {},
   "source": [
    "La calidad de los datos del dataset de reviews de casas de Airbnb de Seattle utilizado es muy buena, apenas 17 reviews de 84849 son inválidas."
   ]
  },
  {
   "cell_type": "markdown",
   "metadata": {},
   "source": [
    "#### Espacios culturales de Seattle"
   ]
  },
  {
   "cell_type": "code",
   "execution_count": null,
   "metadata": {},
   "outputs": [],
   "source": []
  },
  {
   "cell_type": "code",
   "execution_count": null,
   "metadata": {},
   "outputs": [],
   "source": []
  },
  {
   "cell_type": "markdown",
   "metadata": {},
   "source": [
    "## Fase III. Data Preparation. Análisis de los datos y selección de características"
   ]
  },
  {
   "cell_type": "markdown",
   "metadata": {},
   "source": [
    "Antes de comenzar el análisis de los datos de nuestros datasets, cargamos todos los paquetes necesarios para ello en las siguientes líneas de código. FALTA EXPLICACIÓN DE CADA PAQUETE."
   ]
  },
  {
   "cell_type": "code",
   "execution_count": null,
   "metadata": {},
   "outputs": [],
   "source": [
    "if(!require(corrplot)){\n",
    "    install.packages(\"corrplot\")\n",
    "    library(corrplot)\n",
    "}\n",
    "if(!require(dplyr)){\n",
    "    install.packages(\"dplyr\")\n",
    "    library(dplyr)\n",
    "}\n",
    "if(!require(lattice)){\n",
    "    install.packages(\"lattice\")\n",
    "    library(lattice) \n",
    "}\n",
    "if(!require(ggplot2)){\n",
    "    install.packages(\"ggplot2\")\n",
    "    library(ggplot2) \n",
    "}\n",
    "if(!require(GGally)){\n",
    "    install.packages(\"GGally\")\n",
    "    library(GGally)\n",
    "}"
   ]
  },
  {
   "cell_type": "markdown",
   "metadata": {},
   "source": [
    "### Seleccion de los datos y variables"
   ]
  },
  {
   "cell_type": "markdown",
   "metadata": {},
   "source": [
    "Se analizará cada una de las columnas o variables de los diferentes dataset y su relevancia para nuestro problema para conocer qué variables es necesario eliminar ya que no aportan valor al posterior analisis y creación de modelos. Aunque en este apartado se realice una hipótesis sobre qué variables seleccionar, este conjunto de variables puede cambiar tras la construcción de modelos con el fin de obtener mejores resultados, si fuera necesario."
   ]
  },
  {
   "cell_type": "markdown",
   "metadata": {},
   "source": [
    "#### Casas de Airbnb en Seattle"
   ]
  },
  {
   "cell_type": "markdown",
   "metadata": {},
   "source": [
    "En el caso del listado de casas de Airbnb, eliminamos todas aquellas variables que hemos considerado que no tienen relevancia en nuestro análisis, bien ya sea porque consideramos que su estado no afecta al precio o bien porque son variables que almacena Airbnb para el funcionamiento de su sistema, como por ejemplo la primera review que tuvo la casa, todos los ids que no fueran del listing, prácticamente todos los datos del perfil del host a excepción de si es superhost o no, ratios de actividad del host o urls a imágenes. Por lo tanto, se han mantenido diferentes variables que determinaban aspectos muy determinantes para el análisis propuesto, como todas aquellas que están relacionadas con las características explícitas de la casa. Además, se han tenido en cuenta variables con impacto indirecto sobre el problema, como la puntuación media las reviews por mes de la casa, ya que pueden ser muy interesantes. También eliminamos algunas variables que son redundantes, como aquellas de localización `country`, `state`, `city` o `country_code`, ya que en el contexto de nuestro problema no vamos a considerar otros países o ciudades; solo utilizaremos `zipcode` y `latitude`-`longitude` para conocer la localización de la casa, ya que podremos cruzar con el resto de datasets utilizando estos campos."
   ]
  },
  {
   "cell_type": "code",
   "execution_count": 6,
   "metadata": {},
   "outputs": [],
   "source": [
    "# Se seleccionan las variables que no se van tener en cuenta en la construcción del dataset\n",
    "remove_listings <- c('listing_url','scrape_id','last_scraped','name','summary','space','description',\n",
    "                     'experiences_offered','neighborhood_overview','notes','transit','thumbnail_url','medium_url',\n",
    "                     'picture_url','xl_picture_url','host_id','host_url','host_name','host_since','host_location',\n",
    "                     'host_about','host_response_time','host_response_rate','host_acceptance_rate',\n",
    "                     'host_thumbnail_url','host_picture_url','host_neighbourhood', 'host_listings_count',\n",
    "                     'host_total_listings_count','neighbourhood', 'neighbourhood_group_cleansed', 'is_location_exact',\n",
    "                     'street','city','state', 'market','smart_location','country_code','country', 'security_deposit',\n",
    "                     'guests_included', 'extra_people','minimum_nights','maximum_nights','has_availability',\n",
    "                     'calendar_updated','availability_30','availability_60','availability_90','availability_365',\n",
    "                     'review_scores_accuracy', 'requires_license', 'require_guest_phone_verification',\n",
    "                     'calculated_host_listings_count','calendar_last_scraped','first_review',\n",
    "                     'last_review','license','jurisdiction_names','host_verifications', 'weekly_price','monthly_price'\n",
    "                     'instant_bookable','cancellation_policy','require_guest_profile_picture')\n",
    "\n",
    "airbnb_listings_pre <- airbnb_listings[ , !(names(airbnb_listings) %in% remove_listings)]"
   ]
  },
  {
   "cell_type": "markdown",
   "metadata": {},
   "source": [
    "El dataset ha quedado de la siguiente manera:"
   ]
  },
  {
   "cell_type": "code",
   "execution_count": 10,
   "metadata": {
    "scrolled": false
   },
   "outputs": [
    {
     "data": {
      "text/html": [
       "<ol class=list-inline>\n",
       "\t<li>'id'</li>\n",
       "\t<li>'host_location'</li>\n",
       "\t<li>'host_is_superhost'</li>\n",
       "\t<li>'host_neighbourhood'</li>\n",
       "\t<li>'host_listings_count'</li>\n",
       "\t<li>'host_total_listings_count'</li>\n",
       "\t<li>'host_verifications'</li>\n",
       "\t<li>'host_has_profile_pic'</li>\n",
       "\t<li>'host_identity_verified'</li>\n",
       "\t<li>'street'</li>\n",
       "\t<li>'neighbourhood'</li>\n",
       "\t<li>'city'</li>\n",
       "\t<li>'state'</li>\n",
       "\t<li>'zipcode'</li>\n",
       "\t<li>'market'</li>\n",
       "\t<li>'smart_location'</li>\n",
       "\t<li>'country_code'</li>\n",
       "\t<li>'country'</li>\n",
       "\t<li>'latitude'</li>\n",
       "\t<li>'longitude'</li>\n",
       "\t<li>'is_location_exact'</li>\n",
       "\t<li>'property_type'</li>\n",
       "\t<li>'room_type'</li>\n",
       "\t<li>'accommodates'</li>\n",
       "\t<li>'bathrooms'</li>\n",
       "\t<li>'bedrooms'</li>\n",
       "\t<li>'beds'</li>\n",
       "\t<li>'bed_type'</li>\n",
       "\t<li>'amenities'</li>\n",
       "\t<li>'square_feet'</li>\n",
       "\t<li>'price'</li>\n",
       "\t<li>'weekly_price'</li>\n",
       "\t<li>'monthly_price'</li>\n",
       "\t<li>'security_deposit'</li>\n",
       "\t<li>'cleaning_fee'</li>\n",
       "\t<li>'guests_included'</li>\n",
       "\t<li>'extra_people'</li>\n",
       "\t<li>'minimum_nights'</li>\n",
       "\t<li>'maximum_nights'</li>\n",
       "\t<li>'has_availability'</li>\n",
       "\t<li>'number_of_reviews'</li>\n",
       "\t<li>'review_scores_rating'</li>\n",
       "\t<li>'review_scores_accuracy'</li>\n",
       "\t<li>'review_scores_cleanliness'</li>\n",
       "\t<li>'review_scores_checkin'</li>\n",
       "\t<li>'review_scores_communication'</li>\n",
       "\t<li>'review_scores_location'</li>\n",
       "\t<li>'review_scores_value'</li>\n",
       "\t<li>'requires_license'</li>\n",
       "\t<li>'require_guest_phone_verification'</li>\n",
       "\t<li>'calculated_host_listings_count'</li>\n",
       "\t<li>'reviews_per_month'</li>\n",
       "</ol>\n"
      ],
      "text/latex": [
       "\\begin{enumerate*}\n",
       "\\item 'id'\n",
       "\\item 'host\\_location'\n",
       "\\item 'host\\_is\\_superhost'\n",
       "\\item 'host\\_neighbourhood'\n",
       "\\item 'host\\_listings\\_count'\n",
       "\\item 'host\\_total\\_listings\\_count'\n",
       "\\item 'host\\_verifications'\n",
       "\\item 'host\\_has\\_profile\\_pic'\n",
       "\\item 'host\\_identity\\_verified'\n",
       "\\item 'street'\n",
       "\\item 'neighbourhood'\n",
       "\\item 'city'\n",
       "\\item 'state'\n",
       "\\item 'zipcode'\n",
       "\\item 'market'\n",
       "\\item 'smart\\_location'\n",
       "\\item 'country\\_code'\n",
       "\\item 'country'\n",
       "\\item 'latitude'\n",
       "\\item 'longitude'\n",
       "\\item 'is\\_location\\_exact'\n",
       "\\item 'property\\_type'\n",
       "\\item 'room\\_type'\n",
       "\\item 'accommodates'\n",
       "\\item 'bathrooms'\n",
       "\\item 'bedrooms'\n",
       "\\item 'beds'\n",
       "\\item 'bed\\_type'\n",
       "\\item 'amenities'\n",
       "\\item 'square\\_feet'\n",
       "\\item 'price'\n",
       "\\item 'weekly\\_price'\n",
       "\\item 'monthly\\_price'\n",
       "\\item 'security\\_deposit'\n",
       "\\item 'cleaning\\_fee'\n",
       "\\item 'guests\\_included'\n",
       "\\item 'extra\\_people'\n",
       "\\item 'minimum\\_nights'\n",
       "\\item 'maximum\\_nights'\n",
       "\\item 'has\\_availability'\n",
       "\\item 'number\\_of\\_reviews'\n",
       "\\item 'review\\_scores\\_rating'\n",
       "\\item 'review\\_scores\\_accuracy'\n",
       "\\item 'review\\_scores\\_cleanliness'\n",
       "\\item 'review\\_scores\\_checkin'\n",
       "\\item 'review\\_scores\\_communication'\n",
       "\\item 'review\\_scores\\_location'\n",
       "\\item 'review\\_scores\\_value'\n",
       "\\item 'requires\\_license'\n",
       "\\item 'require\\_guest\\_phone\\_verification'\n",
       "\\item 'calculated\\_host\\_listings\\_count'\n",
       "\\item 'reviews\\_per\\_month'\n",
       "\\end{enumerate*}\n"
      ],
      "text/markdown": [
       "1. 'id'\n",
       "2. 'host_location'\n",
       "3. 'host_is_superhost'\n",
       "4. 'host_neighbourhood'\n",
       "5. 'host_listings_count'\n",
       "6. 'host_total_listings_count'\n",
       "7. 'host_verifications'\n",
       "8. 'host_has_profile_pic'\n",
       "9. 'host_identity_verified'\n",
       "10. 'street'\n",
       "11. 'neighbourhood'\n",
       "12. 'city'\n",
       "13. 'state'\n",
       "14. 'zipcode'\n",
       "15. 'market'\n",
       "16. 'smart_location'\n",
       "17. 'country_code'\n",
       "18. 'country'\n",
       "19. 'latitude'\n",
       "20. 'longitude'\n",
       "21. 'is_location_exact'\n",
       "22. 'property_type'\n",
       "23. 'room_type'\n",
       "24. 'accommodates'\n",
       "25. 'bathrooms'\n",
       "26. 'bedrooms'\n",
       "27. 'beds'\n",
       "28. 'bed_type'\n",
       "29. 'amenities'\n",
       "30. 'square_feet'\n",
       "31. 'price'\n",
       "32. 'weekly_price'\n",
       "33. 'monthly_price'\n",
       "34. 'security_deposit'\n",
       "35. 'cleaning_fee'\n",
       "36. 'guests_included'\n",
       "37. 'extra_people'\n",
       "38. 'minimum_nights'\n",
       "39. 'maximum_nights'\n",
       "40. 'has_availability'\n",
       "41. 'number_of_reviews'\n",
       "42. 'review_scores_rating'\n",
       "43. 'review_scores_accuracy'\n",
       "44. 'review_scores_cleanliness'\n",
       "45. 'review_scores_checkin'\n",
       "46. 'review_scores_communication'\n",
       "47. 'review_scores_location'\n",
       "48. 'review_scores_value'\n",
       "49. 'requires_license'\n",
       "50. 'require_guest_phone_verification'\n",
       "51. 'calculated_host_listings_count'\n",
       "52. 'reviews_per_month'\n",
       "\n",
       "\n"
      ],
      "text/plain": [
       " [1] \"id\"                               \"host_location\"                   \n",
       " [3] \"host_is_superhost\"                \"host_neighbourhood\"              \n",
       " [5] \"host_listings_count\"              \"host_total_listings_count\"       \n",
       " [7] \"host_verifications\"               \"host_has_profile_pic\"            \n",
       " [9] \"host_identity_verified\"           \"street\"                          \n",
       "[11] \"neighbourhood\"                    \"city\"                            \n",
       "[13] \"state\"                            \"zipcode\"                         \n",
       "[15] \"market\"                           \"smart_location\"                  \n",
       "[17] \"country_code\"                     \"country\"                         \n",
       "[19] \"latitude\"                         \"longitude\"                       \n",
       "[21] \"is_location_exact\"                \"property_type\"                   \n",
       "[23] \"room_type\"                        \"accommodates\"                    \n",
       "[25] \"bathrooms\"                        \"bedrooms\"                        \n",
       "[27] \"beds\"                             \"bed_type\"                        \n",
       "[29] \"amenities\"                        \"square_feet\"                     \n",
       "[31] \"price\"                            \"weekly_price\"                    \n",
       "[33] \"monthly_price\"                    \"security_deposit\"                \n",
       "[35] \"cleaning_fee\"                     \"guests_included\"                 \n",
       "[37] \"extra_people\"                     \"minimum_nights\"                  \n",
       "[39] \"maximum_nights\"                   \"has_availability\"                \n",
       "[41] \"number_of_reviews\"                \"review_scores_rating\"            \n",
       "[43] \"review_scores_accuracy\"           \"review_scores_cleanliness\"       \n",
       "[45] \"review_scores_checkin\"            \"review_scores_communication\"     \n",
       "[47] \"review_scores_location\"           \"review_scores_value\"             \n",
       "[49] \"requires_license\"                 \"require_guest_phone_verification\"\n",
       "[51] \"calculated_host_listings_count\"   \"reviews_per_month\"               "
      ]
     },
     "metadata": {},
     "output_type": "display_data"
    }
   ],
   "source": [
    "names(airbnb_listings_pre)"
   ]
  },
  {
   "cell_type": "markdown",
   "metadata": {},
   "source": [
    "#### Calendario de reservas de Airbnb en Seattle"
   ]
  },
  {
   "cell_type": "markdown",
   "metadata": {},
   "source": [
    "En el caso del calendario se ha procedido a mantener todo el conjunto de variables, dado que la cantidad de variables es muy pequeña y todas ellas pueden tener un impacto positivo sobre el análisis."
   ]
  },
  {
   "cell_type": "code",
   "execution_count": 7,
   "metadata": {},
   "outputs": [],
   "source": [
    "airbnb_calendar_pre <- airbnb_calendar"
   ]
  },
  {
   "cell_type": "markdown",
   "metadata": {},
   "source": [
    "El dataset ha quedado de la siguiente manera:"
   ]
  },
  {
   "cell_type": "code",
   "execution_count": 11,
   "metadata": {
    "scrolled": true
   },
   "outputs": [
    {
     "data": {
      "text/html": [
       "<ol class=list-inline>\n",
       "\t<li>'listing_id'</li>\n",
       "\t<li>'date'</li>\n",
       "\t<li>'available'</li>\n",
       "\t<li>'price'</li>\n",
       "</ol>\n"
      ],
      "text/latex": [
       "\\begin{enumerate*}\n",
       "\\item 'listing\\_id'\n",
       "\\item 'date'\n",
       "\\item 'available'\n",
       "\\item 'price'\n",
       "\\end{enumerate*}\n"
      ],
      "text/markdown": [
       "1. 'listing_id'\n",
       "2. 'date'\n",
       "3. 'available'\n",
       "4. 'price'\n",
       "\n",
       "\n"
      ],
      "text/plain": [
       "[1] \"listing_id\" \"date\"       \"available\"  \"price\"     "
      ]
     },
     "metadata": {},
     "output_type": "display_data"
    }
   ],
   "source": [
    "names(airbnb_calendar_pre)"
   ]
  },
  {
   "cell_type": "markdown",
   "metadata": {},
   "source": [
    "#### Reviews de Airbnb en Seattle"
   ]
  },
  {
   "cell_type": "markdown",
   "metadata": {},
   "source": [
    "La utilidad de este dataset en nuestro análisis se ve limitada ya que no realizaremos procesamiento de textos sobre el atributo `comments`, único atributo de valor del dataset, debido a que escapa de nuestros objetivos. Además, tampoco utilizaremos este dataset para realizar agregaciones como haremos con el resto de datasets, ya que el dataset _listings_ ya contiene todoa la información sobre reviews que nos gustaría tratar. Por ello, decidimos no continuar utilizando este dataset de ahora en adelante en nuestra implementación. La siguiente línea borra el dataset cargado para aligerar la memoria y facilitar los próximos cálculos."
   ]
  },
  {
   "cell_type": "code",
   "execution_count": 25,
   "metadata": {},
   "outputs": [],
   "source": [
    "rm(airbnb_reviews)"
   ]
  },
  {
   "cell_type": "markdown",
   "metadata": {},
   "source": [
    "#### Espacios culturales de Seattle"
   ]
  },
  {
   "cell_type": "markdown",
   "metadata": {},
   "source": [
    "En el caso de los espacios culturales consideramos importante seleccionar las variables que son derivadas de la localizacion, determinante para cruzarlas con la localizacion del airbnb que queremos estudiar. Para ello, consideraremos la localización por `Zip.Code` y por `Location`, así como hemos hecho en el dataset _listings_.  Además, seleccionamos también el atributo `Dominant.Discipline` ya que en los siguientes apartados realizaremos agregaciones con él debido a su gran valor. En las siguientes líneas de código borramos todos los campos que no sean estos. Consideramos únicamente estos campos por los motivos mencionados además de la baja calidad del resto de campos."
   ]
  },
  {
   "cell_type": "code",
   "execution_count": null,
   "metadata": {},
   "outputs": [],
   "source": [
    "remove_spaces <- c('Name','Phone','URL','Square.Feet.Total','Neighborhood','Organization.Type',\n",
    "                   'Year.of.Occupation','Rent.vs.Own','Age.of.Current.Building','Length.of.Lease..Date.',\n",
    "                   'Year.Organization.Founded','Number.of.Past.Facilities','Stages.and.Theaters',\n",
    "                   'Stage...Theater.Seats','Gallery.Space','Gallery.Square.Feet','ADA.Compliant',\n",
    "                   'Available.Parking','Street.Presence','Rental.Space','Alcohol.Sales',\n",
    "                   'Organization.Mission','Funded.by.A.C','Funded.by.4Culture',\n",
    "                   'Stability.Index..5.very.stable..1.very.uncertain.',\n",
    "                   'Control.Index..5.very.in.control..1...very.out.of.control..',\n",
    "                   'Constituency.over.50..one.race','Specific.Demographics.and.Community',\n",
    "                   'Organization.Leadership','Organization.Artists''Closed.Date''Closed.',\n",
    "                   'Address','Location','X2010.Census.Tracts',\n",
    "                   'Seattle.Police.Department.Micro.Community.Policing.Plan.Areas',\n",
    "                   'City.Council.Districts','SPD.Beats')\n",
    "\n",
    "cultural_spaces_pre <- cultural_spaces[ , !(names(cultural_spaces) %in% remove_spaces)]"
   ]
  },
  {
   "cell_type": "markdown",
   "metadata": {},
   "source": [
    "El dataset ha quedado de la siguiente manera:"
   ]
  },
  {
   "cell_type": "code",
   "execution_count": null,
   "metadata": {},
   "outputs": [],
   "source": [
    "names(cultural_spaces_pre) "
   ]
  },
  {
   "cell_type": "markdown",
   "metadata": {},
   "source": [
    "### Limpieza de datos"
   ]
  },
  {
   "cell_type": "code",
   "execution_count": 14,
   "metadata": {
    "collapsed": true
   },
   "outputs": [
    {
     "data": {
      "text/html": [
       "<table>\n",
       "<thead><tr><th scope=col>id</th><th scope=col>host_location</th><th scope=col>host_is_superhost</th><th scope=col>host_neighbourhood</th><th scope=col>host_listings_count</th><th scope=col>host_total_listings_count</th><th scope=col>host_verifications</th><th scope=col>host_has_profile_pic</th><th scope=col>host_identity_verified</th><th scope=col>street</th><th scope=col>...</th><th scope=col>review_scores_accuracy</th><th scope=col>review_scores_cleanliness</th><th scope=col>review_scores_checkin</th><th scope=col>review_scores_communication</th><th scope=col>review_scores_location</th><th scope=col>review_scores_value</th><th scope=col>requires_license</th><th scope=col>require_guest_phone_verification</th><th scope=col>calculated_host_listings_count</th><th scope=col>reviews_per_month</th></tr></thead>\n",
       "<tbody>\n",
       "\t<tr><td>  241032                                                                </td><td>Seattle, Washington, United States                                      </td><td>f                                                                       </td><td>Queen Anne                                                              </td><td>3                                                                       </td><td>3                                                                       </td><td>['email', 'phone', 'reviews', 'kba']                                    </td><td>t                                                                       </td><td>t                                                                       </td><td>Gilman Dr W, Seattle, WA 98119, United States                           </td><td>...                                                                     </td><td>10                                                                      </td><td>10                                                                      </td><td>10                                                                      </td><td>10                                                                      </td><td> 9                                                                      </td><td>10                                                                      </td><td>f                                                                       </td><td>f                                                                       </td><td>2                                                                       </td><td>4.07                                                                    </td></tr>\n",
       "\t<tr><td>  953595                                                                </td><td>Seattle, Washington, United States                                      </td><td>t                                                                       </td><td>Queen Anne                                                              </td><td>6                                                                       </td><td>6                                                                       </td><td>['email', 'phone', 'facebook', 'linkedin', 'reviews', 'jumio']          </td><td>t                                                                       </td><td>t                                                                       </td><td>7th Avenue West, Seattle, WA 98119, United States                       </td><td>...                                                                     </td><td>10                                                                      </td><td>10                                                                      </td><td>10                                                                      </td><td>10                                                                      </td><td>10                                                                      </td><td>10                                                                      </td><td>f                                                                       </td><td>t                                                                       </td><td>6                                                                       </td><td>1.48                                                                    </td></tr>\n",
       "\t<tr><td> 3308979                                                                </td><td>Seattle, Washington, United States                                      </td><td>f                                                                       </td><td>Queen Anne                                                              </td><td>2                                                                       </td><td>2                                                                       </td><td>['email', 'phone', 'google', 'reviews', 'jumio']                        </td><td>t                                                                       </td><td>t                                                                       </td><td>West Lee Street, Seattle, WA 98119, United States                       </td><td>...                                                                     </td><td>10                                                                      </td><td>10                                                                      </td><td>10                                                                      </td><td>10                                                                      </td><td>10                                                                      </td><td>10                                                                      </td><td>f                                                                       </td><td>f                                                                       </td><td>2                                                                       </td><td>1.15                                                                    </td></tr>\n",
       "\t<tr><td> 7421966                                                                </td><td>Seattle, Washington, United States                                      </td><td>f                                                                       </td><td>Queen Anne                                                              </td><td>1                                                                       </td><td>1                                                                       </td><td>['email', 'phone', 'facebook', 'reviews', 'jumio']                      </td><td>t                                                                       </td><td>t                                                                       </td><td>8th Avenue West, Seattle, WA 98119, United States                       </td><td>...                                                                     </td><td>NA                                                                      </td><td>NA                                                                      </td><td>NA                                                                      </td><td>NA                                                                      </td><td>NA                                                                      </td><td>NA                                                                      </td><td>f                                                                       </td><td>f                                                                       </td><td>1                                                                       </td><td>  NA                                                                    </td></tr>\n",
       "\t<tr><td>  278830                                                                </td><td>Seattle, Washington, United States                                      </td><td>f                                                                       </td><td>Queen Anne                                                              </td><td>2                                                                       </td><td>2                                                                       </td><td>['email', 'phone', 'facebook', 'reviews', 'kba']                        </td><td>t                                                                       </td><td>t                                                                       </td><td>14th Ave W, Seattle, WA 98119, United States                            </td><td>...                                                                     </td><td> 9                                                                      </td><td> 9                                                                      </td><td>10                                                                      </td><td>10                                                                      </td><td> 9                                                                      </td><td> 9                                                                      </td><td>f                                                                       </td><td>f                                                                       </td><td>1                                                                       </td><td>0.89                                                                    </td></tr>\n",
       "\t<tr><td> 5956968                                                                </td><td>Seattle, Washington, United States                                      </td><td>f                                                                       </td><td>Queen Anne                                                              </td><td>1                                                                       </td><td>1                                                                       </td><td>['email', 'phone', 'facebook', 'reviews', 'kba']                        </td><td>t                                                                       </td><td>t                                                                       </td><td>West Comstock Street, Seattle, WA 98119, United States                  </td><td>...                                                                     </td><td>10                                                                      </td><td>10                                                                      </td><td>10                                                                      </td><td>10                                                                      </td><td>10                                                                      </td><td>10                                                                      </td><td>f                                                                       </td><td>f                                                                       </td><td>1                                                                       </td><td>2.45                                                                    </td></tr>\n",
       "\t<tr><td> 1909058                                                                </td><td>Seattle, Washington, United States                                      </td><td>t                                                                       </td><td>Queen Anne                                                              </td><td>1                                                                       </td><td>1                                                                       </td><td>['email', 'phone', 'reviews', 'kba']                                    </td><td>t                                                                       </td><td>t                                                                       </td><td>10th Avenue West, Seattle, WA 98119, United States                      </td><td>...                                                                     </td><td>10                                                                      </td><td>10                                                                      </td><td>10                                                                      </td><td>10                                                                      </td><td>10                                                                      </td><td>10                                                                      </td><td>f                                                                       </td><td>f                                                                       </td><td>1                                                                       </td><td>2.46                                                                    </td></tr>\n",
       "\t<tr><td>  856550                                                                </td><td>Seattle, Washington, United States                                      </td><td>t                                                                       </td><td>Queen Anne                                                              </td><td>5                                                                       </td><td>5                                                                       </td><td>['email', 'phone', 'facebook', 'google', 'linkedin', 'reviews', 'jumio']</td><td>t                                                                       </td><td>t                                                                       </td><td>West Wheeler Street, Seattle, WA 98119, United States                   </td><td>...                                                                     </td><td>10                                                                      </td><td>10                                                                      </td><td>10                                                                      </td><td>10                                                                      </td><td> 9                                                                      </td><td>10                                                                      </td><td>f                                                                       </td><td>t                                                                       </td><td>5                                                                       </td><td>4.73                                                                    </td></tr>\n",
       "\t<tr><td> 4948745                                                                </td><td>Seattle, Washington, United States                                      </td><td>f                                                                       </td><td>Queen Anne                                                              </td><td>1                                                                       </td><td>1                                                                       </td><td>['email', 'phone', 'facebook', 'linkedin', 'reviews', 'kba']            </td><td>t                                                                       </td><td>t                                                                       </td><td>Queen Anne Avenue North, Seattle, WA 98109, United States               </td><td>...                                                                     </td><td>10                                                                      </td><td> 9                                                                      </td><td>10                                                                      </td><td> 9                                                                      </td><td>10                                                                      </td><td>10                                                                      </td><td>f                                                                       </td><td>f                                                                       </td><td>1                                                                       </td><td>1.22                                                                    </td></tr>\n",
       "\t<tr><td> 2493658                                                                </td><td>Seattle, Washington, United States                                      </td><td>t                                                                       </td><td>Queen Anne                                                              </td><td>6                                                                       </td><td>6                                                                       </td><td>['email', 'phone', 'facebook', 'linkedin', 'reviews', 'jumio']          </td><td>t                                                                       </td><td>t                                                                       </td><td>7th Avenue West, Seattle, WA 98119, United States                       </td><td>...                                                                     </td><td>10                                                                      </td><td>10                                                                      </td><td>10                                                                      </td><td>10                                                                      </td><td>10                                                                      </td><td> 9                                                                      </td><td>f                                                                       </td><td>t                                                                       </td><td>6                                                                       </td><td>1.55                                                                    </td></tr>\n",
       "\t<tr><td>  175576                                                                </td><td>Seattle, Washington, United States                                      </td><td>t                                                                       </td><td>Queen Anne                                                              </td><td>1                                                                       </td><td>1                                                                       </td><td>['email', 'phone', 'reviews', 'kba']                                    </td><td>t                                                                       </td><td>t                                                                       </td><td>1st Ave W, Seattle, WA 98119, United States                             </td><td>...                                                                     </td><td>10                                                                      </td><td>10                                                                      </td><td>10                                                                      </td><td>10                                                                      </td><td>10                                                                      </td><td>10                                                                      </td><td>f                                                                       </td><td>f                                                                       </td><td>1                                                                       </td><td>3.33                                                                    </td></tr>\n",
       "\t<tr><td> 4454295                                                                </td><td>Seattle, Washington, United States                                      </td><td>f                                                                       </td><td>Queen Anne                                                              </td><td>1                                                                       </td><td>1                                                                       </td><td>['email', 'phone', 'facebook', 'reviews', 'kba']                        </td><td>t                                                                       </td><td>t                                                                       </td><td>3rd Avenue West, Seattle, WA 98119, United States                       </td><td>...                                                                     </td><td>10                                                                      </td><td>10                                                                      </td><td> 9                                                                      </td><td>10                                                                      </td><td>10                                                                      </td><td> 9                                                                      </td><td>f                                                                       </td><td>f                                                                       </td><td>1                                                                       </td><td>0.98                                                                    </td></tr>\n",
       "\t<tr><td> 3883392                                                                </td><td>Seattle, Washington, United States                                      </td><td>t                                                                       </td><td>                                                                        </td><td>1                                                                       </td><td>1                                                                       </td><td>['email', 'phone', 'linkedin', 'reviews', 'jumio']                      </td><td>t                                                                       </td><td>t                                                                       </td><td>West Howe Street, Seattle, WA 98119, United States                      </td><td>...                                                                     </td><td>10                                                                      </td><td>10                                                                      </td><td>10                                                                      </td><td>10                                                                      </td><td>10                                                                      </td><td>10                                                                      </td><td>f                                                                       </td><td>f                                                                       </td><td>1                                                                       </td><td>0.92                                                                    </td></tr>\n",
       "\t<tr><td> 8889257                                                                </td><td>Kirkland, Washington, United States                                     </td><td>f                                                                       </td><td>Queen Anne                                                              </td><td>1                                                                       </td><td>1                                                                       </td><td>['email', 'phone', 'reviews', 'kba']                                    </td><td>t                                                                       </td><td>t                                                                       </td><td>West Prospect Street, Seattle, WA 98119, United States                  </td><td>...                                                                     </td><td>10                                                                      </td><td>10                                                                      </td><td> 9                                                                      </td><td> 9                                                                      </td><td>10                                                                      </td><td>10                                                                      </td><td>f                                                                       </td><td>f                                                                       </td><td>1                                                                       </td><td>3.00                                                                    </td></tr>\n",
       "\t<tr><td> 5680462                                                                </td><td>Seattle, Washington, United States                                      </td><td>f                                                                       </td><td>Queen Anne                                                              </td><td>1                                                                       </td><td>1                                                                       </td><td>['email', 'phone', 'facebook', 'reviews', 'kba']                        </td><td>t                                                                       </td><td>t                                                                       </td><td>7th Avenue West, Seattle, WA 98119, United States                       </td><td>...                                                                     </td><td> 9                                                                      </td><td>10                                                                      </td><td>10                                                                      </td><td>10                                                                      </td><td>10                                                                      </td><td>10                                                                      </td><td>f                                                                       </td><td>f                                                                       </td><td>1                                                                       </td><td>2.65                                                                    </td></tr>\n",
       "\t<tr><td> 8988178                                                                </td><td>Seattle, Washington, United States                                      </td><td>f                                                                       </td><td>                                                                        </td><td>1                                                                       </td><td>1                                                                       </td><td>['email', 'reviews', 'kba']                                             </td><td>t                                                                       </td><td>f                                                                       </td><td>12th Avenue West, Seattle, WA 98119, United States                      </td><td>...                                                                     </td><td> 8                                                                      </td><td>10                                                                      </td><td> 8                                                                      </td><td> 8                                                                      </td><td> 8                                                                      </td><td> 8                                                                      </td><td>f                                                                       </td><td>f                                                                       </td><td>1                                                                       </td><td>0.73                                                                    </td></tr>\n",
       "\t<tr><td> 3245876                                                                </td><td>Seattle, Washington, United States                                      </td><td>f                                                                       </td><td>Queen Anne                                                              </td><td>1                                                                       </td><td>1                                                                       </td><td>['email', 'phone', 'facebook', 'linkedin', 'reviews', 'jumio']          </td><td>t                                                                       </td><td>t                                                                       </td><td>West Mercer Place, Seattle, WA 98119, United States                     </td><td>...                                                                     </td><td>10                                                                      </td><td> 9                                                                      </td><td>10                                                                      </td><td>10                                                                      </td><td>10                                                                      </td><td> 9                                                                      </td><td>f                                                                       </td><td>f                                                                       </td><td>1                                                                       </td><td>4.55                                                                    </td></tr>\n",
       "\t<tr><td> 4933447                                                                </td><td>Seattle, Washington, United States                                      </td><td>t                                                                       </td><td>Queen Anne                                                              </td><td>1                                                                       </td><td>1                                                                       </td><td>['email', 'phone', 'reviews', 'kba']                                    </td><td>t                                                                       </td><td>t                                                                       </td><td>12th Avenue West, Seattle, WA 98119, United States                      </td><td>...                                                                     </td><td>10                                                                      </td><td>10                                                                      </td><td>10                                                                      </td><td>10                                                                      </td><td>10                                                                      </td><td>10                                                                      </td><td>f                                                                       </td><td>f                                                                       </td><td>1                                                                       </td><td>4.58                                                                    </td></tr>\n",
       "\t<tr><td> 7735464                                                                </td><td>Seattle, Washington, United States                                      </td><td>f                                                                       </td><td>Queen Anne                                                              </td><td>1                                                                       </td><td>1                                                                       </td><td>['email', 'phone', 'facebook', 'reviews', 'jumio']                      </td><td>t                                                                       </td><td>t                                                                       </td><td>11th Avenue West, Seattle, WA 98119, United States                      </td><td>...                                                                     </td><td>NA                                                                      </td><td>NA                                                                      </td><td>NA                                                                      </td><td>NA                                                                      </td><td>NA                                                                      </td><td>NA                                                                      </td><td>f                                                                       </td><td>f                                                                       </td><td>1                                                                       </td><td>  NA                                                                    </td></tr>\n",
       "\t<tr><td> 6291829                                                                </td><td>Seattle, Washington, United States                                      </td><td>f                                                                       </td><td>Queen Anne                                                              </td><td>1                                                                       </td><td>1                                                                       </td><td>['email', 'phone', 'linkedin', 'reviews', 'kba']                        </td><td>t                                                                       </td><td>t                                                                       </td><td>1st Avenue West, Seattle, WA 98119, United States                       </td><td>...                                                                     </td><td>10                                                                      </td><td> 9                                                                      </td><td> 9                                                                      </td><td> 9                                                                      </td><td> 8                                                                      </td><td> 8                                                                      </td><td>f                                                                       </td><td>f                                                                       </td><td>1                                                                       </td><td>0.82                                                                    </td></tr>\n",
       "\t<tr><td> 9218403                                                                </td><td>Quilcene, Washington, United States                                     </td><td>f                                                                       </td><td>                                                                        </td><td>1                                                                       </td><td>1                                                                       </td><td>['email', 'phone', 'reviews', 'kba']                                    </td><td>t                                                                       </td><td>t                                                                       </td><td>West Olympic Place, Seattle, WA 98119, United States                    </td><td>...                                                                     </td><td>10                                                                      </td><td>10                                                                      </td><td>10                                                                      </td><td>10                                                                      </td><td>10                                                                      </td><td>10                                                                      </td><td>f                                                                       </td><td>f                                                                       </td><td>1                                                                       </td><td>1.00                                                                    </td></tr>\n",
       "\t<tr><td> 4125779                                                                </td><td>Seattle, Washington, United States                                      </td><td>f                                                                       </td><td>Queen Anne                                                              </td><td>1                                                                       </td><td>1                                                                       </td><td>['email', 'phone', 'facebook', 'reviews']                               </td><td>t                                                                       </td><td>f                                                                       </td><td>2nd Avenue West, Seattle, WA 98119, United States                       </td><td>...                                                                     </td><td> 9                                                                      </td><td> 9                                                                      </td><td> 9                                                                      </td><td> 9                                                                      </td><td>10                                                                      </td><td> 8                                                                      </td><td>f                                                                       </td><td>f                                                                       </td><td>1                                                                       </td><td>0.71                                                                    </td></tr>\n",
       "\t<tr><td> 8942678                                                                </td><td>Seattle, Washington, United States                                      </td><td>f                                                                       </td><td>Queen Anne                                                              </td><td>1                                                                       </td><td>1                                                                       </td><td>['phone', 'reviews']                                                    </td><td>t                                                                       </td><td>f                                                                       </td><td>1st Avenue West, Seattle, WA 98119, United States                       </td><td>...                                                                     </td><td>10                                                                      </td><td>10                                                                      </td><td>10                                                                      </td><td>10                                                                      </td><td>10                                                                      </td><td>10                                                                      </td><td>f                                                                       </td><td>f                                                                       </td><td>1                                                                       </td><td>0.86                                                                    </td></tr>\n",
       "\t<tr><td>10106055                                                                </td><td>Seattle, Washington, United States                                      </td><td>f                                                                       </td><td>Queen Anne                                                              </td><td>1                                                                       </td><td>1                                                                       </td><td>['phone']                                                               </td><td>t                                                                       </td><td>f                                                                       </td><td>West Galer Street, Seattle, WA 98119, United States                     </td><td>...                                                                     </td><td>NA                                                                      </td><td>NA                                                                      </td><td>NA                                                                      </td><td>NA                                                                      </td><td>NA                                                                      </td><td>NA                                                                      </td><td>f                                                                       </td><td>f                                                                       </td><td>1                                                                       </td><td>  NA                                                                    </td></tr>\n",
       "\t<tr><td> 6362362                                                                </td><td>Seattle, Washington, United States                                      </td><td>f                                                                       </td><td>Queen Anne                                                              </td><td>1                                                                       </td><td>1                                                                       </td><td>['email', 'phone', 'reviews']                                           </td><td>t                                                                       </td><td>f                                                                       </td><td>10th Avenue West, Seattle, WA 98119, United States                      </td><td>...                                                                     </td><td>10                                                                      </td><td>10                                                                      </td><td>10                                                                      </td><td>10                                                                      </td><td>10                                                                      </td><td>10                                                                      </td><td>f                                                                       </td><td>f                                                                       </td><td>1                                                                       </td><td>0.18                                                                    </td></tr>\n",
       "\t<tr><td> 3544550                                                                </td><td>Seattle, Washington, United States                                      </td><td>f                                                                       </td><td>Queen Anne                                                              </td><td>2                                                                       </td><td>2                                                                       </td><td>['email', 'phone', 'google', 'reviews', 'jumio']                        </td><td>t                                                                       </td><td>t                                                                       </td><td>7th Avenue West, Seattle, WA 98119, United States                       </td><td>...                                                                     </td><td>10                                                                      </td><td>10                                                                      </td><td> 9                                                                      </td><td>10                                                                      </td><td>10                                                                      </td><td>10                                                                      </td><td>f                                                                       </td><td>f                                                                       </td><td>2                                                                       </td><td>1.30                                                                    </td></tr>\n",
       "\t<tr><td> 9025039                                                                </td><td>Seattle, Washington, United States                                      </td><td>f                                                                       </td><td>Queen Anne                                                              </td><td>1                                                                       </td><td>1                                                                       </td><td>['email', 'phone', 'facebook', 'reviews', 'jumio']                      </td><td>t                                                                       </td><td>t                                                                       </td><td>West McGraw Street, Seattle, WA 98119, United States                    </td><td>...                                                                     </td><td>NA                                                                      </td><td>NA                                                                      </td><td>NA                                                                      </td><td>NA                                                                      </td><td>NA                                                                      </td><td>NA                                                                      </td><td>f                                                                       </td><td>f                                                                       </td><td>1                                                                       </td><td>  NA                                                                    </td></tr>\n",
       "\t<tr><td> 3200646                                                                </td><td>Seattle, Washington, United States                                      </td><td>t                                                                       </td><td>Queen Anne                                                              </td><td>5                                                                       </td><td>5                                                                       </td><td>['email', 'phone', 'facebook', 'google', 'linkedin', 'reviews', 'jumio']</td><td>t                                                                       </td><td>t                                                                       </td><td>West Wheeler Street, Seattle, WA 98119, United States                   </td><td>...                                                                     </td><td>10                                                                      </td><td>10                                                                      </td><td>10                                                                      </td><td>10                                                                      </td><td> 9                                                                      </td><td> 9                                                                      </td><td>f                                                                       </td><td>t                                                                       </td><td>5                                                                       </td><td>4.38                                                                    </td></tr>\n",
       "\t<tr><td> 8859380                                                                </td><td>Seattle, Washington, United States                                      </td><td>f                                                                       </td><td>Queen Anne                                                              </td><td>5                                                                       </td><td>5                                                                       </td><td>['email', 'phone', 'reviews', 'jumio', 'kba']                           </td><td>t                                                                       </td><td>t                                                                       </td><td>9th Avenue West, Seattle, WA 98119, United States                       </td><td>...                                                                     </td><td>10                                                                      </td><td>10                                                                      </td><td>10                                                                      </td><td>10                                                                      </td><td>10                                                                      </td><td>10                                                                      </td><td>f                                                                       </td><td>f                                                                       </td><td>1                                                                       </td><td>2.47                                                                    </td></tr>\n",
       "\t<tr><td> 4520099                                                                </td><td>Seattle, Washington, United States                                      </td><td>f                                                                       </td><td>Queen Anne                                                              </td><td>1                                                                       </td><td>1                                                                       </td><td>['email', 'phone', 'facebook', 'reviews', 'kba']                        </td><td>t                                                                       </td><td>t                                                                       </td><td>14th Avenue West, Seattle, WA 98119, United States                      </td><td>...                                                                     </td><td> 8                                                                      </td><td> 9                                                                      </td><td> 7                                                                      </td><td>10                                                                      </td><td> 9                                                                      </td><td> 9                                                                      </td><td>f                                                                       </td><td>f                                                                       </td><td>1                                                                       </td><td>0.33                                                                    </td></tr>\n",
       "\t<tr><td>...</td><td>...</td><td>...</td><td>...</td><td>...</td><td>...</td><td>...</td><td>...</td><td>...</td><td>...</td><td>   </td><td>...</td><td>...</td><td>...</td><td>...</td><td>...</td><td>...</td><td>...</td><td>...</td><td>...</td><td>...</td></tr>\n",
       "\t<tr><td> 7745196                                                      </td><td>Seattle, Washington, United States                            </td><td>f                                                             </td><td>Fremont                                                       </td><td>  1                                                           </td><td>  1                                                           </td><td>['email', 'phone', 'google', 'reviews', 'kba']                </td><td>t                                                             </td><td>t                                                             </td><td>Woodland Park Avenue North, Seattle, WA 98103, United States  </td><td>...                                                           </td><td>10                                                            </td><td>10                                                            </td><td>10                                                            </td><td>10                                                            </td><td>10                                                            </td><td>10                                                            </td><td>f                                                             </td><td>f                                                             </td><td>1                                                             </td><td>3.39                                                          </td></tr>\n",
       "\t<tr><td> 4645405                                                      </td><td>Seattle, Washington, United States                            </td><td>f                                                             </td><td>Fremont                                                       </td><td>  2                                                           </td><td>  2                                                           </td><td>['email', 'phone', 'reviews', 'kba']                          </td><td>t                                                             </td><td>t                                                             </td><td>North 46th Street, Seattle, WA 98103, United States           </td><td>...                                                           </td><td> 9                                                            </td><td> 9                                                            </td><td> 9                                                            </td><td>10                                                            </td><td> 9                                                            </td><td> 9                                                            </td><td>f                                                             </td><td>f                                                             </td><td>2                                                             </td><td>2.14                                                          </td></tr>\n",
       "\t<tr><td> 2755730                                                      </td><td>Seattle, Washington, United States                            </td><td>t                                                             </td><td>Fremont                                                       </td><td>  1                                                           </td><td>  1                                                           </td><td>['email', 'phone', 'reviews', 'kba']                          </td><td>t                                                             </td><td>t                                                             </td><td>North 35th Street, Seattle, WA 98103, United States           </td><td>...                                                           </td><td>10                                                            </td><td>10                                                            </td><td>10                                                            </td><td>10                                                            </td><td>10                                                            </td><td>10                                                            </td><td>f                                                             </td><td>f                                                             </td><td>1                                                             </td><td>3.77                                                          </td></tr>\n",
       "\t<tr><td> 7949448                                                      </td><td>Seattle, Washington, United States                            </td><td>f                                                             </td><td>Fremont                                                       </td><td>  1                                                           </td><td>  1                                                           </td><td>['email', 'phone', 'linkedin', 'reviews', 'kba']              </td><td>t                                                             </td><td>t                                                             </td><td>6th Avenue Northwest, Seattle, WA 98107, United States        </td><td>...                                                           </td><td>10                                                            </td><td>10                                                            </td><td>10                                                            </td><td>10                                                            </td><td>10                                                            </td><td>10                                                            </td><td>f                                                             </td><td>f                                                             </td><td>1                                                             </td><td>2.48                                                          </td></tr>\n",
       "\t<tr><td> 9288840                                                      </td><td>Seattle, Washington, United States                            </td><td>f                                                             </td><td>Fremont                                                       </td><td>  1                                                           </td><td>  1                                                           </td><td>['email', 'phone', 'kba']                                     </td><td>t                                                             </td><td>f                                                             </td><td>North 46th Street, Seattle, WA 98103, United States           </td><td>...                                                           </td><td>NA                                                            </td><td>NA                                                            </td><td>NA                                                            </td><td>NA                                                            </td><td>NA                                                            </td><td>NA                                                            </td><td>f                                                             </td><td>f                                                             </td><td>1                                                             </td><td>  NA                                                          </td></tr>\n",
       "\t<tr><td> 3312406                                                      </td><td>Seattle, Washington, United States                            </td><td>t                                                             </td><td>Fremont                                                       </td><td>  1                                                           </td><td>  1                                                           </td><td>['email', 'phone', 'facebook', 'reviews', 'kba']              </td><td>t                                                             </td><td>t                                                             </td><td>Baker Avenue Northwest, Seattle, WA 98107, United States      </td><td>...                                                           </td><td>10                                                            </td><td>10                                                            </td><td>10                                                            </td><td>10                                                            </td><td>10                                                            </td><td>10                                                            </td><td>f                                                             </td><td>f                                                             </td><td>1                                                             </td><td>4.28                                                          </td></tr>\n",
       "\t<tr><td> 6621924                                                      </td><td>Seattle, Washington, United States                            </td><td>f                                                             </td><td>Fremont                                                       </td><td>  1                                                           </td><td>  1                                                           </td><td>['email', 'phone', 'reviews', 'jumio']                        </td><td>t                                                             </td><td>t                                                             </td><td>Northwest Bowdoin Place, Seattle, WA 98107, United States     </td><td>...                                                           </td><td> 9                                                            </td><td> 9                                                            </td><td>10                                                            </td><td>10                                                            </td><td> 9                                                            </td><td> 8                                                            </td><td>f                                                             </td><td>f                                                             </td><td>1                                                             </td><td>3.10                                                          </td></tr>\n",
       "\t<tr><td> 5673552                                                      </td><td>Seattle, Washington, United States                            </td><td>t                                                             </td><td>                                                              </td><td>  1                                                           </td><td>  1                                                           </td><td>['email', 'phone', 'facebook', 'reviews', 'jumio']            </td><td>t                                                             </td><td>t                                                             </td><td>Woodland Park Ave N, Seattle, WA 98103, United States         </td><td>...                                                           </td><td>10                                                            </td><td>10                                                            </td><td>10                                                            </td><td>10                                                            </td><td>10                                                            </td><td>10                                                            </td><td>f                                                             </td><td>f                                                             </td><td>1                                                             </td><td>1.18                                                          </td></tr>\n",
       "\t<tr><td>  609701                                                      </td><td>Seattle, Washington, United States                            </td><td>t                                                             </td><td>Fremont                                                       </td><td>  1                                                           </td><td>  1                                                           </td><td>['email', 'phone', 'reviews', 'jumio']                        </td><td>t                                                             </td><td>t                                                             </td><td>NW 40th St, Seattle, WA 98107, United States                  </td><td>...                                                           </td><td>10                                                            </td><td>10                                                            </td><td>10                                                            </td><td>10                                                            </td><td>10                                                            </td><td>10                                                            </td><td>f                                                             </td><td>f                                                             </td><td>1                                                             </td><td>5.57                                                          </td></tr>\n",
       "\t<tr><td>10118341                                                      </td><td>Seattle, Washington, United States                            </td><td>f                                                             </td><td>Fremont                                                       </td><td>  1                                                           </td><td>  1                                                           </td><td>['email', 'phone', 'linkedin', 'reviews', 'kba']              </td><td>t                                                             </td><td>t                                                             </td><td>Phinney Avenue North, Seattle, WA 98103, United States        </td><td>...                                                           </td><td>10                                                            </td><td>10                                                            </td><td>10                                                            </td><td>10                                                            </td><td>10                                                            </td><td>10                                                            </td><td>f                                                             </td><td>f                                                             </td><td>1                                                             </td><td>1.00                                                          </td></tr>\n",
       "\t<tr><td> 2614387                                                      </td><td>Seattle, Washington, United States                            </td><td>f                                                             </td><td>Fremont                                                       </td><td>  2                                                           </td><td>  2                                                           </td><td>['email', 'phone', 'reviews', 'kba']                          </td><td>t                                                             </td><td>t                                                             </td><td>Midvale Avenue North, Seattle, WA 98103, United States        </td><td>...                                                           </td><td>10                                                            </td><td>10                                                            </td><td>10                                                            </td><td>10                                                            </td><td>10                                                            </td><td>10                                                            </td><td>f                                                             </td><td>f                                                             </td><td>2                                                             </td><td>5.95                                                          </td></tr>\n",
       "\t<tr><td> 7735100                                                      </td><td>Seattle, Washington, United States                            </td><td>f                                                             </td><td>Fremont                                                       </td><td>  1                                                           </td><td>  1                                                           </td><td>['email', 'phone', 'reviews', 'kba']                          </td><td>t                                                             </td><td>t                                                             </td><td>Dayton Avenue North, Seattle, WA 98103, United States         </td><td>...                                                           </td><td>10                                                            </td><td> 9                                                            </td><td>10                                                            </td><td>10                                                            </td><td>10                                                            </td><td>10                                                            </td><td>f                                                             </td><td>f                                                             </td><td>1                                                             </td><td>1.06                                                          </td></tr>\n",
       "\t<tr><td> 5482204                                                      </td><td>Seattle, Washington, United States                            </td><td>f                                                             </td><td>Fremont                                                       </td><td>  1                                                           </td><td>  1                                                           </td><td>['email', 'phone']                                            </td><td>t                                                             </td><td>f                                                             </td><td>Linden Avenue North, Seattle, WA 98103, United States         </td><td>...                                                           </td><td>NA                                                            </td><td>NA                                                            </td><td>NA                                                            </td><td>NA                                                            </td><td>NA                                                            </td><td>NA                                                            </td><td>f                                                             </td><td>f                                                             </td><td>1                                                             </td><td>  NA                                                          </td></tr>\n",
       "\t<tr><td> 4524575                                                      </td><td>Seattle, Washington, United States                            </td><td>t                                                             </td><td>Fremont                                                       </td><td>  1                                                           </td><td>  1                                                           </td><td>['email', 'phone', 'linkedin', 'reviews', 'kba']              </td><td>t                                                             </td><td>t                                                             </td><td>1st Avenue Northwest, Seattle, WA 98107, United States        </td><td>...                                                           </td><td>10                                                            </td><td>10                                                            </td><td>10                                                            </td><td>10                                                            </td><td>10                                                            </td><td>10                                                            </td><td>f                                                             </td><td>f                                                             </td><td>1                                                             </td><td>2.05                                                          </td></tr>\n",
       "\t<tr><td> 8562314                                                      </td><td>US                                                            </td><td>f                                                             </td><td>                                                              </td><td>  1                                                           </td><td>  1                                                           </td><td>['email', 'phone']                                            </td><td>t                                                             </td><td>f                                                             </td><td>North 35th Street, Seattle, WA 98103, United States           </td><td>...                                                           </td><td>NA                                                            </td><td>NA                                                            </td><td>NA                                                            </td><td>NA                                                            </td><td>NA                                                            </td><td>NA                                                            </td><td>f                                                             </td><td>f                                                             </td><td>1                                                             </td><td>  NA                                                          </td></tr>\n",
       "\t<tr><td> 9698202                                                      </td><td>Seattle, Washington, United States                            </td><td>f                                                             </td><td>Queen Anne                                                    </td><td>  9                                                           </td><td>  9                                                           </td><td>['email', 'phone', 'facebook', 'linkedin', 'reviews', 'jumio']</td><td>t                                                             </td><td>t                                                             </td><td>Linden Avenue North, Seattle, WA 98103, United States         </td><td>...                                                           </td><td>10                                                            </td><td>10                                                            </td><td>10                                                            </td><td>10                                                            </td><td>10                                                            </td><td>10                                                            </td><td>f                                                             </td><td>f                                                             </td><td>8                                                             </td><td>4.00                                                          </td></tr>\n",
       "\t<tr><td> 7178490                                                      </td><td>Seattle, Washington, United States                            </td><td>t                                                             </td><td>Fremont                                                       </td><td>  1                                                           </td><td>  1                                                           </td><td>['email', 'phone', 'facebook', 'reviews', 'kba']              </td><td>t                                                             </td><td>t                                                             </td><td>N 44th st, Seattle, WA 98103, United States                   </td><td>...                                                           </td><td>10                                                            </td><td>10                                                            </td><td>10                                                            </td><td>10                                                            </td><td>10                                                            </td><td>10                                                            </td><td>f                                                             </td><td>f                                                             </td><td>1                                                             </td><td>2.34                                                          </td></tr>\n",
       "\t<tr><td> 8054902                                                      </td><td>Seattle, Washington, United States                            </td><td>f                                                             </td><td>Fremont                                                       </td><td>  1                                                           </td><td>  1                                                           </td><td>['email', 'phone', 'facebook', 'linkedin', 'reviews', 'jumio']</td><td>t                                                             </td><td>t                                                             </td><td>1st Avenue Northwest, Seattle, WA 98107, United States        </td><td>...                                                           </td><td>10                                                            </td><td>10                                                            </td><td>10                                                            </td><td>10                                                            </td><td>10                                                            </td><td>10                                                            </td><td>f                                                             </td><td>f                                                             </td><td>1                                                             </td><td>3.95                                                          </td></tr>\n",
       "\t<tr><td> 5458027                                                      </td><td>Seattle, Washington, United States                            </td><td>t                                                             </td><td>Fremont                                                       </td><td>  2                                                           </td><td>  2                                                           </td><td>['email', 'phone', 'reviews', 'jumio']                        </td><td>t                                                             </td><td>t                                                             </td><td>Greenwood Avenue North, Seattle, WA 98103, United States      </td><td>...                                                           </td><td>10                                                            </td><td>10                                                            </td><td>10                                                            </td><td>10                                                            </td><td>10                                                            </td><td>10                                                            </td><td>f                                                             </td><td>f                                                             </td><td>2                                                             </td><td>0.24                                                          </td></tr>\n",
       "\t<tr><td> 4940491                                                      </td><td>Arlington, Massachusetts, United States                       </td><td>f                                                             </td><td>Wallingford                                                   </td><td>  1                                                           </td><td>  1                                                           </td><td>['email', 'phone', 'reviews']                                 </td><td>t                                                             </td><td>f                                                             </td><td>Stone Way North, Seattle, WA 98103, United States             </td><td>...                                                           </td><td>10                                                            </td><td>10                                                            </td><td>10                                                            </td><td>10                                                            </td><td>10                                                            </td><td> 9                                                            </td><td>f                                                             </td><td>f                                                             </td><td>1                                                             </td><td>0.78                                                          </td></tr>\n",
       "\t<tr><td> 1844791                                                      </td><td>Seattle, Washington, United States                            </td><td>f                                                             </td><td>Fremont                                                       </td><td>  2                                                           </td><td>  2                                                           </td><td>['email', 'phone', 'reviews', 'kba']                          </td><td>t                                                             </td><td>t                                                             </td><td>Dayton Avenue North, Seattle, WA 98103, United States         </td><td>...                                                           </td><td>10                                                            </td><td> 9                                                            </td><td>10                                                            </td><td>10                                                            </td><td>10                                                            </td><td> 9                                                            </td><td>f                                                             </td><td>f                                                             </td><td>2                                                             </td><td>1.15                                                          </td></tr>\n",
       "\t<tr><td> 6120046                                                      </td><td>Seattle, Washington, United States                            </td><td>f                                                             </td><td>Fremont                                                       </td><td>  1                                                           </td><td>  1                                                           </td><td>['email', 'phone', 'facebook', 'reviews', 'kba']              </td><td>t                                                             </td><td>t                                                             </td><td>Albion Place North, Seattle, WA 98103, United States          </td><td>...                                                           </td><td> 8                                                            </td><td> 7                                                            </td><td> 9                                                            </td><td> 9                                                            </td><td> 9                                                            </td><td> 8                                                            </td><td>f                                                             </td><td>f                                                             </td><td>1                                                             </td><td>1.18                                                          </td></tr>\n",
       "\t<tr><td>  262764                                                      </td><td>Seattle, Washington, United States                            </td><td>f                                                             </td><td>Fremont                                                       </td><td>  1                                                           </td><td>  1                                                           </td><td>['email', 'phone', 'linkedin', 'reviews', 'kba']              </td><td>t                                                             </td><td>t                                                             </td><td>N Bowdoin Pl, Seattle, WA 98103, United States                </td><td>...                                                           </td><td> 9                                                            </td><td> 8                                                            </td><td>10                                                            </td><td>10                                                            </td><td>10                                                            </td><td> 8                                                            </td><td>f                                                             </td><td>f                                                             </td><td>1                                                             </td><td>1.56                                                          </td></tr>\n",
       "\t<tr><td> 8578490                                                      </td><td>Seattle, Washington, United States                            </td><td>f                                                             </td><td>Fremont                                                       </td><td>  1                                                           </td><td>  1                                                           </td><td>['email', 'phone', 'reviews', 'kba']                          </td><td>t                                                             </td><td>t                                                             </td><td>Whitman Avenue North, Seattle, WA 98103, United States        </td><td>...                                                           </td><td> 9                                                            </td><td> 8                                                            </td><td>10                                                            </td><td>10                                                            </td><td>10                                                            </td><td>10                                                            </td><td>f                                                             </td><td>f                                                             </td><td>1                                                             </td><td>0.63                                                          </td></tr>\n",
       "\t<tr><td> 3383329                                                      </td><td>Seattle, Washington, United States                            </td><td>t                                                             </td><td>Fremont                                                       </td><td>  3                                                           </td><td>  3                                                           </td><td>['email', 'phone', 'facebook', 'reviews', 'kba']              </td><td>t                                                             </td><td>t                                                             </td><td>Northwest 39th Street, Seattle, WA 98107, United States       </td><td>...                                                           </td><td>10                                                            </td><td>10                                                            </td><td>10                                                            </td><td>10                                                            </td><td> 9                                                            </td><td>10                                                            </td><td>f                                                             </td><td>t                                                             </td><td>3                                                             </td><td>4.01                                                          </td></tr>\n",
       "\t<tr><td> 8101950                                                      </td><td>US                                                            </td><td>f                                                             </td><td>Holly                                                         </td><td>354                                                           </td><td>354                                                           </td><td>['email', 'phone', 'linkedin', 'reviews', 'jumio']            </td><td>t                                                             </td><td>t                                                             </td><td>Northwest 48th Street, Seattle, WA 98107, United States       </td><td>...                                                           </td><td> 8                                                            </td><td>10                                                            </td><td> 4                                                            </td><td> 8                                                            </td><td>10                                                            </td><td> 8                                                            </td><td>f                                                             </td><td>f                                                             </td><td>8                                                             </td><td>0.30                                                          </td></tr>\n",
       "\t<tr><td> 8902327                                                      </td><td>Seattle, Washington, United States                            </td><td>f                                                             </td><td>Portage Bay                                                   </td><td>  1                                                           </td><td>  1                                                           </td><td>['email', 'phone', 'facebook', 'reviews', 'jumio']            </td><td>t                                                             </td><td>t                                                             </td><td>Fuhrman Avenue East, Seattle, WA 98102, United States         </td><td>...                                                           </td><td>10                                                            </td><td>10                                                            </td><td>10                                                            </td><td>10                                                            </td><td>10                                                            </td><td>10                                                            </td><td>f                                                             </td><td>f                                                             </td><td>1                                                             </td><td>2.00                                                          </td></tr>\n",
       "\t<tr><td>10267360                                                      </td><td>US                                                            </td><td>f                                                             </td><td>                                                              </td><td>  1                                                           </td><td>  1                                                           </td><td>['phone']                                                     </td><td>t                                                             </td><td>f                                                             </td><td>South Laurel Street, Seattle, WA 98178, United States         </td><td>...                                                           </td><td>NA                                                            </td><td>NA                                                            </td><td>NA                                                            </td><td>NA                                                            </td><td>NA                                                            </td><td>NA                                                            </td><td>f                                                             </td><td>f                                                             </td><td>1                                                             </td><td>  NA                                                          </td></tr>\n",
       "\t<tr><td> 9604740                                                      </td><td>Tacoma, Washington, United States                             </td><td>f                                                             </td><td>                                                              </td><td>  1                                                           </td><td>  1                                                           </td><td>['email', 'phone', 'facebook', 'reviews', 'kba']              </td><td>t                                                             </td><td>t                                                             </td><td>43rd Avenue East, Seattle, WA 98112, United States            </td><td>...                                                           </td><td>NA                                                            </td><td>NA                                                            </td><td>NA                                                            </td><td>NA                                                            </td><td>NA                                                            </td><td>NA                                                            </td><td>f                                                             </td><td>f                                                             </td><td>1                                                             </td><td>  NA                                                          </td></tr>\n",
       "\t<tr><td>10208623                                                      </td><td>Seattle, Washington, United States                            </td><td>f                                                             </td><td>Queen Anne                                                    </td><td>  1                                                           </td><td>  1                                                           </td><td>['email', 'phone', 'reviews', 'kba']                          </td><td>t                                                             </td><td>t                                                             </td><td>Westlake Avenue North, Seattle, WA 98109, United States       </td><td>...                                                           </td><td>NA                                                            </td><td>NA                                                            </td><td>NA                                                            </td><td>NA                                                            </td><td>NA                                                            </td><td>NA                                                            </td><td>f                                                             </td><td>f                                                             </td><td>1                                                             </td><td>  NA                                                          </td></tr>\n",
       "</tbody>\n",
       "</table>\n"
      ],
      "text/latex": [
       "\\begin{tabular}{r|llllllllllllllllllllllllllllllllllllllllllllllllllll}\n",
       " id & host\\_location & host\\_is\\_superhost & host\\_neighbourhood & host\\_listings\\_count & host\\_total\\_listings\\_count & host\\_verifications & host\\_has\\_profile\\_pic & host\\_identity\\_verified & street & ... & review\\_scores\\_accuracy & review\\_scores\\_cleanliness & review\\_scores\\_checkin & review\\_scores\\_communication & review\\_scores\\_location & review\\_scores\\_value & requires\\_license & require\\_guest\\_phone\\_verification & calculated\\_host\\_listings\\_count & reviews\\_per\\_month\\\\\n",
       "\\hline\n",
       "\t   241032                                                                     & Seattle, Washington, United States                                           & f                                                                            & Queen Anne                                                                   & 3                                                                            & 3                                                                            & {[}'email', 'phone', 'reviews', 'kba'{]}                                     & t                                                                            & t                                                                            & Gilman Dr W, Seattle, WA 98119, United States                                & ...                                                                          & 10                                                                           & 10                                                                           & 10                                                                           & 10                                                                           &  9                                                                           & 10                                                                           & f                                                                            & f                                                                            & 2                                                                            & 4.07                                                                        \\\\\n",
       "\t   953595                                                                     & Seattle, Washington, United States                                           & t                                                                            & Queen Anne                                                                   & 6                                                                            & 6                                                                            & {[}'email', 'phone', 'facebook', 'linkedin', 'reviews', 'jumio'{]}           & t                                                                            & t                                                                            & 7th Avenue West, Seattle, WA 98119, United States                            & ...                                                                          & 10                                                                           & 10                                                                           & 10                                                                           & 10                                                                           & 10                                                                           & 10                                                                           & f                                                                            & t                                                                            & 6                                                                            & 1.48                                                                        \\\\\n",
       "\t  3308979                                                                     & Seattle, Washington, United States                                           & f                                                                            & Queen Anne                                                                   & 2                                                                            & 2                                                                            & {[}'email', 'phone', 'google', 'reviews', 'jumio'{]}                         & t                                                                            & t                                                                            & West Lee Street, Seattle, WA 98119, United States                            & ...                                                                          & 10                                                                           & 10                                                                           & 10                                                                           & 10                                                                           & 10                                                                           & 10                                                                           & f                                                                            & f                                                                            & 2                                                                            & 1.15                                                                        \\\\\n",
       "\t  7421966                                                                     & Seattle, Washington, United States                                           & f                                                                            & Queen Anne                                                                   & 1                                                                            & 1                                                                            & {[}'email', 'phone', 'facebook', 'reviews', 'jumio'{]}                       & t                                                                            & t                                                                            & 8th Avenue West, Seattle, WA 98119, United States                            & ...                                                                          & NA                                                                           & NA                                                                           & NA                                                                           & NA                                                                           & NA                                                                           & NA                                                                           & f                                                                            & f                                                                            & 1                                                                            &   NA                                                                        \\\\\n",
       "\t   278830                                                                     & Seattle, Washington, United States                                           & f                                                                            & Queen Anne                                                                   & 2                                                                            & 2                                                                            & {[}'email', 'phone', 'facebook', 'reviews', 'kba'{]}                         & t                                                                            & t                                                                            & 14th Ave W, Seattle, WA 98119, United States                                 & ...                                                                          &  9                                                                           &  9                                                                           & 10                                                                           & 10                                                                           &  9                                                                           &  9                                                                           & f                                                                            & f                                                                            & 1                                                                            & 0.89                                                                        \\\\\n",
       "\t  5956968                                                                     & Seattle, Washington, United States                                           & f                                                                            & Queen Anne                                                                   & 1                                                                            & 1                                                                            & {[}'email', 'phone', 'facebook', 'reviews', 'kba'{]}                         & t                                                                            & t                                                                            & West Comstock Street, Seattle, WA 98119, United States                       & ...                                                                          & 10                                                                           & 10                                                                           & 10                                                                           & 10                                                                           & 10                                                                           & 10                                                                           & f                                                                            & f                                                                            & 1                                                                            & 2.45                                                                        \\\\\n",
       "\t  1909058                                                                     & Seattle, Washington, United States                                           & t                                                                            & Queen Anne                                                                   & 1                                                                            & 1                                                                            & {[}'email', 'phone', 'reviews', 'kba'{]}                                     & t                                                                            & t                                                                            & 10th Avenue West, Seattle, WA 98119, United States                           & ...                                                                          & 10                                                                           & 10                                                                           & 10                                                                           & 10                                                                           & 10                                                                           & 10                                                                           & f                                                                            & f                                                                            & 1                                                                            & 2.46                                                                        \\\\\n",
       "\t   856550                                                                     & Seattle, Washington, United States                                           & t                                                                            & Queen Anne                                                                   & 5                                                                            & 5                                                                            & {[}'email', 'phone', 'facebook', 'google', 'linkedin', 'reviews', 'jumio'{]} & t                                                                            & t                                                                            & West Wheeler Street, Seattle, WA 98119, United States                        & ...                                                                          & 10                                                                           & 10                                                                           & 10                                                                           & 10                                                                           &  9                                                                           & 10                                                                           & f                                                                            & t                                                                            & 5                                                                            & 4.73                                                                        \\\\\n",
       "\t  4948745                                                                     & Seattle, Washington, United States                                           & f                                                                            & Queen Anne                                                                   & 1                                                                            & 1                                                                            & {[}'email', 'phone', 'facebook', 'linkedin', 'reviews', 'kba'{]}             & t                                                                            & t                                                                            & Queen Anne Avenue North, Seattle, WA 98109, United States                    & ...                                                                          & 10                                                                           &  9                                                                           & 10                                                                           &  9                                                                           & 10                                                                           & 10                                                                           & f                                                                            & f                                                                            & 1                                                                            & 1.22                                                                        \\\\\n",
       "\t  2493658                                                                     & Seattle, Washington, United States                                           & t                                                                            & Queen Anne                                                                   & 6                                                                            & 6                                                                            & {[}'email', 'phone', 'facebook', 'linkedin', 'reviews', 'jumio'{]}           & t                                                                            & t                                                                            & 7th Avenue West, Seattle, WA 98119, United States                            & ...                                                                          & 10                                                                           & 10                                                                           & 10                                                                           & 10                                                                           & 10                                                                           &  9                                                                           & f                                                                            & t                                                                            & 6                                                                            & 1.55                                                                        \\\\\n",
       "\t   175576                                                                     & Seattle, Washington, United States                                           & t                                                                            & Queen Anne                                                                   & 1                                                                            & 1                                                                            & {[}'email', 'phone', 'reviews', 'kba'{]}                                     & t                                                                            & t                                                                            & 1st Ave W, Seattle, WA 98119, United States                                  & ...                                                                          & 10                                                                           & 10                                                                           & 10                                                                           & 10                                                                           & 10                                                                           & 10                                                                           & f                                                                            & f                                                                            & 1                                                                            & 3.33                                                                        \\\\\n",
       "\t  4454295                                                                     & Seattle, Washington, United States                                           & f                                                                            & Queen Anne                                                                   & 1                                                                            & 1                                                                            & {[}'email', 'phone', 'facebook', 'reviews', 'kba'{]}                         & t                                                                            & t                                                                            & 3rd Avenue West, Seattle, WA 98119, United States                            & ...                                                                          & 10                                                                           & 10                                                                           &  9                                                                           & 10                                                                           & 10                                                                           &  9                                                                           & f                                                                            & f                                                                            & 1                                                                            & 0.98                                                                        \\\\\n",
       "\t  3883392                                                                     & Seattle, Washington, United States                                           & t                                                                            &                                                                              & 1                                                                            & 1                                                                            & {[}'email', 'phone', 'linkedin', 'reviews', 'jumio'{]}                       & t                                                                            & t                                                                            & West Howe Street, Seattle, WA 98119, United States                           & ...                                                                          & 10                                                                           & 10                                                                           & 10                                                                           & 10                                                                           & 10                                                                           & 10                                                                           & f                                                                            & f                                                                            & 1                                                                            & 0.92                                                                        \\\\\n",
       "\t  8889257                                                                     & Kirkland, Washington, United States                                          & f                                                                            & Queen Anne                                                                   & 1                                                                            & 1                                                                            & {[}'email', 'phone', 'reviews', 'kba'{]}                                     & t                                                                            & t                                                                            & West Prospect Street, Seattle, WA 98119, United States                       & ...                                                                          & 10                                                                           & 10                                                                           &  9                                                                           &  9                                                                           & 10                                                                           & 10                                                                           & f                                                                            & f                                                                            & 1                                                                            & 3.00                                                                        \\\\\n",
       "\t  5680462                                                                     & Seattle, Washington, United States                                           & f                                                                            & Queen Anne                                                                   & 1                                                                            & 1                                                                            & {[}'email', 'phone', 'facebook', 'reviews', 'kba'{]}                         & t                                                                            & t                                                                            & 7th Avenue West, Seattle, WA 98119, United States                            & ...                                                                          &  9                                                                           & 10                                                                           & 10                                                                           & 10                                                                           & 10                                                                           & 10                                                                           & f                                                                            & f                                                                            & 1                                                                            & 2.65                                                                        \\\\\n",
       "\t  8988178                                                                     & Seattle, Washington, United States                                           & f                                                                            &                                                                              & 1                                                                            & 1                                                                            & {[}'email', 'reviews', 'kba'{]}                                              & t                                                                            & f                                                                            & 12th Avenue West, Seattle, WA 98119, United States                           & ...                                                                          &  8                                                                           & 10                                                                           &  8                                                                           &  8                                                                           &  8                                                                           &  8                                                                           & f                                                                            & f                                                                            & 1                                                                            & 0.73                                                                        \\\\\n",
       "\t  3245876                                                                     & Seattle, Washington, United States                                           & f                                                                            & Queen Anne                                                                   & 1                                                                            & 1                                                                            & {[}'email', 'phone', 'facebook', 'linkedin', 'reviews', 'jumio'{]}           & t                                                                            & t                                                                            & West Mercer Place, Seattle, WA 98119, United States                          & ...                                                                          & 10                                                                           &  9                                                                           & 10                                                                           & 10                                                                           & 10                                                                           &  9                                                                           & f                                                                            & f                                                                            & 1                                                                            & 4.55                                                                        \\\\\n",
       "\t  4933447                                                                     & Seattle, Washington, United States                                           & t                                                                            & Queen Anne                                                                   & 1                                                                            & 1                                                                            & {[}'email', 'phone', 'reviews', 'kba'{]}                                     & t                                                                            & t                                                                            & 12th Avenue West, Seattle, WA 98119, United States                           & ...                                                                          & 10                                                                           & 10                                                                           & 10                                                                           & 10                                                                           & 10                                                                           & 10                                                                           & f                                                                            & f                                                                            & 1                                                                            & 4.58                                                                        \\\\\n",
       "\t  7735464                                                                     & Seattle, Washington, United States                                           & f                                                                            & Queen Anne                                                                   & 1                                                                            & 1                                                                            & {[}'email', 'phone', 'facebook', 'reviews', 'jumio'{]}                       & t                                                                            & t                                                                            & 11th Avenue West, Seattle, WA 98119, United States                           & ...                                                                          & NA                                                                           & NA                                                                           & NA                                                                           & NA                                                                           & NA                                                                           & NA                                                                           & f                                                                            & f                                                                            & 1                                                                            &   NA                                                                        \\\\\n",
       "\t  6291829                                                                     & Seattle, Washington, United States                                           & f                                                                            & Queen Anne                                                                   & 1                                                                            & 1                                                                            & {[}'email', 'phone', 'linkedin', 'reviews', 'kba'{]}                         & t                                                                            & t                                                                            & 1st Avenue West, Seattle, WA 98119, United States                            & ...                                                                          & 10                                                                           &  9                                                                           &  9                                                                           &  9                                                                           &  8                                                                           &  8                                                                           & f                                                                            & f                                                                            & 1                                                                            & 0.82                                                                        \\\\\n",
       "\t  9218403                                                                     & Quilcene, Washington, United States                                          & f                                                                            &                                                                              & 1                                                                            & 1                                                                            & {[}'email', 'phone', 'reviews', 'kba'{]}                                     & t                                                                            & t                                                                            & West Olympic Place, Seattle, WA 98119, United States                         & ...                                                                          & 10                                                                           & 10                                                                           & 10                                                                           & 10                                                                           & 10                                                                           & 10                                                                           & f                                                                            & f                                                                            & 1                                                                            & 1.00                                                                        \\\\\n",
       "\t  4125779                                                                     & Seattle, Washington, United States                                           & f                                                                            & Queen Anne                                                                   & 1                                                                            & 1                                                                            & {[}'email', 'phone', 'facebook', 'reviews'{]}                                & t                                                                            & f                                                                            & 2nd Avenue West, Seattle, WA 98119, United States                            & ...                                                                          &  9                                                                           &  9                                                                           &  9                                                                           &  9                                                                           & 10                                                                           &  8                                                                           & f                                                                            & f                                                                            & 1                                                                            & 0.71                                                                        \\\\\n",
       "\t  8942678                                                                     & Seattle, Washington, United States                                           & f                                                                            & Queen Anne                                                                   & 1                                                                            & 1                                                                            & {[}'phone', 'reviews'{]}                                                     & t                                                                            & f                                                                            & 1st Avenue West, Seattle, WA 98119, United States                            & ...                                                                          & 10                                                                           & 10                                                                           & 10                                                                           & 10                                                                           & 10                                                                           & 10                                                                           & f                                                                            & f                                                                            & 1                                                                            & 0.86                                                                        \\\\\n",
       "\t 10106055                                                                     & Seattle, Washington, United States                                           & f                                                                            & Queen Anne                                                                   & 1                                                                            & 1                                                                            & {[}'phone'{]}                                                                & t                                                                            & f                                                                            & West Galer Street, Seattle, WA 98119, United States                          & ...                                                                          & NA                                                                           & NA                                                                           & NA                                                                           & NA                                                                           & NA                                                                           & NA                                                                           & f                                                                            & f                                                                            & 1                                                                            &   NA                                                                        \\\\\n",
       "\t  6362362                                                                     & Seattle, Washington, United States                                           & f                                                                            & Queen Anne                                                                   & 1                                                                            & 1                                                                            & {[}'email', 'phone', 'reviews'{]}                                            & t                                                                            & f                                                                            & 10th Avenue West, Seattle, WA 98119, United States                           & ...                                                                          & 10                                                                           & 10                                                                           & 10                                                                           & 10                                                                           & 10                                                                           & 10                                                                           & f                                                                            & f                                                                            & 1                                                                            & 0.18                                                                        \\\\\n",
       "\t  3544550                                                                     & Seattle, Washington, United States                                           & f                                                                            & Queen Anne                                                                   & 2                                                                            & 2                                                                            & {[}'email', 'phone', 'google', 'reviews', 'jumio'{]}                         & t                                                                            & t                                                                            & 7th Avenue West, Seattle, WA 98119, United States                            & ...                                                                          & 10                                                                           & 10                                                                           &  9                                                                           & 10                                                                           & 10                                                                           & 10                                                                           & f                                                                            & f                                                                            & 2                                                                            & 1.30                                                                        \\\\\n",
       "\t  9025039                                                                     & Seattle, Washington, United States                                           & f                                                                            & Queen Anne                                                                   & 1                                                                            & 1                                                                            & {[}'email', 'phone', 'facebook', 'reviews', 'jumio'{]}                       & t                                                                            & t                                                                            & West McGraw Street, Seattle, WA 98119, United States                         & ...                                                                          & NA                                                                           & NA                                                                           & NA                                                                           & NA                                                                           & NA                                                                           & NA                                                                           & f                                                                            & f                                                                            & 1                                                                            &   NA                                                                        \\\\\n",
       "\t  3200646                                                                     & Seattle, Washington, United States                                           & t                                                                            & Queen Anne                                                                   & 5                                                                            & 5                                                                            & {[}'email', 'phone', 'facebook', 'google', 'linkedin', 'reviews', 'jumio'{]} & t                                                                            & t                                                                            & West Wheeler Street, Seattle, WA 98119, United States                        & ...                                                                          & 10                                                                           & 10                                                                           & 10                                                                           & 10                                                                           &  9                                                                           &  9                                                                           & f                                                                            & t                                                                            & 5                                                                            & 4.38                                                                        \\\\\n",
       "\t  8859380                                                                     & Seattle, Washington, United States                                           & f                                                                            & Queen Anne                                                                   & 5                                                                            & 5                                                                            & {[}'email', 'phone', 'reviews', 'jumio', 'kba'{]}                            & t                                                                            & t                                                                            & 9th Avenue West, Seattle, WA 98119, United States                            & ...                                                                          & 10                                                                           & 10                                                                           & 10                                                                           & 10                                                                           & 10                                                                           & 10                                                                           & f                                                                            & f                                                                            & 1                                                                            & 2.47                                                                        \\\\\n",
       "\t  4520099                                                                     & Seattle, Washington, United States                                           & f                                                                            & Queen Anne                                                                   & 1                                                                            & 1                                                                            & {[}'email', 'phone', 'facebook', 'reviews', 'kba'{]}                         & t                                                                            & t                                                                            & 14th Avenue West, Seattle, WA 98119, United States                           & ...                                                                          &  8                                                                           &  9                                                                           &  7                                                                           & 10                                                                           &  9                                                                           &  9                                                                           & f                                                                            & f                                                                            & 1                                                                            & 0.33                                                                        \\\\\n",
       "\t ... & ... & ... & ... & ... & ... & ... & ... & ... & ... &     & ... & ... & ... & ... & ... & ... & ... & ... & ... & ...\\\\\n",
       "\t  7745196                                                           & Seattle, Washington, United States                                 & f                                                                  & Fremont                                                            &   1                                                                &   1                                                                & {[}'email', 'phone', 'google', 'reviews', 'kba'{]}                 & t                                                                  & t                                                                  & Woodland Park Avenue North, Seattle, WA 98103, United States       & ...                                                                & 10                                                                 & 10                                                                 & 10                                                                 & 10                                                                 & 10                                                                 & 10                                                                 & f                                                                  & f                                                                  & 1                                                                  & 3.39                                                              \\\\\n",
       "\t  4645405                                                           & Seattle, Washington, United States                                 & f                                                                  & Fremont                                                            &   2                                                                &   2                                                                & {[}'email', 'phone', 'reviews', 'kba'{]}                           & t                                                                  & t                                                                  & North 46th Street, Seattle, WA 98103, United States                & ...                                                                &  9                                                                 &  9                                                                 &  9                                                                 & 10                                                                 &  9                                                                 &  9                                                                 & f                                                                  & f                                                                  & 2                                                                  & 2.14                                                              \\\\\n",
       "\t  2755730                                                           & Seattle, Washington, United States                                 & t                                                                  & Fremont                                                            &   1                                                                &   1                                                                & {[}'email', 'phone', 'reviews', 'kba'{]}                           & t                                                                  & t                                                                  & North 35th Street, Seattle, WA 98103, United States                & ...                                                                & 10                                                                 & 10                                                                 & 10                                                                 & 10                                                                 & 10                                                                 & 10                                                                 & f                                                                  & f                                                                  & 1                                                                  & 3.77                                                              \\\\\n",
       "\t  7949448                                                           & Seattle, Washington, United States                                 & f                                                                  & Fremont                                                            &   1                                                                &   1                                                                & {[}'email', 'phone', 'linkedin', 'reviews', 'kba'{]}               & t                                                                  & t                                                                  & 6th Avenue Northwest, Seattle, WA 98107, United States             & ...                                                                & 10                                                                 & 10                                                                 & 10                                                                 & 10                                                                 & 10                                                                 & 10                                                                 & f                                                                  & f                                                                  & 1                                                                  & 2.48                                                              \\\\\n",
       "\t  9288840                                                           & Seattle, Washington, United States                                 & f                                                                  & Fremont                                                            &   1                                                                &   1                                                                & {[}'email', 'phone', 'kba'{]}                                      & t                                                                  & f                                                                  & North 46th Street, Seattle, WA 98103, United States                & ...                                                                & NA                                                                 & NA                                                                 & NA                                                                 & NA                                                                 & NA                                                                 & NA                                                                 & f                                                                  & f                                                                  & 1                                                                  &   NA                                                              \\\\\n",
       "\t  3312406                                                           & Seattle, Washington, United States                                 & t                                                                  & Fremont                                                            &   1                                                                &   1                                                                & {[}'email', 'phone', 'facebook', 'reviews', 'kba'{]}               & t                                                                  & t                                                                  & Baker Avenue Northwest, Seattle, WA 98107, United States           & ...                                                                & 10                                                                 & 10                                                                 & 10                                                                 & 10                                                                 & 10                                                                 & 10                                                                 & f                                                                  & f                                                                  & 1                                                                  & 4.28                                                              \\\\\n",
       "\t  6621924                                                           & Seattle, Washington, United States                                 & f                                                                  & Fremont                                                            &   1                                                                &   1                                                                & {[}'email', 'phone', 'reviews', 'jumio'{]}                         & t                                                                  & t                                                                  & Northwest Bowdoin Place, Seattle, WA 98107, United States          & ...                                                                &  9                                                                 &  9                                                                 & 10                                                                 & 10                                                                 &  9                                                                 &  8                                                                 & f                                                                  & f                                                                  & 1                                                                  & 3.10                                                              \\\\\n",
       "\t  5673552                                                           & Seattle, Washington, United States                                 & t                                                                  &                                                                    &   1                                                                &   1                                                                & {[}'email', 'phone', 'facebook', 'reviews', 'jumio'{]}             & t                                                                  & t                                                                  & Woodland Park Ave N, Seattle, WA 98103, United States              & ...                                                                & 10                                                                 & 10                                                                 & 10                                                                 & 10                                                                 & 10                                                                 & 10                                                                 & f                                                                  & f                                                                  & 1                                                                  & 1.18                                                              \\\\\n",
       "\t   609701                                                           & Seattle, Washington, United States                                 & t                                                                  & Fremont                                                            &   1                                                                &   1                                                                & {[}'email', 'phone', 'reviews', 'jumio'{]}                         & t                                                                  & t                                                                  & NW 40th St, Seattle, WA 98107, United States                       & ...                                                                & 10                                                                 & 10                                                                 & 10                                                                 & 10                                                                 & 10                                                                 & 10                                                                 & f                                                                  & f                                                                  & 1                                                                  & 5.57                                                              \\\\\n",
       "\t 10118341                                                           & Seattle, Washington, United States                                 & f                                                                  & Fremont                                                            &   1                                                                &   1                                                                & {[}'email', 'phone', 'linkedin', 'reviews', 'kba'{]}               & t                                                                  & t                                                                  & Phinney Avenue North, Seattle, WA 98103, United States             & ...                                                                & 10                                                                 & 10                                                                 & 10                                                                 & 10                                                                 & 10                                                                 & 10                                                                 & f                                                                  & f                                                                  & 1                                                                  & 1.00                                                              \\\\\n",
       "\t  2614387                                                           & Seattle, Washington, United States                                 & f                                                                  & Fremont                                                            &   2                                                                &   2                                                                & {[}'email', 'phone', 'reviews', 'kba'{]}                           & t                                                                  & t                                                                  & Midvale Avenue North, Seattle, WA 98103, United States             & ...                                                                & 10                                                                 & 10                                                                 & 10                                                                 & 10                                                                 & 10                                                                 & 10                                                                 & f                                                                  & f                                                                  & 2                                                                  & 5.95                                                              \\\\\n",
       "\t  7735100                                                           & Seattle, Washington, United States                                 & f                                                                  & Fremont                                                            &   1                                                                &   1                                                                & {[}'email', 'phone', 'reviews', 'kba'{]}                           & t                                                                  & t                                                                  & Dayton Avenue North, Seattle, WA 98103, United States              & ...                                                                & 10                                                                 &  9                                                                 & 10                                                                 & 10                                                                 & 10                                                                 & 10                                                                 & f                                                                  & f                                                                  & 1                                                                  & 1.06                                                              \\\\\n",
       "\t  5482204                                                           & Seattle, Washington, United States                                 & f                                                                  & Fremont                                                            &   1                                                                &   1                                                                & {[}'email', 'phone'{]}                                             & t                                                                  & f                                                                  & Linden Avenue North, Seattle, WA 98103, United States              & ...                                                                & NA                                                                 & NA                                                                 & NA                                                                 & NA                                                                 & NA                                                                 & NA                                                                 & f                                                                  & f                                                                  & 1                                                                  &   NA                                                              \\\\\n",
       "\t  4524575                                                           & Seattle, Washington, United States                                 & t                                                                  & Fremont                                                            &   1                                                                &   1                                                                & {[}'email', 'phone', 'linkedin', 'reviews', 'kba'{]}               & t                                                                  & t                                                                  & 1st Avenue Northwest, Seattle, WA 98107, United States             & ...                                                                & 10                                                                 & 10                                                                 & 10                                                                 & 10                                                                 & 10                                                                 & 10                                                                 & f                                                                  & f                                                                  & 1                                                                  & 2.05                                                              \\\\\n",
       "\t  8562314                                                           & US                                                                 & f                                                                  &                                                                    &   1                                                                &   1                                                                & {[}'email', 'phone'{]}                                             & t                                                                  & f                                                                  & North 35th Street, Seattle, WA 98103, United States                & ...                                                                & NA                                                                 & NA                                                                 & NA                                                                 & NA                                                                 & NA                                                                 & NA                                                                 & f                                                                  & f                                                                  & 1                                                                  &   NA                                                              \\\\\n",
       "\t  9698202                                                           & Seattle, Washington, United States                                 & f                                                                  & Queen Anne                                                         &   9                                                                &   9                                                                & {[}'email', 'phone', 'facebook', 'linkedin', 'reviews', 'jumio'{]} & t                                                                  & t                                                                  & Linden Avenue North, Seattle, WA 98103, United States              & ...                                                                & 10                                                                 & 10                                                                 & 10                                                                 & 10                                                                 & 10                                                                 & 10                                                                 & f                                                                  & f                                                                  & 8                                                                  & 4.00                                                              \\\\\n",
       "\t  7178490                                                           & Seattle, Washington, United States                                 & t                                                                  & Fremont                                                            &   1                                                                &   1                                                                & {[}'email', 'phone', 'facebook', 'reviews', 'kba'{]}               & t                                                                  & t                                                                  & N 44th st, Seattle, WA 98103, United States                        & ...                                                                & 10                                                                 & 10                                                                 & 10                                                                 & 10                                                                 & 10                                                                 & 10                                                                 & f                                                                  & f                                                                  & 1                                                                  & 2.34                                                              \\\\\n",
       "\t  8054902                                                           & Seattle, Washington, United States                                 & f                                                                  & Fremont                                                            &   1                                                                &   1                                                                & {[}'email', 'phone', 'facebook', 'linkedin', 'reviews', 'jumio'{]} & t                                                                  & t                                                                  & 1st Avenue Northwest, Seattle, WA 98107, United States             & ...                                                                & 10                                                                 & 10                                                                 & 10                                                                 & 10                                                                 & 10                                                                 & 10                                                                 & f                                                                  & f                                                                  & 1                                                                  & 3.95                                                              \\\\\n",
       "\t  5458027                                                           & Seattle, Washington, United States                                 & t                                                                  & Fremont                                                            &   2                                                                &   2                                                                & {[}'email', 'phone', 'reviews', 'jumio'{]}                         & t                                                                  & t                                                                  & Greenwood Avenue North, Seattle, WA 98103, United States           & ...                                                                & 10                                                                 & 10                                                                 & 10                                                                 & 10                                                                 & 10                                                                 & 10                                                                 & f                                                                  & f                                                                  & 2                                                                  & 0.24                                                              \\\\\n",
       "\t  4940491                                                           & Arlington, Massachusetts, United States                            & f                                                                  & Wallingford                                                        &   1                                                                &   1                                                                & {[}'email', 'phone', 'reviews'{]}                                  & t                                                                  & f                                                                  & Stone Way North, Seattle, WA 98103, United States                  & ...                                                                & 10                                                                 & 10                                                                 & 10                                                                 & 10                                                                 & 10                                                                 &  9                                                                 & f                                                                  & f                                                                  & 1                                                                  & 0.78                                                              \\\\\n",
       "\t  1844791                                                           & Seattle, Washington, United States                                 & f                                                                  & Fremont                                                            &   2                                                                &   2                                                                & {[}'email', 'phone', 'reviews', 'kba'{]}                           & t                                                                  & t                                                                  & Dayton Avenue North, Seattle, WA 98103, United States              & ...                                                                & 10                                                                 &  9                                                                 & 10                                                                 & 10                                                                 & 10                                                                 &  9                                                                 & f                                                                  & f                                                                  & 2                                                                  & 1.15                                                              \\\\\n",
       "\t  6120046                                                           & Seattle, Washington, United States                                 & f                                                                  & Fremont                                                            &   1                                                                &   1                                                                & {[}'email', 'phone', 'facebook', 'reviews', 'kba'{]}               & t                                                                  & t                                                                  & Albion Place North, Seattle, WA 98103, United States               & ...                                                                &  8                                                                 &  7                                                                 &  9                                                                 &  9                                                                 &  9                                                                 &  8                                                                 & f                                                                  & f                                                                  & 1                                                                  & 1.18                                                              \\\\\n",
       "\t   262764                                                           & Seattle, Washington, United States                                 & f                                                                  & Fremont                                                            &   1                                                                &   1                                                                & {[}'email', 'phone', 'linkedin', 'reviews', 'kba'{]}               & t                                                                  & t                                                                  & N Bowdoin Pl, Seattle, WA 98103, United States                     & ...                                                                &  9                                                                 &  8                                                                 & 10                                                                 & 10                                                                 & 10                                                                 &  8                                                                 & f                                                                  & f                                                                  & 1                                                                  & 1.56                                                              \\\\\n",
       "\t  8578490                                                           & Seattle, Washington, United States                                 & f                                                                  & Fremont                                                            &   1                                                                &   1                                                                & {[}'email', 'phone', 'reviews', 'kba'{]}                           & t                                                                  & t                                                                  & Whitman Avenue North, Seattle, WA 98103, United States             & ...                                                                &  9                                                                 &  8                                                                 & 10                                                                 & 10                                                                 & 10                                                                 & 10                                                                 & f                                                                  & f                                                                  & 1                                                                  & 0.63                                                              \\\\\n",
       "\t  3383329                                                           & Seattle, Washington, United States                                 & t                                                                  & Fremont                                                            &   3                                                                &   3                                                                & {[}'email', 'phone', 'facebook', 'reviews', 'kba'{]}               & t                                                                  & t                                                                  & Northwest 39th Street, Seattle, WA 98107, United States            & ...                                                                & 10                                                                 & 10                                                                 & 10                                                                 & 10                                                                 &  9                                                                 & 10                                                                 & f                                                                  & t                                                                  & 3                                                                  & 4.01                                                              \\\\\n",
       "\t  8101950                                                           & US                                                                 & f                                                                  & Holly                                                              & 354                                                                & 354                                                                & {[}'email', 'phone', 'linkedin', 'reviews', 'jumio'{]}             & t                                                                  & t                                                                  & Northwest 48th Street, Seattle, WA 98107, United States            & ...                                                                &  8                                                                 & 10                                                                 &  4                                                                 &  8                                                                 & 10                                                                 &  8                                                                 & f                                                                  & f                                                                  & 8                                                                  & 0.30                                                              \\\\\n",
       "\t  8902327                                                           & Seattle, Washington, United States                                 & f                                                                  & Portage Bay                                                        &   1                                                                &   1                                                                & {[}'email', 'phone', 'facebook', 'reviews', 'jumio'{]}             & t                                                                  & t                                                                  & Fuhrman Avenue East, Seattle, WA 98102, United States              & ...                                                                & 10                                                                 & 10                                                                 & 10                                                                 & 10                                                                 & 10                                                                 & 10                                                                 & f                                                                  & f                                                                  & 1                                                                  & 2.00                                                              \\\\\n",
       "\t 10267360                                                           & US                                                                 & f                                                                  &                                                                    &   1                                                                &   1                                                                & {[}'phone'{]}                                                      & t                                                                  & f                                                                  & South Laurel Street, Seattle, WA 98178, United States              & ...                                                                & NA                                                                 & NA                                                                 & NA                                                                 & NA                                                                 & NA                                                                 & NA                                                                 & f                                                                  & f                                                                  & 1                                                                  &   NA                                                              \\\\\n",
       "\t  9604740                                                           & Tacoma, Washington, United States                                  & f                                                                  &                                                                    &   1                                                                &   1                                                                & {[}'email', 'phone', 'facebook', 'reviews', 'kba'{]}               & t                                                                  & t                                                                  & 43rd Avenue East, Seattle, WA 98112, United States                 & ...                                                                & NA                                                                 & NA                                                                 & NA                                                                 & NA                                                                 & NA                                                                 & NA                                                                 & f                                                                  & f                                                                  & 1                                                                  &   NA                                                              \\\\\n",
       "\t 10208623                                                           & Seattle, Washington, United States                                 & f                                                                  & Queen Anne                                                         &   1                                                                &   1                                                                & {[}'email', 'phone', 'reviews', 'kba'{]}                           & t                                                                  & t                                                                  & Westlake Avenue North, Seattle, WA 98109, United States            & ...                                                                & NA                                                                 & NA                                                                 & NA                                                                 & NA                                                                 & NA                                                                 & NA                                                                 & f                                                                  & f                                                                  & 1                                                                  &   NA                                                              \\\\\n",
       "\\end{tabular}\n"
      ],
      "text/markdown": [
       "\n",
       "| id | host_location | host_is_superhost | host_neighbourhood | host_listings_count | host_total_listings_count | host_verifications | host_has_profile_pic | host_identity_verified | street | ... | review_scores_accuracy | review_scores_cleanliness | review_scores_checkin | review_scores_communication | review_scores_location | review_scores_value | requires_license | require_guest_phone_verification | calculated_host_listings_count | reviews_per_month |\n",
       "|---|---|---|---|---|---|---|---|---|---|---|---|---|---|---|---|---|---|---|---|---|\n",
       "|   241032                                                                 | Seattle, Washington, United States                                       | f                                                                        | Queen Anne                                                               | 3                                                                        | 3                                                                        | ['email', 'phone', 'reviews', 'kba']                                     | t                                                                        | t                                                                        | Gilman Dr W, Seattle, WA 98119, United States                            | ...                                                                      | 10                                                                       | 10                                                                       | 10                                                                       | 10                                                                       |  9                                                                       | 10                                                                       | f                                                                        | f                                                                        | 2                                                                        | 4.07                                                                     |\n",
       "|   953595                                                                 | Seattle, Washington, United States                                       | t                                                                        | Queen Anne                                                               | 6                                                                        | 6                                                                        | ['email', 'phone', 'facebook', 'linkedin', 'reviews', 'jumio']           | t                                                                        | t                                                                        | 7th Avenue West, Seattle, WA 98119, United States                        | ...                                                                      | 10                                                                       | 10                                                                       | 10                                                                       | 10                                                                       | 10                                                                       | 10                                                                       | f                                                                        | t                                                                        | 6                                                                        | 1.48                                                                     |\n",
       "|  3308979                                                                 | Seattle, Washington, United States                                       | f                                                                        | Queen Anne                                                               | 2                                                                        | 2                                                                        | ['email', 'phone', 'google', 'reviews', 'jumio']                         | t                                                                        | t                                                                        | West Lee Street, Seattle, WA 98119, United States                        | ...                                                                      | 10                                                                       | 10                                                                       | 10                                                                       | 10                                                                       | 10                                                                       | 10                                                                       | f                                                                        | f                                                                        | 2                                                                        | 1.15                                                                     |\n",
       "|  7421966                                                                 | Seattle, Washington, United States                                       | f                                                                        | Queen Anne                                                               | 1                                                                        | 1                                                                        | ['email', 'phone', 'facebook', 'reviews', 'jumio']                       | t                                                                        | t                                                                        | 8th Avenue West, Seattle, WA 98119, United States                        | ...                                                                      | NA                                                                       | NA                                                                       | NA                                                                       | NA                                                                       | NA                                                                       | NA                                                                       | f                                                                        | f                                                                        | 1                                                                        |   NA                                                                     |\n",
       "|   278830                                                                 | Seattle, Washington, United States                                       | f                                                                        | Queen Anne                                                               | 2                                                                        | 2                                                                        | ['email', 'phone', 'facebook', 'reviews', 'kba']                         | t                                                                        | t                                                                        | 14th Ave W, Seattle, WA 98119, United States                             | ...                                                                      |  9                                                                       |  9                                                                       | 10                                                                       | 10                                                                       |  9                                                                       |  9                                                                       | f                                                                        | f                                                                        | 1                                                                        | 0.89                                                                     |\n",
       "|  5956968                                                                 | Seattle, Washington, United States                                       | f                                                                        | Queen Anne                                                               | 1                                                                        | 1                                                                        | ['email', 'phone', 'facebook', 'reviews', 'kba']                         | t                                                                        | t                                                                        | West Comstock Street, Seattle, WA 98119, United States                   | ...                                                                      | 10                                                                       | 10                                                                       | 10                                                                       | 10                                                                       | 10                                                                       | 10                                                                       | f                                                                        | f                                                                        | 1                                                                        | 2.45                                                                     |\n",
       "|  1909058                                                                 | Seattle, Washington, United States                                       | t                                                                        | Queen Anne                                                               | 1                                                                        | 1                                                                        | ['email', 'phone', 'reviews', 'kba']                                     | t                                                                        | t                                                                        | 10th Avenue West, Seattle, WA 98119, United States                       | ...                                                                      | 10                                                                       | 10                                                                       | 10                                                                       | 10                                                                       | 10                                                                       | 10                                                                       | f                                                                        | f                                                                        | 1                                                                        | 2.46                                                                     |\n",
       "|   856550                                                                 | Seattle, Washington, United States                                       | t                                                                        | Queen Anne                                                               | 5                                                                        | 5                                                                        | ['email', 'phone', 'facebook', 'google', 'linkedin', 'reviews', 'jumio'] | t                                                                        | t                                                                        | West Wheeler Street, Seattle, WA 98119, United States                    | ...                                                                      | 10                                                                       | 10                                                                       | 10                                                                       | 10                                                                       |  9                                                                       | 10                                                                       | f                                                                        | t                                                                        | 5                                                                        | 4.73                                                                     |\n",
       "|  4948745                                                                 | Seattle, Washington, United States                                       | f                                                                        | Queen Anne                                                               | 1                                                                        | 1                                                                        | ['email', 'phone', 'facebook', 'linkedin', 'reviews', 'kba']             | t                                                                        | t                                                                        | Queen Anne Avenue North, Seattle, WA 98109, United States                | ...                                                                      | 10                                                                       |  9                                                                       | 10                                                                       |  9                                                                       | 10                                                                       | 10                                                                       | f                                                                        | f                                                                        | 1                                                                        | 1.22                                                                     |\n",
       "|  2493658                                                                 | Seattle, Washington, United States                                       | t                                                                        | Queen Anne                                                               | 6                                                                        | 6                                                                        | ['email', 'phone', 'facebook', 'linkedin', 'reviews', 'jumio']           | t                                                                        | t                                                                        | 7th Avenue West, Seattle, WA 98119, United States                        | ...                                                                      | 10                                                                       | 10                                                                       | 10                                                                       | 10                                                                       | 10                                                                       |  9                                                                       | f                                                                        | t                                                                        | 6                                                                        | 1.55                                                                     |\n",
       "|   175576                                                                 | Seattle, Washington, United States                                       | t                                                                        | Queen Anne                                                               | 1                                                                        | 1                                                                        | ['email', 'phone', 'reviews', 'kba']                                     | t                                                                        | t                                                                        | 1st Ave W, Seattle, WA 98119, United States                              | ...                                                                      | 10                                                                       | 10                                                                       | 10                                                                       | 10                                                                       | 10                                                                       | 10                                                                       | f                                                                        | f                                                                        | 1                                                                        | 3.33                                                                     |\n",
       "|  4454295                                                                 | Seattle, Washington, United States                                       | f                                                                        | Queen Anne                                                               | 1                                                                        | 1                                                                        | ['email', 'phone', 'facebook', 'reviews', 'kba']                         | t                                                                        | t                                                                        | 3rd Avenue West, Seattle, WA 98119, United States                        | ...                                                                      | 10                                                                       | 10                                                                       |  9                                                                       | 10                                                                       | 10                                                                       |  9                                                                       | f                                                                        | f                                                                        | 1                                                                        | 0.98                                                                     |\n",
       "|  3883392                                                                 | Seattle, Washington, United States                                       | t                                                                        |                                                                          | 1                                                                        | 1                                                                        | ['email', 'phone', 'linkedin', 'reviews', 'jumio']                       | t                                                                        | t                                                                        | West Howe Street, Seattle, WA 98119, United States                       | ...                                                                      | 10                                                                       | 10                                                                       | 10                                                                       | 10                                                                       | 10                                                                       | 10                                                                       | f                                                                        | f                                                                        | 1                                                                        | 0.92                                                                     |\n",
       "|  8889257                                                                 | Kirkland, Washington, United States                                      | f                                                                        | Queen Anne                                                               | 1                                                                        | 1                                                                        | ['email', 'phone', 'reviews', 'kba']                                     | t                                                                        | t                                                                        | West Prospect Street, Seattle, WA 98119, United States                   | ...                                                                      | 10                                                                       | 10                                                                       |  9                                                                       |  9                                                                       | 10                                                                       | 10                                                                       | f                                                                        | f                                                                        | 1                                                                        | 3.00                                                                     |\n",
       "|  5680462                                                                 | Seattle, Washington, United States                                       | f                                                                        | Queen Anne                                                               | 1                                                                        | 1                                                                        | ['email', 'phone', 'facebook', 'reviews', 'kba']                         | t                                                                        | t                                                                        | 7th Avenue West, Seattle, WA 98119, United States                        | ...                                                                      |  9                                                                       | 10                                                                       | 10                                                                       | 10                                                                       | 10                                                                       | 10                                                                       | f                                                                        | f                                                                        | 1                                                                        | 2.65                                                                     |\n",
       "|  8988178                                                                 | Seattle, Washington, United States                                       | f                                                                        |                                                                          | 1                                                                        | 1                                                                        | ['email', 'reviews', 'kba']                                              | t                                                                        | f                                                                        | 12th Avenue West, Seattle, WA 98119, United States                       | ...                                                                      |  8                                                                       | 10                                                                       |  8                                                                       |  8                                                                       |  8                                                                       |  8                                                                       | f                                                                        | f                                                                        | 1                                                                        | 0.73                                                                     |\n",
       "|  3245876                                                                 | Seattle, Washington, United States                                       | f                                                                        | Queen Anne                                                               | 1                                                                        | 1                                                                        | ['email', 'phone', 'facebook', 'linkedin', 'reviews', 'jumio']           | t                                                                        | t                                                                        | West Mercer Place, Seattle, WA 98119, United States                      | ...                                                                      | 10                                                                       |  9                                                                       | 10                                                                       | 10                                                                       | 10                                                                       |  9                                                                       | f                                                                        | f                                                                        | 1                                                                        | 4.55                                                                     |\n",
       "|  4933447                                                                 | Seattle, Washington, United States                                       | t                                                                        | Queen Anne                                                               | 1                                                                        | 1                                                                        | ['email', 'phone', 'reviews', 'kba']                                     | t                                                                        | t                                                                        | 12th Avenue West, Seattle, WA 98119, United States                       | ...                                                                      | 10                                                                       | 10                                                                       | 10                                                                       | 10                                                                       | 10                                                                       | 10                                                                       | f                                                                        | f                                                                        | 1                                                                        | 4.58                                                                     |\n",
       "|  7735464                                                                 | Seattle, Washington, United States                                       | f                                                                        | Queen Anne                                                               | 1                                                                        | 1                                                                        | ['email', 'phone', 'facebook', 'reviews', 'jumio']                       | t                                                                        | t                                                                        | 11th Avenue West, Seattle, WA 98119, United States                       | ...                                                                      | NA                                                                       | NA                                                                       | NA                                                                       | NA                                                                       | NA                                                                       | NA                                                                       | f                                                                        | f                                                                        | 1                                                                        |   NA                                                                     |\n",
       "|  6291829                                                                 | Seattle, Washington, United States                                       | f                                                                        | Queen Anne                                                               | 1                                                                        | 1                                                                        | ['email', 'phone', 'linkedin', 'reviews', 'kba']                         | t                                                                        | t                                                                        | 1st Avenue West, Seattle, WA 98119, United States                        | ...                                                                      | 10                                                                       |  9                                                                       |  9                                                                       |  9                                                                       |  8                                                                       |  8                                                                       | f                                                                        | f                                                                        | 1                                                                        | 0.82                                                                     |\n",
       "|  9218403                                                                 | Quilcene, Washington, United States                                      | f                                                                        |                                                                          | 1                                                                        | 1                                                                        | ['email', 'phone', 'reviews', 'kba']                                     | t                                                                        | t                                                                        | West Olympic Place, Seattle, WA 98119, United States                     | ...                                                                      | 10                                                                       | 10                                                                       | 10                                                                       | 10                                                                       | 10                                                                       | 10                                                                       | f                                                                        | f                                                                        | 1                                                                        | 1.00                                                                     |\n",
       "|  4125779                                                                 | Seattle, Washington, United States                                       | f                                                                        | Queen Anne                                                               | 1                                                                        | 1                                                                        | ['email', 'phone', 'facebook', 'reviews']                                | t                                                                        | f                                                                        | 2nd Avenue West, Seattle, WA 98119, United States                        | ...                                                                      |  9                                                                       |  9                                                                       |  9                                                                       |  9                                                                       | 10                                                                       |  8                                                                       | f                                                                        | f                                                                        | 1                                                                        | 0.71                                                                     |\n",
       "|  8942678                                                                 | Seattle, Washington, United States                                       | f                                                                        | Queen Anne                                                               | 1                                                                        | 1                                                                        | ['phone', 'reviews']                                                     | t                                                                        | f                                                                        | 1st Avenue West, Seattle, WA 98119, United States                        | ...                                                                      | 10                                                                       | 10                                                                       | 10                                                                       | 10                                                                       | 10                                                                       | 10                                                                       | f                                                                        | f                                                                        | 1                                                                        | 0.86                                                                     |\n",
       "| 10106055                                                                 | Seattle, Washington, United States                                       | f                                                                        | Queen Anne                                                               | 1                                                                        | 1                                                                        | ['phone']                                                                | t                                                                        | f                                                                        | West Galer Street, Seattle, WA 98119, United States                      | ...                                                                      | NA                                                                       | NA                                                                       | NA                                                                       | NA                                                                       | NA                                                                       | NA                                                                       | f                                                                        | f                                                                        | 1                                                                        |   NA                                                                     |\n",
       "|  6362362                                                                 | Seattle, Washington, United States                                       | f                                                                        | Queen Anne                                                               | 1                                                                        | 1                                                                        | ['email', 'phone', 'reviews']                                            | t                                                                        | f                                                                        | 10th Avenue West, Seattle, WA 98119, United States                       | ...                                                                      | 10                                                                       | 10                                                                       | 10                                                                       | 10                                                                       | 10                                                                       | 10                                                                       | f                                                                        | f                                                                        | 1                                                                        | 0.18                                                                     |\n",
       "|  3544550                                                                 | Seattle, Washington, United States                                       | f                                                                        | Queen Anne                                                               | 2                                                                        | 2                                                                        | ['email', 'phone', 'google', 'reviews', 'jumio']                         | t                                                                        | t                                                                        | 7th Avenue West, Seattle, WA 98119, United States                        | ...                                                                      | 10                                                                       | 10                                                                       |  9                                                                       | 10                                                                       | 10                                                                       | 10                                                                       | f                                                                        | f                                                                        | 2                                                                        | 1.30                                                                     |\n",
       "|  9025039                                                                 | Seattle, Washington, United States                                       | f                                                                        | Queen Anne                                                               | 1                                                                        | 1                                                                        | ['email', 'phone', 'facebook', 'reviews', 'jumio']                       | t                                                                        | t                                                                        | West McGraw Street, Seattle, WA 98119, United States                     | ...                                                                      | NA                                                                       | NA                                                                       | NA                                                                       | NA                                                                       | NA                                                                       | NA                                                                       | f                                                                        | f                                                                        | 1                                                                        |   NA                                                                     |\n",
       "|  3200646                                                                 | Seattle, Washington, United States                                       | t                                                                        | Queen Anne                                                               | 5                                                                        | 5                                                                        | ['email', 'phone', 'facebook', 'google', 'linkedin', 'reviews', 'jumio'] | t                                                                        | t                                                                        | West Wheeler Street, Seattle, WA 98119, United States                    | ...                                                                      | 10                                                                       | 10                                                                       | 10                                                                       | 10                                                                       |  9                                                                       |  9                                                                       | f                                                                        | t                                                                        | 5                                                                        | 4.38                                                                     |\n",
       "|  8859380                                                                 | Seattle, Washington, United States                                       | f                                                                        | Queen Anne                                                               | 5                                                                        | 5                                                                        | ['email', 'phone', 'reviews', 'jumio', 'kba']                            | t                                                                        | t                                                                        | 9th Avenue West, Seattle, WA 98119, United States                        | ...                                                                      | 10                                                                       | 10                                                                       | 10                                                                       | 10                                                                       | 10                                                                       | 10                                                                       | f                                                                        | f                                                                        | 1                                                                        | 2.47                                                                     |\n",
       "|  4520099                                                                 | Seattle, Washington, United States                                       | f                                                                        | Queen Anne                                                               | 1                                                                        | 1                                                                        | ['email', 'phone', 'facebook', 'reviews', 'kba']                         | t                                                                        | t                                                                        | 14th Avenue West, Seattle, WA 98119, United States                       | ...                                                                      |  8                                                                       |  9                                                                       |  7                                                                       | 10                                                                       |  9                                                                       |  9                                                                       | f                                                                        | f                                                                        | 1                                                                        | 0.33                                                                     |\n",
       "| ... | ... | ... | ... | ... | ... | ... | ... | ... | ... |     | ... | ... | ... | ... | ... | ... | ... | ... | ... | ... |\n",
       "|  7745196                                                       | Seattle, Washington, United States                             | f                                                              | Fremont                                                        |   1                                                            |   1                                                            | ['email', 'phone', 'google', 'reviews', 'kba']                 | t                                                              | t                                                              | Woodland Park Avenue North, Seattle, WA 98103, United States   | ...                                                            | 10                                                             | 10                                                             | 10                                                             | 10                                                             | 10                                                             | 10                                                             | f                                                              | f                                                              | 1                                                              | 3.39                                                           |\n",
       "|  4645405                                                       | Seattle, Washington, United States                             | f                                                              | Fremont                                                        |   2                                                            |   2                                                            | ['email', 'phone', 'reviews', 'kba']                           | t                                                              | t                                                              | North 46th Street, Seattle, WA 98103, United States            | ...                                                            |  9                                                             |  9                                                             |  9                                                             | 10                                                             |  9                                                             |  9                                                             | f                                                              | f                                                              | 2                                                              | 2.14                                                           |\n",
       "|  2755730                                                       | Seattle, Washington, United States                             | t                                                              | Fremont                                                        |   1                                                            |   1                                                            | ['email', 'phone', 'reviews', 'kba']                           | t                                                              | t                                                              | North 35th Street, Seattle, WA 98103, United States            | ...                                                            | 10                                                             | 10                                                             | 10                                                             | 10                                                             | 10                                                             | 10                                                             | f                                                              | f                                                              | 1                                                              | 3.77                                                           |\n",
       "|  7949448                                                       | Seattle, Washington, United States                             | f                                                              | Fremont                                                        |   1                                                            |   1                                                            | ['email', 'phone', 'linkedin', 'reviews', 'kba']               | t                                                              | t                                                              | 6th Avenue Northwest, Seattle, WA 98107, United States         | ...                                                            | 10                                                             | 10                                                             | 10                                                             | 10                                                             | 10                                                             | 10                                                             | f                                                              | f                                                              | 1                                                              | 2.48                                                           |\n",
       "|  9288840                                                       | Seattle, Washington, United States                             | f                                                              | Fremont                                                        |   1                                                            |   1                                                            | ['email', 'phone', 'kba']                                      | t                                                              | f                                                              | North 46th Street, Seattle, WA 98103, United States            | ...                                                            | NA                                                             | NA                                                             | NA                                                             | NA                                                             | NA                                                             | NA                                                             | f                                                              | f                                                              | 1                                                              |   NA                                                           |\n",
       "|  3312406                                                       | Seattle, Washington, United States                             | t                                                              | Fremont                                                        |   1                                                            |   1                                                            | ['email', 'phone', 'facebook', 'reviews', 'kba']               | t                                                              | t                                                              | Baker Avenue Northwest, Seattle, WA 98107, United States       | ...                                                            | 10                                                             | 10                                                             | 10                                                             | 10                                                             | 10                                                             | 10                                                             | f                                                              | f                                                              | 1                                                              | 4.28                                                           |\n",
       "|  6621924                                                       | Seattle, Washington, United States                             | f                                                              | Fremont                                                        |   1                                                            |   1                                                            | ['email', 'phone', 'reviews', 'jumio']                         | t                                                              | t                                                              | Northwest Bowdoin Place, Seattle, WA 98107, United States      | ...                                                            |  9                                                             |  9                                                             | 10                                                             | 10                                                             |  9                                                             |  8                                                             | f                                                              | f                                                              | 1                                                              | 3.10                                                           |\n",
       "|  5673552                                                       | Seattle, Washington, United States                             | t                                                              |                                                                |   1                                                            |   1                                                            | ['email', 'phone', 'facebook', 'reviews', 'jumio']             | t                                                              | t                                                              | Woodland Park Ave N, Seattle, WA 98103, United States          | ...                                                            | 10                                                             | 10                                                             | 10                                                             | 10                                                             | 10                                                             | 10                                                             | f                                                              | f                                                              | 1                                                              | 1.18                                                           |\n",
       "|   609701                                                       | Seattle, Washington, United States                             | t                                                              | Fremont                                                        |   1                                                            |   1                                                            | ['email', 'phone', 'reviews', 'jumio']                         | t                                                              | t                                                              | NW 40th St, Seattle, WA 98107, United States                   | ...                                                            | 10                                                             | 10                                                             | 10                                                             | 10                                                             | 10                                                             | 10                                                             | f                                                              | f                                                              | 1                                                              | 5.57                                                           |\n",
       "| 10118341                                                       | Seattle, Washington, United States                             | f                                                              | Fremont                                                        |   1                                                            |   1                                                            | ['email', 'phone', 'linkedin', 'reviews', 'kba']               | t                                                              | t                                                              | Phinney Avenue North, Seattle, WA 98103, United States         | ...                                                            | 10                                                             | 10                                                             | 10                                                             | 10                                                             | 10                                                             | 10                                                             | f                                                              | f                                                              | 1                                                              | 1.00                                                           |\n",
       "|  2614387                                                       | Seattle, Washington, United States                             | f                                                              | Fremont                                                        |   2                                                            |   2                                                            | ['email', 'phone', 'reviews', 'kba']                           | t                                                              | t                                                              | Midvale Avenue North, Seattle, WA 98103, United States         | ...                                                            | 10                                                             | 10                                                             | 10                                                             | 10                                                             | 10                                                             | 10                                                             | f                                                              | f                                                              | 2                                                              | 5.95                                                           |\n",
       "|  7735100                                                       | Seattle, Washington, United States                             | f                                                              | Fremont                                                        |   1                                                            |   1                                                            | ['email', 'phone', 'reviews', 'kba']                           | t                                                              | t                                                              | Dayton Avenue North, Seattle, WA 98103, United States          | ...                                                            | 10                                                             |  9                                                             | 10                                                             | 10                                                             | 10                                                             | 10                                                             | f                                                              | f                                                              | 1                                                              | 1.06                                                           |\n",
       "|  5482204                                                       | Seattle, Washington, United States                             | f                                                              | Fremont                                                        |   1                                                            |   1                                                            | ['email', 'phone']                                             | t                                                              | f                                                              | Linden Avenue North, Seattle, WA 98103, United States          | ...                                                            | NA                                                             | NA                                                             | NA                                                             | NA                                                             | NA                                                             | NA                                                             | f                                                              | f                                                              | 1                                                              |   NA                                                           |\n",
       "|  4524575                                                       | Seattle, Washington, United States                             | t                                                              | Fremont                                                        |   1                                                            |   1                                                            | ['email', 'phone', 'linkedin', 'reviews', 'kba']               | t                                                              | t                                                              | 1st Avenue Northwest, Seattle, WA 98107, United States         | ...                                                            | 10                                                             | 10                                                             | 10                                                             | 10                                                             | 10                                                             | 10                                                             | f                                                              | f                                                              | 1                                                              | 2.05                                                           |\n",
       "|  8562314                                                       | US                                                             | f                                                              |                                                                |   1                                                            |   1                                                            | ['email', 'phone']                                             | t                                                              | f                                                              | North 35th Street, Seattle, WA 98103, United States            | ...                                                            | NA                                                             | NA                                                             | NA                                                             | NA                                                             | NA                                                             | NA                                                             | f                                                              | f                                                              | 1                                                              |   NA                                                           |\n",
       "|  9698202                                                       | Seattle, Washington, United States                             | f                                                              | Queen Anne                                                     |   9                                                            |   9                                                            | ['email', 'phone', 'facebook', 'linkedin', 'reviews', 'jumio'] | t                                                              | t                                                              | Linden Avenue North, Seattle, WA 98103, United States          | ...                                                            | 10                                                             | 10                                                             | 10                                                             | 10                                                             | 10                                                             | 10                                                             | f                                                              | f                                                              | 8                                                              | 4.00                                                           |\n",
       "|  7178490                                                       | Seattle, Washington, United States                             | t                                                              | Fremont                                                        |   1                                                            |   1                                                            | ['email', 'phone', 'facebook', 'reviews', 'kba']               | t                                                              | t                                                              | N 44th st, Seattle, WA 98103, United States                    | ...                                                            | 10                                                             | 10                                                             | 10                                                             | 10                                                             | 10                                                             | 10                                                             | f                                                              | f                                                              | 1                                                              | 2.34                                                           |\n",
       "|  8054902                                                       | Seattle, Washington, United States                             | f                                                              | Fremont                                                        |   1                                                            |   1                                                            | ['email', 'phone', 'facebook', 'linkedin', 'reviews', 'jumio'] | t                                                              | t                                                              | 1st Avenue Northwest, Seattle, WA 98107, United States         | ...                                                            | 10                                                             | 10                                                             | 10                                                             | 10                                                             | 10                                                             | 10                                                             | f                                                              | f                                                              | 1                                                              | 3.95                                                           |\n",
       "|  5458027                                                       | Seattle, Washington, United States                             | t                                                              | Fremont                                                        |   2                                                            |   2                                                            | ['email', 'phone', 'reviews', 'jumio']                         | t                                                              | t                                                              | Greenwood Avenue North, Seattle, WA 98103, United States       | ...                                                            | 10                                                             | 10                                                             | 10                                                             | 10                                                             | 10                                                             | 10                                                             | f                                                              | f                                                              | 2                                                              | 0.24                                                           |\n",
       "|  4940491                                                       | Arlington, Massachusetts, United States                        | f                                                              | Wallingford                                                    |   1                                                            |   1                                                            | ['email', 'phone', 'reviews']                                  | t                                                              | f                                                              | Stone Way North, Seattle, WA 98103, United States              | ...                                                            | 10                                                             | 10                                                             | 10                                                             | 10                                                             | 10                                                             |  9                                                             | f                                                              | f                                                              | 1                                                              | 0.78                                                           |\n",
       "|  1844791                                                       | Seattle, Washington, United States                             | f                                                              | Fremont                                                        |   2                                                            |   2                                                            | ['email', 'phone', 'reviews', 'kba']                           | t                                                              | t                                                              | Dayton Avenue North, Seattle, WA 98103, United States          | ...                                                            | 10                                                             |  9                                                             | 10                                                             | 10                                                             | 10                                                             |  9                                                             | f                                                              | f                                                              | 2                                                              | 1.15                                                           |\n",
       "|  6120046                                                       | Seattle, Washington, United States                             | f                                                              | Fremont                                                        |   1                                                            |   1                                                            | ['email', 'phone', 'facebook', 'reviews', 'kba']               | t                                                              | t                                                              | Albion Place North, Seattle, WA 98103, United States           | ...                                                            |  8                                                             |  7                                                             |  9                                                             |  9                                                             |  9                                                             |  8                                                             | f                                                              | f                                                              | 1                                                              | 1.18                                                           |\n",
       "|   262764                                                       | Seattle, Washington, United States                             | f                                                              | Fremont                                                        |   1                                                            |   1                                                            | ['email', 'phone', 'linkedin', 'reviews', 'kba']               | t                                                              | t                                                              | N Bowdoin Pl, Seattle, WA 98103, United States                 | ...                                                            |  9                                                             |  8                                                             | 10                                                             | 10                                                             | 10                                                             |  8                                                             | f                                                              | f                                                              | 1                                                              | 1.56                                                           |\n",
       "|  8578490                                                       | Seattle, Washington, United States                             | f                                                              | Fremont                                                        |   1                                                            |   1                                                            | ['email', 'phone', 'reviews', 'kba']                           | t                                                              | t                                                              | Whitman Avenue North, Seattle, WA 98103, United States         | ...                                                            |  9                                                             |  8                                                             | 10                                                             | 10                                                             | 10                                                             | 10                                                             | f                                                              | f                                                              | 1                                                              | 0.63                                                           |\n",
       "|  3383329                                                       | Seattle, Washington, United States                             | t                                                              | Fremont                                                        |   3                                                            |   3                                                            | ['email', 'phone', 'facebook', 'reviews', 'kba']               | t                                                              | t                                                              | Northwest 39th Street, Seattle, WA 98107, United States        | ...                                                            | 10                                                             | 10                                                             | 10                                                             | 10                                                             |  9                                                             | 10                                                             | f                                                              | t                                                              | 3                                                              | 4.01                                                           |\n",
       "|  8101950                                                       | US                                                             | f                                                              | Holly                                                          | 354                                                            | 354                                                            | ['email', 'phone', 'linkedin', 'reviews', 'jumio']             | t                                                              | t                                                              | Northwest 48th Street, Seattle, WA 98107, United States        | ...                                                            |  8                                                             | 10                                                             |  4                                                             |  8                                                             | 10                                                             |  8                                                             | f                                                              | f                                                              | 8                                                              | 0.30                                                           |\n",
       "|  8902327                                                       | Seattle, Washington, United States                             | f                                                              | Portage Bay                                                    |   1                                                            |   1                                                            | ['email', 'phone', 'facebook', 'reviews', 'jumio']             | t                                                              | t                                                              | Fuhrman Avenue East, Seattle, WA 98102, United States          | ...                                                            | 10                                                             | 10                                                             | 10                                                             | 10                                                             | 10                                                             | 10                                                             | f                                                              | f                                                              | 1                                                              | 2.00                                                           |\n",
       "| 10267360                                                       | US                                                             | f                                                              |                                                                |   1                                                            |   1                                                            | ['phone']                                                      | t                                                              | f                                                              | South Laurel Street, Seattle, WA 98178, United States          | ...                                                            | NA                                                             | NA                                                             | NA                                                             | NA                                                             | NA                                                             | NA                                                             | f                                                              | f                                                              | 1                                                              |   NA                                                           |\n",
       "|  9604740                                                       | Tacoma, Washington, United States                              | f                                                              |                                                                |   1                                                            |   1                                                            | ['email', 'phone', 'facebook', 'reviews', 'kba']               | t                                                              | t                                                              | 43rd Avenue East, Seattle, WA 98112, United States             | ...                                                            | NA                                                             | NA                                                             | NA                                                             | NA                                                             | NA                                                             | NA                                                             | f                                                              | f                                                              | 1                                                              |   NA                                                           |\n",
       "| 10208623                                                       | Seattle, Washington, United States                             | f                                                              | Queen Anne                                                     |   1                                                            |   1                                                            | ['email', 'phone', 'reviews', 'kba']                           | t                                                              | t                                                              | Westlake Avenue North, Seattle, WA 98109, United States        | ...                                                            | NA                                                             | NA                                                             | NA                                                             | NA                                                             | NA                                                             | NA                                                             | f                                                              | f                                                              | 1                                                              |   NA                                                           |\n",
       "\n"
      ],
      "text/plain": [
       "     id       host_location                           host_is_superhost\n",
       "1      241032 Seattle, Washington, United States      f                \n",
       "2      953595 Seattle, Washington, United States      t                \n",
       "3     3308979 Seattle, Washington, United States      f                \n",
       "4     7421966 Seattle, Washington, United States      f                \n",
       "5      278830 Seattle, Washington, United States      f                \n",
       "6     5956968 Seattle, Washington, United States      f                \n",
       "7     1909058 Seattle, Washington, United States      t                \n",
       "8      856550 Seattle, Washington, United States      t                \n",
       "9     4948745 Seattle, Washington, United States      f                \n",
       "10    2493658 Seattle, Washington, United States      t                \n",
       "11     175576 Seattle, Washington, United States      t                \n",
       "12    4454295 Seattle, Washington, United States      f                \n",
       "13    3883392 Seattle, Washington, United States      t                \n",
       "14    8889257 Kirkland, Washington, United States     f                \n",
       "15    5680462 Seattle, Washington, United States      f                \n",
       "16    8988178 Seattle, Washington, United States      f                \n",
       "17    3245876 Seattle, Washington, United States      f                \n",
       "18    4933447 Seattle, Washington, United States      t                \n",
       "19    7735464 Seattle, Washington, United States      f                \n",
       "20    6291829 Seattle, Washington, United States      f                \n",
       "21    9218403 Quilcene, Washington, United States     f                \n",
       "22    4125779 Seattle, Washington, United States      f                \n",
       "23    8942678 Seattle, Washington, United States      f                \n",
       "24   10106055 Seattle, Washington, United States      f                \n",
       "25    6362362 Seattle, Washington, United States      f                \n",
       "26    3544550 Seattle, Washington, United States      f                \n",
       "27    9025039 Seattle, Washington, United States      f                \n",
       "28    3200646 Seattle, Washington, United States      t                \n",
       "29    8859380 Seattle, Washington, United States      f                \n",
       "30    4520099 Seattle, Washington, United States      f                \n",
       "...  ...      ...                                     ...              \n",
       "3789  7745196 Seattle, Washington, United States      f                \n",
       "3790  4645405 Seattle, Washington, United States      f                \n",
       "3791  2755730 Seattle, Washington, United States      t                \n",
       "3792  7949448 Seattle, Washington, United States      f                \n",
       "3793  9288840 Seattle, Washington, United States      f                \n",
       "3794  3312406 Seattle, Washington, United States      t                \n",
       "3795  6621924 Seattle, Washington, United States      f                \n",
       "3796  5673552 Seattle, Washington, United States      t                \n",
       "3797   609701 Seattle, Washington, United States      t                \n",
       "3798 10118341 Seattle, Washington, United States      f                \n",
       "3799  2614387 Seattle, Washington, United States      f                \n",
       "3800  7735100 Seattle, Washington, United States      f                \n",
       "3801  5482204 Seattle, Washington, United States      f                \n",
       "3802  4524575 Seattle, Washington, United States      t                \n",
       "3803  8562314 US                                      f                \n",
       "3804  9698202 Seattle, Washington, United States      f                \n",
       "3805  7178490 Seattle, Washington, United States      t                \n",
       "3806  8054902 Seattle, Washington, United States      f                \n",
       "3807  5458027 Seattle, Washington, United States      t                \n",
       "3808  4940491 Arlington, Massachusetts, United States f                \n",
       "3809  1844791 Seattle, Washington, United States      f                \n",
       "3810  6120046 Seattle, Washington, United States      f                \n",
       "3811   262764 Seattle, Washington, United States      f                \n",
       "3812  8578490 Seattle, Washington, United States      f                \n",
       "3813  3383329 Seattle, Washington, United States      t                \n",
       "3814  8101950 US                                      f                \n",
       "3815  8902327 Seattle, Washington, United States      f                \n",
       "3816 10267360 US                                      f                \n",
       "3817  9604740 Tacoma, Washington, United States       f                \n",
       "3818 10208623 Seattle, Washington, United States      f                \n",
       "     host_neighbourhood host_listings_count host_total_listings_count\n",
       "1    Queen Anne         3                   3                        \n",
       "2    Queen Anne         6                   6                        \n",
       "3    Queen Anne         2                   2                        \n",
       "4    Queen Anne         1                   1                        \n",
       "5    Queen Anne         2                   2                        \n",
       "6    Queen Anne         1                   1                        \n",
       "7    Queen Anne         1                   1                        \n",
       "8    Queen Anne         5                   5                        \n",
       "9    Queen Anne         1                   1                        \n",
       "10   Queen Anne         6                   6                        \n",
       "11   Queen Anne         1                   1                        \n",
       "12   Queen Anne         1                   1                        \n",
       "13                      1                   1                        \n",
       "14   Queen Anne         1                   1                        \n",
       "15   Queen Anne         1                   1                        \n",
       "16                      1                   1                        \n",
       "17   Queen Anne         1                   1                        \n",
       "18   Queen Anne         1                   1                        \n",
       "19   Queen Anne         1                   1                        \n",
       "20   Queen Anne         1                   1                        \n",
       "21                      1                   1                        \n",
       "22   Queen Anne         1                   1                        \n",
       "23   Queen Anne         1                   1                        \n",
       "24   Queen Anne         1                   1                        \n",
       "25   Queen Anne         1                   1                        \n",
       "26   Queen Anne         2                   2                        \n",
       "27   Queen Anne         1                   1                        \n",
       "28   Queen Anne         5                   5                        \n",
       "29   Queen Anne         5                   5                        \n",
       "30   Queen Anne         1                   1                        \n",
       "...  ...                ...                 ...                      \n",
       "3789 Fremont              1                   1                      \n",
       "3790 Fremont              2                   2                      \n",
       "3791 Fremont              1                   1                      \n",
       "3792 Fremont              1                   1                      \n",
       "3793 Fremont              1                   1                      \n",
       "3794 Fremont              1                   1                      \n",
       "3795 Fremont              1                   1                      \n",
       "3796                      1                   1                      \n",
       "3797 Fremont              1                   1                      \n",
       "3798 Fremont              1                   1                      \n",
       "3799 Fremont              2                   2                      \n",
       "3800 Fremont              1                   1                      \n",
       "3801 Fremont              1                   1                      \n",
       "3802 Fremont              1                   1                      \n",
       "3803                      1                   1                      \n",
       "3804 Queen Anne           9                   9                      \n",
       "3805 Fremont              1                   1                      \n",
       "3806 Fremont              1                   1                      \n",
       "3807 Fremont              2                   2                      \n",
       "3808 Wallingford          1                   1                      \n",
       "3809 Fremont              2                   2                      \n",
       "3810 Fremont              1                   1                      \n",
       "3811 Fremont              1                   1                      \n",
       "3812 Fremont              1                   1                      \n",
       "3813 Fremont              3                   3                      \n",
       "3814 Holly              354                 354                      \n",
       "3815 Portage Bay          1                   1                      \n",
       "3816                      1                   1                      \n",
       "3817                      1                   1                      \n",
       "3818 Queen Anne           1                   1                      \n",
       "     host_verifications                                                      \n",
       "1    ['email', 'phone', 'reviews', 'kba']                                    \n",
       "2    ['email', 'phone', 'facebook', 'linkedin', 'reviews', 'jumio']          \n",
       "3    ['email', 'phone', 'google', 'reviews', 'jumio']                        \n",
       "4    ['email', 'phone', 'facebook', 'reviews', 'jumio']                      \n",
       "5    ['email', 'phone', 'facebook', 'reviews', 'kba']                        \n",
       "6    ['email', 'phone', 'facebook', 'reviews', 'kba']                        \n",
       "7    ['email', 'phone', 'reviews', 'kba']                                    \n",
       "8    ['email', 'phone', 'facebook', 'google', 'linkedin', 'reviews', 'jumio']\n",
       "9    ['email', 'phone', 'facebook', 'linkedin', 'reviews', 'kba']            \n",
       "10   ['email', 'phone', 'facebook', 'linkedin', 'reviews', 'jumio']          \n",
       "11   ['email', 'phone', 'reviews', 'kba']                                    \n",
       "12   ['email', 'phone', 'facebook', 'reviews', 'kba']                        \n",
       "13   ['email', 'phone', 'linkedin', 'reviews', 'jumio']                      \n",
       "14   ['email', 'phone', 'reviews', 'kba']                                    \n",
       "15   ['email', 'phone', 'facebook', 'reviews', 'kba']                        \n",
       "16   ['email', 'reviews', 'kba']                                             \n",
       "17   ['email', 'phone', 'facebook', 'linkedin', 'reviews', 'jumio']          \n",
       "18   ['email', 'phone', 'reviews', 'kba']                                    \n",
       "19   ['email', 'phone', 'facebook', 'reviews', 'jumio']                      \n",
       "20   ['email', 'phone', 'linkedin', 'reviews', 'kba']                        \n",
       "21   ['email', 'phone', 'reviews', 'kba']                                    \n",
       "22   ['email', 'phone', 'facebook', 'reviews']                               \n",
       "23   ['phone', 'reviews']                                                    \n",
       "24   ['phone']                                                               \n",
       "25   ['email', 'phone', 'reviews']                                           \n",
       "26   ['email', 'phone', 'google', 'reviews', 'jumio']                        \n",
       "27   ['email', 'phone', 'facebook', 'reviews', 'jumio']                      \n",
       "28   ['email', 'phone', 'facebook', 'google', 'linkedin', 'reviews', 'jumio']\n",
       "29   ['email', 'phone', 'reviews', 'jumio', 'kba']                           \n",
       "30   ['email', 'phone', 'facebook', 'reviews', 'kba']                        \n",
       "...  ...                                                                     \n",
       "3789 ['email', 'phone', 'google', 'reviews', 'kba']                          \n",
       "3790 ['email', 'phone', 'reviews', 'kba']                                    \n",
       "3791 ['email', 'phone', 'reviews', 'kba']                                    \n",
       "3792 ['email', 'phone', 'linkedin', 'reviews', 'kba']                        \n",
       "3793 ['email', 'phone', 'kba']                                               \n",
       "3794 ['email', 'phone', 'facebook', 'reviews', 'kba']                        \n",
       "3795 ['email', 'phone', 'reviews', 'jumio']                                  \n",
       "3796 ['email', 'phone', 'facebook', 'reviews', 'jumio']                      \n",
       "3797 ['email', 'phone', 'reviews', 'jumio']                                  \n",
       "3798 ['email', 'phone', 'linkedin', 'reviews', 'kba']                        \n",
       "3799 ['email', 'phone', 'reviews', 'kba']                                    \n",
       "3800 ['email', 'phone', 'reviews', 'kba']                                    \n",
       "3801 ['email', 'phone']                                                      \n",
       "3802 ['email', 'phone', 'linkedin', 'reviews', 'kba']                        \n",
       "3803 ['email', 'phone']                                                      \n",
       "3804 ['email', 'phone', 'facebook', 'linkedin', 'reviews', 'jumio']          \n",
       "3805 ['email', 'phone', 'facebook', 'reviews', 'kba']                        \n",
       "3806 ['email', 'phone', 'facebook', 'linkedin', 'reviews', 'jumio']          \n",
       "3807 ['email', 'phone', 'reviews', 'jumio']                                  \n",
       "3808 ['email', 'phone', 'reviews']                                           \n",
       "3809 ['email', 'phone', 'reviews', 'kba']                                    \n",
       "3810 ['email', 'phone', 'facebook', 'reviews', 'kba']                        \n",
       "3811 ['email', 'phone', 'linkedin', 'reviews', 'kba']                        \n",
       "3812 ['email', 'phone', 'reviews', 'kba']                                    \n",
       "3813 ['email', 'phone', 'facebook', 'reviews', 'kba']                        \n",
       "3814 ['email', 'phone', 'linkedin', 'reviews', 'jumio']                      \n",
       "3815 ['email', 'phone', 'facebook', 'reviews', 'jumio']                      \n",
       "3816 ['phone']                                                               \n",
       "3817 ['email', 'phone', 'facebook', 'reviews', 'kba']                        \n",
       "3818 ['email', 'phone', 'reviews', 'kba']                                    \n",
       "     host_has_profile_pic host_identity_verified\n",
       "1    t                    t                     \n",
       "2    t                    t                     \n",
       "3    t                    t                     \n",
       "4    t                    t                     \n",
       "5    t                    t                     \n",
       "6    t                    t                     \n",
       "7    t                    t                     \n",
       "8    t                    t                     \n",
       "9    t                    t                     \n",
       "10   t                    t                     \n",
       "11   t                    t                     \n",
       "12   t                    t                     \n",
       "13   t                    t                     \n",
       "14   t                    t                     \n",
       "15   t                    t                     \n",
       "16   t                    f                     \n",
       "17   t                    t                     \n",
       "18   t                    t                     \n",
       "19   t                    t                     \n",
       "20   t                    t                     \n",
       "21   t                    t                     \n",
       "22   t                    f                     \n",
       "23   t                    f                     \n",
       "24   t                    f                     \n",
       "25   t                    f                     \n",
       "26   t                    t                     \n",
       "27   t                    t                     \n",
       "28   t                    t                     \n",
       "29   t                    t                     \n",
       "30   t                    t                     \n",
       "...  ...                  ...                   \n",
       "3789 t                    t                     \n",
       "3790 t                    t                     \n",
       "3791 t                    t                     \n",
       "3792 t                    t                     \n",
       "3793 t                    f                     \n",
       "3794 t                    t                     \n",
       "3795 t                    t                     \n",
       "3796 t                    t                     \n",
       "3797 t                    t                     \n",
       "3798 t                    t                     \n",
       "3799 t                    t                     \n",
       "3800 t                    t                     \n",
       "3801 t                    f                     \n",
       "3802 t                    t                     \n",
       "3803 t                    f                     \n",
       "3804 t                    t                     \n",
       "3805 t                    t                     \n",
       "3806 t                    t                     \n",
       "3807 t                    t                     \n",
       "3808 t                    f                     \n",
       "3809 t                    t                     \n",
       "3810 t                    t                     \n",
       "3811 t                    t                     \n",
       "3812 t                    t                     \n",
       "3813 t                    t                     \n",
       "3814 t                    t                     \n",
       "3815 t                    t                     \n",
       "3816 t                    f                     \n",
       "3817 t                    t                     \n",
       "3818 t                    t                     \n",
       "     street                                                       ...\n",
       "1    Gilman Dr W, Seattle, WA 98119, United States                ...\n",
       "2    7th Avenue West, Seattle, WA 98119, United States            ...\n",
       "3    West Lee Street, Seattle, WA 98119, United States            ...\n",
       "4    8th Avenue West, Seattle, WA 98119, United States            ...\n",
       "5    14th Ave W, Seattle, WA 98119, United States                 ...\n",
       "6    West Comstock Street, Seattle, WA 98119, United States       ...\n",
       "7    10th Avenue West, Seattle, WA 98119, United States           ...\n",
       "8    West Wheeler Street, Seattle, WA 98119, United States        ...\n",
       "9    Queen Anne Avenue North, Seattle, WA 98109, United States    ...\n",
       "10   7th Avenue West, Seattle, WA 98119, United States            ...\n",
       "11   1st Ave W, Seattle, WA 98119, United States                  ...\n",
       "12   3rd Avenue West, Seattle, WA 98119, United States            ...\n",
       "13   West Howe Street, Seattle, WA 98119, United States           ...\n",
       "14   West Prospect Street, Seattle, WA 98119, United States       ...\n",
       "15   7th Avenue West, Seattle, WA 98119, United States            ...\n",
       "16   12th Avenue West, Seattle, WA 98119, United States           ...\n",
       "17   West Mercer Place, Seattle, WA 98119, United States          ...\n",
       "18   12th Avenue West, Seattle, WA 98119, United States           ...\n",
       "19   11th Avenue West, Seattle, WA 98119, United States           ...\n",
       "20   1st Avenue West, Seattle, WA 98119, United States            ...\n",
       "21   West Olympic Place, Seattle, WA 98119, United States         ...\n",
       "22   2nd Avenue West, Seattle, WA 98119, United States            ...\n",
       "23   1st Avenue West, Seattle, WA 98119, United States            ...\n",
       "24   West Galer Street, Seattle, WA 98119, United States          ...\n",
       "25   10th Avenue West, Seattle, WA 98119, United States           ...\n",
       "26   7th Avenue West, Seattle, WA 98119, United States            ...\n",
       "27   West McGraw Street, Seattle, WA 98119, United States         ...\n",
       "28   West Wheeler Street, Seattle, WA 98119, United States        ...\n",
       "29   9th Avenue West, Seattle, WA 98119, United States            ...\n",
       "30   14th Avenue West, Seattle, WA 98119, United States           ...\n",
       "...  ...                                                             \n",
       "3789 Woodland Park Avenue North, Seattle, WA 98103, United States ...\n",
       "3790 North 46th Street, Seattle, WA 98103, United States          ...\n",
       "3791 North 35th Street, Seattle, WA 98103, United States          ...\n",
       "3792 6th Avenue Northwest, Seattle, WA 98107, United States       ...\n",
       "3793 North 46th Street, Seattle, WA 98103, United States          ...\n",
       "3794 Baker Avenue Northwest, Seattle, WA 98107, United States     ...\n",
       "3795 Northwest Bowdoin Place, Seattle, WA 98107, United States    ...\n",
       "3796 Woodland Park Ave N, Seattle, WA 98103, United States        ...\n",
       "3797 NW 40th St, Seattle, WA 98107, United States                 ...\n",
       "3798 Phinney Avenue North, Seattle, WA 98103, United States       ...\n",
       "3799 Midvale Avenue North, Seattle, WA 98103, United States       ...\n",
       "3800 Dayton Avenue North, Seattle, WA 98103, United States        ...\n",
       "3801 Linden Avenue North, Seattle, WA 98103, United States        ...\n",
       "3802 1st Avenue Northwest, Seattle, WA 98107, United States       ...\n",
       "3803 North 35th Street, Seattle, WA 98103, United States          ...\n",
       "3804 Linden Avenue North, Seattle, WA 98103, United States        ...\n",
       "3805 N 44th st, Seattle, WA 98103, United States                  ...\n",
       "3806 1st Avenue Northwest, Seattle, WA 98107, United States       ...\n",
       "3807 Greenwood Avenue North, Seattle, WA 98103, United States     ...\n",
       "3808 Stone Way North, Seattle, WA 98103, United States            ...\n",
       "3809 Dayton Avenue North, Seattle, WA 98103, United States        ...\n",
       "3810 Albion Place North, Seattle, WA 98103, United States         ...\n",
       "3811 N Bowdoin Pl, Seattle, WA 98103, United States               ...\n",
       "3812 Whitman Avenue North, Seattle, WA 98103, United States       ...\n",
       "3813 Northwest 39th Street, Seattle, WA 98107, United States      ...\n",
       "3814 Northwest 48th Street, Seattle, WA 98107, United States      ...\n",
       "3815 Fuhrman Avenue East, Seattle, WA 98102, United States        ...\n",
       "3816 South Laurel Street, Seattle, WA 98178, United States        ...\n",
       "3817 43rd Avenue East, Seattle, WA 98112, United States           ...\n",
       "3818 Westlake Avenue North, Seattle, WA 98109, United States      ...\n",
       "     review_scores_accuracy review_scores_cleanliness review_scores_checkin\n",
       "1    10                     10                        10                   \n",
       "2    10                     10                        10                   \n",
       "3    10                     10                        10                   \n",
       "4    NA                     NA                        NA                   \n",
       "5     9                      9                        10                   \n",
       "6    10                     10                        10                   \n",
       "7    10                     10                        10                   \n",
       "8    10                     10                        10                   \n",
       "9    10                      9                        10                   \n",
       "10   10                     10                        10                   \n",
       "11   10                     10                        10                   \n",
       "12   10                     10                         9                   \n",
       "13   10                     10                        10                   \n",
       "14   10                     10                         9                   \n",
       "15    9                     10                        10                   \n",
       "16    8                     10                         8                   \n",
       "17   10                      9                        10                   \n",
       "18   10                     10                        10                   \n",
       "19   NA                     NA                        NA                   \n",
       "20   10                      9                         9                   \n",
       "21   10                     10                        10                   \n",
       "22    9                      9                         9                   \n",
       "23   10                     10                        10                   \n",
       "24   NA                     NA                        NA                   \n",
       "25   10                     10                        10                   \n",
       "26   10                     10                         9                   \n",
       "27   NA                     NA                        NA                   \n",
       "28   10                     10                        10                   \n",
       "29   10                     10                        10                   \n",
       "30    8                      9                         7                   \n",
       "...  ...                    ...                       ...                  \n",
       "3789 10                     10                        10                   \n",
       "3790  9                      9                         9                   \n",
       "3791 10                     10                        10                   \n",
       "3792 10                     10                        10                   \n",
       "3793 NA                     NA                        NA                   \n",
       "3794 10                     10                        10                   \n",
       "3795  9                      9                        10                   \n",
       "3796 10                     10                        10                   \n",
       "3797 10                     10                        10                   \n",
       "3798 10                     10                        10                   \n",
       "3799 10                     10                        10                   \n",
       "3800 10                      9                        10                   \n",
       "3801 NA                     NA                        NA                   \n",
       "3802 10                     10                        10                   \n",
       "3803 NA                     NA                        NA                   \n",
       "3804 10                     10                        10                   \n",
       "3805 10                     10                        10                   \n",
       "3806 10                     10                        10                   \n",
       "3807 10                     10                        10                   \n",
       "3808 10                     10                        10                   \n",
       "3809 10                      9                        10                   \n",
       "3810  8                      7                         9                   \n",
       "3811  9                      8                        10                   \n",
       "3812  9                      8                        10                   \n",
       "3813 10                     10                        10                   \n",
       "3814  8                     10                         4                   \n",
       "3815 10                     10                        10                   \n",
       "3816 NA                     NA                        NA                   \n",
       "3817 NA                     NA                        NA                   \n",
       "3818 NA                     NA                        NA                   \n",
       "     review_scores_communication review_scores_location review_scores_value\n",
       "1    10                           9                     10                 \n",
       "2    10                          10                     10                 \n",
       "3    10                          10                     10                 \n",
       "4    NA                          NA                     NA                 \n",
       "5    10                           9                      9                 \n",
       "6    10                          10                     10                 \n",
       "7    10                          10                     10                 \n",
       "8    10                           9                     10                 \n",
       "9     9                          10                     10                 \n",
       "10   10                          10                      9                 \n",
       "11   10                          10                     10                 \n",
       "12   10                          10                      9                 \n",
       "13   10                          10                     10                 \n",
       "14    9                          10                     10                 \n",
       "15   10                          10                     10                 \n",
       "16    8                           8                      8                 \n",
       "17   10                          10                      9                 \n",
       "18   10                          10                     10                 \n",
       "19   NA                          NA                     NA                 \n",
       "20    9                           8                      8                 \n",
       "21   10                          10                     10                 \n",
       "22    9                          10                      8                 \n",
       "23   10                          10                     10                 \n",
       "24   NA                          NA                     NA                 \n",
       "25   10                          10                     10                 \n",
       "26   10                          10                     10                 \n",
       "27   NA                          NA                     NA                 \n",
       "28   10                           9                      9                 \n",
       "29   10                          10                     10                 \n",
       "30   10                           9                      9                 \n",
       "...  ...                         ...                    ...                \n",
       "3789 10                          10                     10                 \n",
       "3790 10                           9                      9                 \n",
       "3791 10                          10                     10                 \n",
       "3792 10                          10                     10                 \n",
       "3793 NA                          NA                     NA                 \n",
       "3794 10                          10                     10                 \n",
       "3795 10                           9                      8                 \n",
       "3796 10                          10                     10                 \n",
       "3797 10                          10                     10                 \n",
       "3798 10                          10                     10                 \n",
       "3799 10                          10                     10                 \n",
       "3800 10                          10                     10                 \n",
       "3801 NA                          NA                     NA                 \n",
       "3802 10                          10                     10                 \n",
       "3803 NA                          NA                     NA                 \n",
       "3804 10                          10                     10                 \n",
       "3805 10                          10                     10                 \n",
       "3806 10                          10                     10                 \n",
       "3807 10                          10                     10                 \n",
       "3808 10                          10                      9                 \n",
       "3809 10                          10                      9                 \n",
       "3810  9                           9                      8                 \n",
       "3811 10                          10                      8                 \n",
       "3812 10                          10                     10                 \n",
       "3813 10                           9                     10                 \n",
       "3814  8                          10                      8                 \n",
       "3815 10                          10                     10                 \n",
       "3816 NA                          NA                     NA                 \n",
       "3817 NA                          NA                     NA                 \n",
       "3818 NA                          NA                     NA                 \n",
       "     requires_license require_guest_phone_verification\n",
       "1    f                f                               \n",
       "2    f                t                               \n",
       "3    f                f                               \n",
       "4    f                f                               \n",
       "5    f                f                               \n",
       "6    f                f                               \n",
       "7    f                f                               \n",
       "8    f                t                               \n",
       "9    f                f                               \n",
       "10   f                t                               \n",
       "11   f                f                               \n",
       "12   f                f                               \n",
       "13   f                f                               \n",
       "14   f                f                               \n",
       "15   f                f                               \n",
       "16   f                f                               \n",
       "17   f                f                               \n",
       "18   f                f                               \n",
       "19   f                f                               \n",
       "20   f                f                               \n",
       "21   f                f                               \n",
       "22   f                f                               \n",
       "23   f                f                               \n",
       "24   f                f                               \n",
       "25   f                f                               \n",
       "26   f                f                               \n",
       "27   f                f                               \n",
       "28   f                t                               \n",
       "29   f                f                               \n",
       "30   f                f                               \n",
       "...  ...              ...                             \n",
       "3789 f                f                               \n",
       "3790 f                f                               \n",
       "3791 f                f                               \n",
       "3792 f                f                               \n",
       "3793 f                f                               \n",
       "3794 f                f                               \n",
       "3795 f                f                               \n",
       "3796 f                f                               \n",
       "3797 f                f                               \n",
       "3798 f                f                               \n",
       "3799 f                f                               \n",
       "3800 f                f                               \n",
       "3801 f                f                               \n",
       "3802 f                f                               \n",
       "3803 f                f                               \n",
       "3804 f                f                               \n",
       "3805 f                f                               \n",
       "3806 f                f                               \n",
       "3807 f                f                               \n",
       "3808 f                f                               \n",
       "3809 f                f                               \n",
       "3810 f                f                               \n",
       "3811 f                f                               \n",
       "3812 f                f                               \n",
       "3813 f                t                               \n",
       "3814 f                f                               \n",
       "3815 f                f                               \n",
       "3816 f                f                               \n",
       "3817 f                f                               \n",
       "3818 f                f                               \n",
       "     calculated_host_listings_count reviews_per_month\n",
       "1    2                              4.07             \n",
       "2    6                              1.48             \n",
       "3    2                              1.15             \n",
       "4    1                                NA             \n",
       "5    1                              0.89             \n",
       "6    1                              2.45             \n",
       "7    1                              2.46             \n",
       "8    5                              4.73             \n",
       "9    1                              1.22             \n",
       "10   6                              1.55             \n",
       "11   1                              3.33             \n",
       "12   1                              0.98             \n",
       "13   1                              0.92             \n",
       "14   1                              3.00             \n",
       "15   1                              2.65             \n",
       "16   1                              0.73             \n",
       "17   1                              4.55             \n",
       "18   1                              4.58             \n",
       "19   1                                NA             \n",
       "20   1                              0.82             \n",
       "21   1                              1.00             \n",
       "22   1                              0.71             \n",
       "23   1                              0.86             \n",
       "24   1                                NA             \n",
       "25   1                              0.18             \n",
       "26   2                              1.30             \n",
       "27   1                                NA             \n",
       "28   5                              4.38             \n",
       "29   1                              2.47             \n",
       "30   1                              0.33             \n",
       "...  ...                            ...              \n",
       "3789 1                              3.39             \n",
       "3790 2                              2.14             \n",
       "3791 1                              3.77             \n",
       "3792 1                              2.48             \n",
       "3793 1                                NA             \n",
       "3794 1                              4.28             \n",
       "3795 1                              3.10             \n",
       "3796 1                              1.18             \n",
       "3797 1                              5.57             \n",
       "3798 1                              1.00             \n",
       "3799 2                              5.95             \n",
       "3800 1                              1.06             \n",
       "3801 1                                NA             \n",
       "3802 1                              2.05             \n",
       "3803 1                                NA             \n",
       "3804 8                              4.00             \n",
       "3805 1                              2.34             \n",
       "3806 1                              3.95             \n",
       "3807 2                              0.24             \n",
       "3808 1                              0.78             \n",
       "3809 2                              1.15             \n",
       "3810 1                              1.18             \n",
       "3811 1                              1.56             \n",
       "3812 1                              0.63             \n",
       "3813 3                              4.01             \n",
       "3814 8                              0.30             \n",
       "3815 1                              2.00             \n",
       "3816 1                                NA             \n",
       "3817 1                                NA             \n",
       "3818 1                                NA             "
      ]
     },
     "metadata": {},
     "output_type": "display_data"
    }
   ],
   "source": [
    "airbnb_listings_pre"
   ]
  },
  {
   "cell_type": "code",
   "execution_count": 15,
   "metadata": {
    "collapsed": true
   },
   "outputs": [
    {
     "data": {
      "text/html": [
       "<table>\n",
       "<thead><tr><th scope=col>listing_id</th><th scope=col>date</th><th scope=col>available</th><th scope=col>price</th></tr></thead>\n",
       "<tbody>\n",
       "\t<tr><td>241032    </td><td>2016-01-04</td><td>t         </td><td>$85.00    </td></tr>\n",
       "\t<tr><td>241032    </td><td>2016-01-05</td><td>t         </td><td>$85.00    </td></tr>\n",
       "\t<tr><td>241032    </td><td>2016-01-06</td><td>f         </td><td>          </td></tr>\n",
       "\t<tr><td>241032    </td><td>2016-01-07</td><td>f         </td><td>          </td></tr>\n",
       "\t<tr><td>241032    </td><td>2016-01-08</td><td>f         </td><td>          </td></tr>\n",
       "\t<tr><td>241032    </td><td>2016-01-09</td><td>f         </td><td>          </td></tr>\n",
       "\t<tr><td>241032    </td><td>2016-01-10</td><td>f         </td><td>          </td></tr>\n",
       "\t<tr><td>241032    </td><td>2016-01-11</td><td>f         </td><td>          </td></tr>\n",
       "\t<tr><td>241032    </td><td>2016-01-12</td><td>f         </td><td>          </td></tr>\n",
       "\t<tr><td>241032    </td><td>2016-01-13</td><td>t         </td><td>$85.00    </td></tr>\n",
       "\t<tr><td>241032    </td><td>2016-01-14</td><td>t         </td><td>$85.00    </td></tr>\n",
       "\t<tr><td>241032    </td><td>2016-01-15</td><td>f         </td><td>          </td></tr>\n",
       "\t<tr><td>241032    </td><td>2016-01-16</td><td>f         </td><td>          </td></tr>\n",
       "\t<tr><td>241032    </td><td>2016-01-17</td><td>f         </td><td>          </td></tr>\n",
       "\t<tr><td>241032    </td><td>2016-01-18</td><td>t         </td><td>$85.00    </td></tr>\n",
       "\t<tr><td>241032    </td><td>2016-01-19</td><td>t         </td><td>$85.00    </td></tr>\n",
       "\t<tr><td>241032    </td><td>2016-01-20</td><td>t         </td><td>$85.00    </td></tr>\n",
       "\t<tr><td>241032    </td><td>2016-01-21</td><td>f         </td><td>          </td></tr>\n",
       "\t<tr><td>241032    </td><td>2016-01-22</td><td>f         </td><td>          </td></tr>\n",
       "\t<tr><td>241032    </td><td>2016-01-23</td><td>f         </td><td>          </td></tr>\n",
       "\t<tr><td>241032    </td><td>2016-01-24</td><td>t         </td><td>$85.00    </td></tr>\n",
       "\t<tr><td>241032    </td><td>2016-01-25</td><td>t         </td><td>$85.00    </td></tr>\n",
       "\t<tr><td>241032    </td><td>2016-01-26</td><td>t         </td><td>$85.00    </td></tr>\n",
       "\t<tr><td>241032    </td><td>2016-01-27</td><td>t         </td><td>$85.00    </td></tr>\n",
       "\t<tr><td>241032    </td><td>2016-01-28</td><td>t         </td><td>$85.00    </td></tr>\n",
       "\t<tr><td>241032    </td><td>2016-01-29</td><td>f         </td><td>          </td></tr>\n",
       "\t<tr><td>241032    </td><td>2016-01-30</td><td>f         </td><td>          </td></tr>\n",
       "\t<tr><td>241032    </td><td>2016-01-31</td><td>f         </td><td>          </td></tr>\n",
       "\t<tr><td>241032    </td><td>2016-02-01</td><td>t         </td><td>$85.00    </td></tr>\n",
       "\t<tr><td>241032    </td><td>2016-02-02</td><td>t         </td><td>$85.00    </td></tr>\n",
       "\t<tr><td>...</td><td>...</td><td>...</td><td>...</td></tr>\n",
       "\t<tr><td>10208623  </td><td>2016-12-04</td><td>f         </td><td>          </td></tr>\n",
       "\t<tr><td>10208623  </td><td>2016-12-05</td><td>f         </td><td>          </td></tr>\n",
       "\t<tr><td>10208623  </td><td>2016-12-06</td><td>f         </td><td>          </td></tr>\n",
       "\t<tr><td>10208623  </td><td>2016-12-07</td><td>f         </td><td>          </td></tr>\n",
       "\t<tr><td>10208623  </td><td>2016-12-08</td><td>f         </td><td>          </td></tr>\n",
       "\t<tr><td>10208623  </td><td>2016-12-09</td><td>f         </td><td>          </td></tr>\n",
       "\t<tr><td>10208623  </td><td>2016-12-10</td><td>f         </td><td>          </td></tr>\n",
       "\t<tr><td>10208623  </td><td>2016-12-11</td><td>f         </td><td>          </td></tr>\n",
       "\t<tr><td>10208623  </td><td>2016-12-12</td><td>f         </td><td>          </td></tr>\n",
       "\t<tr><td>10208623  </td><td>2016-12-13</td><td>f         </td><td>          </td></tr>\n",
       "\t<tr><td>10208623  </td><td>2016-12-14</td><td>f         </td><td>          </td></tr>\n",
       "\t<tr><td>10208623  </td><td>2016-12-15</td><td>f         </td><td>          </td></tr>\n",
       "\t<tr><td>10208623  </td><td>2016-12-16</td><td>f         </td><td>          </td></tr>\n",
       "\t<tr><td>10208623  </td><td>2016-12-17</td><td>f         </td><td>          </td></tr>\n",
       "\t<tr><td>10208623  </td><td>2016-12-18</td><td>f         </td><td>          </td></tr>\n",
       "\t<tr><td>10208623  </td><td>2016-12-19</td><td>f         </td><td>          </td></tr>\n",
       "\t<tr><td>10208623  </td><td>2016-12-20</td><td>f         </td><td>          </td></tr>\n",
       "\t<tr><td>10208623  </td><td>2016-12-21</td><td>f         </td><td>          </td></tr>\n",
       "\t<tr><td>10208623  </td><td>2016-12-22</td><td>f         </td><td>          </td></tr>\n",
       "\t<tr><td>10208623  </td><td>2016-12-23</td><td>f         </td><td>          </td></tr>\n",
       "\t<tr><td>10208623  </td><td>2016-12-24</td><td>f         </td><td>          </td></tr>\n",
       "\t<tr><td>10208623  </td><td>2016-12-25</td><td>f         </td><td>          </td></tr>\n",
       "\t<tr><td>10208623  </td><td>2016-12-26</td><td>f         </td><td>          </td></tr>\n",
       "\t<tr><td>10208623  </td><td>2016-12-27</td><td>f         </td><td>          </td></tr>\n",
       "\t<tr><td>10208623  </td><td>2016-12-28</td><td>f         </td><td>          </td></tr>\n",
       "\t<tr><td>10208623  </td><td>2016-12-29</td><td>f         </td><td>          </td></tr>\n",
       "\t<tr><td>10208623  </td><td>2016-12-30</td><td>f         </td><td>          </td></tr>\n",
       "\t<tr><td>10208623  </td><td>2016-12-31</td><td>f         </td><td>          </td></tr>\n",
       "\t<tr><td>10208623  </td><td>2017-01-01</td><td>f         </td><td>          </td></tr>\n",
       "\t<tr><td>10208623  </td><td>2017-01-02</td><td>f         </td><td>          </td></tr>\n",
       "</tbody>\n",
       "</table>\n"
      ],
      "text/latex": [
       "\\begin{tabular}{r|llll}\n",
       " listing\\_id & date & available & price\\\\\n",
       "\\hline\n",
       "\t 241032     & 2016-01-04 & t          & \\$85.00  \\\\\n",
       "\t 241032     & 2016-01-05 & t          & \\$85.00  \\\\\n",
       "\t 241032     & 2016-01-06 & f          &           \\\\\n",
       "\t 241032     & 2016-01-07 & f          &           \\\\\n",
       "\t 241032     & 2016-01-08 & f          &           \\\\\n",
       "\t 241032     & 2016-01-09 & f          &           \\\\\n",
       "\t 241032     & 2016-01-10 & f          &           \\\\\n",
       "\t 241032     & 2016-01-11 & f          &           \\\\\n",
       "\t 241032     & 2016-01-12 & f          &           \\\\\n",
       "\t 241032     & 2016-01-13 & t          & \\$85.00  \\\\\n",
       "\t 241032     & 2016-01-14 & t          & \\$85.00  \\\\\n",
       "\t 241032     & 2016-01-15 & f          &           \\\\\n",
       "\t 241032     & 2016-01-16 & f          &           \\\\\n",
       "\t 241032     & 2016-01-17 & f          &           \\\\\n",
       "\t 241032     & 2016-01-18 & t          & \\$85.00  \\\\\n",
       "\t 241032     & 2016-01-19 & t          & \\$85.00  \\\\\n",
       "\t 241032     & 2016-01-20 & t          & \\$85.00  \\\\\n",
       "\t 241032     & 2016-01-21 & f          &           \\\\\n",
       "\t 241032     & 2016-01-22 & f          &           \\\\\n",
       "\t 241032     & 2016-01-23 & f          &           \\\\\n",
       "\t 241032     & 2016-01-24 & t          & \\$85.00  \\\\\n",
       "\t 241032     & 2016-01-25 & t          & \\$85.00  \\\\\n",
       "\t 241032     & 2016-01-26 & t          & \\$85.00  \\\\\n",
       "\t 241032     & 2016-01-27 & t          & \\$85.00  \\\\\n",
       "\t 241032     & 2016-01-28 & t          & \\$85.00  \\\\\n",
       "\t 241032     & 2016-01-29 & f          &           \\\\\n",
       "\t 241032     & 2016-01-30 & f          &           \\\\\n",
       "\t 241032     & 2016-01-31 & f          &           \\\\\n",
       "\t 241032     & 2016-02-01 & t          & \\$85.00  \\\\\n",
       "\t 241032     & 2016-02-02 & t          & \\$85.00  \\\\\n",
       "\t ... & ... & ... & ...\\\\\n",
       "\t 10208623   & 2016-12-04 & f          &           \\\\\n",
       "\t 10208623   & 2016-12-05 & f          &           \\\\\n",
       "\t 10208623   & 2016-12-06 & f          &           \\\\\n",
       "\t 10208623   & 2016-12-07 & f          &           \\\\\n",
       "\t 10208623   & 2016-12-08 & f          &           \\\\\n",
       "\t 10208623   & 2016-12-09 & f          &           \\\\\n",
       "\t 10208623   & 2016-12-10 & f          &           \\\\\n",
       "\t 10208623   & 2016-12-11 & f          &           \\\\\n",
       "\t 10208623   & 2016-12-12 & f          &           \\\\\n",
       "\t 10208623   & 2016-12-13 & f          &           \\\\\n",
       "\t 10208623   & 2016-12-14 & f          &           \\\\\n",
       "\t 10208623   & 2016-12-15 & f          &           \\\\\n",
       "\t 10208623   & 2016-12-16 & f          &           \\\\\n",
       "\t 10208623   & 2016-12-17 & f          &           \\\\\n",
       "\t 10208623   & 2016-12-18 & f          &           \\\\\n",
       "\t 10208623   & 2016-12-19 & f          &           \\\\\n",
       "\t 10208623   & 2016-12-20 & f          &           \\\\\n",
       "\t 10208623   & 2016-12-21 & f          &           \\\\\n",
       "\t 10208623   & 2016-12-22 & f          &           \\\\\n",
       "\t 10208623   & 2016-12-23 & f          &           \\\\\n",
       "\t 10208623   & 2016-12-24 & f          &           \\\\\n",
       "\t 10208623   & 2016-12-25 & f          &           \\\\\n",
       "\t 10208623   & 2016-12-26 & f          &           \\\\\n",
       "\t 10208623   & 2016-12-27 & f          &           \\\\\n",
       "\t 10208623   & 2016-12-28 & f          &           \\\\\n",
       "\t 10208623   & 2016-12-29 & f          &           \\\\\n",
       "\t 10208623   & 2016-12-30 & f          &           \\\\\n",
       "\t 10208623   & 2016-12-31 & f          &           \\\\\n",
       "\t 10208623   & 2017-01-01 & f          &           \\\\\n",
       "\t 10208623   & 2017-01-02 & f          &           \\\\\n",
       "\\end{tabular}\n"
      ],
      "text/markdown": [
       "\n",
       "| listing_id | date | available | price |\n",
       "|---|---|---|---|\n",
       "| 241032     | 2016-01-04 | t          | $85.00     |\n",
       "| 241032     | 2016-01-05 | t          | $85.00     |\n",
       "| 241032     | 2016-01-06 | f          |            |\n",
       "| 241032     | 2016-01-07 | f          |            |\n",
       "| 241032     | 2016-01-08 | f          |            |\n",
       "| 241032     | 2016-01-09 | f          |            |\n",
       "| 241032     | 2016-01-10 | f          |            |\n",
       "| 241032     | 2016-01-11 | f          |            |\n",
       "| 241032     | 2016-01-12 | f          |            |\n",
       "| 241032     | 2016-01-13 | t          | $85.00     |\n",
       "| 241032     | 2016-01-14 | t          | $85.00     |\n",
       "| 241032     | 2016-01-15 | f          |            |\n",
       "| 241032     | 2016-01-16 | f          |            |\n",
       "| 241032     | 2016-01-17 | f          |            |\n",
       "| 241032     | 2016-01-18 | t          | $85.00     |\n",
       "| 241032     | 2016-01-19 | t          | $85.00     |\n",
       "| 241032     | 2016-01-20 | t          | $85.00     |\n",
       "| 241032     | 2016-01-21 | f          |            |\n",
       "| 241032     | 2016-01-22 | f          |            |\n",
       "| 241032     | 2016-01-23 | f          |            |\n",
       "| 241032     | 2016-01-24 | t          | $85.00     |\n",
       "| 241032     | 2016-01-25 | t          | $85.00     |\n",
       "| 241032     | 2016-01-26 | t          | $85.00     |\n",
       "| 241032     | 2016-01-27 | t          | $85.00     |\n",
       "| 241032     | 2016-01-28 | t          | $85.00     |\n",
       "| 241032     | 2016-01-29 | f          |            |\n",
       "| 241032     | 2016-01-30 | f          |            |\n",
       "| 241032     | 2016-01-31 | f          |            |\n",
       "| 241032     | 2016-02-01 | t          | $85.00     |\n",
       "| 241032     | 2016-02-02 | t          | $85.00     |\n",
       "| ... | ... | ... | ... |\n",
       "| 10208623   | 2016-12-04 | f          |            |\n",
       "| 10208623   | 2016-12-05 | f          |            |\n",
       "| 10208623   | 2016-12-06 | f          |            |\n",
       "| 10208623   | 2016-12-07 | f          |            |\n",
       "| 10208623   | 2016-12-08 | f          |            |\n",
       "| 10208623   | 2016-12-09 | f          |            |\n",
       "| 10208623   | 2016-12-10 | f          |            |\n",
       "| 10208623   | 2016-12-11 | f          |            |\n",
       "| 10208623   | 2016-12-12 | f          |            |\n",
       "| 10208623   | 2016-12-13 | f          |            |\n",
       "| 10208623   | 2016-12-14 | f          |            |\n",
       "| 10208623   | 2016-12-15 | f          |            |\n",
       "| 10208623   | 2016-12-16 | f          |            |\n",
       "| 10208623   | 2016-12-17 | f          |            |\n",
       "| 10208623   | 2016-12-18 | f          |            |\n",
       "| 10208623   | 2016-12-19 | f          |            |\n",
       "| 10208623   | 2016-12-20 | f          |            |\n",
       "| 10208623   | 2016-12-21 | f          |            |\n",
       "| 10208623   | 2016-12-22 | f          |            |\n",
       "| 10208623   | 2016-12-23 | f          |            |\n",
       "| 10208623   | 2016-12-24 | f          |            |\n",
       "| 10208623   | 2016-12-25 | f          |            |\n",
       "| 10208623   | 2016-12-26 | f          |            |\n",
       "| 10208623   | 2016-12-27 | f          |            |\n",
       "| 10208623   | 2016-12-28 | f          |            |\n",
       "| 10208623   | 2016-12-29 | f          |            |\n",
       "| 10208623   | 2016-12-30 | f          |            |\n",
       "| 10208623   | 2016-12-31 | f          |            |\n",
       "| 10208623   | 2017-01-01 | f          |            |\n",
       "| 10208623   | 2017-01-02 | f          |            |\n",
       "\n"
      ],
      "text/plain": [
       "        listing_id date       available price \n",
       "1       241032     2016-01-04 t         $85.00\n",
       "2       241032     2016-01-05 t         $85.00\n",
       "3       241032     2016-01-06 f               \n",
       "4       241032     2016-01-07 f               \n",
       "5       241032     2016-01-08 f               \n",
       "6       241032     2016-01-09 f               \n",
       "7       241032     2016-01-10 f               \n",
       "8       241032     2016-01-11 f               \n",
       "9       241032     2016-01-12 f               \n",
       "10      241032     2016-01-13 t         $85.00\n",
       "11      241032     2016-01-14 t         $85.00\n",
       "12      241032     2016-01-15 f               \n",
       "13      241032     2016-01-16 f               \n",
       "14      241032     2016-01-17 f               \n",
       "15      241032     2016-01-18 t         $85.00\n",
       "16      241032     2016-01-19 t         $85.00\n",
       "17      241032     2016-01-20 t         $85.00\n",
       "18      241032     2016-01-21 f               \n",
       "19      241032     2016-01-22 f               \n",
       "20      241032     2016-01-23 f               \n",
       "21      241032     2016-01-24 t         $85.00\n",
       "22      241032     2016-01-25 t         $85.00\n",
       "23      241032     2016-01-26 t         $85.00\n",
       "24      241032     2016-01-27 t         $85.00\n",
       "25      241032     2016-01-28 t         $85.00\n",
       "26      241032     2016-01-29 f               \n",
       "27      241032     2016-01-30 f               \n",
       "28      241032     2016-01-31 f               \n",
       "29      241032     2016-02-01 t         $85.00\n",
       "30      241032     2016-02-02 t         $85.00\n",
       "...     ...        ...        ...       ...   \n",
       "1393541 10208623   2016-12-04 f               \n",
       "1393542 10208623   2016-12-05 f               \n",
       "1393543 10208623   2016-12-06 f               \n",
       "1393544 10208623   2016-12-07 f               \n",
       "1393545 10208623   2016-12-08 f               \n",
       "1393546 10208623   2016-12-09 f               \n",
       "1393547 10208623   2016-12-10 f               \n",
       "1393548 10208623   2016-12-11 f               \n",
       "1393549 10208623   2016-12-12 f               \n",
       "1393550 10208623   2016-12-13 f               \n",
       "1393551 10208623   2016-12-14 f               \n",
       "1393552 10208623   2016-12-15 f               \n",
       "1393553 10208623   2016-12-16 f               \n",
       "1393554 10208623   2016-12-17 f               \n",
       "1393555 10208623   2016-12-18 f               \n",
       "1393556 10208623   2016-12-19 f               \n",
       "1393557 10208623   2016-12-20 f               \n",
       "1393558 10208623   2016-12-21 f               \n",
       "1393559 10208623   2016-12-22 f               \n",
       "1393560 10208623   2016-12-23 f               \n",
       "1393561 10208623   2016-12-24 f               \n",
       "1393562 10208623   2016-12-25 f               \n",
       "1393563 10208623   2016-12-26 f               \n",
       "1393564 10208623   2016-12-27 f               \n",
       "1393565 10208623   2016-12-28 f               \n",
       "1393566 10208623   2016-12-29 f               \n",
       "1393567 10208623   2016-12-30 f               \n",
       "1393568 10208623   2016-12-31 f               \n",
       "1393569 10208623   2017-01-01 f               \n",
       "1393570 10208623   2017-01-02 f               "
      ]
     },
     "metadata": {},
     "output_type": "display_data"
    }
   ],
   "source": [
    "airbnb_calendar_pre"
   ]
  },
  {
   "cell_type": "markdown",
   "metadata": {},
   "source": [
    "### Estruturado de datos"
   ]
  },
  {
   "cell_type": "code",
   "execution_count": 16,
   "metadata": {},
   "outputs": [
    {
     "ename": "ERROR",
     "evalue": "Error in select(airbnb_listings, host_response_rate, host_acceptance_rate, : no se pudo encontrar la función \"select\"\n",
     "output_type": "error",
     "traceback": [
      "Error in select(airbnb_listings, host_response_rate, host_acceptance_rate, : no se pudo encontrar la función \"select\"\nTraceback:\n"
     ]
    }
   ],
   "source": [
    "df <- select(airbnb_listings, host_response_rate, host_acceptance_rate,\n",
    "               host_listings_count, zipcode, property_type,room_type,accommodates,bathrooms,bedrooms,\n",
    "               beds,price,number_of_reviews,review_scores_rating,cancellation_policy, \n",
    "               reviews_per_month)"
   ]
  },
  {
   "cell_type": "code",
   "execution_count": 17,
   "metadata": {},
   "outputs": [
    {
     "data": {
      "text/plain": [
       "                                              \n",
       "1 function (x, df1, df2, ncp, log = FALSE)    \n",
       "2 {                                           \n",
       "3     if (missing(ncp))                       \n",
       "4         .Call(C_df, x, df1, df2, log)       \n",
       "5     else .Call(C_dnf, x, df1, df2, ncp, log)\n",
       "6 }                                           "
      ]
     },
     "metadata": {},
     "output_type": "display_data"
    }
   ],
   "source": [
    "head(df)"
   ]
  },
  {
   "cell_type": "code",
   "execution_count": 40,
   "metadata": {},
   "outputs": [
    {
     "data": {
      "text/html": [
       "<dl class=dl-horizontal>\n",
       "\t<dt>host_response_rate</dt>\n",
       "\t\t<dd>0</dd>\n",
       "\t<dt>host_acceptance_rate</dt>\n",
       "\t\t<dd>0</dd>\n",
       "\t<dt>host_listings_count</dt>\n",
       "\t\t<dd>2</dd>\n",
       "\t<dt>zipcode</dt>\n",
       "\t\t<dd>0</dd>\n",
       "\t<dt>property_type</dt>\n",
       "\t\t<dd>0</dd>\n",
       "\t<dt>room_type</dt>\n",
       "\t\t<dd>0</dd>\n",
       "\t<dt>accommodates</dt>\n",
       "\t\t<dd>0</dd>\n",
       "\t<dt>bathrooms</dt>\n",
       "\t\t<dd>16</dd>\n",
       "\t<dt>bedrooms</dt>\n",
       "\t\t<dd>6</dd>\n",
       "\t<dt>beds</dt>\n",
       "\t\t<dd>1</dd>\n",
       "\t<dt>price</dt>\n",
       "\t\t<dd>0</dd>\n",
       "\t<dt>number_of_reviews</dt>\n",
       "\t\t<dd>0</dd>\n",
       "\t<dt>review_scores_rating</dt>\n",
       "\t\t<dd>647</dd>\n",
       "\t<dt>cancellation_policy</dt>\n",
       "\t\t<dd>0</dd>\n",
       "\t<dt>reviews_per_month</dt>\n",
       "\t\t<dd>627</dd>\n",
       "</dl>\n"
      ],
      "text/latex": [
       "\\begin{description*}\n",
       "\\item[host\\textbackslash{}\\_response\\textbackslash{}\\_rate] 0\n",
       "\\item[host\\textbackslash{}\\_acceptance\\textbackslash{}\\_rate] 0\n",
       "\\item[host\\textbackslash{}\\_listings\\textbackslash{}\\_count] 2\n",
       "\\item[zipcode] 0\n",
       "\\item[property\\textbackslash{}\\_type] 0\n",
       "\\item[room\\textbackslash{}\\_type] 0\n",
       "\\item[accommodates] 0\n",
       "\\item[bathrooms] 16\n",
       "\\item[bedrooms] 6\n",
       "\\item[beds] 1\n",
       "\\item[price] 0\n",
       "\\item[number\\textbackslash{}\\_of\\textbackslash{}\\_reviews] 0\n",
       "\\item[review\\textbackslash{}\\_scores\\textbackslash{}\\_rating] 647\n",
       "\\item[cancellation\\textbackslash{}\\_policy] 0\n",
       "\\item[reviews\\textbackslash{}\\_per\\textbackslash{}\\_month] 627\n",
       "\\end{description*}\n"
      ],
      "text/markdown": [
       "host_response_rate\n",
       ":   0host_acceptance_rate\n",
       ":   0host_listings_count\n",
       ":   2zipcode\n",
       ":   0property_type\n",
       ":   0room_type\n",
       ":   0accommodates\n",
       ":   0bathrooms\n",
       ":   16bedrooms\n",
       ":   6beds\n",
       ":   1price\n",
       ":   0number_of_reviews\n",
       ":   0review_scores_rating\n",
       ":   647cancellation_policy\n",
       ":   0reviews_per_month\n",
       ":   627\n",
       "\n"
      ],
      "text/plain": [
       "  host_response_rate host_acceptance_rate  host_listings_count \n",
       "                   0                    0                    2 \n",
       "             zipcode        property_type            room_type \n",
       "                   0                    0                    0 \n",
       "        accommodates            bathrooms             bedrooms \n",
       "                   0                   16                    6 \n",
       "                beds                price    number_of_reviews \n",
       "                   1                    0                    0 \n",
       "review_scores_rating  cancellation_policy    reviews_per_month \n",
       "                 647                    0                  627 "
      ]
     },
     "metadata": {},
     "output_type": "display_data"
    }
   ],
   "source": [
    "# Numbers of NaN values\n",
    "sapply(df, function(df) sum(is.na(df)))"
   ]
  },
  {
   "cell_type": "code",
   "execution_count": 41,
   "metadata": {},
   "outputs": [
    {
     "data": {
      "text/html": [
       "<table>\n",
       "<thead><tr><th scope=col>n</th></tr></thead>\n",
       "<tbody>\n",
       "\t<tr><td>3818</td></tr>\n",
       "</tbody>\n",
       "</table>\n"
      ],
      "text/latex": [
       "\\begin{tabular}{r|l}\n",
       " n\\\\\n",
       "\\hline\n",
       "\t 3818\\\\\n",
       "\\end{tabular}\n"
      ],
      "text/markdown": [
       "\n",
       "| n |\n",
       "|---|\n",
       "| 3818 |\n",
       "\n"
      ],
      "text/plain": [
       "  n   \n",
       "1 3818"
      ]
     },
     "metadata": {},
     "output_type": "display_data"
    }
   ],
   "source": [
    "# Number of rows before omit NaN\n",
    "count(df)"
   ]
  },
  {
   "cell_type": "code",
   "execution_count": 42,
   "metadata": {},
   "outputs": [],
   "source": [
    "df2 <- na.omit(df)"
   ]
  },
  {
   "cell_type": "code",
   "execution_count": 43,
   "metadata": {
    "scrolled": true
   },
   "outputs": [
    {
     "data": {
      "text/html": [
       "<table>\n",
       "<thead><tr><th scope=col>n</th></tr></thead>\n",
       "<tbody>\n",
       "\t<tr><td>3153</td></tr>\n",
       "</tbody>\n",
       "</table>\n"
      ],
      "text/latex": [
       "\\begin{tabular}{r|l}\n",
       " n\\\\\n",
       "\\hline\n",
       "\t 3153\\\\\n",
       "\\end{tabular}\n"
      ],
      "text/markdown": [
       "\n",
       "| n |\n",
       "|---|\n",
       "| 3153 |\n",
       "\n"
      ],
      "text/plain": [
       "  n   \n",
       "1 3153"
      ]
     },
     "metadata": {},
     "output_type": "display_data"
    }
   ],
   "source": [
    "# Number of rows after omit NaN\n",
    "nrow(df2)"
   ]
  },
  {
   "cell_type": "code",
   "execution_count": 44,
   "metadata": {
    "scrolled": true
   },
   "outputs": [
    {
     "data": {
      "text/html": [
       "<ol class=list-inline>\n",
       "\t<li>''</li>\n",
       "\t<li>'Apartment'</li>\n",
       "\t<li>'Bed &amp; Breakfast'</li>\n",
       "\t<li>'Boat'</li>\n",
       "\t<li>'Bungalow'</li>\n",
       "\t<li>'Cabin'</li>\n",
       "\t<li>'Camper/RV'</li>\n",
       "\t<li>'Chalet'</li>\n",
       "\t<li>'Condominium'</li>\n",
       "\t<li>'Dorm'</li>\n",
       "\t<li>'House'</li>\n",
       "\t<li>'Loft'</li>\n",
       "\t<li>'Other'</li>\n",
       "\t<li>'Tent'</li>\n",
       "\t<li>'Townhouse'</li>\n",
       "\t<li>'Treehouse'</li>\n",
       "\t<li>'Yurt'</li>\n",
       "</ol>\n"
      ],
      "text/latex": [
       "\\begin{enumerate*}\n",
       "\\item ''\n",
       "\\item 'Apartment'\n",
       "\\item 'Bed \\& Breakfast'\n",
       "\\item 'Boat'\n",
       "\\item 'Bungalow'\n",
       "\\item 'Cabin'\n",
       "\\item 'Camper/RV'\n",
       "\\item 'Chalet'\n",
       "\\item 'Condominium'\n",
       "\\item 'Dorm'\n",
       "\\item 'House'\n",
       "\\item 'Loft'\n",
       "\\item 'Other'\n",
       "\\item 'Tent'\n",
       "\\item 'Townhouse'\n",
       "\\item 'Treehouse'\n",
       "\\item 'Yurt'\n",
       "\\end{enumerate*}\n"
      ],
      "text/markdown": [
       "1. ''\n",
       "2. 'Apartment'\n",
       "3. 'Bed &amp; Breakfast'\n",
       "4. 'Boat'\n",
       "5. 'Bungalow'\n",
       "6. 'Cabin'\n",
       "7. 'Camper/RV'\n",
       "8. 'Chalet'\n",
       "9. 'Condominium'\n",
       "10. 'Dorm'\n",
       "11. 'House'\n",
       "12. 'Loft'\n",
       "13. 'Other'\n",
       "14. 'Tent'\n",
       "15. 'Townhouse'\n",
       "16. 'Treehouse'\n",
       "17. 'Yurt'\n",
       "\n",
       "\n"
      ],
      "text/plain": [
       " [1] \"\"                \"Apartment\"       \"Bed & Breakfast\" \"Boat\"           \n",
       " [5] \"Bungalow\"        \"Cabin\"           \"Camper/RV\"       \"Chalet\"         \n",
       " [9] \"Condominium\"     \"Dorm\"            \"House\"           \"Loft\"           \n",
       "[13] \"Other\"           \"Tent\"            \"Townhouse\"       \"Treehouse\"      \n",
       "[17] \"Yurt\"           "
      ]
     },
     "metadata": {},
     "output_type": "display_data"
    }
   ],
   "source": [
    "levels(df2$property_type)"
   ]
  },
  {
   "cell_type": "code",
   "execution_count": 45,
   "metadata": {
    "scrolled": true
   },
   "outputs": [
    {
     "data": {
      "text/html": [
       "<ol class=list-inline>\n",
       "\t<li>'Entire home/apt'</li>\n",
       "\t<li>'Private room'</li>\n",
       "\t<li>'Shared room'</li>\n",
       "</ol>\n"
      ],
      "text/latex": [
       "\\begin{enumerate*}\n",
       "\\item 'Entire home/apt'\n",
       "\\item 'Private room'\n",
       "\\item 'Shared room'\n",
       "\\end{enumerate*}\n"
      ],
      "text/markdown": [
       "1. 'Entire home/apt'\n",
       "2. 'Private room'\n",
       "3. 'Shared room'\n",
       "\n",
       "\n"
      ],
      "text/plain": [
       "[1] \"Entire home/apt\" \"Private room\"    \"Shared room\"    "
      ]
     },
     "metadata": {},
     "output_type": "display_data"
    }
   ],
   "source": [
    "levels(df2$room_type)"
   ]
  },
  {
   "cell_type": "code",
   "execution_count": 46,
   "metadata": {
    "scrolled": true
   },
   "outputs": [
    {
     "data": {
      "text/html": [
       "<ol class=list-inline>\n",
       "\t<li>'flexible'</li>\n",
       "\t<li>'moderate'</li>\n",
       "\t<li>'strict'</li>\n",
       "</ol>\n"
      ],
      "text/latex": [
       "\\begin{enumerate*}\n",
       "\\item 'flexible'\n",
       "\\item 'moderate'\n",
       "\\item 'strict'\n",
       "\\end{enumerate*}\n"
      ],
      "text/markdown": [
       "1. 'flexible'\n",
       "2. 'moderate'\n",
       "3. 'strict'\n",
       "\n",
       "\n"
      ],
      "text/plain": [
       "[1] \"flexible\" \"moderate\" \"strict\"  "
      ]
     },
     "metadata": {},
     "output_type": "display_data"
    }
   ],
   "source": [
    "levels(df2$cancellation_policy)"
   ]
  },
  {
   "cell_type": "code",
   "execution_count": 47,
   "metadata": {},
   "outputs": [],
   "source": [
    "df2$property_type = factor(df2$property_type, levels = levels(df2$property_type), labels = seq(1,17))"
   ]
  },
  {
   "cell_type": "code",
   "execution_count": 48,
   "metadata": {},
   "outputs": [],
   "source": [
    "df2$room_type = factor(df2$room_type, levels = levels(df2$room_type), labels = seq(1,3))"
   ]
  },
  {
   "cell_type": "code",
   "execution_count": 49,
   "metadata": {},
   "outputs": [],
   "source": [
    "df2$cancellation_policy = factor(df2$cancellation_policy, levels = levels(df2$cancellation_policy), labels = seq(1,3))"
   ]
  },
  {
   "cell_type": "code",
   "execution_count": 50,
   "metadata": {
    "scrolled": false
   },
   "outputs": [
    {
     "data": {
      "text/html": [
       "<table>\n",
       "<thead><tr><th></th><th scope=col>host_response_rate</th><th scope=col>host_acceptance_rate</th><th scope=col>host_listings_count</th><th scope=col>zipcode</th><th scope=col>property_type</th><th scope=col>room_type</th><th scope=col>accommodates</th><th scope=col>bathrooms</th><th scope=col>bedrooms</th><th scope=col>beds</th><th scope=col>price</th><th scope=col>number_of_reviews</th><th scope=col>review_scores_rating</th><th scope=col>cancellation_policy</th><th scope=col>reviews_per_month</th></tr></thead>\n",
       "<tbody>\n",
       "\t<tr><th scope=row>1</th><td>96%    </td><td>100%   </td><td>3      </td><td>98119  </td><td>2      </td><td>1      </td><td> 4     </td><td>1.0    </td><td>1      </td><td>1      </td><td>$85.00 </td><td>207    </td><td>95     </td><td>2      </td><td>4.07   </td></tr>\n",
       "\t<tr><th scope=row>2</th><td>98%    </td><td>100%   </td><td>6      </td><td>98119  </td><td>2      </td><td>1      </td><td> 4     </td><td>1.0    </td><td>1      </td><td>1      </td><td>$150.00</td><td> 43    </td><td>96     </td><td>3      </td><td>1.48   </td></tr>\n",
       "\t<tr><th scope=row>3</th><td>67%    </td><td>100%   </td><td>2      </td><td>98119  </td><td>11     </td><td>1      </td><td>11     </td><td>4.5    </td><td>5      </td><td>7      </td><td>$975.00</td><td> 20    </td><td>97     </td><td>3      </td><td>1.15   </td></tr>\n",
       "\t<tr><th scope=row>5</th><td>100%   </td><td>N/A    </td><td>2      </td><td>98119  </td><td>11     </td><td>1      </td><td> 6     </td><td>2.0    </td><td>3      </td><td>3      </td><td>$450.00</td><td> 38    </td><td>92     </td><td>3      </td><td>0.89   </td></tr>\n",
       "\t<tr><th scope=row>6</th><td>N/A    </td><td>N/A    </td><td>1      </td><td>98119  </td><td>11     </td><td>2      </td><td> 2     </td><td>1.0    </td><td>1      </td><td>1      </td><td>$120.00</td><td> 17    </td><td>95     </td><td>3      </td><td>2.45   </td></tr>\n",
       "\t<tr><th scope=row>7</th><td>100%   </td><td>100%   </td><td>1      </td><td>98119  </td><td>11     </td><td>2      </td><td> 2     </td><td>1.0    </td><td>1      </td><td>1      </td><td>$80.00 </td><td> 58    </td><td>99     </td><td>2      </td><td>2.46   </td></tr>\n",
       "</tbody>\n",
       "</table>\n"
      ],
      "text/latex": [
       "\\begin{tabular}{r|lllllllllllllll}\n",
       "  & host\\_response\\_rate & host\\_acceptance\\_rate & host\\_listings\\_count & zipcode & property\\_type & room\\_type & accommodates & bathrooms & bedrooms & beds & price & number\\_of\\_reviews & review\\_scores\\_rating & cancellation\\_policy & reviews\\_per\\_month\\\\\n",
       "\\hline\n",
       "\t1 & 96\\%     & 100\\%    & 3         & 98119     & 2         & 1         &  4        & 1.0       & 1         & 1         & \\$85.00  & 207       & 95        & 2         & 4.07     \\\\\n",
       "\t2 & 98\\%     & 100\\%    & 6         & 98119     & 2         & 1         &  4        & 1.0       & 1         & 1         & \\$150.00 &  43       & 96        & 3         & 1.48     \\\\\n",
       "\t3 & 67\\%     & 100\\%    & 2         & 98119     & 11        & 1         & 11        & 4.5       & 5         & 7         & \\$975.00 &  20       & 97        & 3         & 1.15     \\\\\n",
       "\t5 & 100\\%    & N/A       & 2         & 98119     & 11        & 1         &  6        & 2.0       & 3         & 3         & \\$450.00 &  38       & 92        & 3         & 0.89     \\\\\n",
       "\t6 & N/A       & N/A       & 1         & 98119     & 11        & 2         &  2        & 1.0       & 1         & 1         & \\$120.00 &  17       & 95        & 3         & 2.45     \\\\\n",
       "\t7 & 100\\%    & 100\\%    & 1         & 98119     & 11        & 2         &  2        & 1.0       & 1         & 1         & \\$80.00  &  58       & 99        & 2         & 2.46     \\\\\n",
       "\\end{tabular}\n"
      ],
      "text/markdown": [
       "\n",
       "| <!--/--> | host_response_rate | host_acceptance_rate | host_listings_count | zipcode | property_type | room_type | accommodates | bathrooms | bedrooms | beds | price | number_of_reviews | review_scores_rating | cancellation_policy | reviews_per_month |\n",
       "|---|---|---|---|---|---|---|---|---|---|---|---|---|---|---|---|\n",
       "| 1 | 96%     | 100%    | 3       | 98119   | 2       | 1       |  4      | 1.0     | 1       | 1       | $85.00  | 207     | 95      | 2       | 4.07    |\n",
       "| 2 | 98%     | 100%    | 6       | 98119   | 2       | 1       |  4      | 1.0     | 1       | 1       | $150.00 |  43     | 96      | 3       | 1.48    |\n",
       "| 3 | 67%     | 100%    | 2       | 98119   | 11      | 1       | 11      | 4.5     | 5       | 7       | $975.00 |  20     | 97      | 3       | 1.15    |\n",
       "| 5 | 100%    | N/A     | 2       | 98119   | 11      | 1       |  6      | 2.0     | 3       | 3       | $450.00 |  38     | 92      | 3       | 0.89    |\n",
       "| 6 | N/A     | N/A     | 1       | 98119   | 11      | 2       |  2      | 1.0     | 1       | 1       | $120.00 |  17     | 95      | 3       | 2.45    |\n",
       "| 7 | 100%    | 100%    | 1       | 98119   | 11      | 2       |  2      | 1.0     | 1       | 1       | $80.00  |  58     | 99      | 2       | 2.46    |\n",
       "\n"
      ],
      "text/plain": [
       "  host_response_rate host_acceptance_rate host_listings_count zipcode\n",
       "1 96%                100%                 3                   98119  \n",
       "2 98%                100%                 6                   98119  \n",
       "3 67%                100%                 2                   98119  \n",
       "5 100%               N/A                  2                   98119  \n",
       "6 N/A                N/A                  1                   98119  \n",
       "7 100%               100%                 1                   98119  \n",
       "  property_type room_type accommodates bathrooms bedrooms beds price  \n",
       "1 2             1          4           1.0       1        1    $85.00 \n",
       "2 2             1          4           1.0       1        1    $150.00\n",
       "3 11            1         11           4.5       5        7    $975.00\n",
       "5 11            1          6           2.0       3        3    $450.00\n",
       "6 11            2          2           1.0       1        1    $120.00\n",
       "7 11            2          2           1.0       1        1    $80.00 \n",
       "  number_of_reviews review_scores_rating cancellation_policy reviews_per_month\n",
       "1 207               95                   2                   4.07             \n",
       "2  43               96                   3                   1.48             \n",
       "3  20               97                   3                   1.15             \n",
       "5  38               92                   3                   0.89             \n",
       "6  17               95                   3                   2.45             \n",
       "7  58               99                   2                   2.46             "
      ]
     },
     "metadata": {},
     "output_type": "display_data"
    }
   ],
   "source": [
    "head(df2)"
   ]
  },
  {
   "cell_type": "code",
   "execution_count": 51,
   "metadata": {},
   "outputs": [],
   "source": [
    "levels(df2$host_response_rate)[length(levels(df2$host_response_rate))] <- \"0%\"\n",
    "levels(df2$host_acceptance_rate)[length(levels(df2$host_acceptance_rate))] <- \"0%\""
   ]
  },
  {
   "cell_type": "code",
   "execution_count": 52,
   "metadata": {
    "scrolled": false
   },
   "outputs": [
    {
     "data": {
      "text/html": [
       "<ol class=list-inline>\n",
       "\t<li>''</li>\n",
       "\t<li>'100%'</li>\n",
       "\t<li>'17%'</li>\n",
       "\t<li>'25%'</li>\n",
       "\t<li>'30%'</li>\n",
       "\t<li>'31%'</li>\n",
       "\t<li>'33%'</li>\n",
       "\t<li>'38%'</li>\n",
       "\t<li>'40%'</li>\n",
       "\t<li>'43%'</li>\n",
       "\t<li>'50%'</li>\n",
       "\t<li>'53%'</li>\n",
       "\t<li>'55%'</li>\n",
       "\t<li>'56%'</li>\n",
       "\t<li>'57%'</li>\n",
       "\t<li>'58%'</li>\n",
       "\t<li>'60%'</li>\n",
       "\t<li>'63%'</li>\n",
       "\t<li>'64%'</li>\n",
       "\t<li>'65%'</li>\n",
       "\t<li>'67%'</li>\n",
       "\t<li>'68%'</li>\n",
       "\t<li>'69%'</li>\n",
       "\t<li>'70%'</li>\n",
       "\t<li>'71%'</li>\n",
       "\t<li>'75%'</li>\n",
       "\t<li>'76%'</li>\n",
       "\t<li>'78%'</li>\n",
       "\t<li>'80%'</li>\n",
       "\t<li>'81%'</li>\n",
       "\t<li>'82%'</li>\n",
       "\t<li>'83%'</li>\n",
       "\t<li>'86%'</li>\n",
       "\t<li>'87%'</li>\n",
       "\t<li>'88%'</li>\n",
       "\t<li>'89%'</li>\n",
       "\t<li>'90%'</li>\n",
       "\t<li>'91%'</li>\n",
       "\t<li>'92%'</li>\n",
       "\t<li>'93%'</li>\n",
       "\t<li>'94%'</li>\n",
       "\t<li>'95%'</li>\n",
       "\t<li>'96%'</li>\n",
       "\t<li>'97%'</li>\n",
       "\t<li>'98%'</li>\n",
       "\t<li>'99%'</li>\n",
       "\t<li>'0%'</li>\n",
       "</ol>\n"
      ],
      "text/latex": [
       "\\begin{enumerate*}\n",
       "\\item ''\n",
       "\\item '100\\%'\n",
       "\\item '17\\%'\n",
       "\\item '25\\%'\n",
       "\\item '30\\%'\n",
       "\\item '31\\%'\n",
       "\\item '33\\%'\n",
       "\\item '38\\%'\n",
       "\\item '40\\%'\n",
       "\\item '43\\%'\n",
       "\\item '50\\%'\n",
       "\\item '53\\%'\n",
       "\\item '55\\%'\n",
       "\\item '56\\%'\n",
       "\\item '57\\%'\n",
       "\\item '58\\%'\n",
       "\\item '60\\%'\n",
       "\\item '63\\%'\n",
       "\\item '64\\%'\n",
       "\\item '65\\%'\n",
       "\\item '67\\%'\n",
       "\\item '68\\%'\n",
       "\\item '69\\%'\n",
       "\\item '70\\%'\n",
       "\\item '71\\%'\n",
       "\\item '75\\%'\n",
       "\\item '76\\%'\n",
       "\\item '78\\%'\n",
       "\\item '80\\%'\n",
       "\\item '81\\%'\n",
       "\\item '82\\%'\n",
       "\\item '83\\%'\n",
       "\\item '86\\%'\n",
       "\\item '87\\%'\n",
       "\\item '88\\%'\n",
       "\\item '89\\%'\n",
       "\\item '90\\%'\n",
       "\\item '91\\%'\n",
       "\\item '92\\%'\n",
       "\\item '93\\%'\n",
       "\\item '94\\%'\n",
       "\\item '95\\%'\n",
       "\\item '96\\%'\n",
       "\\item '97\\%'\n",
       "\\item '98\\%'\n",
       "\\item '99\\%'\n",
       "\\item '0\\%'\n",
       "\\end{enumerate*}\n"
      ],
      "text/markdown": [
       "1. ''\n",
       "2. '100%'\n",
       "3. '17%'\n",
       "4. '25%'\n",
       "5. '30%'\n",
       "6. '31%'\n",
       "7. '33%'\n",
       "8. '38%'\n",
       "9. '40%'\n",
       "10. '43%'\n",
       "11. '50%'\n",
       "12. '53%'\n",
       "13. '55%'\n",
       "14. '56%'\n",
       "15. '57%'\n",
       "16. '58%'\n",
       "17. '60%'\n",
       "18. '63%'\n",
       "19. '64%'\n",
       "20. '65%'\n",
       "21. '67%'\n",
       "22. '68%'\n",
       "23. '69%'\n",
       "24. '70%'\n",
       "25. '71%'\n",
       "26. '75%'\n",
       "27. '76%'\n",
       "28. '78%'\n",
       "29. '80%'\n",
       "30. '81%'\n",
       "31. '82%'\n",
       "32. '83%'\n",
       "33. '86%'\n",
       "34. '87%'\n",
       "35. '88%'\n",
       "36. '89%'\n",
       "37. '90%'\n",
       "38. '91%'\n",
       "39. '92%'\n",
       "40. '93%'\n",
       "41. '94%'\n",
       "42. '95%'\n",
       "43. '96%'\n",
       "44. '97%'\n",
       "45. '98%'\n",
       "46. '99%'\n",
       "47. '0%'\n",
       "\n",
       "\n"
      ],
      "text/plain": [
       " [1] \"\"     \"100%\" \"17%\"  \"25%\"  \"30%\"  \"31%\"  \"33%\"  \"38%\"  \"40%\"  \"43%\" \n",
       "[11] \"50%\"  \"53%\"  \"55%\"  \"56%\"  \"57%\"  \"58%\"  \"60%\"  \"63%\"  \"64%\"  \"65%\" \n",
       "[21] \"67%\"  \"68%\"  \"69%\"  \"70%\"  \"71%\"  \"75%\"  \"76%\"  \"78%\"  \"80%\"  \"81%\" \n",
       "[31] \"82%\"  \"83%\"  \"86%\"  \"87%\"  \"88%\"  \"89%\"  \"90%\"  \"91%\"  \"92%\"  \"93%\" \n",
       "[41] \"94%\"  \"95%\"  \"96%\"  \"97%\"  \"98%\"  \"99%\"  \"0%\"  "
      ]
     },
     "metadata": {},
     "output_type": "display_data"
    }
   ],
   "source": [
    "levels(df2$host_response_rate)"
   ]
  },
  {
   "cell_type": "code",
   "execution_count": 53,
   "metadata": {},
   "outputs": [],
   "source": [
    "levels(df2$host_response_rate) <- gsub(\".$\", \"\", levels(df2$host_response_rate))\n",
    "levels(df2$host_acceptance_rate) <- gsub(\".$\", \"\", levels(df2$host_acceptance_rate))\n",
    "levels(df2$price) <- substring(levels(df2$price), 2)"
   ]
  },
  {
   "cell_type": "code",
   "execution_count": 54,
   "metadata": {},
   "outputs": [],
   "source": [
    "for(i in c(1,3:ncol(df2))) {\n",
    "    df2[,i] <- as.numeric(df2[,i])\n",
    "}\n",
    "df2$host_acceptance_rate <- as.numeric(df2$host_acceptance_rate)"
   ]
  },
  {
   "cell_type": "code",
   "execution_count": 55,
   "metadata": {
    "scrolled": false
   },
   "outputs": [
    {
     "data": {
      "text/html": [
       "<dl>\n",
       "\t<dt>$host_response_rate</dt>\n",
       "\t\t<dd>'numeric'</dd>\n",
       "\t<dt>$host_acceptance_rate</dt>\n",
       "\t\t<dd>'numeric'</dd>\n",
       "\t<dt>$host_listings_count</dt>\n",
       "\t\t<dd>'numeric'</dd>\n",
       "\t<dt>$zipcode</dt>\n",
       "\t\t<dd>'numeric'</dd>\n",
       "\t<dt>$property_type</dt>\n",
       "\t\t<dd>'numeric'</dd>\n",
       "\t<dt>$room_type</dt>\n",
       "\t\t<dd>'numeric'</dd>\n",
       "\t<dt>$accommodates</dt>\n",
       "\t\t<dd>'numeric'</dd>\n",
       "\t<dt>$bathrooms</dt>\n",
       "\t\t<dd>'numeric'</dd>\n",
       "\t<dt>$bedrooms</dt>\n",
       "\t\t<dd>'numeric'</dd>\n",
       "\t<dt>$beds</dt>\n",
       "\t\t<dd>'numeric'</dd>\n",
       "\t<dt>$price</dt>\n",
       "\t\t<dd>'numeric'</dd>\n",
       "\t<dt>$number_of_reviews</dt>\n",
       "\t\t<dd>'numeric'</dd>\n",
       "\t<dt>$review_scores_rating</dt>\n",
       "\t\t<dd>'numeric'</dd>\n",
       "\t<dt>$cancellation_policy</dt>\n",
       "\t\t<dd>'numeric'</dd>\n",
       "\t<dt>$reviews_per_month</dt>\n",
       "\t\t<dd>'numeric'</dd>\n",
       "</dl>\n"
      ],
      "text/latex": [
       "\\begin{description}\n",
       "\\item[\\$host\\_response\\_rate] 'numeric'\n",
       "\\item[\\$host\\_acceptance\\_rate] 'numeric'\n",
       "\\item[\\$host\\_listings\\_count] 'numeric'\n",
       "\\item[\\$zipcode] 'numeric'\n",
       "\\item[\\$property\\_type] 'numeric'\n",
       "\\item[\\$room\\_type] 'numeric'\n",
       "\\item[\\$accommodates] 'numeric'\n",
       "\\item[\\$bathrooms] 'numeric'\n",
       "\\item[\\$bedrooms] 'numeric'\n",
       "\\item[\\$beds] 'numeric'\n",
       "\\item[\\$price] 'numeric'\n",
       "\\item[\\$number\\_of\\_reviews] 'numeric'\n",
       "\\item[\\$review\\_scores\\_rating] 'numeric'\n",
       "\\item[\\$cancellation\\_policy] 'numeric'\n",
       "\\item[\\$reviews\\_per\\_month] 'numeric'\n",
       "\\end{description}\n"
      ],
      "text/markdown": [
       "$host_response_rate\n",
       ":   'numeric'\n",
       "$host_acceptance_rate\n",
       ":   'numeric'\n",
       "$host_listings_count\n",
       ":   'numeric'\n",
       "$zipcode\n",
       ":   'numeric'\n",
       "$property_type\n",
       ":   'numeric'\n",
       "$room_type\n",
       ":   'numeric'\n",
       "$accommodates\n",
       ":   'numeric'\n",
       "$bathrooms\n",
       ":   'numeric'\n",
       "$bedrooms\n",
       ":   'numeric'\n",
       "$beds\n",
       ":   'numeric'\n",
       "$price\n",
       ":   'numeric'\n",
       "$number_of_reviews\n",
       ":   'numeric'\n",
       "$review_scores_rating\n",
       ":   'numeric'\n",
       "$cancellation_policy\n",
       ":   'numeric'\n",
       "$reviews_per_month\n",
       ":   'numeric'\n",
       "\n",
       "\n"
      ],
      "text/plain": [
       "$host_response_rate\n",
       "[1] \"numeric\"\n",
       "\n",
       "$host_acceptance_rate\n",
       "[1] \"numeric\"\n",
       "\n",
       "$host_listings_count\n",
       "[1] \"numeric\"\n",
       "\n",
       "$zipcode\n",
       "[1] \"numeric\"\n",
       "\n",
       "$property_type\n",
       "[1] \"numeric\"\n",
       "\n",
       "$room_type\n",
       "[1] \"numeric\"\n",
       "\n",
       "$accommodates\n",
       "[1] \"numeric\"\n",
       "\n",
       "$bathrooms\n",
       "[1] \"numeric\"\n",
       "\n",
       "$bedrooms\n",
       "[1] \"numeric\"\n",
       "\n",
       "$beds\n",
       "[1] \"numeric\"\n",
       "\n",
       "$price\n",
       "[1] \"numeric\"\n",
       "\n",
       "$number_of_reviews\n",
       "[1] \"numeric\"\n",
       "\n",
       "$review_scores_rating\n",
       "[1] \"numeric\"\n",
       "\n",
       "$cancellation_policy\n",
       "[1] \"numeric\"\n",
       "\n",
       "$reviews_per_month\n",
       "[1] \"numeric\"\n"
      ]
     },
     "metadata": {},
     "output_type": "display_data"
    }
   ],
   "source": [
    "lapply(df2, class)"
   ]
  },
  {
   "cell_type": "code",
   "execution_count": 57,
   "metadata": {},
   "outputs": [
    {
     "ename": "ERROR",
     "evalue": "Error in corrplot(M, method = \"circle\"): no se pudo encontrar la función \"corrplot\"\n",
     "output_type": "error",
     "traceback": [
      "Error in corrplot(M, method = \"circle\"): no se pudo encontrar la función \"corrplot\"\nTraceback:\n"
     ]
    }
   ],
   "source": [
    "M = cor(df2)\n",
    "corrplot(M, method = \"circle\") #plot matrix"
   ]
  },
  {
   "cell_type": "code",
   "execution_count": 58,
   "metadata": {},
   "outputs": [
    {
     "data": {
      "image/png": "[encoded data removed]",
      "text/plain": [
       "Plot with title \"Histogram of df2$price\""
      ]
     },
     "metadata": {},
     "output_type": "display_data"
    }
   ],
   "source": [
    "hist(df2$price)"
   ]
  },
  {
   "cell_type": "code",
   "execution_count": 59,
   "metadata": {},
   "outputs": [
    {
     "data": {
      "image/png": "[encoded data removed]",
      "text/plain": [
       "plot without title"
      ]
     },
     "metadata": {},
     "output_type": "display_data"
    }
   ],
   "source": [
    "plot(df2$price, df2$bedrooms)"
   ]
  },
  {
   "cell_type": "code",
   "execution_count": 60,
   "metadata": {
    "scrolled": false
   },
   "outputs": [
    {
     "data": {
      "image/png": "[encoded data removed]",
      "text/plain": [
       "plot without title"
      ]
     },
     "metadata": {},
     "output_type": "display_data"
    }
   ],
   "source": [
    "plot(df2$number_of_reviews, df2$price)"
   ]
  },
  {
   "cell_type": "code",
   "execution_count": 62,
   "metadata": {
    "scrolled": false
   },
   "outputs": [
    {
     "data": {
      "image/png": "[encoded data removed]",
      "text/plain": [
       "plot without title"
      ]
     },
     "metadata": {},
     "output_type": "display_data"
    }
   ],
   "source": [
    "pairs(df2)"
   ]
  },
  {
   "cell_type": "code",
   "execution_count": 63,
   "metadata": {
    "scrolled": false
   },
   "outputs": [
    {
     "data": {
      "image/png": "[encoded data removed]",
      "text/plain": [
       "plot without title"
      ]
     },
     "metadata": {},
     "output_type": "display_data"
    }
   ],
   "source": [
    "pairs(df2[1:7])"
   ]
  },
  {
   "cell_type": "code",
   "execution_count": 64,
   "metadata": {},
   "outputs": [
    {
     "data": {
      "image/png": "[encoded data removed]",
      "text/plain": [
       "plot without title"
      ]
     },
     "metadata": {},
     "output_type": "display_data"
    }
   ],
   "source": [
    "pairs(df2[8:15])"
   ]
  },
  {
   "cell_type": "code",
   "execution_count": 18,
   "metadata": {
    "scrolled": true
   },
   "outputs": [
    {
     "ename": "ERROR",
     "evalue": "Error in ggpairs(df2): no se pudo encontrar la función \"ggpairs\"\n",
     "output_type": "error",
     "traceback": [
      "Error in ggpairs(df2): no se pudo encontrar la función \"ggpairs\"\nTraceback:\n"
     ]
    }
   ],
   "source": [
    "ggpairs(df2) "
   ]
  },
  {
   "cell_type": "markdown",
   "metadata": {},
   "source": [
    "### Integración de los datos"
   ]
  },
  {
   "cell_type": "markdown",
   "metadata": {},
   "source": [
    "El objetivo de este apartado es integrar todos los datasets, cada uno con su interpretabilidad deseada en un único dataset. Tomaremos de base el dataset de casas de Airbnb sobre el cual agregaremos los datos del resto de datasets; para ello, realizamos los siguientes pasos."
   ]
  },
  {
   "cell_type": "markdown",
   "metadata": {},
   "source": [
    "#### Integración con  calendario de Airbnb"
   ]
  },
  {
   "cell_type": "markdown",
   "metadata": {},
   "source": [
    "Añadimos al dataset de listings, la variable que nos indica una media de reservas al mes, para cuyo cálculo hay que recurrir al dataset calendar."
   ]
  },
  {
   "cell_type": "code",
   "execution_count": 19,
   "metadata": {},
   "outputs": [],
   "source": [
    "booking_per_month=vector(mode='numeric',length=3818)"
   ]
  },
  {
   "cell_type": "code",
   "execution_count": 20,
   "metadata": {},
   "outputs": [],
   "source": [
    "airbnb_listings_def = data.frame(airbnb_listings_pre,booking_per_month)"
   ]
  },
  {
   "cell_type": "code",
   "execution_count": 21,
   "metadata": {},
   "outputs": [],
   "source": [
    "max = nrow(airbnb_listings_def)"
   ]
  },
  {
   "cell_type": "code",
   "execution_count": 22,
   "metadata": {},
   "outputs": [],
   "source": [
    "for(i in 1:max){\n",
    "    id = airbnb_listings_def[c(i:i),c(1:1)]\n",
    "    airbnb_listings_def[c(i:i),c(53:53)] = round((nrow(airbnb_calendar[airbnb_calendar['listing_id'] == id & airbnb_calendar['available'] == 'f',]))/12,digits=0)\n",
    "}"
   ]
  },
  {
   "cell_type": "code",
   "execution_count": 24,
   "metadata": {
    "scrolled": true
   },
   "outputs": [
    {
     "ename": "ERROR",
     "evalue": "Error in head(airbnb_listings_def, n = 5): object 'airbnb_listings_def' not found\n",
     "output_type": "error",
     "traceback": [
      "Error in head(airbnb_listings_def, n = 5): object 'airbnb_listings_def' not found\nTraceback:\n",
      "1. head(airbnb_listings_def, n = 5)"
     ]
    }
   ],
   "source": [
    "head (airbnb_listings_def, n=5)"
   ]
  },
  {
   "cell_type": "markdown",
   "metadata": {},
   "source": [
    "#### Integración con  espacios culturales de Seattle"
   ]
  },
  {
   "cell_type": "code",
   "execution_count": null,
   "metadata": {},
   "outputs": [],
   "source": []
  },
  {
   "cell_type": "markdown",
   "metadata": {},
   "source": [
    "### Formateo de los datos"
   ]
  },
  {
   "cell_type": "markdown",
   "metadata": {},
   "source": [
    "A continuación, realizaremos el formateo de los datos del dataset obtenido en el paso anterior con el objetivo de dar como salida de esta fase un dataset apropiado para la construcción de un modelo de predicción sobre él."
   ]
  },
  {
   "cell_type": "code",
   "execution_count": null,
   "metadata": {},
   "outputs": [],
   "source": []
  }
 ],
 "metadata": {
  "kernelspec": {
   "display_name": "R",
   "language": "R",
   "name": "ir"
  },
  "language_info": {
   "codemirror_mode": "r",
   "file_extension": ".r",
   "mimetype": "text/x-r-source",
   "name": "R",
   "pygments_lexer": "r",
   "version": "3.4.3"
  }
 },
 "nbformat": 4,
 "nbformat_minor": 2
}
